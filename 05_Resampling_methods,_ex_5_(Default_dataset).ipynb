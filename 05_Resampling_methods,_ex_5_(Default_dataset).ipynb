{
  "nbformat": 4,
  "nbformat_minor": 0,
  "metadata": {
    "colab": {
      "name": "05. Resampling methods, ex. 5 (Default dataset)",
      "provenance": [],
      "collapsed_sections": [],
      "authorship_tag": "ABX9TyMKNFhOhBnsy3Ugqwgmw04w"
    },
    "kernelspec": {
      "name": "python3",
      "display_name": "Python 3"
    },
    "language_info": {
      "name": "python"
    }
  },
  "cells": [
    {
      "cell_type": "markdown",
      "metadata": {
        "id": "hWPA6J4uLVeL"
      },
      "source": [
        "All instructions are provided for R. I am going to reproduce them in Python as best as I can."
      ]
    },
    {
      "cell_type": "markdown",
      "metadata": {
        "id": "T3r7_JfM7M9m"
      },
      "source": [
        "# Preface"
      ]
    },
    {
      "cell_type": "markdown",
      "metadata": {
        "id": "Q4X8QStRBtl7"
      },
      "source": [
        "From the textbook, p. 198:\n",
        "> In Chapter 4, we used logistic regression to predict the probability of\n",
        "default using income and balance on the `Default` data set. We will\n",
        "now estimate the test error of this logistic regression model using the\n",
        "validation set approach. Do not forget to set a random seed before\n",
        "beginning your analysis."
      ]
    },
    {
      "cell_type": "code",
      "metadata": {
        "id": "t6Eqfp83FuM5",
        "colab": {
          "base_uri": "https://localhost:8080/"
        },
        "outputId": "b2b9cb62-ed5b-4bfd-8422-cae21eff6451"
      },
      "source": [
        "from matplotlib import pyplot as plt\n",
        "import numpy as np\n",
        "import pandas as pd\n",
        "import seaborn as sns\n",
        "from sklearn.discriminant_analysis import LinearDiscriminantAnalysis, \\\n",
        "                                          QuadraticDiscriminantAnalysis\n",
        "from sklearn.linear_model import LogisticRegression\n",
        "from sklearn.metrics import accuracy_score\n",
        "from sklearn.model_selection import train_test_split\n",
        "from sklearn.neighbors import KNeighborsClassifier\n",
        "import statsmodels.api as sm\n",
        "\n",
        "\n",
        "%matplotlib inline\n",
        "sns.set()"
      ],
      "execution_count": 1,
      "outputs": [
        {
          "output_type": "stream",
          "text": [
            "/usr/local/lib/python3.7/dist-packages/statsmodels/tools/_testing.py:19: FutureWarning: pandas.util.testing is deprecated. Use the functions in the public API at pandas.testing instead.\n",
            "  import pandas.util.testing as tm\n"
          ],
          "name": "stderr"
        }
      ]
    },
    {
      "cell_type": "code",
      "metadata": {
        "colab": {
          "base_uri": "https://localhost:8080/",
          "height": 206
        },
        "id": "6eOp85TdK7Jf",
        "outputId": "e69e226d-41d4-4b68-f2cf-2ff183105198"
      },
      "source": [
        "np.random.seed(1)\n",
        "default = pd.read_csv('https://raw.githubusercontent.com'\n",
        "                      '/dsnair/ISLR/master/data/csv/Default.csv')\n",
        "default = default.replace({'Yes' : 1, 'No' : 0})\n",
        "x = default.drop('default', axis='columns')\n",
        "y = default.default\n",
        "default.head()"
      ],
      "execution_count": 2,
      "outputs": [
        {
          "output_type": "execute_result",
          "data": {
            "text/html": [
              "<div>\n",
              "<style scoped>\n",
              "    .dataframe tbody tr th:only-of-type {\n",
              "        vertical-align: middle;\n",
              "    }\n",
              "\n",
              "    .dataframe tbody tr th {\n",
              "        vertical-align: top;\n",
              "    }\n",
              "\n",
              "    .dataframe thead th {\n",
              "        text-align: right;\n",
              "    }\n",
              "</style>\n",
              "<table border=\"1\" class=\"dataframe\">\n",
              "  <thead>\n",
              "    <tr style=\"text-align: right;\">\n",
              "      <th></th>\n",
              "      <th>default</th>\n",
              "      <th>student</th>\n",
              "      <th>balance</th>\n",
              "      <th>income</th>\n",
              "    </tr>\n",
              "  </thead>\n",
              "  <tbody>\n",
              "    <tr>\n",
              "      <th>0</th>\n",
              "      <td>0</td>\n",
              "      <td>0</td>\n",
              "      <td>729.526495</td>\n",
              "      <td>44361.625074</td>\n",
              "    </tr>\n",
              "    <tr>\n",
              "      <th>1</th>\n",
              "      <td>0</td>\n",
              "      <td>1</td>\n",
              "      <td>817.180407</td>\n",
              "      <td>12106.134700</td>\n",
              "    </tr>\n",
              "    <tr>\n",
              "      <th>2</th>\n",
              "      <td>0</td>\n",
              "      <td>0</td>\n",
              "      <td>1073.549164</td>\n",
              "      <td>31767.138947</td>\n",
              "    </tr>\n",
              "    <tr>\n",
              "      <th>3</th>\n",
              "      <td>0</td>\n",
              "      <td>0</td>\n",
              "      <td>529.250605</td>\n",
              "      <td>35704.493935</td>\n",
              "    </tr>\n",
              "    <tr>\n",
              "      <th>4</th>\n",
              "      <td>0</td>\n",
              "      <td>0</td>\n",
              "      <td>785.655883</td>\n",
              "      <td>38463.495879</td>\n",
              "    </tr>\n",
              "  </tbody>\n",
              "</table>\n",
              "</div>"
            ],
            "text/plain": [
              "   default  student      balance        income\n",
              "0        0        0   729.526495  44361.625074\n",
              "1        0        1   817.180407  12106.134700\n",
              "2        0        0  1073.549164  31767.138947\n",
              "3        0        0   529.250605  35704.493935\n",
              "4        0        0   785.655883  38463.495879"
            ]
          },
          "metadata": {
            "tags": []
          },
          "execution_count": 2
        }
      ]
    },
    {
      "cell_type": "markdown",
      "metadata": {
        "id": "uUY0VpaZFywS"
      },
      "source": [
        "# (a)"
      ]
    },
    {
      "cell_type": "markdown",
      "metadata": {
        "id": "8JWlsxRmF2dc"
      },
      "source": [
        "From the textbook, p. 198:\n",
        "> Fit a logistic regression model that uses `income` and `balance` to predict `default`."
      ]
    },
    {
      "cell_type": "code",
      "metadata": {
        "id": "qDdaMujAF5dq",
        "colab": {
          "base_uri": "https://localhost:8080/"
        },
        "outputId": "1490f656-142d-4ad8-ba35-82cab8674456"
      },
      "source": [
        "model_a = sm.Logit(y, x[['income', 'balance']]).fit()"
      ],
      "execution_count": 3,
      "outputs": [
        {
          "output_type": "stream",
          "text": [
            "Optimization terminated successfully.\n",
            "         Current function value: 0.173456\n",
            "         Iterations 8\n"
          ],
          "name": "stdout"
        }
      ]
    },
    {
      "cell_type": "markdown",
      "metadata": {
        "id": "3q-TV8BGF6di"
      },
      "source": [
        "# (b)"
      ]
    },
    {
      "cell_type": "markdown",
      "metadata": {
        "id": "oJSBUxusF-bV"
      },
      "source": [
        "From the textbook, p. 198:\n",
        "> Using the validation set approach, estimate the test error of this model. In order to do this, you must perform the following steps:"
      ]
    },
    {
      "cell_type": "markdown",
      "metadata": {
        "id": "mpx34AoHGEE9"
      },
      "source": [
        "> i. Split the sample set into a training set and a validation set."
      ]
    },
    {
      "cell_type": "code",
      "metadata": {
        "id": "YnpncC9gGILF"
      },
      "source": [
        "x_train, x_test, y_train, y_test = train_test_split(x, y)"
      ],
      "execution_count": 4,
      "outputs": []
    },
    {
      "cell_type": "markdown",
      "metadata": {
        "id": "-Ibuy7JGGU_N"
      },
      "source": [
        "> ii. Fit a multiple logistic regression model using only the training observations."
      ]
    },
    {
      "cell_type": "code",
      "metadata": {
        "id": "oVHQtKAFGYd7",
        "colab": {
          "base_uri": "https://localhost:8080/"
        },
        "outputId": "c2342cc3-3385-4664-d887-ab86cdeaa74e"
      },
      "source": [
        "model_b = sm.Logit(y_train, x_train[['income', 'balance']]).fit()"
      ],
      "execution_count": 5,
      "outputs": [
        {
          "output_type": "stream",
          "text": [
            "Optimization terminated successfully.\n",
            "         Current function value: 0.177937\n",
            "         Iterations 8\n"
          ],
          "name": "stdout"
        }
      ]
    },
    {
      "cell_type": "markdown",
      "metadata": {
        "id": "e4G4oGicGdm8"
      },
      "source": [
        "> iii. Obtain a prediction of default status for each individual in the validation set by computing the posterior probability of default for that individual, and classifying the individual to the default category if the posterior probability is greater than 0.5."
      ]
    },
    {
      "cell_type": "code",
      "metadata": {
        "id": "wogl9ZDbGk83"
      },
      "source": [
        "y_pred = model_b.predict(x_test[['income', 'balance']])\n",
        "y_pred = np.where(y_pred >= 0.5, 1, 0)"
      ],
      "execution_count": 6,
      "outputs": []
    },
    {
      "cell_type": "markdown",
      "metadata": {
        "id": "Y0SHvYnlGpQI"
      },
      "source": [
        "> iv. Compute the validation set error, which is the fraction of the observations in the validation set that are misclassified."
      ]
    },
    {
      "cell_type": "code",
      "metadata": {
        "id": "3NLqKa0mGqn9",
        "colab": {
          "base_uri": "https://localhost:8080/"
        },
        "outputId": "3c212cb6-8160-46b1-92a4-bd3d162e5ef6"
      },
      "source": [
        "1 - accuracy_score(y_pred, y_test)"
      ],
      "execution_count": 7,
      "outputs": [
        {
          "output_type": "execute_result",
          "data": {
            "text/plain": [
              "0.03159999999999996"
            ]
          },
          "metadata": {
            "tags": []
          },
          "execution_count": 7
        }
      ]
    },
    {
      "cell_type": "markdown",
      "metadata": {
        "id": "vUTgxgmsGrLU"
      },
      "source": [
        "# (c)"
      ]
    },
    {
      "cell_type": "markdown",
      "metadata": {
        "id": "2TsOhBNlGxww"
      },
      "source": [
        "From the textbook, p. 199:\n",
        "> Repeat the process in (b) three times, using three different splits of the observations into a training set and a validation set. Comment on the results obtained."
      ]
    },
    {
      "cell_type": "code",
      "metadata": {
        "id": "7EG3RLzyG4zQ",
        "colab": {
          "base_uri": "https://localhost:8080/"
        },
        "outputId": "ce69b969-e83d-43c1-84e7-a884157d1934"
      },
      "source": [
        "for i in range(3):\n",
        "  x_train, x_test, y_train, y_test = train_test_split(x, y)\n",
        "  model_c = sm.Logit(y_train, x_train[['income', 'balance']]).fit()\n",
        "  y_pred = model_c.predict(x_test[['income', 'balance']])\n",
        "  y_pred = np.where(y_pred >= 0.5, 1, 0)\n",
        "  print(f'\\n{1 - accuracy_score(y_pred, y_test)}\\n')"
      ],
      "execution_count": 8,
      "outputs": [
        {
          "output_type": "stream",
          "text": [
            "Optimization terminated successfully.\n",
            "         Current function value: 0.175927\n",
            "         Iterations 8\n",
            "\n",
            "0.032399999999999984\n",
            "\n",
            "Optimization terminated successfully.\n",
            "         Current function value: 0.171329\n",
            "         Iterations 8\n",
            "\n",
            "0.03600000000000003\n",
            "\n",
            "Optimization terminated successfully.\n",
            "         Current function value: 0.166725\n",
            "         Iterations 8\n",
            "\n",
            "0.036800000000000055\n",
            "\n"
          ],
          "name": "stdout"
        }
      ]
    },
    {
      "cell_type": "markdown",
      "metadata": {
        "id": "235S7tEtRjJh"
      },
      "source": [
        "The test error is different with each new split. This means that the model's fit is dependent on how you fit the data."
      ]
    },
    {
      "cell_type": "markdown",
      "metadata": {
        "id": "tiX5dto5G5Qq"
      },
      "source": [
        "# (d)"
      ]
    },
    {
      "cell_type": "markdown",
      "metadata": {
        "id": "21yj5A4bG7wj"
      },
      "source": [
        "From the textbook, p. 199:\n",
        "> Now consider a logistic regression model that predicts the probability of default using `income`, `balance`, and a dummy variable for `student`. Estimate the test error for this model using the validation set approach. Comment on whether or not including a dummy variable for student leads to a reduction in the test error rate."
      ]
    },
    {
      "cell_type": "code",
      "metadata": {
        "id": "-jKU0Js3BnLw",
        "colab": {
          "base_uri": "https://localhost:8080/"
        },
        "outputId": "ad62f925-7d3b-457f-ec40-25bc00dc998c"
      },
      "source": [
        "model_d = sm.Logit(y_train, x_train).fit()\n",
        "y_pred = model_d.predict(x_test)\n",
        "y_pred = np.where(y_pred >= 0.5, 1, 0)\n",
        "print(f'\\n{1 - accuracy_score(y_pred, y_test)}\\n')"
      ],
      "execution_count": 9,
      "outputs": [
        {
          "output_type": "stream",
          "text": [
            "Optimization terminated successfully.\n",
            "         Current function value: 0.119899\n",
            "         Iterations 9\n",
            "\n",
            "0.03759999999999997\n",
            "\n"
          ],
          "name": "stdout"
        }
      ]
    },
    {
      "cell_type": "markdown",
      "metadata": {
        "id": "nTaFqmAxSmh8"
      },
      "source": [
        "It is difficult to tell, whether including a dummy variable for student leads to a reduction in the test error rate, because its test error is in between the the test errors I got in (c)."
      ]
    }
  ]
}