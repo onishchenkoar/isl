{
  "nbformat": 4,
  "nbformat_minor": 0,
  "metadata": {
    "colab": {
      "name": "08. Tree-based methods, ex. 11 (Caravan dataset)",
      "provenance": [],
      "collapsed_sections": [],
      "authorship_tag": "ABX9TyNbX0Ny529E2DPOKwV7+IlY"
    },
    "kernelspec": {
      "name": "python3",
      "display_name": "Python 3"
    },
    "language_info": {
      "name": "python"
    }
  },
  "cells": [
    {
      "cell_type": "markdown",
      "metadata": {
        "id": "hWPA6J4uLVeL"
      },
      "source": [
        "All instructions are provided for R. I am going to reproduce them in Python as best as I can."
      ]
    },
    {
      "cell_type": "markdown",
      "metadata": {
        "id": "T3r7_JfM7M9m"
      },
      "source": [
        "# Preface"
      ]
    },
    {
      "cell_type": "markdown",
      "metadata": {
        "id": "WjxixSH__Mxm"
      },
      "source": [
        "From the textbook, p. 335:\n",
        "> This question uses the `Caravan` data set."
      ]
    },
    {
      "cell_type": "code",
      "metadata": {
        "id": "RAadbBzp_Jw2"
      },
      "source": [
        "from matplotlib import pyplot as plt\n",
        "import numpy as np\n",
        "import pandas as pd\n",
        "import seaborn as sns\n",
        "from sklearn.ensemble import AdaBoostClassifier\n",
        "from sklearn.metrics import confusion_matrix\n",
        "from sklearn.model_selection import train_test_split, GridSearchCV\n",
        "from sklearn.neighbors import KNeighborsClassifier\n",
        "\n",
        "\n",
        "sns.set()\n",
        "%matplotlib inline"
      ],
      "execution_count": 1,
      "outputs": []
    },
    {
      "cell_type": "code",
      "metadata": {
        "colab": {
          "base_uri": "https://localhost:8080/",
          "height": 193
        },
        "id": "rvsUPfuVqQCd",
        "outputId": "47b3ef03-0649-48da-aa14-e3a3186394be"
      },
      "source": [
        "caravan = pd.read_csv('https://raw.githubusercontent.com'\n",
        "                      '/dsnair/ISLR/master/data/csv/Caravan.csv')\n",
        "caravan.head(3)"
      ],
      "execution_count": 2,
      "outputs": [
        {
          "output_type": "execute_result",
          "data": {
            "text/html": [
              "<div>\n",
              "<style scoped>\n",
              "    .dataframe tbody tr th:only-of-type {\n",
              "        vertical-align: middle;\n",
              "    }\n",
              "\n",
              "    .dataframe tbody tr th {\n",
              "        vertical-align: top;\n",
              "    }\n",
              "\n",
              "    .dataframe thead th {\n",
              "        text-align: right;\n",
              "    }\n",
              "</style>\n",
              "<table border=\"1\" class=\"dataframe\">\n",
              "  <thead>\n",
              "    <tr style=\"text-align: right;\">\n",
              "      <th></th>\n",
              "      <th>MOSTYPE</th>\n",
              "      <th>MAANTHUI</th>\n",
              "      <th>MGEMOMV</th>\n",
              "      <th>MGEMLEEF</th>\n",
              "      <th>MOSHOOFD</th>\n",
              "      <th>MGODRK</th>\n",
              "      <th>MGODPR</th>\n",
              "      <th>MGODOV</th>\n",
              "      <th>MGODGE</th>\n",
              "      <th>MRELGE</th>\n",
              "      <th>MRELSA</th>\n",
              "      <th>MRELOV</th>\n",
              "      <th>MFALLEEN</th>\n",
              "      <th>MFGEKIND</th>\n",
              "      <th>MFWEKIND</th>\n",
              "      <th>MOPLHOOG</th>\n",
              "      <th>MOPLMIDD</th>\n",
              "      <th>MOPLLAAG</th>\n",
              "      <th>MBERHOOG</th>\n",
              "      <th>MBERZELF</th>\n",
              "      <th>MBERBOER</th>\n",
              "      <th>MBERMIDD</th>\n",
              "      <th>MBERARBG</th>\n",
              "      <th>MBERARBO</th>\n",
              "      <th>MSKA</th>\n",
              "      <th>MSKB1</th>\n",
              "      <th>MSKB2</th>\n",
              "      <th>MSKC</th>\n",
              "      <th>MSKD</th>\n",
              "      <th>MHHUUR</th>\n",
              "      <th>MHKOOP</th>\n",
              "      <th>MAUT1</th>\n",
              "      <th>MAUT2</th>\n",
              "      <th>MAUT0</th>\n",
              "      <th>MZFONDS</th>\n",
              "      <th>MZPART</th>\n",
              "      <th>MINKM30</th>\n",
              "      <th>MINK3045</th>\n",
              "      <th>MINK4575</th>\n",
              "      <th>MINK7512</th>\n",
              "      <th>...</th>\n",
              "      <th>PPERSAUT</th>\n",
              "      <th>PBESAUT</th>\n",
              "      <th>PMOTSCO</th>\n",
              "      <th>PVRAAUT</th>\n",
              "      <th>PAANHANG</th>\n",
              "      <th>PTRACTOR</th>\n",
              "      <th>PWERKT</th>\n",
              "      <th>PBROM</th>\n",
              "      <th>PLEVEN</th>\n",
              "      <th>PPERSONG</th>\n",
              "      <th>PGEZONG</th>\n",
              "      <th>PWAOREG</th>\n",
              "      <th>PBRAND</th>\n",
              "      <th>PZEILPL</th>\n",
              "      <th>PPLEZIER</th>\n",
              "      <th>PFIETS</th>\n",
              "      <th>PINBOED</th>\n",
              "      <th>PBYSTAND</th>\n",
              "      <th>AWAPART</th>\n",
              "      <th>AWABEDR</th>\n",
              "      <th>AWALAND</th>\n",
              "      <th>APERSAUT</th>\n",
              "      <th>ABESAUT</th>\n",
              "      <th>AMOTSCO</th>\n",
              "      <th>AVRAAUT</th>\n",
              "      <th>AAANHANG</th>\n",
              "      <th>ATRACTOR</th>\n",
              "      <th>AWERKT</th>\n",
              "      <th>ABROM</th>\n",
              "      <th>ALEVEN</th>\n",
              "      <th>APERSONG</th>\n",
              "      <th>AGEZONG</th>\n",
              "      <th>AWAOREG</th>\n",
              "      <th>ABRAND</th>\n",
              "      <th>AZEILPL</th>\n",
              "      <th>APLEZIER</th>\n",
              "      <th>AFIETS</th>\n",
              "      <th>AINBOED</th>\n",
              "      <th>ABYSTAND</th>\n",
              "      <th>Purchase</th>\n",
              "    </tr>\n",
              "  </thead>\n",
              "  <tbody>\n",
              "    <tr>\n",
              "      <th>0</th>\n",
              "      <td>33</td>\n",
              "      <td>1</td>\n",
              "      <td>3</td>\n",
              "      <td>2</td>\n",
              "      <td>8</td>\n",
              "      <td>0</td>\n",
              "      <td>5</td>\n",
              "      <td>1</td>\n",
              "      <td>3</td>\n",
              "      <td>7</td>\n",
              "      <td>0</td>\n",
              "      <td>2</td>\n",
              "      <td>1</td>\n",
              "      <td>2</td>\n",
              "      <td>6</td>\n",
              "      <td>1</td>\n",
              "      <td>2</td>\n",
              "      <td>7</td>\n",
              "      <td>1</td>\n",
              "      <td>0</td>\n",
              "      <td>1</td>\n",
              "      <td>2</td>\n",
              "      <td>5</td>\n",
              "      <td>2</td>\n",
              "      <td>1</td>\n",
              "      <td>1</td>\n",
              "      <td>2</td>\n",
              "      <td>6</td>\n",
              "      <td>1</td>\n",
              "      <td>1</td>\n",
              "      <td>8</td>\n",
              "      <td>8</td>\n",
              "      <td>0</td>\n",
              "      <td>1</td>\n",
              "      <td>8</td>\n",
              "      <td>1</td>\n",
              "      <td>0</td>\n",
              "      <td>4</td>\n",
              "      <td>5</td>\n",
              "      <td>0</td>\n",
              "      <td>...</td>\n",
              "      <td>6</td>\n",
              "      <td>0</td>\n",
              "      <td>0</td>\n",
              "      <td>0</td>\n",
              "      <td>0</td>\n",
              "      <td>0</td>\n",
              "      <td>0</td>\n",
              "      <td>0</td>\n",
              "      <td>0</td>\n",
              "      <td>0</td>\n",
              "      <td>0</td>\n",
              "      <td>0</td>\n",
              "      <td>5</td>\n",
              "      <td>0</td>\n",
              "      <td>0</td>\n",
              "      <td>0</td>\n",
              "      <td>0</td>\n",
              "      <td>0</td>\n",
              "      <td>0</td>\n",
              "      <td>0</td>\n",
              "      <td>0</td>\n",
              "      <td>1</td>\n",
              "      <td>0</td>\n",
              "      <td>0</td>\n",
              "      <td>0</td>\n",
              "      <td>0</td>\n",
              "      <td>0</td>\n",
              "      <td>0</td>\n",
              "      <td>0</td>\n",
              "      <td>0</td>\n",
              "      <td>0</td>\n",
              "      <td>0</td>\n",
              "      <td>0</td>\n",
              "      <td>1</td>\n",
              "      <td>0</td>\n",
              "      <td>0</td>\n",
              "      <td>0</td>\n",
              "      <td>0</td>\n",
              "      <td>0</td>\n",
              "      <td>No</td>\n",
              "    </tr>\n",
              "    <tr>\n",
              "      <th>1</th>\n",
              "      <td>37</td>\n",
              "      <td>1</td>\n",
              "      <td>2</td>\n",
              "      <td>2</td>\n",
              "      <td>8</td>\n",
              "      <td>1</td>\n",
              "      <td>4</td>\n",
              "      <td>1</td>\n",
              "      <td>4</td>\n",
              "      <td>6</td>\n",
              "      <td>2</td>\n",
              "      <td>2</td>\n",
              "      <td>0</td>\n",
              "      <td>4</td>\n",
              "      <td>5</td>\n",
              "      <td>0</td>\n",
              "      <td>5</td>\n",
              "      <td>4</td>\n",
              "      <td>0</td>\n",
              "      <td>0</td>\n",
              "      <td>0</td>\n",
              "      <td>5</td>\n",
              "      <td>0</td>\n",
              "      <td>4</td>\n",
              "      <td>0</td>\n",
              "      <td>2</td>\n",
              "      <td>3</td>\n",
              "      <td>5</td>\n",
              "      <td>0</td>\n",
              "      <td>2</td>\n",
              "      <td>7</td>\n",
              "      <td>7</td>\n",
              "      <td>1</td>\n",
              "      <td>2</td>\n",
              "      <td>6</td>\n",
              "      <td>3</td>\n",
              "      <td>2</td>\n",
              "      <td>0</td>\n",
              "      <td>5</td>\n",
              "      <td>2</td>\n",
              "      <td>...</td>\n",
              "      <td>0</td>\n",
              "      <td>0</td>\n",
              "      <td>0</td>\n",
              "      <td>0</td>\n",
              "      <td>0</td>\n",
              "      <td>0</td>\n",
              "      <td>0</td>\n",
              "      <td>0</td>\n",
              "      <td>0</td>\n",
              "      <td>0</td>\n",
              "      <td>0</td>\n",
              "      <td>0</td>\n",
              "      <td>2</td>\n",
              "      <td>0</td>\n",
              "      <td>0</td>\n",
              "      <td>0</td>\n",
              "      <td>0</td>\n",
              "      <td>0</td>\n",
              "      <td>2</td>\n",
              "      <td>0</td>\n",
              "      <td>0</td>\n",
              "      <td>0</td>\n",
              "      <td>0</td>\n",
              "      <td>0</td>\n",
              "      <td>0</td>\n",
              "      <td>0</td>\n",
              "      <td>0</td>\n",
              "      <td>0</td>\n",
              "      <td>0</td>\n",
              "      <td>0</td>\n",
              "      <td>0</td>\n",
              "      <td>0</td>\n",
              "      <td>0</td>\n",
              "      <td>1</td>\n",
              "      <td>0</td>\n",
              "      <td>0</td>\n",
              "      <td>0</td>\n",
              "      <td>0</td>\n",
              "      <td>0</td>\n",
              "      <td>No</td>\n",
              "    </tr>\n",
              "    <tr>\n",
              "      <th>2</th>\n",
              "      <td>37</td>\n",
              "      <td>1</td>\n",
              "      <td>2</td>\n",
              "      <td>2</td>\n",
              "      <td>8</td>\n",
              "      <td>0</td>\n",
              "      <td>4</td>\n",
              "      <td>2</td>\n",
              "      <td>4</td>\n",
              "      <td>3</td>\n",
              "      <td>2</td>\n",
              "      <td>4</td>\n",
              "      <td>4</td>\n",
              "      <td>4</td>\n",
              "      <td>2</td>\n",
              "      <td>0</td>\n",
              "      <td>5</td>\n",
              "      <td>4</td>\n",
              "      <td>0</td>\n",
              "      <td>0</td>\n",
              "      <td>0</td>\n",
              "      <td>7</td>\n",
              "      <td>0</td>\n",
              "      <td>2</td>\n",
              "      <td>0</td>\n",
              "      <td>5</td>\n",
              "      <td>0</td>\n",
              "      <td>4</td>\n",
              "      <td>0</td>\n",
              "      <td>7</td>\n",
              "      <td>2</td>\n",
              "      <td>7</td>\n",
              "      <td>0</td>\n",
              "      <td>2</td>\n",
              "      <td>9</td>\n",
              "      <td>0</td>\n",
              "      <td>4</td>\n",
              "      <td>5</td>\n",
              "      <td>0</td>\n",
              "      <td>0</td>\n",
              "      <td>...</td>\n",
              "      <td>6</td>\n",
              "      <td>0</td>\n",
              "      <td>0</td>\n",
              "      <td>0</td>\n",
              "      <td>0</td>\n",
              "      <td>0</td>\n",
              "      <td>0</td>\n",
              "      <td>0</td>\n",
              "      <td>0</td>\n",
              "      <td>0</td>\n",
              "      <td>0</td>\n",
              "      <td>0</td>\n",
              "      <td>2</td>\n",
              "      <td>0</td>\n",
              "      <td>0</td>\n",
              "      <td>0</td>\n",
              "      <td>0</td>\n",
              "      <td>0</td>\n",
              "      <td>1</td>\n",
              "      <td>0</td>\n",
              "      <td>0</td>\n",
              "      <td>1</td>\n",
              "      <td>0</td>\n",
              "      <td>0</td>\n",
              "      <td>0</td>\n",
              "      <td>0</td>\n",
              "      <td>0</td>\n",
              "      <td>0</td>\n",
              "      <td>0</td>\n",
              "      <td>0</td>\n",
              "      <td>0</td>\n",
              "      <td>0</td>\n",
              "      <td>0</td>\n",
              "      <td>1</td>\n",
              "      <td>0</td>\n",
              "      <td>0</td>\n",
              "      <td>0</td>\n",
              "      <td>0</td>\n",
              "      <td>0</td>\n",
              "      <td>No</td>\n",
              "    </tr>\n",
              "  </tbody>\n",
              "</table>\n",
              "<p>3 rows × 86 columns</p>\n",
              "</div>"
            ],
            "text/plain": [
              "   MOSTYPE  MAANTHUI  MGEMOMV  MGEMLEEF  ...  AFIETS  AINBOED  ABYSTAND  Purchase\n",
              "0       33         1        3         2  ...       0        0         0        No\n",
              "1       37         1        2         2  ...       0        0         0        No\n",
              "2       37         1        2         2  ...       0        0         0        No\n",
              "\n",
              "[3 rows x 86 columns]"
            ]
          },
          "metadata": {
            "tags": []
          },
          "execution_count": 2
        }
      ]
    },
    {
      "cell_type": "markdown",
      "metadata": {
        "id": "2qtZ9486qZfj"
      },
      "source": [
        "> The data contains 5822 real customer records. Each record consists of 86 variables, containing sociodemographic data (variables 1-43) and product ownership (variables 44-86). The sociodemographic data is derived from zip codes. All customers living in areas with the same zip code have the same sociodemographic attributes. Variable 86 (Purchase) indicates whether the customer purchased a caravan insurance policy. Further information on the individual variables can be obtained at http://www.liacs.nl/~putten/library/cc2000/data.html "
      ]
    },
    {
      "cell_type": "markdown",
      "metadata": {
        "id": "49rTv_-HsDyR"
      },
      "source": [
        "There are a lot of variables.\n",
        "\n",
        "* `ORIGIN`: train or test, as described above;\n",
        "* `MOSTYPE`: Customer Subtype; see L0;\n",
        "* `MAANTHUI`: Number of houses 1 - 10;\n",
        "* `MGEMOMV`: Avg size household 1 - 6;\n",
        "* `MGEMLEEF`: Avg age; see L1;\n",
        "* `MOSHOOFD`: Customer main type; see L2.\n",
        "\n",
        "**Percentages in each group, per postal code (see L3)**:\n",
        "\n",
        "* `MGODRK`: Roman catholic;\n",
        "* `MGODPR`: Protestant …;\n",
        "* `MGODOV`: Other religion;\n",
        "* `MGODGE`: No religion;\n",
        "* `MRELGE`: Married;\n",
        "* `MRELSA`: Living together;\n",
        "* `MRELOV`: Other relation;\n",
        "* `MFALLEEN`: Singles;\n",
        "* `MFGEKIND`: Household without children;\n",
        "* `MFWEKIND`: Household with children;\n",
        "* `MOPLHOOG`: High level education;\n",
        "* `MOPLMIDD`: Medium level education;\n",
        "* `MOPLLAAG`: Lower level education;\n",
        "* `MBERHOOG`: High status;\n",
        "* `MBERZELF`: Entrepreneur;\n",
        "* `MBERBOER`: Farmer;\n",
        "* `MBERMIDD`: Middle management;\n",
        "* `MBERARBG`: Skilled labourers;\n",
        "* `MBERARBO`: Unskilled labourers;\n",
        "* `MSKA`: Social class A;\n",
        "* `MSKB1`: Social class B1;\n",
        "* `MSKB2`: Social class B2;\n",
        "* `MSKC`: Social class C;\n",
        "* `MSKD`: Social class D;\n",
        "* `MHHUUR`: Rented house;\n",
        "* `MHKOOP`: Home owners;\n",
        "* `MAUT1`: 1 car;\n",
        "* `MAUT2`: 2 cars;\n",
        "* `MAUT0`: No car;\n",
        "* `MZFONDS`: National Health Service;\n",
        "* `MZPART`: Private health insurance;\n",
        "* `MINKM30`: Income < 30.000;\n",
        "* `MINK3045`: Income 30-45.000;\n",
        "* `MINK4575`: Income 45-75.000;\n",
        "* `MINK7512`: Income 75-122.000;\n",
        "* `MINK123M`: Income >123.000;\n",
        "* `MINKGEM`: Average income;\n",
        "* `MKOOPKLA`: Purchasing power class.\n",
        "\n",
        "**Total number of variable in postal code (see L4):**\n",
        "\n",
        "* `PWAPART`: Contribution private third party insurance;\n",
        "* `PWABEDR`: Contribution third party insurance (firms) …;\n",
        "* `PWALAND`: Contribution third party insurane (agriculture);\n",
        "* `PPERSAUT`: Contribution car policies;\n",
        "* `PBESAUT`: Contribution delivery van policies;\n",
        "* `PMOTSCO`: Contribution motorcycle/scooter policies;\n",
        "* `PVRAAUT`: Contribution lorry policies;\n",
        "* `PAANHANG`: Contribution trailer policies;\n",
        "* `PTRACTOR`: Contribution tractor policies;\n",
        "* `PWERKT`: Contribution agricultural machines policies;\n",
        "* `PBROM`: Contribution moped policies;\n",
        "* `PLEVEN`: Contribution life insurances;\n",
        "* `PPERSONG`: Contribution private accident insurance policies;\n",
        "* `PGEZONG`: Contribution family accidents insurance policies;\n",
        "* `PWAOREG`: Contribution disability insurance policies;\n",
        "* `PBRAND`: Contribution fire policies;\n",
        "* `PZEILPL`: Contribution surfboard policies;\n",
        "* `PPLEZIER`: Contribution boat policies;\n",
        "* `PFIETS`: Contribution bicycle policies;\n",
        "* `PINBOED`: Contribution property insurance policies;\n",
        "* `PBYSTAND`: Contribution social security insurance policies;\n",
        "* `AWAPART`: Number of private third party insurance 1 - 12;\n",
        "* `AWABEDR`: Number of third party insurance (firms) …;\n",
        "* `AWALAND`: Number of third party insurance (agriculture);\n",
        "* `APERSAUT`: Number of car policies;\n",
        "* `ABESAUT`: Number of delivery van policies;\n",
        "* `AMOTSCO`: Number of motorcycle/scooter policies;\n",
        "* `AVRAAUT`: Number of lorry policies;\n",
        "* `AAANHANG`: Number of trailer policies;\n",
        "* `ATRACTOR`: Number of tractor policies;\n",
        "* `AWERKT`: Number of agricultural machines policies;\n",
        "* `ABROM`: Number of moped policies;\n",
        "* `ALEVEN`: Number of life insurances;\n",
        "* `APERSONG`: Number of private accident insurance policies;\n",
        "* `AGEZONG`: Number of family accidents insurance policies;\n",
        "* `AWAOREG`: Number of disability insurance policies;\n",
        "* `ABRAND`: Number of fire policies;\n",
        "* `AZEILPL`: Number of surfboard policies;\n",
        "* `APLEZIER`: Number of boat policies;\n",
        "* `AFIETS`: Number of bicycle policies;\n",
        "* `AINBOED`: Number of property insurance policies;\n",
        "* `ABYSTAND`: Number of social security insurance policies;\n",
        "* `CARAVAN`: Number of mobile home policies 0 - 1.\n",
        "\n",
        "**Keys (L1 - L4)**\n",
        "\n",
        "**L0: Customer subtype**\n",
        "\n",
        "* 1: High Income, expensive child;\n",
        "* 2: Very Important Provincials;\n",
        "* 3: High status seniors;\n",
        "* 4: Affluent senior apartments;\n",
        "* 5: Mixed seniors;\n",
        "* 6: Career and childcare;\n",
        "* 7: Dinki's (double income no kids);\n",
        "* 8: Middle class families;\n",
        "* 9: Modern, complete families;\n",
        "* 10: Stable family;\n",
        "* 11: Family starters;\n",
        "* 12: Affluent young families;\n",
        "* 13: Young all american family;\n",
        "* 14: Junior cosmopolitan;\n",
        "* 15: Senior cosmopolitans;\n",
        "* 16: Students in apartments;\n",
        "* 17: Fresh masters in the city;\n",
        "* 18: Single youth;\n",
        "* 19: Suburban youth;\n",
        "* 20: Etnically diverse;\n",
        "* 21: Young urban have-nots;\n",
        "* 22: Mixed apartment dwellers;\n",
        "* 23: Young and rising;\n",
        "* 24: Young, low educated;\n",
        "* 25: Young seniors in the city;\n",
        "* 26: Own home elderly;\n",
        "* 27: Seniors in apartments;\n",
        "* 28: Residential elderly;\n",
        "* 29: Porchless seniors: no front yard;\n",
        "* 30: Religious elderly singles;\n",
        "* 31: Low income catholics;\n",
        "* 32: Mixed seniors;\n",
        "* 33: Lower class large families;\n",
        "* 34: Large family, employed child;\n",
        "* 35: Village families;\n",
        "* 36: Couples with teens 'Married with children';\n",
        "* 37: Mixed small town dwellers;\n",
        "* 38: Traditional families;\n",
        "* 39: Large religous families;\n",
        "* 40: Large family farms;\n",
        "* 41: Mixed rurals.\n",
        "\n",
        "**L1: average age keys**\n",
        "\n",
        "* 1: 20-30 years;\n",
        "* 2: 30-40 years;\n",
        "* 3: 40-50 years;\n",
        "* 4: 50-60 years;\n",
        "* 5: 60-70 years;\n",
        "* 6: 70-80 years.\n",
        "\n",
        "**L2: customer main type keys:**\n",
        "\n",
        "* 1: Successful hedonists\n",
        "* 2: Driven Growers\n",
        "* 3: Average Family\n",
        "* 4: Career Loners\n",
        "* 5: Living well\n",
        "* 6: Cruising Seniors\n",
        "* 7: Retired and Religeous\n",
        "* 8: Family with grown ups\n",
        "* 9: Conservative families\n",
        "* 10: Farmers\n",
        "\n",
        "**L3: percentage keys:**\n",
        "\n",
        "* 0: 0%\n",
        "* 1: 1 - 10%\n",
        "* 2: 11 - 23%\n",
        "* 3: 24 - 36%\n",
        "* 4: 37 - 49%\n",
        "* 5: 50 - 62%\n",
        "* 6: 63 - 75%\n",
        "* 7: 76 - 88%\n",
        "* 8: 89 - 99%\n",
        "* 9: 100%\n",
        "\n",
        "**L4: total number keys:**\n",
        "\n",
        "* 0: 0\n",
        "* 1: 1 - 49\n",
        "* 2: 50 - 99\n",
        "* 3: 100 - 199\n",
        "* 4: 200 - 499\n",
        "* 5: 500 - 999\n",
        "* 6: 1000 - 4999\n",
        "* 7: 5000 - 9999\n",
        "* 8: 10,000 - 19,999\n",
        "* 9: >= 20,000\n"
      ]
    },
    {
      "cell_type": "markdown",
      "metadata": {
        "id": "wnsuTgKf_uOr"
      },
      "source": [
        "# (a)"
      ]
    },
    {
      "cell_type": "markdown",
      "metadata": {
        "id": "EK9zkWbx_wFT"
      },
      "source": [
        "From the textbook, p. 335:\n",
        "> Create a training set consisting of the first 1,000 observations, and a test set consisting of the remaining observations."
      ]
    },
    {
      "cell_type": "code",
      "metadata": {
        "id": "Y6XH_moS_xaA"
      },
      "source": [
        "x = pd.get_dummies(caravan.drop('Purchase', axis='columns')\n",
        "                   , drop_first=True\n",
        ")\n",
        "y = caravan.Purchase\n",
        "\n",
        "np.random.seed(1)\n",
        "x_train, x_test, y_train, y_test = train_test_split(x, y, train_size=1000)"
      ],
      "execution_count": 3,
      "outputs": []
    },
    {
      "cell_type": "markdown",
      "metadata": {
        "id": "-DdtvawL_yj7"
      },
      "source": [
        "# (b)"
      ]
    },
    {
      "cell_type": "markdown",
      "metadata": {
        "id": "hYJ2znuV_1cw"
      },
      "source": [
        "From the textbook, p. 335:\n",
        "> Fit a boosting model to the training set with `Purchase` as the response and the other variables as predictors. Use 1,000 trees, and a shrinkage value of 0.01. Which predictors appear to be the most important?"
      ]
    },
    {
      "cell_type": "code",
      "metadata": {
        "id": "ADm9MFn-_2an"
      },
      "source": [
        "model_b = AdaBoostClassifier(n_estimators=1000, learning_rate=0.01)\n",
        "model_b.fit(x_train, y_train)\n",
        "feature_importances = np.mean([\n",
        "    tree.feature_importances_ for tree in model_b.estimators_\n",
        "], axis=0)\n",
        "imp_df = pd.DataFrame({'Importance' : feature_importances\n",
        "                       ,'Feature' : x.columns.to_list()}\n",
        "                      , index=x.columns\n",
        "                     ).sort_values('Importance', ascending=False)"
      ],
      "execution_count": 4,
      "outputs": []
    },
    {
      "cell_type": "code",
      "metadata": {
        "colab": {
          "base_uri": "https://localhost:8080/",
          "height": 899
        },
        "id": "Pq3v-j2Uyedz",
        "outputId": "71debb38-dc65-4c04-d853-45cefde26284"
      },
      "source": [
        "plt.figure(figsize=(6, 15))\n",
        "sns.barplot(x=\"Importance\"\n",
        "            , y=\"Feature\"\n",
        "            , data=imp_df\n",
        "            , label=\"Total\"\n",
        "            , color=\"b\"\n",
        "            , snap=False\n",
        "            )\n",
        "plt.title('Feature importances')\n",
        "plt.xlabel('Importance')\n",
        "plt.ylabel('Feature name')\n",
        "plt.show()"
      ],
      "execution_count": 5,
      "outputs": [
        {
          "output_type": "display_data",
          "data": {
            "image/png": "[encoded data removed]",
            "text/plain": [
              "<Figure size 432x1080 with 1 Axes>"
            ]
          },
          "metadata": {
            "tags": [],
            "needs_background": "light"
          }
        }
      ]
    },
    {
      "cell_type": "markdown",
      "metadata": {
        "id": "El57RUGR6RHY"
      },
      "source": [
        "You can see, that, out of 86 predictors, only 26 have any importance."
      ]
    },
    {
      "cell_type": "markdown",
      "metadata": {
        "id": "VFfFZ4yh_22Z"
      },
      "source": [
        "# (c)"
      ]
    },
    {
      "cell_type": "markdown",
      "metadata": {
        "id": "k40sHqBM_5TE"
      },
      "source": [
        "From the textbook, p. 335:\n",
        "> Use the boosting model to predict the response on the test data. Predict that a person will make a purchase if the estimated probability of purchase is greater than 20%. Form a confusion matrix. What fraction of the people predicted to make a purchase do in fact make one?"
      ]
    },
    {
      "cell_type": "code",
      "metadata": {
        "id": "GPnVeyMTwMk2",
        "colab": {
          "base_uri": "https://localhost:8080/",
          "height": 143
        },
        "outputId": "46959fef-e931-4d30-ad41-e04d7447fe12"
      },
      "source": [
        "y_pred = np.where(model_b.predict_proba(x_test)[:, 1] > 0.2, 'Yes', 'No')\n",
        "df = (pd.DataFrame(confusion_matrix(y_pred, y_test)\n",
        "                   , columns=['No', 'Yes']\n",
        "                   , index=['No', 'Yes']\n",
        "                  ).loc[\n",
        "                        ['Yes', 'No']\n",
        "                        , ['Yes', 'No']\n",
        "                       ]\n",
        "                   .rename_axis('Prediction')\n",
        "                   .rename_axis('Reality', axis='columns')\n",
        ")\n",
        "df"
      ],
      "execution_count": 6,
      "outputs": [
        {
          "output_type": "execute_result",
          "data": {
            "text/html": [
              "<div>\n",
              "<style scoped>\n",
              "    .dataframe tbody tr th:only-of-type {\n",
              "        vertical-align: middle;\n",
              "    }\n",
              "\n",
              "    .dataframe tbody tr th {\n",
              "        vertical-align: top;\n",
              "    }\n",
              "\n",
              "    .dataframe thead th {\n",
              "        text-align: right;\n",
              "    }\n",
              "</style>\n",
              "<table border=\"1\" class=\"dataframe\">\n",
              "  <thead>\n",
              "    <tr style=\"text-align: right;\">\n",
              "      <th>Reality</th>\n",
              "      <th>Yes</th>\n",
              "      <th>No</th>\n",
              "    </tr>\n",
              "    <tr>\n",
              "      <th>Prediction</th>\n",
              "      <th></th>\n",
              "      <th></th>\n",
              "    </tr>\n",
              "  </thead>\n",
              "  <tbody>\n",
              "    <tr>\n",
              "      <th>Yes</th>\n",
              "      <td>289</td>\n",
              "      <td>4533</td>\n",
              "    </tr>\n",
              "    <tr>\n",
              "      <th>No</th>\n",
              "      <td>0</td>\n",
              "      <td>0</td>\n",
              "    </tr>\n",
              "  </tbody>\n",
              "</table>\n",
              "</div>"
            ],
            "text/plain": [
              "Reality     Yes    No\n",
              "Prediction           \n",
              "Yes         289  4533\n",
              "No            0     0"
            ]
          },
          "metadata": {
            "tags": []
          },
          "execution_count": 6
        }
      ]
    },
    {
      "cell_type": "code",
      "metadata": {
        "colab": {
          "base_uri": "https://localhost:8080/"
        },
        "id": "y-gDiGurFqs6",
        "outputId": "16ef619e-c583-411a-f79a-fd2056b7ceca"
      },
      "source": [
        "df.loc['Yes', 'Yes'] / df.loc['Yes', :].sum()"
      ],
      "execution_count": 7,
      "outputs": [
        {
          "output_type": "execute_result",
          "data": {
            "text/plain": [
              "0.05993363749481543"
            ]
          },
          "metadata": {
            "tags": []
          },
          "execution_count": 7
        }
      ]
    },
    {
      "cell_type": "markdown",
      "metadata": {
        "id": "RQTgRXsXGfuu"
      },
      "source": [
        "This metric is called precision. Precision of 6% percent is *terrible*. You can also see that, at the probability threshold of 20%, the model predicts everything as 'Yes'. This way AdaBoostClassifier is worse than the null model that predicts 'No' for all points ('No' is the dominant class). The threshold is too low, in my opinion."
      ]
    },
    {
      "cell_type": "markdown",
      "metadata": {
        "id": "JADQkkP8P3hX"
      },
      "source": [
        "I've tweaked the threshold a little bit."
      ]
    },
    {
      "cell_type": "code",
      "metadata": {
        "colab": {
          "base_uri": "https://localhost:8080/",
          "height": 143
        },
        "id": "2zNtIFI2HgmX",
        "outputId": "a660c6de-3394-4755-fb6f-2414535580f6"
      },
      "source": [
        "y_pred = np.where(model_b.predict_proba(x_test)[:, 1] > 0.455, 'Yes', 'No')\n",
        "df = (pd.DataFrame(confusion_matrix(y_pred, y_test)\n",
        "                   , columns=['No', 'Yes']\n",
        "                   , index=['No', 'Yes']\n",
        "                  ).loc[\n",
        "                        ['Yes', 'No']\n",
        "                        , ['Yes', 'No']\n",
        "                       ]\n",
        "                   .rename_axis('Prediction')\n",
        "                   .rename_axis('Reality', axis='columns')\n",
        ")\n",
        "df"
      ],
      "execution_count": 8,
      "outputs": [
        {
          "output_type": "execute_result",
          "data": {
            "text/html": [
              "<div>\n",
              "<style scoped>\n",
              "    .dataframe tbody tr th:only-of-type {\n",
              "        vertical-align: middle;\n",
              "    }\n",
              "\n",
              "    .dataframe tbody tr th {\n",
              "        vertical-align: top;\n",
              "    }\n",
              "\n",
              "    .dataframe thead th {\n",
              "        text-align: right;\n",
              "    }\n",
              "</style>\n",
              "<table border=\"1\" class=\"dataframe\">\n",
              "  <thead>\n",
              "    <tr style=\"text-align: right;\">\n",
              "      <th>Reality</th>\n",
              "      <th>Yes</th>\n",
              "      <th>No</th>\n",
              "    </tr>\n",
              "    <tr>\n",
              "      <th>Prediction</th>\n",
              "      <th></th>\n",
              "      <th></th>\n",
              "    </tr>\n",
              "  </thead>\n",
              "  <tbody>\n",
              "    <tr>\n",
              "      <th>Yes</th>\n",
              "      <td>55</td>\n",
              "      <td>202</td>\n",
              "    </tr>\n",
              "    <tr>\n",
              "      <th>No</th>\n",
              "      <td>234</td>\n",
              "      <td>4331</td>\n",
              "    </tr>\n",
              "  </tbody>\n",
              "</table>\n",
              "</div>"
            ],
            "text/plain": [
              "Reality     Yes    No\n",
              "Prediction           \n",
              "Yes          55   202\n",
              "No          234  4331"
            ]
          },
          "metadata": {
            "tags": []
          },
          "execution_count": 8
        }
      ]
    },
    {
      "cell_type": "code",
      "metadata": {
        "colab": {
          "base_uri": "https://localhost:8080/"
        },
        "id": "BFCat2jnQaY7",
        "outputId": "ec99cea9-2efd-49ad-cce5-6cf5788aadbb"
      },
      "source": [
        "df.loc['Yes', 'Yes'] / df.loc['Yes', :].sum()"
      ],
      "execution_count": 9,
      "outputs": [
        {
          "output_type": "execute_result",
          "data": {
            "text/plain": [
              "0.2140077821011673"
            ]
          },
          "metadata": {
            "tags": []
          },
          "execution_count": 9
        }
      ]
    },
    {
      "cell_type": "markdown",
      "metadata": {
        "id": "q90lJ33FGLP7"
      },
      "source": [
        "> How does this compare with the results obtained from applying KNN or logistic regression to this data set?"
      ]
    },
    {
      "cell_type": "code",
      "metadata": {
        "colab": {
          "base_uri": "https://localhost:8080/",
          "height": 143
        },
        "id": "p4OjDVPZJX0B",
        "outputId": "3993e15f-102d-48de-e26e-adaea515ef02"
      },
      "source": [
        "model_c = KNeighborsClassifier()\n",
        "model_c.fit(x_train, y_train)\n",
        "y_pred_c = model_c.predict(x_test)\n",
        "df = (pd.DataFrame(confusion_matrix(y_pred_c, y_test)\n",
        "                   , columns=['No', 'Yes']\n",
        "                   , index=['No', 'Yes']\n",
        "                  ).loc[\n",
        "                        ['Yes', 'No']\n",
        "                        , ['Yes', 'No']\n",
        "                       ]\n",
        "                   .rename_axis('Prediction')\n",
        "                   .rename_axis('Reality', axis='columns')\n",
        ")\n",
        "df"
      ],
      "execution_count": 10,
      "outputs": [
        {
          "output_type": "execute_result",
          "data": {
            "text/html": [
              "<div>\n",
              "<style scoped>\n",
              "    .dataframe tbody tr th:only-of-type {\n",
              "        vertical-align: middle;\n",
              "    }\n",
              "\n",
              "    .dataframe tbody tr th {\n",
              "        vertical-align: top;\n",
              "    }\n",
              "\n",
              "    .dataframe thead th {\n",
              "        text-align: right;\n",
              "    }\n",
              "</style>\n",
              "<table border=\"1\" class=\"dataframe\">\n",
              "  <thead>\n",
              "    <tr style=\"text-align: right;\">\n",
              "      <th>Reality</th>\n",
              "      <th>Yes</th>\n",
              "      <th>No</th>\n",
              "    </tr>\n",
              "    <tr>\n",
              "      <th>Prediction</th>\n",
              "      <th></th>\n",
              "      <th></th>\n",
              "    </tr>\n",
              "  </thead>\n",
              "  <tbody>\n",
              "    <tr>\n",
              "      <th>Yes</th>\n",
              "      <td>9</td>\n",
              "      <td>14</td>\n",
              "    </tr>\n",
              "    <tr>\n",
              "      <th>No</th>\n",
              "      <td>280</td>\n",
              "      <td>4519</td>\n",
              "    </tr>\n",
              "  </tbody>\n",
              "</table>\n",
              "</div>"
            ],
            "text/plain": [
              "Reality     Yes    No\n",
              "Prediction           \n",
              "Yes           9    14\n",
              "No          280  4519"
            ]
          },
          "metadata": {
            "tags": []
          },
          "execution_count": 10
        }
      ]
    },
    {
      "cell_type": "code",
      "metadata": {
        "colab": {
          "base_uri": "https://localhost:8080/"
        },
        "id": "w9YPmyvOQei4",
        "outputId": "b1f9fdb5-4281-4473-b46f-111d6593812b"
      },
      "source": [
        "df.loc['Yes', 'Yes'] / df.loc['Yes', :].sum()"
      ],
      "execution_count": 11,
      "outputs": [
        {
          "output_type": "execute_result",
          "data": {
            "text/plain": [
              "0.391304347826087"
            ]
          },
          "metadata": {
            "tags": []
          },
          "execution_count": 11
        }
      ]
    },
    {
      "cell_type": "markdown",
      "metadata": {
        "id": "8nWvlpXCPwcB"
      },
      "source": [
        "This model has better precision but worse recall."
      ]
    }
  ]
}