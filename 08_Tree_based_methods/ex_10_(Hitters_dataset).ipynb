{
  "nbformat": 4,
  "nbformat_minor": 0,
  "metadata": {
    "colab": {
      "name": "08. Tree-based methods, ex. 10 (Hitters dataset)",
      "provenance": [],
      "collapsed_sections": [],
      "authorship_tag": "ABX9TyMOikqqJXPEGKKzfAPb6PGn"
    },
    "kernelspec": {
      "name": "python3",
      "display_name": "Python 3"
    },
    "language_info": {
      "name": "python"
    }
  },
  "cells": [
    {
      "cell_type": "markdown",
      "metadata": {
        "id": "hWPA6J4uLVeL"
      },
      "source": [
        "All instructions are provided for R. I am going to reproduce them in Python as best as I can."
      ]
    },
    {
      "cell_type": "markdown",
      "metadata": {
        "id": "T3r7_JfM7M9m"
      },
      "source": [
        "# Preface"
      ]
    },
    {
      "cell_type": "markdown",
      "metadata": {
        "id": "XG8lT6Up-ENk"
      },
      "source": [
        "From the textbook, p. 334:\n",
        "> We now use boosting to predict `Salary` in the `Hitters` data set."
      ]
    },
    {
      "cell_type": "code",
      "metadata": {
        "id": "7aRrl0Wu-lF0"
      },
      "source": [
        "from matplotlib import pyplot as plt\n",
        "import numpy as np\n",
        "import pandas as pd\n",
        "import seaborn as sns\n",
        "from sklearn.ensemble import BaggingRegressor, AdaBoostRegressor\n",
        "from sklearn.model_selection import train_test_split, GridSearchCV\n",
        "from sklearn.linear_model import LassoCV, LinearRegression\n",
        "from sklearn.tree import DecisionTreeClassifier\n",
        "\n",
        "\n",
        "sns.set()\n",
        "%matplotlib inline"
      ],
      "execution_count": 1,
      "outputs": []
    },
    {
      "cell_type": "code",
      "metadata": {
        "colab": {
          "base_uri": "https://localhost:8080/",
          "height": 233
        },
        "id": "QoJ75-m_btBx",
        "outputId": "6cf5779a-66d6-4148-8461-63f98a8c09f9"
      },
      "source": [
        "hitters = pd.read_csv('https://raw.githubusercontent.com/dsnair/ISLR/master/data/csv/Hitters.csv')\n",
        "hitters.head(3)"
      ],
      "execution_count": 2,
      "outputs": [
        {
          "output_type": "execute_result",
          "data": {
            "text/html": [
              "<div>\n",
              "<style scoped>\n",
              "    .dataframe tbody tr th:only-of-type {\n",
              "        vertical-align: middle;\n",
              "    }\n",
              "\n",
              "    .dataframe tbody tr th {\n",
              "        vertical-align: top;\n",
              "    }\n",
              "\n",
              "    .dataframe thead th {\n",
              "        text-align: right;\n",
              "    }\n",
              "</style>\n",
              "<table border=\"1\" class=\"dataframe\">\n",
              "  <thead>\n",
              "    <tr style=\"text-align: right;\">\n",
              "      <th></th>\n",
              "      <th>Unnamed: 0</th>\n",
              "      <th>AtBat</th>\n",
              "      <th>Hits</th>\n",
              "      <th>HmRun</th>\n",
              "      <th>Runs</th>\n",
              "      <th>RBI</th>\n",
              "      <th>Walks</th>\n",
              "      <th>Years</th>\n",
              "      <th>CAtBat</th>\n",
              "      <th>CHits</th>\n",
              "      <th>CHmRun</th>\n",
              "      <th>CRuns</th>\n",
              "      <th>CRBI</th>\n",
              "      <th>CWalks</th>\n",
              "      <th>League</th>\n",
              "      <th>Division</th>\n",
              "      <th>PutOuts</th>\n",
              "      <th>Assists</th>\n",
              "      <th>Errors</th>\n",
              "      <th>Salary</th>\n",
              "      <th>NewLeague</th>\n",
              "    </tr>\n",
              "  </thead>\n",
              "  <tbody>\n",
              "    <tr>\n",
              "      <th>0</th>\n",
              "      <td>-Andy Allanson</td>\n",
              "      <td>293</td>\n",
              "      <td>66</td>\n",
              "      <td>1</td>\n",
              "      <td>30</td>\n",
              "      <td>29</td>\n",
              "      <td>14</td>\n",
              "      <td>1</td>\n",
              "      <td>293</td>\n",
              "      <td>66</td>\n",
              "      <td>1</td>\n",
              "      <td>30</td>\n",
              "      <td>29</td>\n",
              "      <td>14</td>\n",
              "      <td>A</td>\n",
              "      <td>E</td>\n",
              "      <td>446</td>\n",
              "      <td>33</td>\n",
              "      <td>20</td>\n",
              "      <td>NaN</td>\n",
              "      <td>A</td>\n",
              "    </tr>\n",
              "    <tr>\n",
              "      <th>1</th>\n",
              "      <td>-Alan Ashby</td>\n",
              "      <td>315</td>\n",
              "      <td>81</td>\n",
              "      <td>7</td>\n",
              "      <td>24</td>\n",
              "      <td>38</td>\n",
              "      <td>39</td>\n",
              "      <td>14</td>\n",
              "      <td>3449</td>\n",
              "      <td>835</td>\n",
              "      <td>69</td>\n",
              "      <td>321</td>\n",
              "      <td>414</td>\n",
              "      <td>375</td>\n",
              "      <td>N</td>\n",
              "      <td>W</td>\n",
              "      <td>632</td>\n",
              "      <td>43</td>\n",
              "      <td>10</td>\n",
              "      <td>475.0</td>\n",
              "      <td>N</td>\n",
              "    </tr>\n",
              "    <tr>\n",
              "      <th>2</th>\n",
              "      <td>-Alvin Davis</td>\n",
              "      <td>479</td>\n",
              "      <td>130</td>\n",
              "      <td>18</td>\n",
              "      <td>66</td>\n",
              "      <td>72</td>\n",
              "      <td>76</td>\n",
              "      <td>3</td>\n",
              "      <td>1624</td>\n",
              "      <td>457</td>\n",
              "      <td>63</td>\n",
              "      <td>224</td>\n",
              "      <td>266</td>\n",
              "      <td>263</td>\n",
              "      <td>A</td>\n",
              "      <td>W</td>\n",
              "      <td>880</td>\n",
              "      <td>82</td>\n",
              "      <td>14</td>\n",
              "      <td>480.0</td>\n",
              "      <td>A</td>\n",
              "    </tr>\n",
              "  </tbody>\n",
              "</table>\n",
              "</div>"
            ],
            "text/plain": [
              "       Unnamed: 0  AtBat  Hits  HmRun  ...  Assists  Errors  Salary  NewLeague\n",
              "0  -Andy Allanson    293    66      1  ...       33      20     NaN          A\n",
              "1     -Alan Ashby    315    81      7  ...       43      10   475.0          N\n",
              "2    -Alvin Davis    479   130     18  ...       82      14   480.0          A\n",
              "\n",
              "[3 rows x 21 columns]"
            ]
          },
          "metadata": {
            "tags": []
          },
          "execution_count": 2
        }
      ]
    },
    {
      "cell_type": "markdown",
      "metadata": {
        "id": "9ZLB-pHAcEyP"
      },
      "source": [
        "Columns:\n",
        "* `AtBat` &mdash; Number of times at bat in 1986;\n",
        "* `Hits` &mdash; Number of hits in 1986;\n",
        "* `HmRun` &mdash; Number of home runs in 1986;\n",
        "* `Runs` &mdash; Number of runs in 1986;\n",
        "* `RBI` &mdash; Number of runs batted in in 1986;\n",
        "* `Walks` &mdash; Number of walks in 1986;\n",
        "* `Years` &mdash; Number of years in the major leagues;\n",
        "* `CAtBat` &mdash; Number of times at bat during his career;\n",
        "* `CHits` &mdash; Number of hits during his career;\n",
        "* `CHmRun` &mdash; Number of home runs during his career;\n",
        "* `CRuns` &mdash; Number of runs during his career;\n",
        "* `CRBI` &mdash; Number of runs batted in during his career;\n",
        "* `CWalks` &mdash; Number of walks during his career;\n",
        "* `League` &mdash; A factor with levels A and N indicating player's league at the end of 1986;\n",
        "* `Division` &mdash; A factor with levels E and W indicating player's division at the end of 1986;\n",
        "* `PutOuts` &mdash; Number of put outs in 1986;\n",
        "* `Assists` &mdash; Number of assists in 1986;\n",
        "* `Errors` &mdash; Number of errors in 1986;\n",
        "* `Salary` &mdash; 1987 annual salary on opening day in thousands of dollars;\n",
        "* `NewLeague` &mdash; a factor with levels A and N indicating player's league at the beginning of 1987.\n",
        "\n",
        "`League`, `Division`, `NewLeague` are categorical."
      ]
    },
    {
      "cell_type": "markdown",
      "metadata": {
        "id": "v-2ARsDg-lfK"
      },
      "source": [
        "# (a)"
      ]
    },
    {
      "cell_type": "markdown",
      "metadata": {
        "id": "wkf7gLZH-mSQ"
      },
      "source": [
        "From the textbook, p. 335:\n",
        "> Remove the observations for whom the salary information is unknown, and then log-transform the salaries."
      ]
    },
    {
      "cell_type": "code",
      "metadata": {
        "id": "7Bjjh04e-owa"
      },
      "source": [
        "hitters = hitters.dropna()\n",
        "x = pd.get_dummies(hitters.drop(['Unnamed: 0', 'Salary'], axis='columns')\n",
        "                   , drop_first=True\n",
        "                  )\n",
        "y = np.log(hitters.Salary)"
      ],
      "execution_count": 3,
      "outputs": []
    },
    {
      "cell_type": "markdown",
      "metadata": {
        "id": "fyNzyQ-0-pFw"
      },
      "source": [
        "# (b)"
      ]
    },
    {
      "cell_type": "markdown",
      "metadata": {
        "id": "MVZ56ynI-rG0"
      },
      "source": [
        "From the textbook, p. 335:\n",
        "> Create a training set consisting of the first 200 observations, and a test set consisting of the remaining observations."
      ]
    },
    {
      "cell_type": "code",
      "metadata": {
        "id": "b50nWOKK-uWp"
      },
      "source": [
        "np.random.seed(1)\n",
        "x_train, x_test, y_train, y_test = train_test_split(x, y, train_size=200)"
      ],
      "execution_count": 4,
      "outputs": []
    },
    {
      "cell_type": "markdown",
      "metadata": {
        "id": "XGbnPl_F-tg-"
      },
      "source": [
        "# (c)"
      ]
    },
    {
      "cell_type": "markdown",
      "metadata": {
        "id": "DGwjySGN-wQr"
      },
      "source": [
        "From the textbook, p. 335:\n",
        "> Perform boosting on the training set with 1,000 trees for a range of values of the shrinkage parameter $\\lambda$. Produce a plot with different shrinkage values on the x-axis and the corresponding training set MSE on the y-axis."
      ]
    },
    {
      "cell_type": "code",
      "metadata": {
        "id": "KB3tKNU1-08W"
      },
      "source": [
        "n_estimators = 1000\n",
        "lr_range = np.linspace(0.0001, 1, 100)\n",
        "\n",
        "def ada_mse(x_train, y_train, x_test, y_test, n_estimators, lr_range):\n",
        "  mses = []\n",
        "  for learning_rate in lr_range:\n",
        "    model = AdaBoostRegressor(n_estimators=n_estimators\n",
        "                              , learning_rate=learning_rate\n",
        "                              )\n",
        "    model.fit(x_train, y_train)\n",
        "    y_pred = model.predict(x_train)\n",
        "    mses.append(((y_pred - y_train)**2).mean())\n",
        "  return mses\n",
        "\n",
        "mses = ada_mse(x_train, y_train, x_train, y_train, n_estimators, lr_range)"
      ],
      "execution_count": 5,
      "outputs": []
    },
    {
      "cell_type": "code",
      "metadata": {
        "colab": {
          "base_uri": "https://localhost:8080/",
          "height": 355
        },
        "id": "hvt4dhejnaMM",
        "outputId": "b075962f-fc97-4ffa-8c2d-75f6639b9654"
      },
      "source": [
        "plt.figure(figsize=(18, 5))\n",
        "sns.lineplot(x=lr_range, y=mses)\n",
        "plt.title('Train MSE vs learning rate')\n",
        "plt.xlabel('Learning rate')\n",
        "plt.ylabel('MSE')\n",
        "plt.show()"
      ],
      "execution_count": 6,
      "outputs": [
        {
          "output_type": "display_data",
          "data": {
            "image/png": "[encoded data removed]",
            "text/plain": [
              "<Figure size 1296x360 with 1 Axes>"
            ]
          },
          "metadata": {
            "tags": [],
            "needs_background": "light"
          }
        }
      ]
    },
    {
      "cell_type": "markdown",
      "metadata": {
        "id": "IlA1tkEw-0YR"
      },
      "source": [
        "# (d)"
      ]
    },
    {
      "cell_type": "markdown",
      "metadata": {
        "id": "RCQDlFoq-20H"
      },
      "source": [
        "From the textbook, p. 335:\n",
        "> Produce a plot with different shrinkage values on the x-axis and the corresponding test set MSE on the y-axis."
      ]
    },
    {
      "cell_type": "code",
      "metadata": {
        "id": "8QF8fQzl-47H"
      },
      "source": [
        "mses = ada_mse(x_train, y_train, x_test, y_test, n_estimators, lr_range)"
      ],
      "execution_count": 7,
      "outputs": []
    },
    {
      "cell_type": "code",
      "metadata": {
        "colab": {
          "base_uri": "https://localhost:8080/",
          "height": 355
        },
        "id": "46iQyNM7rlGv",
        "outputId": "b3592402-544b-4d01-aa39-e53914ca0b21"
      },
      "source": [
        "plt.figure(figsize=(18, 5))\n",
        "sns.lineplot(x=lr_range, y=mses)\n",
        "plt.title('Test MSE vs learning rate')\n",
        "plt.xlabel('Learning rate')\n",
        "plt.ylabel('MSE')\n",
        "plt.show()"
      ],
      "execution_count": 8,
      "outputs": [
        {
          "output_type": "display_data",
          "data": {
            "image/png": "[encoded data removed]",
            "text/plain": [
              "<Figure size 1296x360 with 1 Axes>"
            ]
          },
          "metadata": {
            "tags": [],
            "needs_background": "light"
          }
        }
      ]
    },
    {
      "cell_type": "markdown",
      "metadata": {
        "id": "GNOuAIJz-5Ww"
      },
      "source": [
        "# (e)"
      ]
    },
    {
      "cell_type": "markdown",
      "metadata": {
        "id": "h-ETN3jk-64Z"
      },
      "source": [
        "From the textbook, p. 335:\n",
        "> Compare the test MSE of boosting to the test MSE that results from applying two of the regression approaches seen in Chapters 3 and 6."
      ]
    },
    {
      "cell_type": "code",
      "metadata": {
        "id": "ksgMs5Hv-6P8",
        "colab": {
          "base_uri": "https://localhost:8080/"
        },
        "outputId": "149b5b25-1f08-4e61-dfc5-fb5233754aec"
      },
      "source": [
        "print(f'Boosting test MSE: {min(mses):.3f}')\n",
        "\n",
        "model_e1 = LassoCV()\n",
        "model_e1.fit(x_train, y_train)\n",
        "y_pred = model_e1.predict(x_test)\n",
        "print(f'Lasso test MSE: {np.mean((y_pred - y_test)**2):.3f}')\n",
        "\n",
        "model_e2 = LinearRegression()\n",
        "model_e2.fit(x_train, y_train)\n",
        "y_pred = model_e2.predict(x_test)\n",
        "print(f'Linear regression test MSE: {np.mean((y_pred - y_test)**2):.3f}')"
      ],
      "execution_count": 9,
      "outputs": [
        {
          "output_type": "stream",
          "text": [
            "Boosting test MSE: 0.080\n",
            "Lasso test MSE: 0.509\n",
            "Linear regression test MSE: 0.453\n"
          ],
          "name": "stdout"
        }
      ]
    },
    {
      "cell_type": "markdown",
      "metadata": {
        "id": "Wpv9TkgjFSIe"
      },
      "source": [
        "Boosting gives better result than either Lasso or ordinary least squares."
      ]
    },
    {
      "cell_type": "markdown",
      "metadata": {
        "id": "ryXL9Nnm-9va"
      },
      "source": [
        "# (f)"
      ]
    },
    {
      "cell_type": "markdown",
      "metadata": {
        "id": "Z90xCEN4_BEu"
      },
      "source": [
        "From the textbook, p. 335:\n",
        "> Which variables appear to be the most important predictors in the boosted model?"
      ]
    },
    {
      "cell_type": "code",
      "metadata": {
        "id": "qpppWb_J_CtQ",
        "colab": {
          "base_uri": "https://localhost:8080/",
          "height": 645
        },
        "outputId": "72e53dec-cb80-43b4-ac0e-d61e6c4ef89d"
      },
      "source": [
        "model_f = AdaBoostRegressor(n_estimators=n_estimators\n",
        "                            , learning_rate=0.275\n",
        "                            )\n",
        "model_f.fit(x_train, y_train)\n",
        "\n",
        "feature_importances = np.mean([\n",
        "    tree.feature_importances_ for tree in model_f.estimators_\n",
        "], axis=0)\n",
        "pd.DataFrame({'Importance' : feature_importances}\n",
        "             , index=x.columns\n",
        "            ).sort_values('Importance', ascending=False)"
      ],
      "execution_count": 10,
      "outputs": [
        {
          "output_type": "execute_result",
          "data": {
            "text/html": [
              "<div>\n",
              "<style scoped>\n",
              "    .dataframe tbody tr th:only-of-type {\n",
              "        vertical-align: middle;\n",
              "    }\n",
              "\n",
              "    .dataframe tbody tr th {\n",
              "        vertical-align: top;\n",
              "    }\n",
              "\n",
              "    .dataframe thead th {\n",
              "        text-align: right;\n",
              "    }\n",
              "</style>\n",
              "<table border=\"1\" class=\"dataframe\">\n",
              "  <thead>\n",
              "    <tr style=\"text-align: right;\">\n",
              "      <th></th>\n",
              "      <th>Importance</th>\n",
              "    </tr>\n",
              "  </thead>\n",
              "  <tbody>\n",
              "    <tr>\n",
              "      <th>CAtBat</th>\n",
              "      <td>0.139793</td>\n",
              "    </tr>\n",
              "    <tr>\n",
              "      <th>CWalks</th>\n",
              "      <td>0.133311</td>\n",
              "    </tr>\n",
              "    <tr>\n",
              "      <th>HmRun</th>\n",
              "      <td>0.098372</td>\n",
              "    </tr>\n",
              "    <tr>\n",
              "      <th>CHmRun</th>\n",
              "      <td>0.090940</td>\n",
              "    </tr>\n",
              "    <tr>\n",
              "      <th>CHits</th>\n",
              "      <td>0.083204</td>\n",
              "    </tr>\n",
              "    <tr>\n",
              "      <th>CRuns</th>\n",
              "      <td>0.082198</td>\n",
              "    </tr>\n",
              "    <tr>\n",
              "      <th>RBI</th>\n",
              "      <td>0.070945</td>\n",
              "    </tr>\n",
              "    <tr>\n",
              "      <th>CRBI</th>\n",
              "      <td>0.047888</td>\n",
              "    </tr>\n",
              "    <tr>\n",
              "      <th>AtBat</th>\n",
              "      <td>0.042667</td>\n",
              "    </tr>\n",
              "    <tr>\n",
              "      <th>Walks</th>\n",
              "      <td>0.034256</td>\n",
              "    </tr>\n",
              "    <tr>\n",
              "      <th>Hits</th>\n",
              "      <td>0.034014</td>\n",
              "    </tr>\n",
              "    <tr>\n",
              "      <th>Years</th>\n",
              "      <td>0.030710</td>\n",
              "    </tr>\n",
              "    <tr>\n",
              "      <th>Runs</th>\n",
              "      <td>0.029236</td>\n",
              "    </tr>\n",
              "    <tr>\n",
              "      <th>PutOuts</th>\n",
              "      <td>0.027750</td>\n",
              "    </tr>\n",
              "    <tr>\n",
              "      <th>Division_W</th>\n",
              "      <td>0.026468</td>\n",
              "    </tr>\n",
              "    <tr>\n",
              "      <th>Assists</th>\n",
              "      <td>0.019913</td>\n",
              "    </tr>\n",
              "    <tr>\n",
              "      <th>Errors</th>\n",
              "      <td>0.006186</td>\n",
              "    </tr>\n",
              "    <tr>\n",
              "      <th>NewLeague_N</th>\n",
              "      <td>0.002094</td>\n",
              "    </tr>\n",
              "    <tr>\n",
              "      <th>League_N</th>\n",
              "      <td>0.000054</td>\n",
              "    </tr>\n",
              "  </tbody>\n",
              "</table>\n",
              "</div>"
            ],
            "text/plain": [
              "             Importance\n",
              "CAtBat         0.139793\n",
              "CWalks         0.133311\n",
              "HmRun          0.098372\n",
              "CHmRun         0.090940\n",
              "CHits          0.083204\n",
              "CRuns          0.082198\n",
              "RBI            0.070945\n",
              "CRBI           0.047888\n",
              "AtBat          0.042667\n",
              "Walks          0.034256\n",
              "Hits           0.034014\n",
              "Years          0.030710\n",
              "Runs           0.029236\n",
              "PutOuts        0.027750\n",
              "Division_W     0.026468\n",
              "Assists        0.019913\n",
              "Errors         0.006186\n",
              "NewLeague_N    0.002094\n",
              "League_N       0.000054"
            ]
          },
          "metadata": {
            "tags": []
          },
          "execution_count": 10
        }
      ]
    },
    {
      "cell_type": "markdown",
      "metadata": {
        "id": "pVsUCBb5I4JO"
      },
      "source": [
        "It seems that there are no dominant predictors. One can notice that six out of eight top predictors are \"career\" variables &mdash; the total across a player's career up to 1987. "
      ]
    },
    {
      "cell_type": "markdown",
      "metadata": {
        "id": "31VPvuwZ_DAQ"
      },
      "source": [
        "# (g)"
      ]
    },
    {
      "cell_type": "markdown",
      "metadata": {
        "id": "qdtR3lPa_FH2"
      },
      "source": [
        "From the textbook, p. 335:\n",
        "> Now apply bagging to the training set. What is the test set MSE for this approach?"
      ]
    },
    {
      "cell_type": "code",
      "metadata": {
        "id": "nbbNQ7agwPdD",
        "colab": {
          "base_uri": "https://localhost:8080/"
        },
        "outputId": "0f2c2e79-cc2a-4793-e371-11adf71c8a39"
      },
      "source": [
        "model_g = BaggingRegressor(n_estimators=n_estimators)\n",
        "model_g.fit(x_train, y_train)\n",
        "y_pred = model_g.predict(x_test)\n",
        "print(f'Bagging test MSE: {np.mean((y_pred - y_test)**2):.3f}')"
      ],
      "execution_count": 11,
      "outputs": [
        {
          "output_type": "stream",
          "text": [
            "Bagging test MSE: 0.250\n"
          ],
          "name": "stdout"
        }
      ]
    }
  ]
}