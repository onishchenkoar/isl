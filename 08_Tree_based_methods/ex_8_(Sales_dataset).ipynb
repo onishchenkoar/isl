{
  "nbformat": 4,
  "nbformat_minor": 0,
  "metadata": {
    "colab": {
      "name": "08. Tree-based methods, ex. 8 (Sales dataset)",
      "provenance": [],
      "collapsed_sections": [],
      "authorship_tag": "ABX9TyNrjZ2xyCnJWym369PYBBB6"
    },
    "kernelspec": {
      "name": "python3",
      "display_name": "Python 3"
    },
    "language_info": {
      "name": "python"
    }
  },
  "cells": [
    {
      "cell_type": "markdown",
      "metadata": {
        "id": "hWPA6J4uLVeL"
      },
      "source": [
        "All instructions are provided for R. I am going to reproduce them in Python as best as I can."
      ]
    },
    {
      "cell_type": "markdown",
      "metadata": {
        "id": "T3r7_JfM7M9m"
      },
      "source": [
        "# Preface"
      ]
    },
    {
      "cell_type": "markdown",
      "metadata": {
        "id": "Xzk29_6vymUJ"
      },
      "source": [
        "From the textbook, p. 333:\n",
        ">In the lab, a classification tree was applied to the `Carseats` data set after converting `Sales` into a qualitative response variable. Now we will seek to predict `Sales` using regression trees and related approaches, treating the response as a quantitative variable."
      ]
    },
    {
      "cell_type": "code",
      "metadata": {
        "id": "JTGRVLOcu5qz"
      },
      "source": [
        "from matplotlib import pyplot as plt\n",
        "import numpy as np\n",
        "import pandas as pd\n",
        "import seaborn as sns\n",
        "from sklearn.ensemble import BaggingRegressor, RandomForestRegressor\n",
        "from sklearn.model_selection import train_test_split, GridSearchCV\n",
        "from sklearn.tree import DecisionTreeRegressor\n",
        "\n",
        "\n",
        "sns.set()\n",
        "%matplotlib inline"
      ],
      "execution_count": 50,
      "outputs": []
    },
    {
      "cell_type": "code",
      "metadata": {
        "colab": {
          "base_uri": "https://localhost:8080/",
          "height": 143
        },
        "id": "0ybsgfe__D7_",
        "outputId": "5f8a689f-2af9-4254-b2de-15b5812fec89"
      },
      "source": [
        "carseats = pd.read_csv('https://raw.githubusercontent.com/selva86/datasets/master/Carseats.csv')\n",
        "carseats.head(3)"
      ],
      "execution_count": 4,
      "outputs": [
        {
          "output_type": "execute_result",
          "data": {
            "text/html": [
              "<div>\n",
              "<style scoped>\n",
              "    .dataframe tbody tr th:only-of-type {\n",
              "        vertical-align: middle;\n",
              "    }\n",
              "\n",
              "    .dataframe tbody tr th {\n",
              "        vertical-align: top;\n",
              "    }\n",
              "\n",
              "    .dataframe thead th {\n",
              "        text-align: right;\n",
              "    }\n",
              "</style>\n",
              "<table border=\"1\" class=\"dataframe\">\n",
              "  <thead>\n",
              "    <tr style=\"text-align: right;\">\n",
              "      <th></th>\n",
              "      <th>Sales</th>\n",
              "      <th>CompPrice</th>\n",
              "      <th>Income</th>\n",
              "      <th>Advertising</th>\n",
              "      <th>Population</th>\n",
              "      <th>Price</th>\n",
              "      <th>ShelveLoc</th>\n",
              "      <th>Age</th>\n",
              "      <th>Education</th>\n",
              "      <th>Urban</th>\n",
              "      <th>US</th>\n",
              "    </tr>\n",
              "  </thead>\n",
              "  <tbody>\n",
              "    <tr>\n",
              "      <th>0</th>\n",
              "      <td>9.50</td>\n",
              "      <td>138</td>\n",
              "      <td>73</td>\n",
              "      <td>11</td>\n",
              "      <td>276</td>\n",
              "      <td>120</td>\n",
              "      <td>Bad</td>\n",
              "      <td>42</td>\n",
              "      <td>17</td>\n",
              "      <td>Yes</td>\n",
              "      <td>Yes</td>\n",
              "    </tr>\n",
              "    <tr>\n",
              "      <th>1</th>\n",
              "      <td>11.22</td>\n",
              "      <td>111</td>\n",
              "      <td>48</td>\n",
              "      <td>16</td>\n",
              "      <td>260</td>\n",
              "      <td>83</td>\n",
              "      <td>Good</td>\n",
              "      <td>65</td>\n",
              "      <td>10</td>\n",
              "      <td>Yes</td>\n",
              "      <td>Yes</td>\n",
              "    </tr>\n",
              "    <tr>\n",
              "      <th>2</th>\n",
              "      <td>10.06</td>\n",
              "      <td>113</td>\n",
              "      <td>35</td>\n",
              "      <td>10</td>\n",
              "      <td>269</td>\n",
              "      <td>80</td>\n",
              "      <td>Medium</td>\n",
              "      <td>59</td>\n",
              "      <td>12</td>\n",
              "      <td>Yes</td>\n",
              "      <td>Yes</td>\n",
              "    </tr>\n",
              "  </tbody>\n",
              "</table>\n",
              "</div>"
            ],
            "text/plain": [
              "   Sales  CompPrice  Income  Advertising  ...  Age  Education Urban   US\n",
              "0   9.50        138      73           11  ...   42         17   Yes  Yes\n",
              "1  11.22        111      48           16  ...   65         10   Yes  Yes\n",
              "2  10.06        113      35           10  ...   59         12   Yes  Yes\n",
              "\n",
              "[3 rows x 11 columns]"
            ]
          },
          "metadata": {
            "tags": []
          },
          "execution_count": 4
        }
      ]
    },
    {
      "cell_type": "markdown",
      "metadata": {
        "id": "v3M84ETc-5az"
      },
      "source": [
        "Columns:\n",
        "1. `Sales` &mdash; unit sales (in thousands) at each location.\n",
        "1. `CompPrice` Price charged by competitor at each location.\n",
        "1. `Income` &mdash; community income level (in thousands of dollars).\n",
        "1. `Advertising` &mdash; local advertising budget for company at each location (in thousands of dollars).\n",
        "1. `Population` &mdash; population size in region (in thousands).\n",
        "1. `Price` &mdash; price company charges for car seats at each site.\n",
        "1. `ShelveLoc` &mdash; a factor with levels Bad, Good and Medium indicating the quality of the shelving location for the car seats at each site.\n",
        "1. `Age` &mdash; average age of the local population.\n",
        "1. `Education` &mdash; education level at each location.\n",
        "1. `Urban` &mdash; a factor with levels No and Yes to indicate whether the store is in an urban or rural location.\n",
        "1. `US` &mdash; a factor with levels No and Yes to indicate whether the store is in the US or not.\n",
        "\n",
        "`ShelveLoc`, `Urban`, and `US` are categorical variables. Conversion to dummy variables is unnecessary."
      ]
    },
    {
      "cell_type": "code",
      "metadata": {
        "id": "2WyGRwj6_iyj"
      },
      "source": [
        "x = pd.get_dummies(carseats.drop('Sales', axis='columns'), drop_first=True)\n",
        "y = carseats.Sales"
      ],
      "execution_count": 11,
      "outputs": []
    },
    {
      "cell_type": "markdown",
      "metadata": {
        "id": "TLR7kKnjzVd7"
      },
      "source": [
        "# (a)"
      ]
    },
    {
      "cell_type": "markdown",
      "metadata": {
        "id": "alZYe8g9zXZN"
      },
      "source": [
        "From the textbook, p. 333:\n",
        "> Split the data set into a training set and a test set."
      ]
    },
    {
      "cell_type": "code",
      "metadata": {
        "id": "e2xb6HwyzYaA"
      },
      "source": [
        "x_train, x_test, y_train, y_test = train_test_split(x, y)"
      ],
      "execution_count": 12,
      "outputs": []
    },
    {
      "cell_type": "markdown",
      "metadata": {
        "id": "27ySfz_rzZtf"
      },
      "source": [
        "# (b)"
      ]
    },
    {
      "cell_type": "markdown",
      "metadata": {
        "id": "Vz-SNK5jzbZn"
      },
      "source": [
        "From the textbook, p. 333:\n",
        "> Fit a regression tree to the training set. Plot the tree, and interpret the results. What test MSE do you obtain?"
      ]
    },
    {
      "cell_type": "code",
      "metadata": {
        "id": "R78-OgEAzcKS",
        "colab": {
          "base_uri": "https://localhost:8080/"
        },
        "outputId": "d0f81b98-5e55-48d2-8557-4e5542bcc2e9"
      },
      "source": [
        "model_b = DecisionTreeRegressor()\n",
        "model_b.fit(x_train, y_train)\n",
        "y_pred = model_b.predict(x_test)\n",
        "mse_b = ((y_test - y_pred)**2).mean()\n",
        "print(f'MSE = {mse_b}\\nmax_depth = {model_b.tree_.max_depth}')"
      ],
      "execution_count": 29,
      "outputs": [
        {
          "output_type": "stream",
          "text": [
            "MSE = 5.228434\n",
            "max_depth = 19\n"
          ],
          "name": "stdout"
        }
      ]
    },
    {
      "cell_type": "markdown",
      "metadata": {
        "id": "dS4zcIqgzdRA"
      },
      "source": [
        "# (c)"
      ]
    },
    {
      "cell_type": "markdown",
      "metadata": {
        "id": "Tb2Vgdkrze6n"
      },
      "source": [
        "From the textbook, p. 333:\n",
        "> Use cross-validation in order to determine the optimal level of tree complexity. Does pruning the tree improve the test MSE?"
      ]
    },
    {
      "cell_type": "code",
      "metadata": {
        "id": "t-YwcFXazhuE",
        "colab": {
          "base_uri": "https://localhost:8080/"
        },
        "outputId": "751f7a88-ff4d-40a1-de31-eab6af4cac26"
      },
      "source": [
        "parameters = {'max_depth' : np.arange(1, 100)}\n",
        "model_c = GridSearchCV(DecisionTreeRegressor(), parameters)\n",
        "model_c.fit(x_train, y_train)\n",
        "y_pred = model_c.predict(x_test)\n",
        "mse_c = ((y_test - y_pred)**2).mean()\n",
        "print(mse_c)\n",
        "model_c.best_params_"
      ],
      "execution_count": 26,
      "outputs": [
        {
          "output_type": "stream",
          "text": [
            "4.607652359859251\n"
          ],
          "name": "stdout"
        },
        {
          "output_type": "execute_result",
          "data": {
            "text/plain": [
              "{'max_depth': 8}"
            ]
          },
          "metadata": {
            "tags": []
          },
          "execution_count": 26
        }
      ]
    },
    {
      "cell_type": "markdown",
      "metadata": {
        "id": "sQwSRmYfEuHJ"
      },
      "source": [
        "It is difficult to tell whether pruning improves the test MSE: every time I re-run the above cell, it gives different results. I get both better and worse metrics. I suspect that the randomness in choosing folds is at fault. "
      ]
    },
    {
      "cell_type": "markdown",
      "metadata": {
        "id": "DLTG0H9DziFp"
      },
      "source": [
        "# (d)"
      ]
    },
    {
      "cell_type": "markdown",
      "metadata": {
        "id": "2Ox0LIqtzkhE"
      },
      "source": [
        "From the textbook, p. 333:\n",
        "> Use the bagging approach in order to analyze this data. What test MSE do you obtain? Use the `importance()` function to determine which variables are most important."
      ]
    },
    {
      "cell_type": "markdown",
      "metadata": {
        "id": "f_ll_zcyH9Iw"
      },
      "source": [
        "`BaggingRegressor` in `sklearn` is a general-purpose bagging algorithm; so it does not have `importance` attribute. I'm calculating the average manually."
      ]
    },
    {
      "cell_type": "code",
      "metadata": {
        "id": "h--XhGsmzlbU",
        "colab": {
          "base_uri": "https://localhost:8080/",
          "height": 412
        },
        "outputId": "2a099d56-38db-446e-db36-ecf5b2e44d7f"
      },
      "source": [
        "n = 20\n",
        "model_d = BaggingRegressor(DecisionTreeRegressor(), n_estimators=n)\n",
        "model_d.fit(x_train, y_train)\n",
        "y_pred = model_d.predict(x_test)\n",
        "mse_d = ((y_test - y_pred)**2).mean()\n",
        "print(f'MSE = {mse_d}')\n",
        "\n",
        "feature_importances = np.mean([\n",
        "    tree.feature_importances_ for tree in model_d.estimators_\n",
        "], axis=0)\n",
        "pd.DataFrame({'Importance' : feature_importances}\n",
        "             , index=x.columns\n",
        "             ).sort_values('Importance', ascending=False)"
      ],
      "execution_count": 49,
      "outputs": [
        {
          "output_type": "stream",
          "text": [
            "MSE = 2.8418795974999993\n"
          ],
          "name": "stdout"
        },
        {
          "output_type": "execute_result",
          "data": {
            "text/html": [
              "<div>\n",
              "<style scoped>\n",
              "    .dataframe tbody tr th:only-of-type {\n",
              "        vertical-align: middle;\n",
              "    }\n",
              "\n",
              "    .dataframe tbody tr th {\n",
              "        vertical-align: top;\n",
              "    }\n",
              "\n",
              "    .dataframe thead th {\n",
              "        text-align: right;\n",
              "    }\n",
              "</style>\n",
              "<table border=\"1\" class=\"dataframe\">\n",
              "  <thead>\n",
              "    <tr style=\"text-align: right;\">\n",
              "      <th></th>\n",
              "      <th>Importance</th>\n",
              "    </tr>\n",
              "  </thead>\n",
              "  <tbody>\n",
              "    <tr>\n",
              "      <th>ShelveLoc_Good</th>\n",
              "      <td>0.259215</td>\n",
              "    </tr>\n",
              "    <tr>\n",
              "      <th>Price</th>\n",
              "      <td>0.253496</td>\n",
              "    </tr>\n",
              "    <tr>\n",
              "      <th>Age</th>\n",
              "      <td>0.106330</td>\n",
              "    </tr>\n",
              "    <tr>\n",
              "      <th>CompPrice</th>\n",
              "      <td>0.099939</td>\n",
              "    </tr>\n",
              "    <tr>\n",
              "      <th>Advertising</th>\n",
              "      <td>0.082851</td>\n",
              "    </tr>\n",
              "    <tr>\n",
              "      <th>Income</th>\n",
              "      <td>0.066390</td>\n",
              "    </tr>\n",
              "    <tr>\n",
              "      <th>ShelveLoc_Medium</th>\n",
              "      <td>0.056888</td>\n",
              "    </tr>\n",
              "    <tr>\n",
              "      <th>Population</th>\n",
              "      <td>0.037501</td>\n",
              "    </tr>\n",
              "    <tr>\n",
              "      <th>Education</th>\n",
              "      <td>0.025865</td>\n",
              "    </tr>\n",
              "    <tr>\n",
              "      <th>US_Yes</th>\n",
              "      <td>0.006880</td>\n",
              "    </tr>\n",
              "    <tr>\n",
              "      <th>Urban_Yes</th>\n",
              "      <td>0.004646</td>\n",
              "    </tr>\n",
              "  </tbody>\n",
              "</table>\n",
              "</div>"
            ],
            "text/plain": [
              "                  Importance\n",
              "ShelveLoc_Good      0.259215\n",
              "Price               0.253496\n",
              "Age                 0.106330\n",
              "CompPrice           0.099939\n",
              "Advertising         0.082851\n",
              "Income              0.066390\n",
              "ShelveLoc_Medium    0.056888\n",
              "Population          0.037501\n",
              "Education           0.025865\n",
              "US_Yes              0.006880\n",
              "Urban_Yes           0.004646"
            ]
          },
          "metadata": {
            "tags": []
          },
          "execution_count": 49
        }
      ]
    },
    {
      "cell_type": "markdown",
      "metadata": {
        "id": "JzvaehJxKD9_"
      },
      "source": [
        "The importances vary with each re-run. `ShelveLoc_Good` and `Price` compete for the first place."
      ]
    },
    {
      "cell_type": "markdown",
      "metadata": {
        "id": "mH_Fq1HrzmHT"
      },
      "source": [
        "# (e)"
      ]
    },
    {
      "cell_type": "markdown",
      "metadata": {
        "id": "37xfqbzQzrix"
      },
      "source": [
        "From the textbook, p. 334:\n",
        "> Use random forests to analyze this data. What test MSE do you obtain? Use the `importance()` function to determine which variables are most important. Describe the effect of $m$, the number of variables considered at each split, on the error rate obtained."
      ]
    },
    {
      "cell_type": "code",
      "metadata": {
        "colab": {
          "base_uri": "https://localhost:8080/",
          "height": 394
        },
        "id": "1pAecUZkOs-Y",
        "outputId": "6470c6a4-4cf1-4df2-a61e-eaa600920632"
      },
      "source": [
        "model_e = RandomForestRegressor()\n",
        "model_e.fit(x_train, y_train)\n",
        "\n",
        "pd.DataFrame({'Importance' : model_e.feature_importances_}\n",
        "             , index=x.columns\n",
        "            ).sort_values('Importance', ascending=False)"
      ],
      "execution_count": 60,
      "outputs": [
        {
          "output_type": "execute_result",
          "data": {
            "text/html": [
              "<div>\n",
              "<style scoped>\n",
              "    .dataframe tbody tr th:only-of-type {\n",
              "        vertical-align: middle;\n",
              "    }\n",
              "\n",
              "    .dataframe tbody tr th {\n",
              "        vertical-align: top;\n",
              "    }\n",
              "\n",
              "    .dataframe thead th {\n",
              "        text-align: right;\n",
              "    }\n",
              "</style>\n",
              "<table border=\"1\" class=\"dataframe\">\n",
              "  <thead>\n",
              "    <tr style=\"text-align: right;\">\n",
              "      <th></th>\n",
              "      <th>Importance</th>\n",
              "    </tr>\n",
              "  </thead>\n",
              "  <tbody>\n",
              "    <tr>\n",
              "      <th>Price</th>\n",
              "      <td>0.281706</td>\n",
              "    </tr>\n",
              "    <tr>\n",
              "      <th>ShelveLoc_Good</th>\n",
              "      <td>0.260531</td>\n",
              "    </tr>\n",
              "    <tr>\n",
              "      <th>CompPrice</th>\n",
              "      <td>0.107302</td>\n",
              "    </tr>\n",
              "    <tr>\n",
              "      <th>Age</th>\n",
              "      <td>0.086523</td>\n",
              "    </tr>\n",
              "    <tr>\n",
              "      <th>Advertising</th>\n",
              "      <td>0.078342</td>\n",
              "    </tr>\n",
              "    <tr>\n",
              "      <th>Income</th>\n",
              "      <td>0.058380</td>\n",
              "    </tr>\n",
              "    <tr>\n",
              "      <th>ShelveLoc_Medium</th>\n",
              "      <td>0.049710</td>\n",
              "    </tr>\n",
              "    <tr>\n",
              "      <th>Population</th>\n",
              "      <td>0.037895</td>\n",
              "    </tr>\n",
              "    <tr>\n",
              "      <th>Education</th>\n",
              "      <td>0.027795</td>\n",
              "    </tr>\n",
              "    <tr>\n",
              "      <th>US_Yes</th>\n",
              "      <td>0.006890</td>\n",
              "    </tr>\n",
              "    <tr>\n",
              "      <th>Urban_Yes</th>\n",
              "      <td>0.004925</td>\n",
              "    </tr>\n",
              "  </tbody>\n",
              "</table>\n",
              "</div>"
            ],
            "text/plain": [
              "                  Importance\n",
              "Price               0.281706\n",
              "ShelveLoc_Good      0.260531\n",
              "CompPrice           0.107302\n",
              "Age                 0.086523\n",
              "Advertising         0.078342\n",
              "Income              0.058380\n",
              "ShelveLoc_Medium    0.049710\n",
              "Population          0.037895\n",
              "Education           0.027795\n",
              "US_Yes              0.006890\n",
              "Urban_Yes           0.004925"
            ]
          },
          "metadata": {
            "tags": []
          },
          "execution_count": 60
        }
      ]
    },
    {
      "cell_type": "markdown",
      "metadata": {
        "id": "d58Ezat1O9Op"
      },
      "source": [
        "This time, `Price` is reliably higher in importance than `ShelveLoc_Good`."
      ]
    },
    {
      "cell_type": "code",
      "metadata": {
        "id": "ANHdKSmiyE1e",
        "colab": {
          "base_uri": "https://localhost:8080/"
        },
        "outputId": "79cd59b8-1961-4940-d53b-a847fcb98fc2"
      },
      "source": [
        "p = x_train.shape[1]\n",
        "for m in [1, 2, round(np.sqrt(p)), p//2, p]:\n",
        "  model_e2 = RandomForestRegressor(max_features=m)\n",
        "  model_e2.fit(x_train, y_train)\n",
        "  y_pred = model_e.predict(x_test)\n",
        "  mse_e2 = ((y_test - y_pred)**2).mean()\n",
        "  print(mse_e2)"
      ],
      "execution_count": 55,
      "outputs": [
        {
          "output_type": "stream",
          "text": [
            "4.720805975599999\n",
            "4.091199948800002\n",
            "3.4343433033999973\n",
            "2.8992118589999993\n",
            "2.602508439799999\n"
          ],
          "name": "stdout"
        }
      ]
    },
    {
      "cell_type": "markdown",
      "metadata": {
        "id": "MZ2S9FZrPL9O"
      },
      "source": [
        "The test MSE drops with increase in the number of predictors used in the random forest."
      ]
    }
  ]
}