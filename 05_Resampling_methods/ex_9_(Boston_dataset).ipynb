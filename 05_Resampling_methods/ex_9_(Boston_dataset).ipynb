{
  "nbformat": 4,
  "nbformat_minor": 0,
  "metadata": {
    "colab": {
      "name": "05. Resampling methods, ex. 9 (Boston dataset)",
      "provenance": [],
      "authorship_tag": "ABX9TyN81GvFGWHV6vuIzH26Ts3e"
    },
    "kernelspec": {
      "name": "python3",
      "display_name": "Python 3"
    },
    "language_info": {
      "name": "python"
    }
  },
  "cells": [
    {
      "cell_type": "markdown",
      "metadata": {
        "id": "hWPA6J4uLVeL"
      },
      "source": [
        "All instructions are provided for R. I am going to reproduce them in Python as best as I can."
      ]
    },
    {
      "cell_type": "markdown",
      "metadata": {
        "id": "T3r7_JfM7M9m"
      },
      "source": [
        "# Preface"
      ]
    },
    {
      "cell_type": "markdown",
      "metadata": {
        "id": "lLDxzKhPuc49"
      },
      "source": [
        "From the textbook, p. 201:\n",
        "> We will now consider the `Boston` housing data set, from the MASS library."
      ]
    },
    {
      "cell_type": "code",
      "metadata": {
        "id": "XZeP43sXwVOv"
      },
      "source": [
        "import numpy as np\n",
        "import pandas as pd\n",
        "import scipy.stats\n",
        "from sklearn.utils import resample\n",
        "from sklearn.datasets import load_boston"
      ],
      "execution_count": 1,
      "outputs": []
    },
    {
      "cell_type": "code",
      "metadata": {
        "id": "MHzmcRIUy03z"
      },
      "source": [
        "boston = load_boston()\n",
        "# Because this exercise requires all features to be in one table,\n",
        "# loading straight from the CSV is easier.\n",
        "bostondf = pd.read_csv(boston.filename, skiprows=1)\n",
        "\n",
        "predictors = (bostondf.drop('CRIM', axis='columns')\n",
        "                      .assign(intercept=1)\n",
        ")\n",
        "target = bostondf.CRIM"
      ],
      "execution_count": 2,
      "outputs": []
    },
    {
      "cell_type": "markdown",
      "metadata": {
        "id": "5qtIs_2FwjTv"
      },
      "source": [
        "# (a)"
      ]
    },
    {
      "cell_type": "markdown",
      "metadata": {
        "id": "wBdGsjOAwkIR"
      },
      "source": [
        "From the textbook, p. 201:\n",
        "> Based on this data set, provide an estimate for the population mean of `medv`. Call this estimate $\\hat{\\mu}$."
      ]
    },
    {
      "cell_type": "code",
      "metadata": {
        "id": "5wIRCcibwnmC",
        "colab": {
          "base_uri": "https://localhost:8080/"
        },
        "outputId": "35cea545-1203-4b34-cfbd-a37a31997c61"
      },
      "source": [
        "mu = predictors.MEDV.mean()\n",
        "mu"
      ],
      "execution_count": 3,
      "outputs": [
        {
          "output_type": "execute_result",
          "data": {
            "text/plain": [
              "22.532806324110698"
            ]
          },
          "metadata": {
            "tags": []
          },
          "execution_count": 3
        }
      ]
    },
    {
      "cell_type": "markdown",
      "metadata": {
        "id": "YQTTnmgRwoFI"
      },
      "source": [
        "# (b)"
      ]
    },
    {
      "cell_type": "markdown",
      "metadata": {
        "id": "ImFLoUzBwsBr"
      },
      "source": [
        "From the textbook, p. 201:\n",
        "> Provide an estimate of the standard error of $\\hat{\\mu}$. Interpret this result.<br>*Hint: We can compute the standard error of the sample mean by dividing the sample standard deviation by the square root of the number of observations.*"
      ]
    },
    {
      "cell_type": "code",
      "metadata": {
        "id": "cuGVRSB-wwZ1",
        "colab": {
          "base_uri": "https://localhost:8080/"
        },
        "outputId": "665f7286-04c9-4d11-dce7-a44a79f52f36"
      },
      "source": [
        "predictors.MEDV.std() / np.sqrt(len(predictors.MEDV))"
      ],
      "execution_count": 4,
      "outputs": [
        {
          "output_type": "execute_result",
          "data": {
            "text/plain": [
              "0.4088611474975351"
            ]
          },
          "metadata": {
            "tags": []
          },
          "execution_count": 4
        }
      ]
    },
    {
      "cell_type": "markdown",
      "metadata": {
        "id": "5-nCoGgZwxyq"
      },
      "source": [
        "# (c)"
      ]
    },
    {
      "cell_type": "markdown",
      "metadata": {
        "id": "Ih5L54wCwysF"
      },
      "source": [
        "From the textbook, p. 201:\n",
        "> Now estimate the standard error of $\\hat{\\mu}$ using the bootstrap. How does this compare to your answer from (b)?"
      ]
    },
    {
      "cell_type": "code",
      "metadata": {
        "id": "4MxHPmCEw03T",
        "colab": {
          "base_uri": "https://localhost:8080/"
        },
        "outputId": "c79df054-ae1e-4e1c-b385-0bfb5add30a3"
      },
      "source": [
        "N_BOOTSTRAPS = 1000\n",
        "means = []\n",
        "for i in range(N_BOOTSTRAPS):\n",
        "  bootstrap_sample = resample(predictors, replace=True)\n",
        "  means.append(bootstrap_sample.MEDV.mean())\n",
        "means = np.array(means)\n",
        "se_estimate = means.std(ddof=1)\n",
        "\n",
        "print(se_estimate)"
      ],
      "execution_count": 5,
      "outputs": [
        {
          "output_type": "stream",
          "text": [
            "0.38611410242820604\n"
          ],
          "name": "stdout"
        }
      ]
    },
    {
      "cell_type": "markdown",
      "metadata": {
        "id": "ukf0_Kh6GEE5"
      },
      "source": [
        "It is quite close to the theoretical value."
      ]
    },
    {
      "cell_type": "markdown",
      "metadata": {
        "id": "V7z-jmaww1VD"
      },
      "source": [
        "# (d)"
      ]
    },
    {
      "cell_type": "markdown",
      "metadata": {
        "id": "dZPfXhJhw3lT"
      },
      "source": [
        "From the textbook, p. 201:\n",
        "> Based on your bootstrap estimate from (c), provide a 95% confidence interval for the mean of `medv`. Compare it to the results obtained using `t.test(Boston$medv)`.<br>*Hint: You can approximate a 95% confidence interval using the formula $ [\\hat{\\mu} - 2 \\text{SE}(\\mu), \\; \\hat{\\mu} + 2 \\text{SE}(\\mu)] $.*"
      ]
    },
    {
      "cell_type": "code",
      "metadata": {
        "id": "zc2Bs9oIxCKf",
        "colab": {
          "base_uri": "https://localhost:8080/"
        },
        "outputId": "728abfef-c4c1-4bb9-f4f6-09e6e9bac373"
      },
      "source": [
        "print(f'Confidence interval for the mean (bootstrap): {(mu - 2*se_estimate, mu + 2*se_estimate)}')\n",
        "\n",
        "# I could not find anything that exactly matches R's t.test() output,\n",
        "# so I reproduced the confidence interval calculation.\n",
        "confidence = 0.95\n",
        "se = scipy.stats.sem(predictors.MEDV)\n",
        "h = se * scipy.stats.t.ppf((1 + confidence) / 2., len(predictors.MEDV))\n",
        "print(f'Confidence interval for the mean (bootstrap): {(mu - h, mu + h)}')"
      ],
      "execution_count": 6,
      "outputs": [
        {
          "output_type": "stream",
          "text": [
            "Confidence interval for the mean (bootstrap): (21.760578119254287, 23.30503452896711)\n",
            "Confidence interval for the mean (bootstrap): (21.729531828250774, 23.336080819970622)\n"
          ],
          "name": "stdout"
        }
      ]
    },
    {
      "cell_type": "markdown",
      "metadata": {
        "id": "484oSvj8RI2O"
      },
      "source": [
        "They match up to the fourth digit."
      ]
    },
    {
      "cell_type": "markdown",
      "metadata": {
        "id": "Ywgi0s3-xDEQ"
      },
      "source": [
        "# (e)"
      ]
    },
    {
      "cell_type": "markdown",
      "metadata": {
        "id": "pNZFNpo4xEDa"
      },
      "source": [
        "From the textbook, p. 201:\n",
        "> Based on this data set, provide an estimate, $\\hat{\\mu}_{med}$, for the median value of `medv` in the population."
      ]
    },
    {
      "cell_type": "code",
      "metadata": {
        "id": "u6RdWdYkxL1C",
        "colab": {
          "base_uri": "https://localhost:8080/"
        },
        "outputId": "33bc760a-cf2d-41d6-a85f-db7e8c214288"
      },
      "source": [
        "predictors.MEDV.median()"
      ],
      "execution_count": 7,
      "outputs": [
        {
          "output_type": "execute_result",
          "data": {
            "text/plain": [
              "21.2"
            ]
          },
          "metadata": {
            "tags": []
          },
          "execution_count": 7
        }
      ]
    },
    {
      "cell_type": "markdown",
      "metadata": {
        "id": "HsI4ca5axMRu"
      },
      "source": [
        "# (f)"
      ]
    },
    {
      "cell_type": "markdown",
      "metadata": {
        "id": "elkEeIxbxOi8"
      },
      "source": [
        "From the textbook, p. 201:\n",
        "> We now would like to estimate the standard error of $\\hat{\\mu}_{med}$. Unfortunately, there is no simple formula for computing the standard error of the median. Instead, estimate the standard error of the median using the bootstrap. Comment on your findings."
      ]
    },
    {
      "cell_type": "code",
      "metadata": {
        "id": "ESTkeoXpxS1B",
        "colab": {
          "base_uri": "https://localhost:8080/"
        },
        "outputId": "20c6ea4c-8254-4779-9f58-943158b2cb38"
      },
      "source": [
        "N_BOOTSTRAPS = 1000\n",
        "medians = []\n",
        "for i in range(N_BOOTSTRAPS):\n",
        "  bootstrap_sample = resample(predictors, replace=True)\n",
        "  medians.append(bootstrap_sample.MEDV.median())\n",
        "medians = np.array(medians)\n",
        "se_estimate = medians.std(ddof=1)\n",
        "\n",
        "print(se_estimate)"
      ],
      "execution_count": 8,
      "outputs": [
        {
          "output_type": "stream",
          "text": [
            "0.38040908384405175\n"
          ],
          "name": "stdout"
        }
      ]
    },
    {
      "cell_type": "markdown",
      "metadata": {
        "id": "8HHgkXz7TJoC"
      },
      "source": [
        "The standard error looks quite small relative to the estimate."
      ]
    },
    {
      "cell_type": "markdown",
      "metadata": {
        "id": "fxSOhMYOxT6u"
      },
      "source": [
        "# (g)"
      ]
    },
    {
      "cell_type": "markdown",
      "metadata": {
        "id": "N8soD2maxUwZ"
      },
      "source": [
        "From the textbook, p. 201:\n",
        "> Based on this data set, provide an estimate for the tenth percentile of `medv` in Boston suburbs. Call this quantity $\\hat{\\mu}_{0.1}$. (You can use the `quantile()` function.)"
      ]
    },
    {
      "cell_type": "code",
      "metadata": {
        "id": "dtlEkNlkxXkF",
        "colab": {
          "base_uri": "https://localhost:8080/"
        },
        "outputId": "5491f3f3-290e-41f6-82bd-6a06abd961a5"
      },
      "source": [
        "predictors.MEDV.quantile(0.1)"
      ],
      "execution_count": 9,
      "outputs": [
        {
          "output_type": "execute_result",
          "data": {
            "text/plain": [
              "12.75"
            ]
          },
          "metadata": {
            "tags": []
          },
          "execution_count": 9
        }
      ]
    },
    {
      "cell_type": "markdown",
      "metadata": {
        "id": "4Kj_sF_YxZMU"
      },
      "source": [
        "# (h)"
      ]
    },
    {
      "cell_type": "markdown",
      "metadata": {
        "id": "dpfC7nF7xaw1"
      },
      "source": [
        "From the textbook, p. 201:\n",
        "> Use the bootstrap to estimate the standard error of $\\hat{\\mu}_{0.1}$. Comment on your findings."
      ]
    },
    {
      "cell_type": "code",
      "metadata": {
        "id": "lD4xxNfTuDQ4",
        "colab": {
          "base_uri": "https://localhost:8080/"
        },
        "outputId": "23d6e410-b726-418d-a078-701f3a65aaea"
      },
      "source": [
        "N_BOOTSTRAPS = 1000\n",
        "q01s = []\n",
        "for i in range(N_BOOTSTRAPS):\n",
        "  bootstrap_sample = resample(predictors, replace=True)\n",
        "  q01s.append(bootstrap_sample.MEDV.quantile(0.1))\n",
        "q01s = np.array(q01s)\n",
        "se_estimate = q01s.std(ddof=1)\n",
        "\n",
        "print(se_estimate)"
      ],
      "execution_count": 10,
      "outputs": [
        {
          "output_type": "stream",
          "text": [
            "0.4980623013801145\n"
          ],
          "name": "stdout"
        }
      ]
    },
    {
      "cell_type": "markdown",
      "metadata": {
        "id": "YR1HInGxT66b"
      },
      "source": [
        "The standard error is still relatively small. It makes 95% confidence interval of $12.75 \\pm 2$, which might be good or bad, depending on the application."
      ]
    }
  ]
}