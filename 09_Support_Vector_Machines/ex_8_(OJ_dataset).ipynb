{
  "nbformat": 4,
  "nbformat_minor": 0,
  "metadata": {
    "colab": {
      "name": "09_Support_Vector_Machines,_ex_8_(OJ_dataset).ipynb",
      "provenance": [],
      "collapsed_sections": []
    },
    "kernelspec": {
      "name": "python3",
      "display_name": "Python 3"
    },
    "language_info": {
      "name": "python"
    }
  },
  "cells": [
    {
      "cell_type": "markdown",
      "metadata": {
        "id": "hWPA6J4uLVeL"
      },
      "source": [
        "All instructions are provided for R. I am going to reproduce them in Python as best as I can."
      ]
    },
    {
      "cell_type": "markdown",
      "metadata": {
        "id": "T3r7_JfM7M9m"
      },
      "source": [
        "# Preface"
      ]
    },
    {
      "cell_type": "markdown",
      "metadata": {
        "id": "C9gricTCUKuq"
      },
      "source": [
        "From the textbook, p. 371:\n",
        "> This problem involves the `OJ` data set which is part of the ISLR\n",
        "package."
      ]
    },
    {
      "cell_type": "code",
      "metadata": {
        "id": "QrS6ZyRuO7DD"
      },
      "source": [
        "from matplotlib import pyplot as plt\n",
        "import numpy as np\n",
        "import pandas as pd\n",
        "import seaborn as sns\n",
        "from sklearn.model_selection import train_test_split, GridSearchCV\n",
        "from sklearn.preprocessing import StandardScaler\n",
        "from sklearn.svm import SVC\n",
        "\n",
        "\n",
        "sns.set()\n",
        "%matplotlib inline"
      ],
      "execution_count": 1,
      "outputs": []
    },
    {
      "cell_type": "code",
      "metadata": {
        "id": "vaOFCkfKvZyA",
        "colab": {
          "base_uri": "https://localhost:8080/",
          "height": 163
        },
        "outputId": "aec30d3f-aa2c-4ee0-f32b-48b7e65cfc1d"
      },
      "source": [
        "oj = pd.read_csv('https://raw.githubusercontent.com/dsnair/ISLR/master/data/csv/OJ.csv')\n",
        "oj = pd.get_dummies(oj, drop_first=True)\n",
        "oj.head(3)"
      ],
      "execution_count": 2,
      "outputs": [
        {
          "output_type": "execute_result",
          "data": {
            "text/html": [
              "<div>\n",
              "<style scoped>\n",
              "    .dataframe tbody tr th:only-of-type {\n",
              "        vertical-align: middle;\n",
              "    }\n",
              "\n",
              "    .dataframe tbody tr th {\n",
              "        vertical-align: top;\n",
              "    }\n",
              "\n",
              "    .dataframe thead th {\n",
              "        text-align: right;\n",
              "    }\n",
              "</style>\n",
              "<table border=\"1\" class=\"dataframe\">\n",
              "  <thead>\n",
              "    <tr style=\"text-align: right;\">\n",
              "      <th></th>\n",
              "      <th>WeekofPurchase</th>\n",
              "      <th>StoreID</th>\n",
              "      <th>PriceCH</th>\n",
              "      <th>PriceMM</th>\n",
              "      <th>DiscCH</th>\n",
              "      <th>DiscMM</th>\n",
              "      <th>SpecialCH</th>\n",
              "      <th>SpecialMM</th>\n",
              "      <th>LoyalCH</th>\n",
              "      <th>SalePriceMM</th>\n",
              "      <th>SalePriceCH</th>\n",
              "      <th>PriceDiff</th>\n",
              "      <th>PctDiscMM</th>\n",
              "      <th>PctDiscCH</th>\n",
              "      <th>ListPriceDiff</th>\n",
              "      <th>STORE</th>\n",
              "      <th>Purchase_MM</th>\n",
              "      <th>Store7_Yes</th>\n",
              "    </tr>\n",
              "  </thead>\n",
              "  <tbody>\n",
              "    <tr>\n",
              "      <th>0</th>\n",
              "      <td>237</td>\n",
              "      <td>1</td>\n",
              "      <td>1.75</td>\n",
              "      <td>1.99</td>\n",
              "      <td>0.00</td>\n",
              "      <td>0.0</td>\n",
              "      <td>0</td>\n",
              "      <td>0</td>\n",
              "      <td>0.50</td>\n",
              "      <td>1.99</td>\n",
              "      <td>1.75</td>\n",
              "      <td>0.24</td>\n",
              "      <td>0.000000</td>\n",
              "      <td>0.000000</td>\n",
              "      <td>0.24</td>\n",
              "      <td>1</td>\n",
              "      <td>0</td>\n",
              "      <td>0</td>\n",
              "    </tr>\n",
              "    <tr>\n",
              "      <th>1</th>\n",
              "      <td>239</td>\n",
              "      <td>1</td>\n",
              "      <td>1.75</td>\n",
              "      <td>1.99</td>\n",
              "      <td>0.00</td>\n",
              "      <td>0.3</td>\n",
              "      <td>0</td>\n",
              "      <td>1</td>\n",
              "      <td>0.60</td>\n",
              "      <td>1.69</td>\n",
              "      <td>1.75</td>\n",
              "      <td>-0.06</td>\n",
              "      <td>0.150754</td>\n",
              "      <td>0.000000</td>\n",
              "      <td>0.24</td>\n",
              "      <td>1</td>\n",
              "      <td>0</td>\n",
              "      <td>0</td>\n",
              "    </tr>\n",
              "    <tr>\n",
              "      <th>2</th>\n",
              "      <td>245</td>\n",
              "      <td>1</td>\n",
              "      <td>1.86</td>\n",
              "      <td>2.09</td>\n",
              "      <td>0.17</td>\n",
              "      <td>0.0</td>\n",
              "      <td>0</td>\n",
              "      <td>0</td>\n",
              "      <td>0.68</td>\n",
              "      <td>2.09</td>\n",
              "      <td>1.69</td>\n",
              "      <td>0.40</td>\n",
              "      <td>0.000000</td>\n",
              "      <td>0.091398</td>\n",
              "      <td>0.23</td>\n",
              "      <td>1</td>\n",
              "      <td>0</td>\n",
              "      <td>0</td>\n",
              "    </tr>\n",
              "  </tbody>\n",
              "</table>\n",
              "</div>"
            ],
            "text/plain": [
              "   WeekofPurchase  StoreID  PriceCH  ...  STORE  Purchase_MM  Store7_Yes\n",
              "0             237        1     1.75  ...      1            0           0\n",
              "1             239        1     1.75  ...      1            0           0\n",
              "2             245        1     1.86  ...      1            0           0\n",
              "\n",
              "[3 rows x 18 columns]"
            ]
          },
          "metadata": {
            "tags": []
          },
          "execution_count": 2
        }
      ]
    },
    {
      "cell_type": "markdown",
      "metadata": {
        "id": "o0oo9rdQveiB"
      },
      "source": [
        "Columns:\n",
        "* `Purchase` &mdash; a factor with levels CH and MM indicating whether the customer purchased Citrus Hill or Minute Maid Orange Juice;\n",
        "* `WeekofPurchase` &mdash; week of purchase;\n",
        "* `StoreID` &mdash; store ID;\n",
        "* `PriceCH` &mdash; price charged for CH;\n",
        "* `PriceMM` &mdash; price charged for MM;\n",
        "* `DiscCH` &mdash; discount offered for CH;\n",
        "* `DiscMM` &mdash; discount offered for MM;\n",
        "* `SpecialCH` &mdash; indicator of special on CH;\n",
        "* `SpecialMM` &mdash; indicator of special on MM;\n",
        "* `LoyalCH` &mdash; customer brand loyalty for CH;\n",
        "* `SalePriceMM` &mdash; sale price for MM;\n",
        "* `SalePriceCH` &mdash; sale price for CH;\n",
        "* `PriceDiff` &mdash; sale price of MM less sale price of CH;\n",
        "* `Store7` &mdash; a factor with levels No and Yes indicating whether the sale is at Store 7;\n",
        "* `PctDiscMM` &mdash; percentage discount for MM;\n",
        "* `PctDiscCH` &mdash; percentage discount for CH;\n",
        "* `ListPriceDiff` &mdash; list price of MM less list price of CH;\n",
        "* `STORE` &mdash; which of 5 possible stores the sale occured at."
      ]
    },
    {
      "cell_type": "markdown",
      "metadata": {
        "id": "M5VMsrEAhg5R"
      },
      "source": [
        "# (a)"
      ]
    },
    {
      "cell_type": "markdown",
      "metadata": {
        "id": "LoC6b_-jhihZ"
      },
      "source": [
        "From the textbook, p. 372:\n",
        "> Create a training set containing a random sample of 800 observations, and a test set containing the remaining observations."
      ]
    },
    {
      "cell_type": "code",
      "metadata": {
        "id": "VPEgY3t8hjN7"
      },
      "source": [
        "x = oj.drop('Purchase_MM', axis='columns')\n",
        "x = StandardScaler().fit_transform(x)\n",
        "y = oj.Purchase_MM\n",
        "np.random.seed(2)\n",
        "x_train, x_test, y_train, y_test = train_test_split(x, y, train_size=800)"
      ],
      "execution_count": 3,
      "outputs": []
    },
    {
      "cell_type": "markdown",
      "metadata": {
        "id": "-Ufh_jF9hkl9"
      },
      "source": [
        "# (b)"
      ]
    },
    {
      "cell_type": "markdown",
      "metadata": {
        "id": "O5GUtsxHhm5W"
      },
      "source": [
        "From the textbook, p. 372:\n",
        "> Fit a support vector classifier to the training data using `cost=0.01`, with `Purchase` as the response and the other variables as predictors. Use the `summary()` function to produce summary statistics, and describe the results obtained."
      ]
    },
    {
      "cell_type": "code",
      "metadata": {
        "id": "ON7Mo0LrhnfT",
        "colab": {
          "base_uri": "https://localhost:8080/"
        },
        "outputId": "9822a1e3-53d6-4fd6-e9d6-665b7cec21a0"
      },
      "source": [
        "def svm_fit_summary(x, y, **kwargs):\n",
        "  svm_model = SVC(**kwargs)\n",
        "  svm_model.fit(x, y)\n",
        "  print(\n",
        "    f'Parameters:\\n'\n",
        "    + f'   SVM-Type:  C-classification\\n'\n",
        "    + f' SVM-Kernel:  {kwargs[\"kernel\"]}\\n'\n",
        "    + f'       cost:  {kwargs[\"C\"]}\\n\\n'\n",
        "    + f'Number of Support Vectors: {len(svm_model.support_)}\\n'\n",
        "    + f'{svm_model.support_}\\n\\n'\n",
        "    + f'Number of Classes:  {len(y.unique())}\\n\\n'\n",
        "    + f'Levels:\\n' \n",
        "    + f'{y.unique()}'\n",
        "  )\n",
        "  return svm_model\n",
        "\n",
        "svm_linear = svm_fit_summary(x_train, y_train, kernel='linear', C=0.01)"
      ],
      "execution_count": 4,
      "outputs": [
        {
          "output_type": "stream",
          "text": [
            "Parameters:\n",
            "   SVM-Type:  C-classification\n",
            " SVM-Kernel:  linear\n",
            "       cost:  0.01\n",
            "\n",
            "Number of Support Vectors: 449\n",
            "[  3   5   7   8   9  12  15  16  19  21  23  25  30  32  35  38  46  50\n",
            "  53  57  65  67  73  76  81  85  89  90  91  93  97 100 102 104 106 107\n",
            " 110 111 112 116 119 121 126 127 138 139 143 144 149 152 155 156 163 165\n",
            " 166 168 186 187 188 189 198 204 208 212 217 219 221 222 226 227 231 238\n",
            " 241 247 250 251 267 269 273 274 276 278 285 287 290 294 297 310 318 324\n",
            " 325 326 328 330 331 335 338 340 349 350 362 364 367 369 371 375 376 385\n",
            " 387 399 403 405 407 416 417 421 424 425 429 439 442 445 453 454 459 461\n",
            " 463 464 466 474 479 483 484 489 490 491 492 493 496 497 499 503 505 511\n",
            " 514 518 528 532 538 539 547 548 550 553 556 557 560 567 568 578 579 582\n",
            " 583 584 589 590 595 599 603 606 607 608 611 618 620 628 633 636 637 643\n",
            " 647 648 654 660 664 669 671 672 673 678 679 682 686 692 695 696 701 702\n",
            " 705 706 710 712 713 719 720 722 723 727 731 733 736 745 746 754 758 759\n",
            " 763 771 773 777 779 791 794 798 799   2   4  18  20  28  29  40  41  45\n",
            "  48  55  56  60  61  64  66  69  71  78  88  92  96 101 115 117 123 124\n",
            " 125 128 130 133 135 136 140 142 145 150 151 162 164 169 173 174 176 179\n",
            " 180 190 191 194 199 201 203 205 206 209 216 218 224 225 229 235 239 243\n",
            " 244 245 246 248 258 262 264 265 277 282 283 288 293 295 296 299 301 305\n",
            " 306 307 309 311 313 316 317 320 323 327 332 334 336 337 351 353 358 365\n",
            " 378 380 383 388 391 393 396 400 401 404 406 410 413 414 415 418 420 422\n",
            " 423 426 427 428 433 436 438 441 443 444 446 447 450 452 457 460 462 465\n",
            " 467 468 472 473 475 477 481 482 487 494 500 504 506 507 509 520 525 530\n",
            " 533 534 535 541 549 558 561 563 566 570 572 574 581 586 588 592 596 600\n",
            " 604 612 613 615 617 624 625 627 634 635 639 640 642 653 656 658 661 666\n",
            " 668 681 691 693 699 700 708 721 725 729 734 741 742 747 750 751 753 757\n",
            " 760 761 762 764 765 766 768 770 774 783 784 786 788 789 793 795 797]\n",
            "\n",
            "Number of Classes:  2\n",
            "\n",
            "Levels:\n",
            "[0 1]\n"
          ],
          "name": "stdout"
        }
      ]
    },
    {
      "cell_type": "markdown",
      "metadata": {
        "id": "OgnEdy0fho-y"
      },
      "source": [
        "# (c)"
      ]
    },
    {
      "cell_type": "markdown",
      "metadata": {
        "id": "mQgKPqORhrF8"
      },
      "source": [
        "From the textbook, p. 372:\n",
        "> What are the training and test error rates?"
      ]
    },
    {
      "cell_type": "code",
      "metadata": {
        "id": "x7LU0fH1hsMt",
        "colab": {
          "base_uri": "https://localhost:8080/"
        },
        "outputId": "af76140b-22a8-49fd-e8bd-51bb139b0782"
      },
      "source": [
        "print(f'Train error rate: {1 - svm_linear.score(x_train, y_train):.3f}\\n'\n",
        "      f'Test error rate: {1 - svm_linear.score(x_test, y_test):.3f}'\n",
        ")"
      ],
      "execution_count": 5,
      "outputs": [
        {
          "output_type": "stream",
          "text": [
            "Train error rate: 0.179\n",
            "Test error rate: 0.137\n"
          ],
          "name": "stdout"
        }
      ]
    },
    {
      "cell_type": "markdown",
      "metadata": {
        "id": "53dU8JjRUZpz"
      },
      "source": [
        "This is weird, but the test error rate is lower. Lucky split, I guess."
      ]
    },
    {
      "cell_type": "markdown",
      "metadata": {
        "id": "uUXAbv18htXO"
      },
      "source": [
        "# (d)"
      ]
    },
    {
      "cell_type": "markdown",
      "metadata": {
        "id": "-jHLs9MphvGk"
      },
      "source": [
        "From the textbook, p. 372:\n",
        "> Use the `tune()` function to select an optimal cost. Consider values in the range 0.01 to 10."
      ]
    },
    {
      "cell_type": "markdown",
      "metadata": {
        "id": "GLpU95Js-kWy"
      },
      "source": [
        "I am using `GridSearchCV` from `sklearn`."
      ]
    },
    {
      "cell_type": "code",
      "metadata": {
        "id": "-ZMFg4Ezhw0R",
        "colab": {
          "base_uri": "https://localhost:8080/"
        },
        "outputId": "f9a1bd03-b6ac-4ff5-8623-ec41a92f634e"
      },
      "source": [
        "parameters = {'C' : np.linspace(0.01, 10, 1000)}\n",
        "model = SVC(kernel='linear')\n",
        "cv_model_linear = GridSearchCV(model, parameters)\n",
        "cv_model_linear.fit(x_train, y_train)\n",
        "cv_model_linear.best_params_"
      ],
      "execution_count": 6,
      "outputs": [
        {
          "output_type": "execute_result",
          "data": {
            "text/plain": [
              "{'C': 5.16}"
            ]
          },
          "metadata": {
            "tags": []
          },
          "execution_count": 6
        }
      ]
    },
    {
      "cell_type": "markdown",
      "metadata": {
        "id": "ZawWqOPqhyVz"
      },
      "source": [
        "# (e)"
      ]
    },
    {
      "cell_type": "markdown",
      "metadata": {
        "id": "bCnfPaRthzlR"
      },
      "source": [
        "From the textbook, p. 372:\n",
        "> Compute the training and test error rates using this new value for cost."
      ]
    },
    {
      "cell_type": "code",
      "metadata": {
        "id": "N-S2HMEWh0a8",
        "colab": {
          "base_uri": "https://localhost:8080/"
        },
        "outputId": "bbde3595-b1d2-4642-abcf-2de2ff8b0a24"
      },
      "source": [
        "print(\n",
        "  f'Training error: {1 - cv_model_linear.score(x_train, y_train):.3f}\\n'\n",
        "  f'Test error : {1 - cv_model_linear.score(x_test, y_test):.3f}'\n",
        ")"
      ],
      "execution_count": 7,
      "outputs": [
        {
          "output_type": "stream",
          "text": [
            "Training error: 0.176\n",
            "Test error : 0.122\n"
          ],
          "name": "stdout"
        }
      ]
    },
    {
      "cell_type": "markdown",
      "metadata": {
        "id": "EBI-nwi8h5Ys"
      },
      "source": [
        "# (f)"
      ]
    },
    {
      "cell_type": "markdown",
      "metadata": {
        "id": "sVlq70jdh7xT"
      },
      "source": [
        "From the textbook, p. 372:\n",
        "> Repeat parts (b) through (e) using a support vector machine with a radial kernel. Use the default value for gamma."
      ]
    },
    {
      "cell_type": "markdown",
      "metadata": {
        "id": "y_anVRS5Bfld"
      },
      "source": [
        "The default value of gamma in sklearn's SVC is `1 / (n_features * X.var())`."
      ]
    },
    {
      "cell_type": "code",
      "metadata": {
        "id": "kTDid80Xh9Ib",
        "colab": {
          "base_uri": "https://localhost:8080/"
        },
        "outputId": "fc4b3024-2e82-4fc0-a59a-09db72db0989"
      },
      "source": [
        "# (b)\n",
        "svm_rbf = svm_fit_summary(x_train, y_train, C=0.01, kernel='rbf')"
      ],
      "execution_count": 8,
      "outputs": [
        {
          "output_type": "stream",
          "text": [
            "Parameters:\n",
            "   SVM-Type:  C-classification\n",
            " SVM-Kernel:  rbf\n",
            "       cost:  0.01\n",
            "\n",
            "Number of Support Vectors: 633\n",
            "[  3   5   6   7   8   9  10  12  14  15  16  19  21  23  25  27  30  32\n",
            "  35  38  44  46  50  51  53  57  65  67  73  76  79  80  81  82  85  89\n",
            "  90  91  93  94  97  98 100 102 104 106 107 110 111 112 114 116 118 119\n",
            " 121 122 126 127 132 138 139 143 144 149 152 155 156 163 165 166 168 178\n",
            " 184 186 187 188 189 197 198 204 208 211 212 213 217 219 221 222 226 227\n",
            " 231 238 240 241 247 249 250 251 256 259 266 267 269 273 274 276 278 279\n",
            " 285 287 289 290 294 297 298 303 310 312 318 322 324 325 326 328 329 330\n",
            " 331 335 338 340 344 349 350 355 356 362 363 364 367 368 369 371 375 376\n",
            " 379 381 384 385 386 387 399 403 405 407 408 412 416 417 419 421 424 425\n",
            " 429 431 432 434 437 439 442 445 453 454 455 456 459 461 463 464 466 474\n",
            " 479 483 484 485 486 489 490 491 492 493 496 497 499 503 505 511 514 515\n",
            " 518 519 528 531 532 536 538 539 545 547 548 550 551 553 556 557 560 567\n",
            " 568 569 578 579 580 582 583 584 585 587 589 590 594 595 598 599 603 606\n",
            " 607 608 609 611 616 618 619 620 621 628 633 636 637 643 645 646 647 648\n",
            " 654 655 660 663 664 665 667 669 671 672 673 677 678 679 680 682 684 685\n",
            " 686 689 690 692 695 696 701 702 705 706 710 712 713 715 717 719 720 722\n",
            " 723 727 728 730 731 733 735 736 738 744 745 746 748 754 756 758 759 763\n",
            " 771 773 775 777 778 779 780 781 791 794 798 799   2   4  11  18  20  24\n",
            "  28  29  31  33  34  40  41  42  43  45  48  55  56  60  61  62  64  66\n",
            "  69  70  71  74  75  78  84  86  88  92  96 101 103 108 113 115 117 123\n",
            " 124 125 128 130 131 133 135 136 140 142 145 147 150 151 153 158 159 160\n",
            " 162 164 167 169 172 173 174 176 179 180 183 190 191 194 196 199 200 201\n",
            " 203 205 206 207 209 216 218 220 223 224 225 228 229 232 233 234 235 237\n",
            " 239 242 243 244 245 246 248 252 255 258 260 261 262 264 265 268 272 275\n",
            " 277 282 283 288 292 293 295 296 299 301 304 305 306 307 309 311 313 316\n",
            " 317 320 323 327 332 334 336 337 342 346 347 348 351 352 353 358 365 370\n",
            " 378 380 383 388 391 393 394 395 396 400 401 404 406 409 410 411 413 414\n",
            " 415 418 420 422 423 426 427 428 433 435 436 438 441 443 444 446 447 450\n",
            " 452 457 460 462 465 467 468 471 472 473 475 477 478 481 482 487 488 494\n",
            " 495 498 500 502 504 506 507 508 509 513 517 520 523 525 530 533 534 535\n",
            " 541 546 549 554 558 561 563 566 570 572 573 574 575 577 581 586 588 592\n",
            " 593 596 600 601 602 604 612 613 614 615 617 623 624 625 626 627 629 632\n",
            " 634 635 639 640 642 652 653 656 657 658 661 662 666 668 681 691 693 697\n",
            " 699 700 708 711 714 721 725 726 729 734 741 742 743 747 749 750 751 753\n",
            " 757 760 761 762 764 765 766 768 770 774 782 783 784 786 787 788 789 790\n",
            " 793 795 797]\n",
            "\n",
            "Number of Classes:  2\n",
            "\n",
            "Levels:\n",
            "[0 1]\n"
          ],
          "name": "stdout"
        }
      ]
    },
    {
      "cell_type": "code",
      "metadata": {
        "colab": {
          "base_uri": "https://localhost:8080/"
        },
        "id": "NgMSQM7rE3b4",
        "outputId": "4824e163-c3d6-42d1-d7cd-6e7b545ce2a4"
      },
      "source": [
        "# (c)\n",
        "print(f'Train error rate: {1 - svm_rbf.score(x_train, y_train):.3f}\\n'\n",
        "      f'Test error rate: {1 - svm_rbf.score(x_test, y_test):.3f}'\n",
        ")"
      ],
      "execution_count": 9,
      "outputs": [
        {
          "output_type": "stream",
          "text": [
            "Train error rate: 0.394\n",
            "Test error rate: 0.378\n"
          ],
          "name": "stdout"
        }
      ]
    },
    {
      "cell_type": "code",
      "metadata": {
        "colab": {
          "base_uri": "https://localhost:8080/"
        },
        "id": "rBNXYFdEFONY",
        "outputId": "e0ee8300-c196-4b9a-d646-4a116a65f85c"
      },
      "source": [
        "# (d)\n",
        "model = SVC(kernel='rbf')\n",
        "cv_model_rbf = GridSearchCV(model, parameters)\n",
        "cv_model_rbf.fit(x_train, y_train)\n",
        "cv_model_rbf.best_params_"
      ],
      "execution_count": 10,
      "outputs": [
        {
          "output_type": "execute_result",
          "data": {
            "text/plain": [
              "{'C': 0.25}"
            ]
          },
          "metadata": {
            "tags": []
          },
          "execution_count": 10
        }
      ]
    },
    {
      "cell_type": "code",
      "metadata": {
        "colab": {
          "base_uri": "https://localhost:8080/"
        },
        "id": "nezvse1MFiLV",
        "outputId": "0988d203-36da-4bf2-c0af-12b36175457c"
      },
      "source": [
        "# (e)\n",
        "print(\n",
        "  f'Training error: {1 - cv_model_rbf.score(x_train, y_train):.3f}\\n'\n",
        "  f'Test error : {1 - cv_model_rbf.score(x_test, y_test):.3f}'\n",
        ")"
      ],
      "execution_count": 11,
      "outputs": [
        {
          "output_type": "stream",
          "text": [
            "Training error: 0.159\n",
            "Test error : 0.144\n"
          ],
          "name": "stdout"
        }
      ]
    },
    {
      "cell_type": "markdown",
      "metadata": {
        "id": "gebRCHDQh-j7"
      },
      "source": [
        "# (g)"
      ]
    },
    {
      "cell_type": "markdown",
      "metadata": {
        "id": "vgbh4iCBiAb4"
      },
      "source": [
        "From the textbook, p. 372:\n",
        "> Repeat parts (b) through (e) using a support vector machine with a polynomial kernel. Set `degree=2`."
      ]
    },
    {
      "cell_type": "code",
      "metadata": {
        "id": "6SJbGKlriBQh",
        "colab": {
          "base_uri": "https://localhost:8080/"
        },
        "outputId": "dae67df3-11ae-4420-e81a-d5f430de098c"
      },
      "source": [
        "# (b)\n",
        "svm_poly = svm_fit_summary(x_train, y_train, C=0.01, kernel='poly', degree=2)"
      ],
      "execution_count": 12,
      "outputs": [
        {
          "output_type": "stream",
          "text": [
            "Parameters:\n",
            "   SVM-Type:  C-classification\n",
            " SVM-Kernel:  poly\n",
            "       cost:  0.01\n",
            "\n",
            "Number of Support Vectors: 634\n",
            "[  0   3   5   6   8   9  10  12  15  16  17  19  21  22  23  27  30  35\n",
            "  36  38  39  44  46  47  49  51  53  54  57  58  59  65  67  68  73  76\n",
            "  80  82  83  85  87  89  90  93  94  97 100 102 104 105 110 111 112 114\n",
            " 118 122 126 127 132 137 138 141 143 144 149 154 155 156 161 163 165 166\n",
            " 170 177 178 181 182 184 185 187 188 189 193 195 198 204 212 213 214 217\n",
            " 219 221 222 227 231 236 241 247 249 250 251 253 256 273 274 276 278 279\n",
            " 280 281 285 287 289 290 291 294 297 300 302 308 310 314 315 319 322 324\n",
            " 329 330 331 335 338 339 340 343 344 349 350 354 359 360 361 362 367 368\n",
            " 371 372 375 376 381 384 385 386 387 390 392 399 402 405 407 412 416 417\n",
            " 419 424 425 429 430 432 434 437 439 445 451 453 454 455 458 459 463 466\n",
            " 469 470 474 479 484 485 491 493 496 497 499 503 505 510 511 512 514 518\n",
            " 519 526 527 528 529 531 532 536 538 539 543 544 545 548 550 551 552 553\n",
            " 555 556 557 559 560 564 565 567 568 571 576 578 582 587 589 590 591 594\n",
            " 595 597 598 599 603 605 609 610 611 616 618 619 621 622 628 631 633 636\n",
            " 637 638 641 643 644 645 646 647 650 651 654 655 660 665 669 671 672 673\n",
            " 674 675 676 677 679 682 684 686 687 688 689 692 694 695 701 702 705 706\n",
            " 707 709 710 712 713 716 719 720 724 727 731 733 735 736 738 745 748 752\n",
            " 754 759 763 771 773 776 777 778 781 791 792 798 799   2   4  11  18  20\n",
            "  24  28  29  31  33  34  40  41  42  43  45  48  55  56  60  61  62  64\n",
            "  66  69  70  71  74  75  78  84  86  88  92  96 101 103 108 113 115 117\n",
            " 123 124 125 128 130 131 133 135 136 140 142 145 147 150 151 153 158 159\n",
            " 160 162 164 167 169 172 173 174 176 179 180 183 190 191 194 196 199 200\n",
            " 201 203 205 206 207 209 216 218 220 223 224 225 228 229 232 233 234 235\n",
            " 237 239 242 243 244 245 246 248 252 255 258 260 261 262 264 265 268 272\n",
            " 275 277 282 283 288 292 293 295 296 299 301 304 305 306 307 309 311 313\n",
            " 316 317 320 323 327 332 334 336 337 342 346 347 348 351 352 353 358 365\n",
            " 370 378 380 383 388 391 393 394 395 396 400 401 404 406 409 410 411 413\n",
            " 414 415 418 420 422 423 426 427 428 433 435 436 438 441 443 444 446 447\n",
            " 450 452 457 460 462 465 467 468 471 472 473 475 477 478 481 482 487 488\n",
            " 494 495 498 500 502 504 506 507 508 509 513 517 520 523 525 530 533 534\n",
            " 535 541 546 549 554 558 561 563 566 570 572 573 574 575 577 581 586 588\n",
            " 592 593 596 600 601 602 604 612 613 614 615 617 623 624 625 626 627 629\n",
            " 632 634 635 639 640 642 652 653 656 657 658 661 662 666 668 681 691 693\n",
            " 697 699 700 708 711 714 721 725 726 729 734 741 742 743 747 749 750 751\n",
            " 753 757 760 761 762 764 765 766 768 770 774 782 783 784 786 787 788 789\n",
            " 790 793 795 797]\n",
            "\n",
            "Number of Classes:  2\n",
            "\n",
            "Levels:\n",
            "[0 1]\n"
          ],
          "name": "stdout"
        }
      ]
    },
    {
      "cell_type": "code",
      "metadata": {
        "colab": {
          "base_uri": "https://localhost:8080/"
        },
        "id": "7IIMlCciIPDg",
        "outputId": "294851e2-3b14-481d-9cbe-5660f58aee5d"
      },
      "source": [
        "# (c)\n",
        "print(f'Train error rate: {1 - svm_poly.score(x_train, y_train):.3f}\\n'\n",
        "      f'Test error rate: {1 - svm_poly.score(x_test, y_test):.3f}'\n",
        ")"
      ],
      "execution_count": 13,
      "outputs": [
        {
          "output_type": "stream",
          "text": [
            "Train error rate: 0.381\n",
            "Test error rate: 0.367\n"
          ],
          "name": "stdout"
        }
      ]
    },
    {
      "cell_type": "code",
      "metadata": {
        "colab": {
          "base_uri": "https://localhost:8080/"
        },
        "id": "9SCQmxl-J2z8",
        "outputId": "baba2044-b156-474e-d9a6-293758ea4991"
      },
      "source": [
        "# (d)\n",
        "model = SVC(kernel='poly', degree=2)\n",
        "cv_model_poly = GridSearchCV(model, parameters)\n",
        "cv_model_poly.fit(x_train, y_train)\n",
        "cv_model_poly.best_params_"
      ],
      "execution_count": 14,
      "outputs": [
        {
          "output_type": "execute_result",
          "data": {
            "text/plain": [
              "{'C': 7.33}"
            ]
          },
          "metadata": {
            "tags": []
          },
          "execution_count": 14
        }
      ]
    },
    {
      "cell_type": "code",
      "metadata": {
        "colab": {
          "base_uri": "https://localhost:8080/"
        },
        "id": "jzCUfvbCKFGp",
        "outputId": "87aeee65-5a4b-4c8b-a4d1-3d3a5349e808"
      },
      "source": [
        "# (e)\n",
        "print(\n",
        "  f'Training error: {1 - cv_model_poly.score(x_train, y_train):.3f}\\n'\n",
        "  f'Test error : {1 - cv_model_poly.score(x_test, y_test):.3f}'\n",
        ")"
      ],
      "execution_count": 15,
      "outputs": [
        {
          "output_type": "stream",
          "text": [
            "Training error: 0.199\n",
            "Test error : 0.237\n"
          ],
          "name": "stdout"
        }
      ]
    },
    {
      "cell_type": "markdown",
      "metadata": {
        "id": "N7EGa69riBpM"
      },
      "source": [
        "# (h)"
      ]
    },
    {
      "cell_type": "markdown",
      "metadata": {
        "id": "-6_kExaTiE-l"
      },
      "source": [
        "From the textbook, p. 372:\n",
        "> Overall, which approach seems to give the best results on this data?"
      ]
    },
    {
      "cell_type": "code",
      "metadata": {
        "colab": {
          "base_uri": "https://localhost:8080/",
          "height": 238
        },
        "id": "z-cSoxJVNiNO",
        "outputId": "067dcc7c-9d50-476f-e6da-66ea6895e4ef"
      },
      "source": [
        "pd.DataFrame(\n",
        "  [\n",
        "   [\n",
        "    'linear'\n",
        "    , 0.01\n",
        "    , 1 - svm_linear.score(x_train, y_train)\n",
        "    , 1 - svm_linear.score(x_train, y_train)\n",
        "   ]\n",
        "   ,\n",
        "   [\n",
        "    'linear'\n",
        "    , cv_model_linear.best_params_['C']   \n",
        "    , 1 - cv_model_linear.score(x_train, y_train)\n",
        "    , 1 - cv_model_linear.score(x_test, y_test)\n",
        "   ]\n",
        "   ,\n",
        "   [\n",
        "    'rbf'\n",
        "    , 0.01\n",
        "    , 1 - svm_rbf.score(x_train, y_train)\n",
        "    , 1 - svm_rbf.score(x_train, y_train)\n",
        "   ]\n",
        "   ,\n",
        "   [\n",
        "    'rbf'\n",
        "    , cv_model_rbf.best_params_['C']   \n",
        "    , 1 - cv_model_rbf.score(x_train, y_train)\n",
        "    , 1 - cv_model_rbf.score(x_test, y_test)\n",
        "   ]\n",
        "   ,\n",
        "   [\n",
        "    'poly'\n",
        "    , 0.01\n",
        "    , 1 - svm_poly.score(x_train, y_train)\n",
        "    , 1 - svm_poly.score(x_train, y_train)\n",
        "   ]\n",
        "   ,\n",
        "   [\n",
        "    'poly'\n",
        "    , cv_model_poly.best_params_['C']   \n",
        "    , 1 - cv_model_poly.score(x_train, y_train)\n",
        "    , 1 - cv_model_poly.score(x_test, y_test)\n",
        "   ]\n",
        "  ]\n",
        "  , index=[\n",
        "           'Linear, default'\n",
        "           , 'Linear, CV'\n",
        "           , 'RBF, default'\n",
        "           , 'RBF, CV'\n",
        "           , 'Polynomial, default'\n",
        "           , 'Polynomial, CV'\n",
        "          ]\n",
        "  , columns=[\n",
        "             'kernel'\n",
        "             , 'C'\n",
        "             , 'train_err'\n",
        "             , 'test_err'\n",
        "  ]\n",
        ").sort_values('test_err')"
      ],
      "execution_count": 18,
      "outputs": [
        {
          "output_type": "execute_result",
          "data": {
            "text/html": [
              "<div>\n",
              "<style scoped>\n",
              "    .dataframe tbody tr th:only-of-type {\n",
              "        vertical-align: middle;\n",
              "    }\n",
              "\n",
              "    .dataframe tbody tr th {\n",
              "        vertical-align: top;\n",
              "    }\n",
              "\n",
              "    .dataframe thead th {\n",
              "        text-align: right;\n",
              "    }\n",
              "</style>\n",
              "<table border=\"1\" class=\"dataframe\">\n",
              "  <thead>\n",
              "    <tr style=\"text-align: right;\">\n",
              "      <th></th>\n",
              "      <th>kernel</th>\n",
              "      <th>C</th>\n",
              "      <th>train_err</th>\n",
              "      <th>test_err</th>\n",
              "    </tr>\n",
              "  </thead>\n",
              "  <tbody>\n",
              "    <tr>\n",
              "      <th>Linear, CV</th>\n",
              "      <td>linear</td>\n",
              "      <td>5.16</td>\n",
              "      <td>0.17625</td>\n",
              "      <td>0.122222</td>\n",
              "    </tr>\n",
              "    <tr>\n",
              "      <th>RBF, CV</th>\n",
              "      <td>rbf</td>\n",
              "      <td>0.25</td>\n",
              "      <td>0.15875</td>\n",
              "      <td>0.144444</td>\n",
              "    </tr>\n",
              "    <tr>\n",
              "      <th>Linear, default</th>\n",
              "      <td>linear</td>\n",
              "      <td>0.01</td>\n",
              "      <td>0.17875</td>\n",
              "      <td>0.178750</td>\n",
              "    </tr>\n",
              "    <tr>\n",
              "      <th>Polynomial, CV</th>\n",
              "      <td>poly</td>\n",
              "      <td>7.33</td>\n",
              "      <td>0.19875</td>\n",
              "      <td>0.237037</td>\n",
              "    </tr>\n",
              "    <tr>\n",
              "      <th>Polynomial, default</th>\n",
              "      <td>poly</td>\n",
              "      <td>0.01</td>\n",
              "      <td>0.38125</td>\n",
              "      <td>0.381250</td>\n",
              "    </tr>\n",
              "    <tr>\n",
              "      <th>RBF, default</th>\n",
              "      <td>rbf</td>\n",
              "      <td>0.01</td>\n",
              "      <td>0.39375</td>\n",
              "      <td>0.393750</td>\n",
              "    </tr>\n",
              "  </tbody>\n",
              "</table>\n",
              "</div>"
            ],
            "text/plain": [
              "                     kernel     C  train_err  test_err\n",
              "Linear, CV           linear  5.16    0.17625  0.122222\n",
              "RBF, CV                 rbf  0.25    0.15875  0.144444\n",
              "Linear, default      linear  0.01    0.17875  0.178750\n",
              "Polynomial, CV         poly  7.33    0.19875  0.237037\n",
              "Polynomial, default    poly  0.01    0.38125  0.381250\n",
              "RBF, default            rbf  0.01    0.39375  0.393750"
            ]
          },
          "metadata": {
            "tags": []
          },
          "execution_count": 18
        }
      ]
    },
    {
      "cell_type": "markdown",
      "metadata": {
        "id": "LvtmEip9S-uZ"
      },
      "source": [
        "Linear model with C chosen by cross-validation gives the best results on the test data. Perhaps the true relationship between the predictors and `Purchase` is linear."
      ]
    }
  ]
}