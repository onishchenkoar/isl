{
  "nbformat": 4,
  "nbformat_minor": 0,
  "metadata": {
    "colab": {
      "name": "09. Support Vector Machines, ex. 7 (Auto dataset)",
      "provenance": [],
      "collapsed_sections": [],
      "authorship_tag": "ABX9TyNBJRxCH8T9Dmnyo5Z/fWaA"
    },
    "kernelspec": {
      "name": "python3",
      "display_name": "Python 3"
    },
    "language_info": {
      "name": "python"
    }
  },
  "cells": [
    {
      "cell_type": "markdown",
      "metadata": {
        "id": "hWPA6J4uLVeL"
      },
      "source": [
        "All instructions are provided for R. I am going to reproduce them in Python as best as I can."
      ]
    },
    {
      "cell_type": "markdown",
      "metadata": {
        "id": "T3r7_JfM7M9m"
      },
      "source": [
        "# Preface"
      ]
    },
    {
      "cell_type": "markdown",
      "metadata": {
        "id": "EH4HlNvpUJ_E"
      },
      "source": [
        "From the textbook, p. 371:\n",
        "> In this problem, you will use support vector approaches in order to\n",
        "predict whether a given car gets high or low gas mileage based on the\n",
        "`Auto` data set."
      ]
    },
    {
      "cell_type": "code",
      "metadata": {
        "id": "D7T0y5-5O3n_"
      },
      "source": [
        "from matplotlib import pyplot as plt\n",
        "import numpy as np\n",
        "import pandas as pd\n",
        "import seaborn as sns\n",
        "from sklearn.model_selection import cross_validate, train_test_split\n",
        "from sklearn.preprocessing import StandardScaler\n",
        "from sklearn.svm import SVC\n",
        "\n",
        "\n",
        "sns.set()\n",
        "%matplotlib inline"
      ],
      "execution_count": 1,
      "outputs": []
    },
    {
      "cell_type": "code",
      "metadata": {
        "id": "-jeXiCS8g4mh",
        "colab": {
          "base_uri": "https://localhost:8080/",
          "height": 143
        },
        "outputId": "5ae2d95f-13d4-48c8-be38-759c7689f6f1"
      },
      "source": [
        "auto = pd.read_csv('https://www.statlearning.com/s/Auto.csv', index_col=0)\n",
        "auto = auto[auto != '?'].dropna().reset_index()\n",
        "auto.head(3)"
      ],
      "execution_count": 2,
      "outputs": [
        {
          "output_type": "execute_result",
          "data": {
            "text/html": [
              "<div>\n",
              "<style scoped>\n",
              "    .dataframe tbody tr th:only-of-type {\n",
              "        vertical-align: middle;\n",
              "    }\n",
              "\n",
              "    .dataframe tbody tr th {\n",
              "        vertical-align: top;\n",
              "    }\n",
              "\n",
              "    .dataframe thead th {\n",
              "        text-align: right;\n",
              "    }\n",
              "</style>\n",
              "<table border=\"1\" class=\"dataframe\">\n",
              "  <thead>\n",
              "    <tr style=\"text-align: right;\">\n",
              "      <th></th>\n",
              "      <th>mpg</th>\n",
              "      <th>cylinders</th>\n",
              "      <th>displacement</th>\n",
              "      <th>horsepower</th>\n",
              "      <th>weight</th>\n",
              "      <th>acceleration</th>\n",
              "      <th>year</th>\n",
              "      <th>origin</th>\n",
              "      <th>name</th>\n",
              "    </tr>\n",
              "  </thead>\n",
              "  <tbody>\n",
              "    <tr>\n",
              "      <th>0</th>\n",
              "      <td>18.0</td>\n",
              "      <td>8</td>\n",
              "      <td>307.0</td>\n",
              "      <td>130</td>\n",
              "      <td>3504</td>\n",
              "      <td>12.0</td>\n",
              "      <td>70</td>\n",
              "      <td>1</td>\n",
              "      <td>chevrolet chevelle malibu</td>\n",
              "    </tr>\n",
              "    <tr>\n",
              "      <th>1</th>\n",
              "      <td>15.0</td>\n",
              "      <td>8</td>\n",
              "      <td>350.0</td>\n",
              "      <td>165</td>\n",
              "      <td>3693</td>\n",
              "      <td>11.5</td>\n",
              "      <td>70</td>\n",
              "      <td>1</td>\n",
              "      <td>buick skylark 320</td>\n",
              "    </tr>\n",
              "    <tr>\n",
              "      <th>2</th>\n",
              "      <td>18.0</td>\n",
              "      <td>8</td>\n",
              "      <td>318.0</td>\n",
              "      <td>150</td>\n",
              "      <td>3436</td>\n",
              "      <td>11.0</td>\n",
              "      <td>70</td>\n",
              "      <td>1</td>\n",
              "      <td>plymouth satellite</td>\n",
              "    </tr>\n",
              "  </tbody>\n",
              "</table>\n",
              "</div>"
            ],
            "text/plain": [
              "    mpg  cylinders  displacement  ... year  origin                       name\n",
              "0  18.0          8         307.0  ...   70       1  chevrolet chevelle malibu\n",
              "1  15.0          8         350.0  ...   70       1          buick skylark 320\n",
              "2  18.0          8         318.0  ...   70       1         plymouth satellite\n",
              "\n",
              "[3 rows x 9 columns]"
            ]
          },
          "metadata": {
            "tags": []
          },
          "execution_count": 2
        }
      ]
    },
    {
      "cell_type": "markdown",
      "metadata": {
        "id": "9EwUpr3-AfNr"
      },
      "source": [
        "Columns:\n",
        "1. `mpg` &mdash; miles per gallon.\n",
        "1. `cylinders` &mdash; number of cylinders between 4 and 8.\n",
        "1. `displacement` &mdash; engine displacement (cu. inches).\n",
        "1. `horsepower` &mdash; engine horsepower.\n",
        "1. `weight` &mdash; vehicle weight (lbs.).\n",
        "1. `acceleration` &mdash; time to accelerate from 0 to 60 mph (sec.).\n",
        "1. `year` &mdash; model year (modulo 100).\n",
        "1. `origin` &mdash; origin of car (1. American, 2. European, 3. Japanese)\n",
        "1. `name` &mdash; vehicle name."
      ]
    },
    {
      "cell_type": "markdown",
      "metadata": {
        "id": "DwJlYHprg0sB"
      },
      "source": [
        "# (a)"
      ]
    },
    {
      "cell_type": "markdown",
      "metadata": {
        "id": "F_LX3JB2g3nB"
      },
      "source": [
        "From the textbook, p. 371:\n",
        "> Create a binary variable that takes on a 1 for cars with gas mileage above the median, and a 0 for cars with gas mileage below the median."
      ]
    },
    {
      "cell_type": "code",
      "metadata": {
        "id": "GP4KneWeAZxn"
      },
      "source": [
        "auto['mpg_binary'] = 0\n",
        "auto.loc[auto.mpg >= auto.mpg.median(), 'mpg_binary'] = 1"
      ],
      "execution_count": 3,
      "outputs": []
    },
    {
      "cell_type": "markdown",
      "metadata": {
        "id": "3GDGtoe9g5yk"
      },
      "source": [
        "# (b)"
      ]
    },
    {
      "cell_type": "markdown",
      "metadata": {
        "id": "3HKa7P_5g8V_"
      },
      "source": [
        "From the textbook, p. 371:\n",
        "> Fit a support vector classifier to the data with various values of cost, in order to predict whether a car gets high or low gas mileage. Report the cross-validation errors associated with different values of this parameter. Comment on your results.\n",
        "\n",
        "I think, it is a good idea to scale the data before fitting SVM."
      ]
    },
    {
      "cell_type": "code",
      "metadata": {
        "id": "txT4GnDgg8-o"
      },
      "source": [
        "x = auto.drop(['mpg', 'mpg_binary', 'name'], axis='columns')\n",
        "x = StandardScaler().fit_transform(x)\n",
        "y = auto.mpg_binary\n",
        "np.random.seed(1)\n",
        "x_train, x_test, y_train, y_test = train_test_split(x, y)"
      ],
      "execution_count": 4,
      "outputs": []
    },
    {
      "cell_type": "code",
      "metadata": {
        "colab": {
          "base_uri": "https://localhost:8080/"
        },
        "id": "EAaAzhAEJVXX",
        "outputId": "ac8160f0-dc5b-4b46-fab7-eab6579c06b2"
      },
      "source": [
        "c_range = np.linspace(0.01, 10, 100)\n",
        "linear_scores = []\n",
        "\n",
        "for c in c_range:\n",
        "  linear_svm = SVC(kernel='linear', C=c)\n",
        "  linear_scores.append(cross_validate(linear_svm, x_train, y_train)['test_score'].mean())\n",
        "linear_scores = np.array(linear_scores)\n",
        "best_linear_score = linear_scores.max()\n",
        "best_linear_c = c_range[linear_scores.argmax()]\n",
        "print(f'With linear kernel, the best cross-validation accuracy score is {best_linear_score:.3f}'\n",
        "      f' (with C = {best_linear_c:.3f}).'\n",
        ")"
      ],
      "execution_count": 5,
      "outputs": [
        {
          "output_type": "stream",
          "text": [
            "With linear kernel, the best cross-validation accuracy score is 0.905 (with C = 0.111).\n"
          ],
          "name": "stdout"
        }
      ]
    },
    {
      "cell_type": "markdown",
      "metadata": {
        "id": "uYFhCpjug-Wu"
      },
      "source": [
        "# (c)"
      ]
    },
    {
      "cell_type": "markdown",
      "metadata": {
        "id": "1WBtoTRahAtz"
      },
      "source": [
        "From the textbook, p. 371:\n",
        "> Now repeat (b), this time using SVMs with radial and polynomial basis kernels, with different values of gamma and degree and cost. Comment on your results."
      ]
    },
    {
      "cell_type": "code",
      "metadata": {
        "id": "a0DiLcO-hByU"
      },
      "source": [
        "degree_range = np.arange(2, 6)\n",
        "\n",
        "poly_scores = [] \n",
        "for degree in degree_range:\n",
        "  row = []\n",
        "  for c in c_range:\n",
        "    polynomial_svm = SVC(kernel='poly', C=c, degree=degree)\n",
        "    row.append(cross_validate(polynomial_svm\n",
        "                              , x_train\n",
        "                              , y_train\n",
        "                             )['test_score'].mean()\n",
        "              )\n",
        "  poly_scores.append(row)\n",
        "poly_scores = np.array(poly_scores)"
      ],
      "execution_count": 6,
      "outputs": []
    },
    {
      "cell_type": "code",
      "metadata": {
        "colab": {
          "base_uri": "https://localhost:8080/"
        },
        "id": "ZS7-dKfXRYVs",
        "outputId": "f0b6b4a8-7cb2-487c-c64d-59e18fdccfd7"
      },
      "source": [
        "idx_degree_best, idx_c_best = np.unravel_index(poly_scores.argmax(), poly_scores.shape)\n",
        "best_poly_score = poly_scores.max()\n",
        "best_poly_degree = degree_range[idx_degree_best]\n",
        "best_poly_c = c_range[idx_c_best]\n",
        "print(f'With polynomial kernel, the best cross-validation accuracy score is {best_poly_score:.3f}'\n",
        "      f' (with C = {best_poly_c:.3f} and degree = {best_poly_degree}).'\n",
        ")"
      ],
      "execution_count": 7,
      "outputs": [
        {
          "output_type": "stream",
          "text": [
            "With polynomial kernel, the best cross-validation accuracy score is 0.922 (with C = 1.221 and degree = 3).\n"
          ],
          "name": "stdout"
        }
      ]
    },
    {
      "cell_type": "code",
      "metadata": {
        "id": "L6DuDrDYO8DD"
      },
      "source": [
        "gamma_range = np.linspace(0.01, 3, 100)\n",
        "\n",
        "rbf_scores = [] \n",
        "for gamma in gamma_range:\n",
        "  row = []\n",
        "  for c in c_range:\n",
        "    rbf_svm = SVC(kernel='rbf', C=c, gamma=gamma)\n",
        "    row.append(cross_validate(rbf_svm\n",
        "                              , x_train\n",
        "                              , y_train\n",
        "                             )['test_score'].mean()\n",
        "              )\n",
        "  rbf_scores.append(row)\n",
        "rbf_scores = np.array(rbf_scores)"
      ],
      "execution_count": 8,
      "outputs": []
    },
    {
      "cell_type": "code",
      "metadata": {
        "colab": {
          "base_uri": "https://localhost:8080/"
        },
        "id": "BiOpgf_YV8Iq",
        "outputId": "883a6389-b855-406e-af74-43c2b3b3f7fb"
      },
      "source": [
        "idx_gamma_best, idx_c_best = np.unravel_index(rbf_scores.argmax(), rbf_scores.shape)\n",
        "best_rbf_score = rbf_scores.max()\n",
        "best_rbf_gamma = gamma_range[idx_gamma_best]\n",
        "best_rbf_c = c_range[idx_c_best]\n",
        "print(f'With RBF kernel, the best cross-validation accuracy score is {best_rbf_score:.3f}'\n",
        "      f' (with C = {best_rbf_c:.3f} and gamma = {best_rbf_gamma:.3f}).'\n",
        ")"
      ],
      "execution_count": 9,
      "outputs": [
        {
          "output_type": "stream",
          "text": [
            "With RBF kernel, the best cross-validation accuracy score is 0.925 (with C = 1.120 and gamma = 1.127).\n"
          ],
          "name": "stdout"
        }
      ]
    },
    {
      "cell_type": "markdown",
      "metadata": {
        "id": "vKleskByXEhW"
      },
      "source": [
        "RBF kernel wins, then polynomial, then linear."
      ]
    },
    {
      "cell_type": "markdown",
      "metadata": {
        "id": "qIpDWreThC_S"
      },
      "source": [
        "# (d)"
      ]
    },
    {
      "cell_type": "markdown",
      "metadata": {
        "id": "e4MNi8E7hF2D"
      },
      "source": [
        "From the textbook, p. 371:\n",
        "> Make some plots to back up your assertions in (b) and (c).<br><br>\n",
        "**Hint**: In the lab, we used the `plot()` function for `svm` objects only in cases with $p = 2$. When $p > 2$, you can use the `plot()` function to create plots displaying pairs of variables at a time. Essentially, instead of typing\n",
        "```\n",
        "plot(svmfit, dat)\n",
        "```\n",
        "where `svmfit` contains your fitted model and `dat` is a data frame containing your data, you can type\n",
        "```\n",
        "plot(svmfit, dat, x1∼x4)\n",
        "```\n",
        "in order to plot just the first and fourth variables. However, you must replace `x1` and `x4` with the correct variable names. To find out more, type `?plot.svm`."
      ]
    },
    {
      "cell_type": "markdown",
      "metadata": {
        "id": "MftZm_HCG4cu"
      },
      "source": [
        "For (b):"
      ]
    },
    {
      "cell_type": "code",
      "metadata": {
        "id": "IZlkDh_5ZOyL",
        "colab": {
          "base_uri": "https://localhost:8080/",
          "height": 316
        },
        "outputId": "8da98775-d834-49ab-8827-ed5753672be4"
      },
      "source": [
        "plt.figure(figsize=(15, 4))\n",
        "sns.lineplot(x=c_range, y=linear_scores)\n",
        "plt.xlabel('C')\n",
        "plt.ylabel('Cross-validation accuracy score')\n",
        "plt.title('Linear SVM cross-validation accuracy score with different values of C\\n'\n",
        "          'Best score is 0.905 with C = 0.111'\n",
        ")\n",
        "plt.show()"
      ],
      "execution_count": 10,
      "outputs": [
        {
          "output_type": "display_data",
          "data": {
            "image/png": "[encoded data removed]",
            "text/plain": [
              "<Figure size 1080x288 with 1 Axes>"
            ]
          },
          "metadata": {
            "tags": [],
            "needs_background": "light"
          }
        }
      ]
    },
    {
      "cell_type": "markdown",
      "metadata": {
        "id": "mSoY0Gp2G6kX"
      },
      "source": [
        "For (c), polynomial kernel:"
      ]
    },
    {
      "cell_type": "code",
      "metadata": {
        "colab": {
          "base_uri": "https://localhost:8080/",
          "height": 330
        },
        "id": "ldKsv2Uc3d-D",
        "outputId": "de4a62b2-0614-481b-f897-f5d0a619fd9e"
      },
      "source": [
        "plt.figure(figsize=(15, 4))\n",
        "sns.heatmap(data=pd.DataFrame(poly_scores[::-1]\n",
        "                              , index=degree_range[::-1]\n",
        "                              , columns=c_range.round(2)\n",
        "                             )\n",
        "                             .rename_axis('Degree')\n",
        "                             .rename_axis('C', axis='columns')\n",
        "           )\n",
        "plt.title('Polynomial SVM cross-validation accuracy score with different values of C and degree\\n'\n",
        "          'Best score is 0.922 with C = 1.221 and degree = 3'\n",
        ")\n",
        "plt.show()"
      ],
      "execution_count": 11,
      "outputs": [
        {
          "output_type": "display_data",
          "data": {
            "image/png": "[encoded data removed]",
            "text/plain": [
              "<Figure size 1080x288 with 2 Axes>"
            ]
          },
          "metadata": {
            "tags": [],
            "needs_background": "light"
          }
        }
      ]
    },
    {
      "cell_type": "markdown",
      "metadata": {
        "id": "cQxMC0jjBUGr"
      },
      "source": [
        "Degree 2 polynomial gives good cross-validation accuracy almost on the whole range of C."
      ]
    },
    {
      "cell_type": "markdown",
      "metadata": {
        "id": "pvguavFgG947"
      },
      "source": [
        "For (c), RBF kernel:"
      ]
    },
    {
      "cell_type": "code",
      "metadata": {
        "colab": {
          "base_uri": "https://localhost:8080/",
          "height": 648
        },
        "id": "VoHUMnr_7o7Z",
        "outputId": "00270f82-dccb-4e4c-a27c-5abc3481c45a"
      },
      "source": [
        "plt.figure(figsize=(12, 12))\n",
        "sns.heatmap(data=pd.DataFrame(rbf_scores[::-1]\n",
        "                              , index=gamma_range.round(2)[::-1]\n",
        "                              , columns=c_range.round(2)\n",
        "                             )\n",
        "                             .rename_axis('gamma')\n",
        "                             .rename_axis('C', axis='columns')\n",
        "            , vmin=0.885\n",
        "            , square=True\n",
        "            , cbar_kws={'shrink' : 0.825}\n",
        "           )\n",
        "plt.title('RBF SVM cross-validation accuracy score with different values of C and gamma\\n'\n",
        "          'Best score is 0.922 with C = 0.925 and gamma = 1.127'\n",
        ")\n",
        "plt.show()"
      ],
      "execution_count": 12,
      "outputs": [
        {
          "output_type": "display_data",
          "data": {
            "image/png": "[encoded data removed]",
            "text/plain": [
              "<Figure size 864x864 with 2 Axes>"
            ]
          },
          "metadata": {
            "tags": [],
            "needs_background": "light"
          }
        }
      ]
    },
    {
      "cell_type": "markdown",
      "metadata": {
        "id": "pPIbIOqvBqY9"
      },
      "source": [
        "I have shifted the color window to emphasize the range of accuracies from 0.885 to 0.925.\n",
        "\n",
        "The pattern is quite weak. It is impossible to say much about the plot, other than that, on this data, the RBF SVM tends to give its worst results with low C and high gamma."
      ]
    }
  ]
}
