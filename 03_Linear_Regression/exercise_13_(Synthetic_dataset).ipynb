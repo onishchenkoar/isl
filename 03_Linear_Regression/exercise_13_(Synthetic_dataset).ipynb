{
  "nbformat": 4,
  "nbformat_minor": 0,
  "metadata": {
    "colab": {
      "name": "03. Linear Regression, exercise 13 (Synthetic dataset)",
      "provenance": [],
      "authorship_tag": "ABX9TyMvddEU8lb+qhW/zIOJL1A9"
    },
    "kernelspec": {
      "name": "python3",
      "display_name": "Python 3"
    },
    "language_info": {
      "name": "python"
    }
  },
  "cells": [
    {
      "cell_type": "markdown",
      "metadata": {
        "id": "hWPA6J4uLVeL"
      },
      "source": [
        "All instructions are provided for R. I am going to reproduce them in Python as best as I can."
      ]
    },
    {
      "cell_type": "markdown",
      "metadata": {
        "id": "T3r7_JfM7M9m"
      },
      "source": [
        "# Preface"
      ]
    },
    {
      "cell_type": "markdown",
      "metadata": {
        "id": "mhNd0wOeVYRo"
      },
      "source": [
        "From the textbook, p. 124:\n",
        "> In this exercise you will create some simulated data and will fit simple linear regression models to it. Make sure to use `set.seed(1)` prior to starting part (a) to ensure consistent results."
      ]
    },
    {
      "cell_type": "code",
      "metadata": {
        "id": "H7KxjUKMSuLF",
        "colab": {
          "base_uri": "https://localhost:8080/"
        },
        "outputId": "980d3cdd-faa1-4b87-f019-3bb3b234d9ea"
      },
      "source": [
        "from matplotlib import pyplot as plt\n",
        "import numpy as np\n",
        "import pandas as pd\n",
        "import seaborn as sns\n",
        "import statsmodels.api as sm\n",
        "import statsmodels.stats.api as sms\n",
        "\n",
        "\n",
        "sns.set()\n",
        "%matplotlib inline"
      ],
      "execution_count": 1,
      "outputs": [
        {
          "output_type": "stream",
          "text": [
            "/usr/local/lib/python3.7/dist-packages/statsmodels/tools/_testing.py:19: FutureWarning: pandas.util.testing is deprecated. Use the functions in the public API at pandas.testing instead.\n",
            "  import pandas.util.testing as tm\n"
          ],
          "name": "stderr"
        }
      ]
    },
    {
      "cell_type": "markdown",
      "metadata": {
        "id": "tHzMMumZZizE"
      },
      "source": [
        "# (a)"
      ]
    },
    {
      "cell_type": "markdown",
      "metadata": {
        "id": "zOyzMcsvZkwh"
      },
      "source": [
        "From the textbook, p.124:\n",
        "> Using the `rnorm()` function, create a vector, `x` , containing 100 observations drawn from a $N(0, 1)$ distribution. This represents a feature, $X$."
      ]
    },
    {
      "cell_type": "code",
      "metadata": {
        "id": "Wo_xPIq0ZoQ0"
      },
      "source": [
        "np.random.seed(1)\n",
        "x = np.random.normal(size=100)"
      ],
      "execution_count": 2,
      "outputs": []
    },
    {
      "cell_type": "markdown",
      "metadata": {
        "id": "apcMQtOYZrRJ"
      },
      "source": [
        "# (b)"
      ]
    },
    {
      "cell_type": "markdown",
      "metadata": {
        "id": "TlSL4NDIZwYV"
      },
      "source": [
        "From the textbook, p.124:\n",
        "> Using the `rnorm()` function, create a vector, `eps` , containing 100 observations drawn from a $N (0, 0.25)$ distribution i.e. a normal distribution with mean zero and variance 0.25."
      ]
    },
    {
      "cell_type": "code",
      "metadata": {
        "id": "tF23adD4ZzBO"
      },
      "source": [
        "eps = np.random.normal(scale=0.25, size=100)"
      ],
      "execution_count": 3,
      "outputs": []
    },
    {
      "cell_type": "markdown",
      "metadata": {
        "id": "DwSXAiwTZ0Yo"
      },
      "source": [
        "# (c)"
      ]
    },
    {
      "cell_type": "markdown",
      "metadata": {
        "id": "r6iT1qCbZ273"
      },
      "source": [
        "From the textbook, p.124:\n",
        "> Using `x` and `eps`, generate a vector `y` according to the model\n",
        "$Y = −1 + 0.5X + \\epsilon $.\n",
        "What is the length of the vector `y`? What are the values of $\\beta_0$ and $\\beta_1$ in this linear model?"
      ]
    },
    {
      "cell_type": "code",
      "metadata": {
        "id": "MAMQ0ardZ8eD",
        "colab": {
          "base_uri": "https://localhost:8080/"
        },
        "outputId": "5ab45aef-684f-4226-9991-0db6f72fa3f1"
      },
      "source": [
        "y = -1 + 0.5*x + eps\n",
        "len(y)"
      ],
      "execution_count": 4,
      "outputs": [
        {
          "output_type": "execute_result",
          "data": {
            "text/plain": [
              "100"
            ]
          },
          "metadata": {
            "tags": []
          },
          "execution_count": 4
        }
      ]
    },
    {
      "cell_type": "markdown",
      "metadata": {
        "id": "jeOYJTKouo_K"
      },
      "source": [
        "The length of the vector `y` is the same as the lengths of vectors' `x` and `eps` &mdash; 100 values. $\\beta_0 = -1, \\; \\beta_1 = 0.5$."
      ]
    },
    {
      "cell_type": "markdown",
      "metadata": {
        "id": "hX3VyCdzabL0"
      },
      "source": [
        "# (d)"
      ]
    },
    {
      "cell_type": "markdown",
      "metadata": {
        "id": "PxCohNk6ae-o"
      },
      "source": [
        "From the textbook, p.125:\n",
        "> Create a scatterplot displaying the relationship between `x` and `y`. Comment on what you observe."
      ]
    },
    {
      "cell_type": "code",
      "metadata": {
        "id": "CUKIHmh5af8j",
        "colab": {
          "base_uri": "https://localhost:8080/",
          "height": 285
        },
        "outputId": "fe03a716-04f8-4c7e-96ca-8ec6fa5abe9f"
      },
      "source": [
        "sns.scatterplot(x=x, y=y, alpha=0.6)\n",
        "plt.xlabel('x')\n",
        "plt.ylabel('y')\n",
        "plt.show()"
      ],
      "execution_count": 5,
      "outputs": [
        {
          "output_type": "display_data",
          "data": {
            "image/png": "[encoded data removed]",
            "text/plain": [
              "<Figure size 432x288 with 1 Axes>"
            ]
          },
          "metadata": {
            "tags": [],
            "needs_background": "light"
          }
        }
      ]
    },
    {
      "cell_type": "markdown",
      "metadata": {
        "id": "72zgv2fJxero"
      },
      "source": [
        "The points are clustered towards the origin. There is obviously a strong positive correlation between `x` and `y`."
      ]
    },
    {
      "cell_type": "markdown",
      "metadata": {
        "id": "U7fl4-kjagZX"
      },
      "source": [
        "# (e)"
      ]
    },
    {
      "cell_type": "markdown",
      "metadata": {
        "id": "PK-poO3_aimu"
      },
      "source": [
        "From the textbook, p.125:\n",
        "> Fit a least squares linear model to predict `y` using `x`. Comment on the model obtained. How do $\\hat{\\beta_0}$ and $\\hat{\\beta_1}$ compare to $\\beta_0$ and $\\beta_1$?"
      ]
    },
    {
      "cell_type": "code",
      "metadata": {
        "colab": {
          "base_uri": "https://localhost:8080/"
        },
        "id": "w0xvV7J10DNu",
        "outputId": "24092dc8-dc7d-4cc0-f10a-6f75430c068e"
      },
      "source": [
        "x_intercept = np.ones((x.size, 2))\n",
        "x_intercept[:, 1] = x\n",
        "model_original = sm.regression.linear_model.OLS(y, x_intercept).fit(use_t=True)\n",
        "model_original.params"
      ],
      "execution_count": 6,
      "outputs": [
        {
          "output_type": "execute_result",
          "data": {
            "text/plain": [
              "array([-0.96324662,  0.52385678])"
            ]
          },
          "metadata": {
            "tags": []
          },
          "execution_count": 6
        }
      ]
    },
    {
      "cell_type": "markdown",
      "metadata": {
        "id": "rhN-ltmr2QoU"
      },
      "source": [
        "$\\hat{\\beta_0} = -0.963, \\; \\hat{\\beta_1} = 0.524 \\: (\\beta_0 = -1, \\; \\beta_1 = 0.5)$"
      ]
    },
    {
      "cell_type": "markdown",
      "metadata": {
        "id": "z4Z5HbbZymEW"
      },
      "source": [
        "The estimates are pretty close."
      ]
    },
    {
      "cell_type": "markdown",
      "metadata": {
        "id": "XbWnWdMZa6iV"
      },
      "source": [
        "# (f)"
      ]
    },
    {
      "cell_type": "markdown",
      "metadata": {
        "id": "MabOw_kUa9nZ"
      },
      "source": [
        "From the textbook, p.125:\n",
        "> Display the least squares line on the scatterplot obtained in (d). Draw the population regression line on the plot, in a different color. Use the `legend()` command to create an appropriate legend."
      ]
    },
    {
      "cell_type": "code",
      "metadata": {
        "id": "URXHzddTa_yZ",
        "colab": {
          "base_uri": "https://localhost:8080/",
          "height": 394
        },
        "outputId": "b571aff4-513e-4c95-f681-b25dfbef39a9"
      },
      "source": [
        "plt.figure(figsize=(10, 6))\n",
        "ax = sns.regplot(x=x\n",
        "                 , y=y\n",
        "                 , scatter_kws={'alpha' : 0.6}\n",
        "                 , line_kws={'label' : 'Least squares fit'}\n",
        "                )\n",
        "sm.graphics.abline_plot(intercept=-1\n",
        "                        , slope=0.5\n",
        "                        , label='Population regression line'\n",
        "                        , ax=ax\n",
        "                        , color='black'\n",
        "                       )\n",
        "plt.legend()\n",
        "plt.xlabel('x')\n",
        "plt.ylabel('y')\n",
        "plt.show()"
      ],
      "execution_count": 7,
      "outputs": [
        {
          "output_type": "display_data",
          "data": {
            "image/png": "[encoded data removed]",
            "text/plain": [
              "<Figure size 720x432 with 1 Axes>"
            ]
          },
          "metadata": {
            "tags": [],
            "needs_background": "light"
          }
        }
      ]
    },
    {
      "cell_type": "markdown",
      "metadata": {
        "id": "O67g_x1jyqWJ"
      },
      "source": [
        "The estimated regression is quite close to the population regression.\n",
        "\n",
        "Translucent bands of blue represent confidence intervals of the regression; the further from the origin, the wider they are."
      ]
    },
    {
      "cell_type": "markdown",
      "metadata": {
        "id": "uKj2uZLCbAUT"
      },
      "source": [
        "# (g)"
      ]
    },
    {
      "cell_type": "markdown",
      "metadata": {
        "id": "62KW71iEbBV9"
      },
      "source": [
        "From the textbook, p.125:\n",
        "> Now fit a polynomial regression model that predicts `y` using `x` and `x^2`. Is there evidence that the quadratic term improves the model fit? Explain your answer."
      ]
    },
    {
      "cell_type": "code",
      "metadata": {
        "id": "D-ECuCvUbJu1",
        "colab": {
          "base_uri": "https://localhost:8080/",
          "height": 143
        },
        "outputId": "c5603f64-e951-4b69-f09d-e7129523a90d"
      },
      "source": [
        "x_x2_intercept = np.ones((x.size, 3))\n",
        "x_x2_intercept[:, 1] = x\n",
        "x_x2_intercept[:, 2] = x**2\n",
        "\n",
        "model = sm.regression.linear_model.OLS(y, x_x2_intercept).fit(use_t=True)\n",
        "pd.DataFrame({'coefficients' : model.params\n",
        "              , 'p-values' : model.pvalues\n",
        "             }\n",
        "             , index=['intercept', 'x', 'x^2']\n",
        ")"
      ],
      "execution_count": 8,
      "outputs": [
        {
          "output_type": "execute_result",
          "data": {
            "text/html": [
              "<div>\n",
              "<style scoped>\n",
              "    .dataframe tbody tr th:only-of-type {\n",
              "        vertical-align: middle;\n",
              "    }\n",
              "\n",
              "    .dataframe tbody tr th {\n",
              "        vertical-align: top;\n",
              "    }\n",
              "\n",
              "    .dataframe thead th {\n",
              "        text-align: right;\n",
              "    }\n",
              "</style>\n",
              "<table border=\"1\" class=\"dataframe\">\n",
              "  <thead>\n",
              "    <tr style=\"text-align: right;\">\n",
              "      <th></th>\n",
              "      <th>coefficients</th>\n",
              "      <th>p-values</th>\n",
              "    </tr>\n",
              "  </thead>\n",
              "  <tbody>\n",
              "    <tr>\n",
              "      <th>intercept</th>\n",
              "      <td>-0.966254</td>\n",
              "      <td>4.214381e-55</td>\n",
              "    </tr>\n",
              "    <tr>\n",
              "      <th>x</th>\n",
              "      <td>0.523405</td>\n",
              "      <td>1.792548e-35</td>\n",
              "    </tr>\n",
              "    <tr>\n",
              "      <th>x^2</th>\n",
              "      <td>0.003856</td>\n",
              "      <td>8.565000e-01</td>\n",
              "    </tr>\n",
              "  </tbody>\n",
              "</table>\n",
              "</div>"
            ],
            "text/plain": [
              "           coefficients      p-values\n",
              "intercept     -0.966254  4.214381e-55\n",
              "x              0.523405  1.792548e-35\n",
              "x^2            0.003856  8.565000e-01"
            ]
          },
          "metadata": {
            "tags": []
          },
          "execution_count": 8
        }
      ]
    },
    {
      "cell_type": "markdown",
      "metadata": {
        "id": "MfvMnlzXatkW"
      },
      "source": [
        "With $\\hat{\\beta_2}$ close to zero, its p-value at 8.6% and the values for other coefficients basically unchanged &mdash; no, there is no evidence that the quadratic term improves the fit."
      ]
    },
    {
      "cell_type": "markdown",
      "metadata": {
        "id": "EKFimharbKB8"
      },
      "source": [
        "# (h)"
      ]
    },
    {
      "cell_type": "markdown",
      "metadata": {
        "id": "u3DDDehibPsf"
      },
      "source": [
        "From the textbook, p.125:\n",
        "> Repeat (a)–(f) after modifying the data generation process in such a way that there is less noise in the data. The model $Y = −1 + 0.5X + \\epsilon$ should remain the same. You can do this by decreasing the variance of the normal distribution used to generate the error term $\\epsilon$ in (b). Describe your results."
      ]
    },
    {
      "cell_type": "markdown",
      "metadata": {
        "id": "aX2_CcN6geyo"
      },
      "source": [
        "I'll just copy-paste and change where needed."
      ]
    },
    {
      "cell_type": "markdown",
      "metadata": {
        "id": "tbu9wmvhdTEE"
      },
      "source": [
        "## (h.a) - (h.c)"
      ]
    },
    {
      "cell_type": "markdown",
      "metadata": {
        "id": "zp_An6pxdTEK"
      },
      "source": [
        "From the textbook, p.124:\n",
        "> * Using the `rnorm()` function, create a vector, `x`, containing 100 observations drawn from a $N(0, 1)$ distribution. This represents a feature, $X$.\n",
        "* Using the `rnorm()` function, create a vector, `eps` , containing 100 observations drawn from a $N (0, 0.25)$ distribution i.e. a normal distribution with mean zero and variance 0.25.\n",
        "\n",
        "I am changing the variance to 0.1.\n",
        "\n",
        "> * Using `x` and `eps`, generate a vector `y` according to the model\n",
        "$Y = −1 + 0.5X + \\epsilon $.\n",
        "What is the length of the vector `y`? What are the values of $\\beta_0$ and $\\beta_1$ in this linear model?\n",
        "\n",
        "Everything is the same.\n",
        "\n"
      ]
    },
    {
      "cell_type": "code",
      "metadata": {
        "id": "d1g1qBmudTEP"
      },
      "source": [
        "np.random.seed(1) # (a)\n",
        "x = np.random.normal(size=100)\n",
        "eps = np.random.normal(scale=0.1, size=100) # (b)\n",
        "y = -1 + 0.5*x + eps # (c)"
      ],
      "execution_count": 9,
      "outputs": []
    },
    {
      "cell_type": "markdown",
      "metadata": {
        "id": "jNSSDpwHdTEl"
      },
      "source": [
        "## (h.d)"
      ]
    },
    {
      "cell_type": "markdown",
      "metadata": {
        "id": "pr39jtY4dTEm"
      },
      "source": [
        "From the textbook, p.125:\n",
        "> Create a scatterplot displaying the relationship between `x` and `y`. Comment on what you observe."
      ]
    },
    {
      "cell_type": "code",
      "metadata": {
        "colab": {
          "base_uri": "https://localhost:8080/",
          "height": 285
        },
        "id": "hh6WRz47dTEo",
        "outputId": "a88687bb-dcd1-46ca-ebf0-b973a1364eb6"
      },
      "source": [
        "sns.scatterplot(x=x, y=y, alpha=0.6)\n",
        "plt.xlabel('x')\n",
        "plt.ylabel('y')\n",
        "plt.show()"
      ],
      "execution_count": 10,
      "outputs": [
        {
          "output_type": "display_data",
          "data": {
            "image/png": "[encoded data removed]",
            "text/plain": [
              "<Figure size 432x288 with 1 Axes>"
            ]
          },
          "metadata": {
            "tags": [],
            "needs_background": "light"
          }
        }
      ]
    },
    {
      "cell_type": "markdown",
      "metadata": {
        "id": "AGyXpBMrdTEu"
      },
      "source": [
        "The points are clustered towards the origin. There is obviously a strong positive correlation between `x` and `y`."
      ]
    },
    {
      "cell_type": "markdown",
      "metadata": {
        "id": "4Zz29UZ6dTEv"
      },
      "source": [
        "## (h.e)"
      ]
    },
    {
      "cell_type": "markdown",
      "metadata": {
        "id": "PdNDS8GsdTEw"
      },
      "source": [
        "From the textbook, p.125:\n",
        "> Fit a least squares linear model to predict `y` using `x`. Comment on the model obtained. How do $\\hat{\\beta_0}$ and $\\hat{\\beta_1}$ compare to $\\beta_0$ and $\\beta_1$?"
      ]
    },
    {
      "cell_type": "code",
      "metadata": {
        "colab": {
          "base_uri": "https://localhost:8080/"
        },
        "id": "hFlMRQvjdTEy",
        "outputId": "fe746f4f-12a7-4dbd-8051-71c4af1b6555"
      },
      "source": [
        "x_intercept = np.ones((x.size, 2))\n",
        "x_intercept[:, 1] = x\n",
        "model_lower = sm.regression.linear_model.OLS(y, x_intercept).fit(use_t=True)\n",
        "model_lower.params"
      ],
      "execution_count": 11,
      "outputs": [
        {
          "output_type": "execute_result",
          "data": {
            "text/plain": [
              "array([-0.98529865,  0.50954271])"
            ]
          },
          "metadata": {
            "tags": []
          },
          "execution_count": 11
        }
      ]
    },
    {
      "cell_type": "markdown",
      "metadata": {
        "id": "yK2okW3HdTE0"
      },
      "source": [
        "$\\beta_0^{(lower \\; \\epsilon)} = -0.985, \\; \\beta_1^{(lower \\; \\epsilon)} = 0.510$\n",
        "\n",
        "$\\hat{\\beta_0} = -0.963, \\; \\hat{\\beta_1} = 0.524$\n",
        "\n",
        "$(\\beta_0 = -1, \\; \\beta_1 = 0.5)$\n",
        "\n",
        "The estimates got better."
      ]
    },
    {
      "cell_type": "markdown",
      "metadata": {
        "id": "_X8K_oKGdTE3"
      },
      "source": [
        "## (h.f)"
      ]
    },
    {
      "cell_type": "markdown",
      "metadata": {
        "id": "VWMvn0TNdTE4"
      },
      "source": [
        "From the textbook, p.125:\n",
        "> Display the least squares line on the scatterplot obtained in (d). Draw the population regression line on the plot, in a different color. Use the `legend()` command to create an appropriate legend."
      ]
    },
    {
      "cell_type": "code",
      "metadata": {
        "colab": {
          "base_uri": "https://localhost:8080/",
          "height": 394
        },
        "id": "BrxCtPyDdTE6",
        "outputId": "959198d5-d05a-4b2c-fe15-4357da6cfccd"
      },
      "source": [
        "plt.figure(figsize=(10, 6))\n",
        "ax = sns.regplot(x=x\n",
        "                 , y=y\n",
        "                 , scatter_kws={'alpha' : 0.6}\n",
        "                 , line_kws={'label' : 'Least squares fit (lower)'}\n",
        "                )\n",
        "sm.graphics.abline_plot(intercept=-1\n",
        "                        , slope=0.5\n",
        "                        , label='Population regression line'\n",
        "                        , ax=ax\n",
        "                        , color='black'\n",
        "                       )\n",
        "plt.legend()\n",
        "plt.xlabel('x')\n",
        "plt.ylabel('y')\n",
        "plt.show()"
      ],
      "execution_count": 12,
      "outputs": [
        {
          "output_type": "display_data",
          "data": {
            "image/png": "[encoded data removed]",
            "text/plain": [
              "<Figure size 720x432 with 1 Axes>"
            ]
          },
          "metadata": {
            "tags": [],
            "needs_background": "light"
          }
        }
      ]
    },
    {
      "cell_type": "markdown",
      "metadata": {
        "id": "StkTHNR4dTE9"
      },
      "source": [
        "The estimated regression line got even closer."
      ]
    },
    {
      "cell_type": "markdown",
      "metadata": {
        "id": "xkDSHlF4bR4t"
      },
      "source": [
        "# (i)"
      ]
    },
    {
      "cell_type": "markdown",
      "metadata": {
        "id": "IXxwYxYrbVPP"
      },
      "source": [
        "From the textbook, p.125:\n",
        "> Repeat (a)–(f) after modifying the data generation process in such a way that there is more noise in the data. The model $Y = −1 + 0.5X + \\epsilon$ should remain the same. You can do this by increasing the variance of the normal distribution used to generate the error term $\\epsilon$ in (b). Describe your results."
      ]
    },
    {
      "cell_type": "markdown",
      "metadata": {
        "id": "t2mL36iykoKD"
      },
      "source": [
        "## (i.a) - (i.c)"
      ]
    },
    {
      "cell_type": "markdown",
      "metadata": {
        "id": "oCa3f6pskoKH"
      },
      "source": [
        "From the textbook, p.124:\n",
        "> * Using the `rnorm()` function, create a vector, `x`, containing 100 observations drawn from a $N(0, 1)$ distribution. This represents a feature, $X$.\n",
        "* Using the `rnorm()` function, create a vector, `eps` , containing 100 observations drawn from a $N (0, 0.25)$ distribution i.e. a normal distribution with mean zero and variance 0.25.\n",
        "\n",
        "I am changing the variance to 0.75.\n",
        "\n",
        "> * Using `x` and `eps`, generate a vector `y` according to the model\n",
        "$Y = −1 + 0.5X + \\epsilon $.\n",
        "What is the length of the vector `y`? What are the values of $\\beta_0$ and $\\beta_1$ in this linear model?\n",
        "\n",
        "Everything is the same.\n",
        "\n"
      ]
    },
    {
      "cell_type": "code",
      "metadata": {
        "id": "b51Z8P_wkoKL"
      },
      "source": [
        "np.random.seed(1) # (a)\n",
        "x = np.random.normal(size=100)\n",
        "eps = np.random.normal(scale=0.75, size=100) # (b)\n",
        "y = -1 + 0.5*x + eps # (c)"
      ],
      "execution_count": 13,
      "outputs": []
    },
    {
      "cell_type": "markdown",
      "metadata": {
        "id": "DoNZsiKFkoKO"
      },
      "source": [
        "## (i.d)"
      ]
    },
    {
      "cell_type": "markdown",
      "metadata": {
        "id": "-vF4UMcBkoKR"
      },
      "source": [
        "From the textbook, p.125:\n",
        "> Create a scatterplot displaying the relationship between `x` and `y`. Comment on what you observe."
      ]
    },
    {
      "cell_type": "code",
      "metadata": {
        "colab": {
          "base_uri": "https://localhost:8080/",
          "height": 285
        },
        "id": "Az8KZqZkkoKT",
        "outputId": "fab36b2b-ad48-4175-d52d-4011b5dcc3bb"
      },
      "source": [
        "sns.scatterplot(x=x, y=y, alpha=0.6)\n",
        "plt.xlabel('x')\n",
        "plt.ylabel('y')\n",
        "plt.show()"
      ],
      "execution_count": 14,
      "outputs": [
        {
          "output_type": "display_data",
          "data": {
            "image/png": "[encoded data removed]",
            "text/plain": [
              "<Figure size 432x288 with 1 Axes>"
            ]
          },
          "metadata": {
            "tags": [],
            "needs_background": "light"
          }
        }
      ]
    },
    {
      "cell_type": "markdown",
      "metadata": {
        "id": "LvHFv7RhkoKX"
      },
      "source": [
        "The points are clustered towards the origin. There is obviously a strong positive correlation between `x` and `y`."
      ]
    },
    {
      "cell_type": "markdown",
      "metadata": {
        "id": "vslFoyvSkoKZ"
      },
      "source": [
        "## (i.e)"
      ]
    },
    {
      "cell_type": "markdown",
      "metadata": {
        "id": "ccILFCiYkoKb"
      },
      "source": [
        "From the textbook, p.125:\n",
        "> Fit a least squares linear model to predict `y` using `x`. Comment on the model obtained. How do $\\hat{\\beta_0}$ and $\\hat{\\beta_1}$ compare to $\\beta_0$ and $\\beta_1$?"
      ]
    },
    {
      "cell_type": "code",
      "metadata": {
        "colab": {
          "base_uri": "https://localhost:8080/"
        },
        "id": "9zNYNxRdkoKg",
        "outputId": "41afadb1-e5f4-4a24-dbf1-03f9fe0007a4"
      },
      "source": [
        "x_intercept = np.ones((x.size, 2))\n",
        "x_intercept[:, 1] = x\n",
        "model_higher = sm.regression.linear_model.OLS(y, x_intercept).fit(use_t=True)\n",
        "model_higher.params"
      ],
      "execution_count": 15,
      "outputs": [
        {
          "output_type": "execute_result",
          "data": {
            "text/plain": [
              "array([-0.88973985,  0.57157035])"
            ]
          },
          "metadata": {
            "tags": []
          },
          "execution_count": 15
        }
      ]
    },
    {
      "cell_type": "markdown",
      "metadata": {
        "id": "mYYl8DFDkoKi"
      },
      "source": [
        "$\\beta_0^{(higher \\; \\epsilon)} = -0.890, \\; \\beta_1^{(higher \\; \\epsilon)} = 0.572$\n",
        "\n",
        "$\\hat{\\beta_0} = -0.963, \\; \\hat{\\beta_1} = 0.524$\n",
        "\n",
        "$(\\beta_0 = -1, \\; \\beta_1 = 0.5)$\n",
        "\n",
        "The estimates got worse."
      ]
    },
    {
      "cell_type": "markdown",
      "metadata": {
        "id": "XLKoJYm3koKm"
      },
      "source": [
        "## (i.f)"
      ]
    },
    {
      "cell_type": "markdown",
      "metadata": {
        "id": "2b3TWyJqkoKn"
      },
      "source": [
        "From the textbook, p.125:\n",
        "> Display the least squares line on the scatterplot obtained in (d). Draw the population regression line on the plot, in a different color. Use the `legend()` command to create an appropriate legend."
      ]
    },
    {
      "cell_type": "code",
      "metadata": {
        "colab": {
          "base_uri": "https://localhost:8080/",
          "height": 394
        },
        "id": "nUKJGn1EkoKp",
        "outputId": "8baf45c8-07ef-40dc-f4c1-9c667fd414b6"
      },
      "source": [
        "plt.figure(figsize=(10, 6))\n",
        "ax = sns.regplot(x=x\n",
        "                 , y=y\n",
        "                 , scatter_kws={'alpha' : 0.6}\n",
        "                 , line_kws={'label' : 'Least squares fit (higher)'}\n",
        "                )\n",
        "sm.graphics.abline_plot(intercept=-1\n",
        "                        , slope=0.5\n",
        "                        , label='Population regression line'\n",
        "                        , ax=ax\n",
        "                        , color='black'\n",
        "                       )\n",
        "plt.legend()\n",
        "plt.xlabel('x')\n",
        "plt.ylabel('y')\n",
        "plt.show()"
      ],
      "execution_count": 16,
      "outputs": [
        {
          "output_type": "display_data",
          "data": {
            "image/png": "[encoded data removed]",
            "text/plain": [
              "<Figure size 720x432 with 1 Axes>"
            ]
          },
          "metadata": {
            "tags": [],
            "needs_background": "light"
          }
        }
      ]
    },
    {
      "cell_type": "markdown",
      "metadata": {
        "id": "ZW7PiPoMkoKr"
      },
      "source": [
        "The estimated regression line diverges noticably from the population regression line."
      ]
    },
    {
      "cell_type": "markdown",
      "metadata": {
        "id": "0UMKaM8lbXd_"
      },
      "source": [
        "# (j)"
      ]
    },
    {
      "cell_type": "markdown",
      "metadata": {
        "id": "_cva7SOdbZ-w"
      },
      "source": [
        "From the textbook, p.125:\n",
        "> What are the confidence intervals for $\\beta_0$ and $\\beta_1$ based on the original data set, the noisier data set, and the less noisy dataset? Comment on your results."
      ]
    },
    {
      "cell_type": "code",
      "metadata": {
        "id": "UOsdzjsBW4rk",
        "colab": {
          "base_uri": "https://localhost:8080/",
          "height": 143
        },
        "outputId": "99f483eb-1f6b-4d34-8808-499d81a22975"
      },
      "source": [
        "pd.DataFrame(\n",
        "             [\n",
        "              model_original.pvalues\n",
        "              , model_lower.pvalues\n",
        "              , model_higher.pvalues \n",
        "             ]\n",
        "             , index=['original', 'lower variance', 'higher variance']\n",
        "             , columns=['min', 'max']\n",
        ")"
      ],
      "execution_count": 18,
      "outputs": [
        {
          "output_type": "execute_result",
          "data": {
            "text/html": [
              "<div>\n",
              "<style scoped>\n",
              "    .dataframe tbody tr th:only-of-type {\n",
              "        vertical-align: middle;\n",
              "    }\n",
              "\n",
              "    .dataframe tbody tr th {\n",
              "        vertical-align: top;\n",
              "    }\n",
              "\n",
              "    .dataframe thead th {\n",
              "        text-align: right;\n",
              "    }\n",
              "</style>\n",
              "<table border=\"1\" class=\"dataframe\">\n",
              "  <thead>\n",
              "    <tr style=\"text-align: right;\">\n",
              "      <th></th>\n",
              "      <th>min</th>\n",
              "      <th>max</th>\n",
              "    </tr>\n",
              "  </thead>\n",
              "  <tbody>\n",
              "    <tr>\n",
              "      <th>original</th>\n",
              "      <td>1.697125e-63</td>\n",
              "      <td>5.387078e-36</td>\n",
              "    </tr>\n",
              "    <tr>\n",
              "      <th>lower variance</th>\n",
              "      <td>1.883780e-102</td>\n",
              "      <td>5.581461e-70</td>\n",
              "    </tr>\n",
              "    <tr>\n",
              "      <th>higher variance</th>\n",
              "      <td>2.890527e-22</td>\n",
              "      <td>1.267587e-10</td>\n",
              "    </tr>\n",
              "  </tbody>\n",
              "</table>\n",
              "</div>"
            ],
            "text/plain": [
              "                           min           max\n",
              "original          1.697125e-63  5.387078e-36\n",
              "lower variance   1.883780e-102  5.581461e-70\n",
              "higher variance   2.890527e-22  1.267587e-10"
            ]
          },
          "metadata": {
            "tags": []
          },
          "execution_count": 18
        }
      ]
    },
    {
      "cell_type": "markdown",
      "metadata": {
        "id": "VxHeTuxjtYkf"
      },
      "source": [
        "The higher the variance, the wider the confidence interval."
      ]
    }
  ]
}