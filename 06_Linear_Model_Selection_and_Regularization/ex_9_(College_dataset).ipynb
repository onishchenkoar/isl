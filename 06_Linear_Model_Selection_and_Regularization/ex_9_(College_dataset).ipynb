{
  "nbformat": 4,
  "nbformat_minor": 0,
  "metadata": {
    "colab": {
      "name": "06. Linear Model Selection and Regularization, ex. 9 (College dataset)",
      "provenance": [],
      "authorship_tag": "ABX9TyPsGvrDyr1A2/szBfHSHLdH"
    },
    "kernelspec": {
      "name": "python3",
      "display_name": "Python 3"
    },
    "language_info": {
      "name": "python"
    }
  },
  "cells": [
    {
      "cell_type": "markdown",
      "metadata": {
        "id": "hWPA6J4uLVeL"
      },
      "source": [
        "All instructions are provided for R. I am going to reproduce them in Python as best as I can."
      ]
    },
    {
      "cell_type": "markdown",
      "metadata": {
        "id": "T3r7_JfM7M9m"
      },
      "source": [
        "# Preface"
      ]
    },
    {
      "cell_type": "markdown",
      "metadata": {
        "id": "AwFVKbQ9MiLU"
      },
      "source": [
        "From the textbook, p. 263:\n",
        "> In this exercise, we will predict the number of applications received\n",
        "using the other variables in the College data set."
      ]
    },
    {
      "cell_type": "code",
      "metadata": {
        "id": "Ob5fCkY1MawN"
      },
      "source": [
        "import numpy as np\n",
        "import pandas as pd\n",
        "from sklearn.cross_decomposition import PLSRegression\n",
        "from sklearn.decomposition import PCA\n",
        "from sklearn.linear_model import LinearRegression, RidgeCV, LassoCV\n",
        "from sklearn.pipeline import make_pipeline\n",
        "from sklearn.metrics import accuracy_score\n",
        "from sklearn.model_selection import train_test_split, GridSearchCV\n",
        "from sklearn.preprocessing import StandardScaler"
      ],
      "execution_count": 1,
      "outputs": []
    },
    {
      "cell_type": "code",
      "metadata": {
        "id": "Xarh3jkVOJAO"
      },
      "source": [
        "college = pd.read_csv('https://www.statlearning.com/s/College.csv')\n",
        "college = college.replace({'Yes' : 1, 'No' : 0})\n",
        "x = college.drop(['Apps', 'Unnamed: 0'], axis='columns')\n",
        "y = college.Apps\n",
        "\n",
        "scaler = StandardScaler().fit(x)\n",
        "x = scaler.transform(x)"
      ],
      "execution_count": 2,
      "outputs": []
    },
    {
      "cell_type": "markdown",
      "metadata": {
        "id": "AgipEhQJOCK7"
      },
      "source": [
        "# (a)"
      ]
    },
    {
      "cell_type": "markdown",
      "metadata": {
        "id": "UU1xCnfVOC82"
      },
      "source": [
        "From the textbook, p. 263:\n",
        "> Split the data set into a training set and a test set."
      ]
    },
    {
      "cell_type": "code",
      "metadata": {
        "id": "PR_zPm5OXjR3"
      },
      "source": [
        "np.random.seed(1)\n",
        "x_train, x_test, y_train, y_test = train_test_split(x, y)"
      ],
      "execution_count": 3,
      "outputs": []
    },
    {
      "cell_type": "markdown",
      "metadata": {
        "id": "2lvVFiNKOJXH"
      },
      "source": [
        "# (b)"
      ]
    },
    {
      "cell_type": "markdown",
      "metadata": {
        "id": "nniuiWgdOMDj"
      },
      "source": [
        "From the textbook, p. 263:\n",
        "> Fit a linear model using least squares on the training set, and report the test error obtained."
      ]
    },
    {
      "cell_type": "code",
      "metadata": {
        "id": "kW4Js7sbOOuS",
        "colab": {
          "base_uri": "https://localhost:8080/"
        },
        "outputId": "c686e27a-0b13-43a8-baba-5aa7d106316b"
      },
      "source": [
        "results = []\n",
        "\n",
        "model_b = LinearRegression()\n",
        "model_b.fit(x_train, y_train)\n",
        "r2 = model_b.score(x_test, y_test)\n",
        "results.append(['OLS', r2])\n",
        "print(r2)"
      ],
      "execution_count": 4,
      "outputs": [
        {
          "output_type": "stream",
          "text": [
            "0.9504599702986559\n"
          ],
          "name": "stdout"
        }
      ]
    },
    {
      "cell_type": "markdown",
      "metadata": {
        "id": "Y8-8mSpRb_Ni"
      },
      "source": [
        "For ordinary least squares regression, $R^2 = 0.950$ on the test data."
      ]
    },
    {
      "cell_type": "markdown",
      "metadata": {
        "id": "GL2AK-UCOQS8"
      },
      "source": [
        "# (c)"
      ]
    },
    {
      "cell_type": "markdown",
      "metadata": {
        "id": "kKXOZoWEOSOJ"
      },
      "source": [
        "From the textbook, p. 263:\n",
        "> Fit a ridge regression model on the training set, with $\\lambda$ chosen by cross-validation. Report the test error obtained."
      ]
    },
    {
      "cell_type": "code",
      "metadata": {
        "id": "JA1BNY3QOTLg",
        "colab": {
          "base_uri": "https://localhost:8080/"
        },
        "outputId": "b24e3064-0660-41cc-cf9c-1a6218d71e2f"
      },
      "source": [
        "def powspace(start, stop, power, num):\n",
        "  start = np.power(start, 1/float(power))\n",
        "  stop = np.power(stop, 1/float(power))\n",
        "  return np.power( np.linspace(start, stop, num=num), power)\n",
        "\n",
        "reg_params = powspace(start=0.01, stop=100, power=1.1, num=200)\n",
        "\n",
        "model_c = RidgeCV(alphas=reg_params, cv=5)\n",
        "model_c.fit(x_train, y_train)\n",
        "r2 = model_c.score(x_test, y_test)\n",
        "results.append(['Ridge', r2])\n",
        "print(r2)"
      ],
      "execution_count": 5,
      "outputs": [
        {
          "output_type": "stream",
          "text": [
            "0.9490946730672606\n"
          ],
          "name": "stdout"
        }
      ]
    },
    {
      "cell_type": "markdown",
      "metadata": {
        "id": "yTv9ACA8fJUS"
      },
      "source": [
        "For Ridge regression, $R^2 = 0.949$ on the test data."
      ]
    },
    {
      "cell_type": "markdown",
      "metadata": {
        "id": "5BfjUBvxOTra"
      },
      "source": [
        "# (d)"
      ]
    },
    {
      "cell_type": "markdown",
      "metadata": {
        "id": "MWhyV4zFOXO9"
      },
      "source": [
        "From the textbook, p. 263:\n",
        "> Fit a lasso model on the training set, with $\\lambda$ chosen by cross-validation. Report the test error obtained, along with the number of non-zero coefficient estimates."
      ]
    },
    {
      "cell_type": "code",
      "metadata": {
        "id": "KTMDqE9IOaBd",
        "colab": {
          "base_uri": "https://localhost:8080/"
        },
        "outputId": "7a895563-c2a4-4d83-c1e6-da66036146fe"
      },
      "source": [
        "model_d = LassoCV(max_iter=30000)\n",
        "model_d.fit(x_train, y_train)\n",
        "r2 = model_d.score(x_test, y_test)\n",
        "results.append(['Lasso', r2])\n",
        "print(r2)\n",
        "print(model_d.coef_)"
      ],
      "execution_count": 6,
      "outputs": [
        {
          "output_type": "stream",
          "text": [
            "0.9446890241597852\n",
            "[-1.02272457e+02  3.54768484e+03 -5.32229899e+01  6.25902825e+02\n",
            " -8.54585779e+01 -0.00000000e+00  0.00000000e+00 -2.91923555e+02\n",
            "  1.66184100e+02  0.00000000e+00  0.00000000e+00 -9.39736030e+01\n",
            " -3.85823337e+01  2.78270724e+01 -1.31335536e+00  3.92128200e+02\n",
            "  9.11206509e+01]\n"
          ],
          "name": "stdout"
        }
      ]
    },
    {
      "cell_type": "markdown",
      "metadata": {
        "id": "m6z-pjjqjxbT"
      },
      "source": [
        "For Lasso regression, $R^2 = 0.945$ on the test data. There are 4 coefficients that Lasso has set to zero; those correspond to `F.Undergrad`, `P.Undergrad`, `Books`, `Personal`."
      ]
    },
    {
      "cell_type": "markdown",
      "metadata": {
        "id": "Ccn4MC6vOZl8"
      },
      "source": [
        "# (e)"
      ]
    },
    {
      "cell_type": "markdown",
      "metadata": {
        "id": "-F6sbXMzObKt"
      },
      "source": [
        "From the textbook, p. 263:\n",
        "> Fit a PCR model on the training set, with $M$ chosen by cross-validation. Report the test error obtained, along with the value of $M$ selected by cross-validation."
      ]
    },
    {
      "cell_type": "code",
      "metadata": {
        "id": "51eNiKIzOd3m",
        "colab": {
          "base_uri": "https://localhost:8080/"
        },
        "outputId": "a5e232e4-dab5-4fe6-fba9-d07f59336e05"
      },
      "source": [
        "params = {'pca__n_components' : np.arange(1, 18)}\n",
        "pcr = make_pipeline(PCA(), LinearRegression())\n",
        "grid_search = GridSearchCV(pcr, params)\n",
        "grid_search.fit(x_train, y_train)\n",
        "r2 = grid_search.score(x_test, y_test)\n",
        "results.append(['PCR', r2])\n",
        "print('Number of components selected:'\n",
        "      , grid_search.best_estimator_.get_params()['pca__n_components']\n",
        ")\n",
        "print(f'R^2 = {r2}')"
      ],
      "execution_count": 7,
      "outputs": [
        {
          "output_type": "stream",
          "text": [
            "Number of components selected: 17\n",
            "R^2 = 0.9504599702986559\n"
          ],
          "name": "stdout"
        }
      ]
    },
    {
      "cell_type": "markdown",
      "metadata": {
        "id": "ABjTRAE3tp8w"
      },
      "source": [
        "For PCR, $R^2 = 0.950$ on the test data. The best number of principal components is 17 &mdash; that's all of them. This is unsurprising, given that ordinary least squares regression got the highest score (the same as PCR)."
      ]
    },
    {
      "cell_type": "markdown",
      "metadata": {
        "id": "Xq4j6LkSOeSA"
      },
      "source": [
        "# (f)"
      ]
    },
    {
      "cell_type": "markdown",
      "metadata": {
        "id": "0HltKYO0OiwN"
      },
      "source": [
        "From the textbook, p. 263:\n",
        "> Fit a PLS model on the training set, with $M$ chosen by cross-validation. Report the test error obtained, along with the value of $M$ selected by cross-validation."
      ]
    },
    {
      "cell_type": "code",
      "metadata": {
        "id": "-BWEwXscOlSG",
        "colab": {
          "base_uri": "https://localhost:8080/"
        },
        "outputId": "1e9202de-a93a-42c1-93e7-877740eaafc6"
      },
      "source": [
        "params = {'n_components' : np.arange(1, 18)}\n",
        "pls = PLSRegression()\n",
        "grid_search = GridSearchCV(pls, params)\n",
        "grid_search.fit(x_train, y_train)\n",
        "r2 = grid_search.score(x_test, y_test)\n",
        "results.append(['PLS', r2])\n",
        "print('Number of components selected:'\n",
        "      , grid_search.best_estimator_.get_params()['n_components']\n",
        ")\n",
        "print(f'R^2 = {r2}')"
      ],
      "execution_count": 8,
      "outputs": [
        {
          "output_type": "stream",
          "text": [
            "Number of components selected: 17\n",
            "R^2 = 0.9504599702986559\n"
          ],
          "name": "stdout"
        }
      ]
    },
    {
      "cell_type": "markdown",
      "metadata": {
        "id": "iR3D4S0bvEIK"
      },
      "source": [
        "The same result as with PCR: the selected number of components is 17 (all) and $R^2 = 0.950$."
      ]
    },
    {
      "cell_type": "markdown",
      "metadata": {
        "id": "6yU8J9HdOmMb"
      },
      "source": [
        "# (g)"
      ]
    },
    {
      "cell_type": "markdown",
      "metadata": {
        "id": "r6qu9Ld8OpCt"
      },
      "source": [
        "From the textbook, p. 263:\n",
        "> Comment on the results obtained. How accurately can we predict the number of college applications received? Is there much difference among the test errors resulting from these five approaches?"
      ]
    },
    {
      "cell_type": "code",
      "metadata": {
        "id": "CD6Mu3hTNafL",
        "colab": {
          "base_uri": "https://localhost:8080/",
          "height": 206
        },
        "outputId": "e5a80083-bb3e-421b-8ca7-8579ef8dc20a"
      },
      "source": [
        "pd.DataFrame(results, columns=['method', 'R^2']).sort_values('R^2', ascending=False)"
      ],
      "execution_count": 9,
      "outputs": [
        {
          "output_type": "execute_result",
          "data": {
            "text/html": [
              "<div>\n",
              "<style scoped>\n",
              "    .dataframe tbody tr th:only-of-type {\n",
              "        vertical-align: middle;\n",
              "    }\n",
              "\n",
              "    .dataframe tbody tr th {\n",
              "        vertical-align: top;\n",
              "    }\n",
              "\n",
              "    .dataframe thead th {\n",
              "        text-align: right;\n",
              "    }\n",
              "</style>\n",
              "<table border=\"1\" class=\"dataframe\">\n",
              "  <thead>\n",
              "    <tr style=\"text-align: right;\">\n",
              "      <th></th>\n",
              "      <th>method</th>\n",
              "      <th>R^2</th>\n",
              "    </tr>\n",
              "  </thead>\n",
              "  <tbody>\n",
              "    <tr>\n",
              "      <th>0</th>\n",
              "      <td>OLS</td>\n",
              "      <td>0.950460</td>\n",
              "    </tr>\n",
              "    <tr>\n",
              "      <th>3</th>\n",
              "      <td>PCR</td>\n",
              "      <td>0.950460</td>\n",
              "    </tr>\n",
              "    <tr>\n",
              "      <th>4</th>\n",
              "      <td>PLS</td>\n",
              "      <td>0.950460</td>\n",
              "    </tr>\n",
              "    <tr>\n",
              "      <th>1</th>\n",
              "      <td>Ridge</td>\n",
              "      <td>0.949095</td>\n",
              "    </tr>\n",
              "    <tr>\n",
              "      <th>2</th>\n",
              "      <td>Lasso</td>\n",
              "      <td>0.944689</td>\n",
              "    </tr>\n",
              "  </tbody>\n",
              "</table>\n",
              "</div>"
            ],
            "text/plain": [
              "  method       R^2\n",
              "0    OLS  0.950460\n",
              "3    PCR  0.950460\n",
              "4    PLS  0.950460\n",
              "1  Ridge  0.949095\n",
              "2  Lasso  0.944689"
            ]
          },
          "metadata": {
            "tags": []
          },
          "execution_count": 9
        }
      ]
    },
    {
      "cell_type": "markdown",
      "metadata": {
        "id": "9nHkUrx_zIl_"
      },
      "source": [
        "The results are quite similar. The main factor influencing $R^2$ that I noticed is the change in the random seed before the train-test split."
      ]
    }
  ]
}