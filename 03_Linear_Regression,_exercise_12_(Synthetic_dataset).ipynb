{
  "nbformat": 4,
  "nbformat_minor": 0,
  "metadata": {
    "colab": {
      "name": "03. Linear Regression, exercise 12 (Synthetic dataset)",
      "provenance": [],
      "collapsed_sections": [],
      "authorship_tag": "ABX9TyPGtKB52SpZoNcJFsQ+QoN/"
    },
    "kernelspec": {
      "name": "python3",
      "display_name": "Python 3"
    },
    "language_info": {
      "name": "python"
    }
  },
  "cells": [
    {
      "cell_type": "markdown",
      "metadata": {
        "id": "kpczRU0bPyTN"
      },
      "source": [
        "From the textbook, p. 124:\n",
        "> This problem involves simple linear regression without an intercept."
      ]
    },
    {
      "cell_type": "code",
      "metadata": {
        "id": "raGgQqz6PrKg",
        "colab": {
          "base_uri": "https://localhost:8080/"
        },
        "outputId": "675512b6-b05d-4b7f-e122-d59c9e559226"
      },
      "source": [
        "import numpy as np\n",
        "import statsmodels.api as sm"
      ],
      "execution_count": 1,
      "outputs": [
        {
          "output_type": "stream",
          "text": [
            "/usr/local/lib/python3.7/dist-packages/statsmodels/tools/_testing.py:19: FutureWarning: pandas.util.testing is deprecated. Use the functions in the public API at pandas.testing instead.\n",
            "  import pandas.util.testing as tm\n"
          ],
          "name": "stderr"
        }
      ]
    },
    {
      "cell_type": "markdown",
      "metadata": {
        "id": "3aa3oCRPRPPa"
      },
      "source": [
        "# (a)"
      ]
    },
    {
      "cell_type": "markdown",
      "metadata": {
        "id": "qd0JXF6sRTLF"
      },
      "source": [
        "From the textbook, p. 124:\n",
        "> Recall that the coefficient estimate $\\hat{\\beta}$ for the linear regression of `y` onto `x` without an intercept is $$\\left( \\sum_{i=1}^n x_i y_i \\right) \\Bigg/ \\left( \\sum_{i'=1}^n x_{i'}^2 \\right).$$ Under what circumstance is the coefficient estimate for the regression of `x` onto `y` the same as the coefficient estimate for the regression of `y` onto `x`?"
      ]
    },
    {
      "cell_type": "markdown",
      "metadata": {
        "id": "4UvsR6AEhbPy"
      },
      "source": [
        "$$\n",
        "\\begin{aligned}\n",
        "  \\frac{\\sum_{i=1}^n x_i y_i}\n",
        "       {\\sum_{i'=1}^n x_{i'}^2}\n",
        "  & =\n",
        "  \\frac{\\sum_{i=1}^n x_i y_i}\n",
        "       {\\sum_{i'=1}^n x_{y'}^2}\n",
        "       \\\\\n",
        "  \\frac{1}\n",
        "       {\\sum_{i'=1}^n x_{i'}^2}\n",
        "  & =\n",
        "  \\frac{1}\n",
        "       {\\sum_{i'=1}^n y_{i'}^2}\n",
        "  \\\\\n",
        "  \\sum_{i'=1}^n x_{i'}^2\n",
        "  & =\n",
        "  \\sum_{i'=1}^n y_{i'}^2\n",
        "\\end{aligned}\n",
        "$$"
      ]
    },
    {
      "cell_type": "markdown",
      "metadata": {
        "id": "azAVvknGkWtq"
      },
      "source": [
        "$x$ and $y$ should have equal sums of squares."
      ]
    },
    {
      "cell_type": "markdown",
      "metadata": {
        "id": "JHCx4Rf4RYNS"
      },
      "source": [
        "# (b)"
      ]
    },
    {
      "cell_type": "markdown",
      "metadata": {
        "id": "C9WTCteZRdgD"
      },
      "source": [
        "From the textbook, p. 124:\n",
        "> Generate an example in R with $n = 100$ observations in which the coefficient estimate for the regression of `x` onto `y` is different from the coefficient estimate for the regression of `y` onto `x`."
      ]
    },
    {
      "cell_type": "code",
      "metadata": {
        "id": "DecDjPU-RcT6",
        "colab": {
          "base_uri": "https://localhost:8080/"
        },
        "outputId": "f0049403-8056-4980-f1e8-5c824c69051d"
      },
      "source": [
        "np.random.seed(1)\n",
        "x = np.random.normal(size=100)\n",
        "y = 3 * x\n",
        "\n",
        "model_y_x = sm.regression.linear_model.OLS(y, x).fit()\n",
        "print(model_y_x.params)\n",
        "model_x_y = sm.regression.linear_model.OLS(x, y).fit()\n",
        "print(model_x_y.params)"
      ],
      "execution_count": 14,
      "outputs": [
        {
          "output_type": "stream",
          "text": [
            "[3.]\n",
            "[0.33333333]\n"
          ],
          "name": "stdout"
        }
      ]
    },
    {
      "cell_type": "markdown",
      "metadata": {
        "id": "wYKpSPwNRj14"
      },
      "source": [
        "# (c)"
      ]
    },
    {
      "cell_type": "markdown",
      "metadata": {
        "id": "0iV2QQJ0Rny8"
      },
      "source": [
        "From the textbook, p. 124:\n",
        "> Generate an example in R with $n = 100$ observations in which the coefficient estimate for the regression of `x` onto `y` is the same as the coefficient estimate for the regression of `y` onto `x`."
      ]
    },
    {
      "cell_type": "code",
      "metadata": {
        "id": "nH7_GtwPQFXX",
        "colab": {
          "base_uri": "https://localhost:8080/"
        },
        "outputId": "3b8f6b46-d540-4d2b-fc9b-e5b8d35c2966"
      },
      "source": [
        "diff = sum(x**2) - sum(y[:-1]**2)\n",
        "if diff >= 0:\n",
        "  y[-1] = np.sqrt(diff)\n",
        "else:\n",
        "  x[-1] = np.sqrt(-diff)\n",
        "\n",
        "model_y_x = sm.regression.linear_model.OLS(y, x).fit()\n",
        "print(model_y_x.params)\n",
        "model_x_y = sm.regression.linear_model.OLS(x, y).fit()\n",
        "print(model_x_y.params)"
      ],
      "execution_count": 15,
      "outputs": [
        {
          "output_type": "stream",
          "text": [
            "[0.40799351]\n",
            "[0.40518748]\n"
          ],
          "name": "stdout"
        }
      ]
    },
    {
      "cell_type": "markdown",
      "metadata": {
        "id": "hgIl0_lYoafS"
      },
      "source": [
        "I have replaced the last value in either `x` or `y` (depending on which sum is greater) to compensate for the difference between the sums of squares."
      ]
    }
  ]
}