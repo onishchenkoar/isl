{
  "nbformat": 4,
  "nbformat_minor": 0,
  "metadata": {
    "colab": {
      "name": "02. Statistical Learning, exercise 9 (Auto dataset)",
      "provenance": [],
      "collapsed_sections": [],
      "authorship_tag": "ABX9TyNlnNe/t68EDbyr9ppc9pj6"
    },
    "kernelspec": {
      "name": "python3",
      "display_name": "Python 3"
    },
    "language_info": {
      "name": "python"
    }
  },
  "cells": [
    {
      "cell_type": "markdown",
      "metadata": {
        "id": "ZKaJdI09Zm9A"
      },
      "source": [
        "All instructions are provided for R. I am going to reproduce them in Python as best as I can."
      ]
    },
    {
      "cell_type": "markdown",
      "metadata": {
        "id": "Awy1Atq7oLzp"
      },
      "source": [
        "# Preface"
      ]
    },
    {
      "cell_type": "markdown",
      "metadata": {
        "id": "BtiE3fy0l98S"
      },
      "source": [
        "From the textbook, p. 56:\n",
        "> This exercise involves the `Auto` data set studied in the lab. Make sure that the missing values have been removed from the data."
      ]
    },
    {
      "cell_type": "code",
      "metadata": {
        "id": "c8ZylauAlxBr"
      },
      "source": [
        "from matplotlib import pyplot as plt\n",
        "import numpy as np\n",
        "import pandas as pd\n",
        "import seaborn as sns\n",
        "\n",
        "\n",
        "sns.set()\n",
        "%matplotlib inline"
      ],
      "execution_count": 1,
      "outputs": []
    },
    {
      "cell_type": "code",
      "metadata": {
        "colab": {
          "base_uri": "https://localhost:8080/",
          "height": 206
        },
        "id": "Z4edazJKEX_b",
        "outputId": "2decf614-88d7-403b-c676-506d9f94bc7b"
      },
      "source": [
        "auto = pd.read_csv('https://www.statlearning.com/s/Auto.csv', index_col=0)\n",
        "auto = auto[auto != '?'].dropna().reset_index()\n",
        "auto.horsepower = auto.horsepower.astype(np.int16)\n",
        "auto.origin = auto.origin.astype('category')\n",
        "auto.head()"
      ],
      "execution_count": 2,
      "outputs": [
        {
          "output_type": "execute_result",
          "data": {
            "text/html": [
              "<div>\n",
              "<style scoped>\n",
              "    .dataframe tbody tr th:only-of-type {\n",
              "        vertical-align: middle;\n",
              "    }\n",
              "\n",
              "    .dataframe tbody tr th {\n",
              "        vertical-align: top;\n",
              "    }\n",
              "\n",
              "    .dataframe thead th {\n",
              "        text-align: right;\n",
              "    }\n",
              "</style>\n",
              "<table border=\"1\" class=\"dataframe\">\n",
              "  <thead>\n",
              "    <tr style=\"text-align: right;\">\n",
              "      <th></th>\n",
              "      <th>mpg</th>\n",
              "      <th>cylinders</th>\n",
              "      <th>displacement</th>\n",
              "      <th>horsepower</th>\n",
              "      <th>weight</th>\n",
              "      <th>acceleration</th>\n",
              "      <th>year</th>\n",
              "      <th>origin</th>\n",
              "      <th>name</th>\n",
              "    </tr>\n",
              "  </thead>\n",
              "  <tbody>\n",
              "    <tr>\n",
              "      <th>0</th>\n",
              "      <td>18.0</td>\n",
              "      <td>8</td>\n",
              "      <td>307.0</td>\n",
              "      <td>130</td>\n",
              "      <td>3504</td>\n",
              "      <td>12.0</td>\n",
              "      <td>70</td>\n",
              "      <td>1</td>\n",
              "      <td>chevrolet chevelle malibu</td>\n",
              "    </tr>\n",
              "    <tr>\n",
              "      <th>1</th>\n",
              "      <td>15.0</td>\n",
              "      <td>8</td>\n",
              "      <td>350.0</td>\n",
              "      <td>165</td>\n",
              "      <td>3693</td>\n",
              "      <td>11.5</td>\n",
              "      <td>70</td>\n",
              "      <td>1</td>\n",
              "      <td>buick skylark 320</td>\n",
              "    </tr>\n",
              "    <tr>\n",
              "      <th>2</th>\n",
              "      <td>18.0</td>\n",
              "      <td>8</td>\n",
              "      <td>318.0</td>\n",
              "      <td>150</td>\n",
              "      <td>3436</td>\n",
              "      <td>11.0</td>\n",
              "      <td>70</td>\n",
              "      <td>1</td>\n",
              "      <td>plymouth satellite</td>\n",
              "    </tr>\n",
              "    <tr>\n",
              "      <th>3</th>\n",
              "      <td>16.0</td>\n",
              "      <td>8</td>\n",
              "      <td>304.0</td>\n",
              "      <td>150</td>\n",
              "      <td>3433</td>\n",
              "      <td>12.0</td>\n",
              "      <td>70</td>\n",
              "      <td>1</td>\n",
              "      <td>amc rebel sst</td>\n",
              "    </tr>\n",
              "    <tr>\n",
              "      <th>4</th>\n",
              "      <td>17.0</td>\n",
              "      <td>8</td>\n",
              "      <td>302.0</td>\n",
              "      <td>140</td>\n",
              "      <td>3449</td>\n",
              "      <td>10.5</td>\n",
              "      <td>70</td>\n",
              "      <td>1</td>\n",
              "      <td>ford torino</td>\n",
              "    </tr>\n",
              "  </tbody>\n",
              "</table>\n",
              "</div>"
            ],
            "text/plain": [
              "    mpg  cylinders  displacement  ...  year  origin                       name\n",
              "0  18.0          8         307.0  ...    70       1  chevrolet chevelle malibu\n",
              "1  15.0          8         350.0  ...    70       1          buick skylark 320\n",
              "2  18.0          8         318.0  ...    70       1         plymouth satellite\n",
              "3  16.0          8         304.0  ...    70       1              amc rebel sst\n",
              "4  17.0          8         302.0  ...    70       1                ford torino\n",
              "\n",
              "[5 rows x 9 columns]"
            ]
          },
          "metadata": {
            "tags": []
          },
          "execution_count": 2
        }
      ]
    },
    {
      "cell_type": "markdown",
      "metadata": {
        "id": "oFmrxibqGBQR"
      },
      "source": [
        "Columns:\n",
        "1. `mpg` &mdash; miles per gallon.\n",
        "1. `cylinders` &mdash; number of cylinders between 4 and 8.\n",
        "1. `displacement` &mdash; engine displacement (cu. inches).\n",
        "1. `horsepower` &mdash; engine horsepower.\n",
        "1. `weight` &mdash; vehicle weight (lbs.).\n",
        "1. `acceleration` &mdash; time to accelerate from 0 to 60 mph (sec.).\n",
        "1. `year` &mdash; model year (modulo 100).\n",
        "1. `origin` &mdash; origin of car (1. American, 2. European, 3. Japanese)\n",
        "1. `name` &mdash; vehicle name.\n"
      ]
    },
    {
      "cell_type": "markdown",
      "metadata": {
        "id": "dHgmKaJ3mBPP"
      },
      "source": [
        "# (a)"
      ]
    },
    {
      "cell_type": "markdown",
      "metadata": {
        "id": "QzaBdKlOmGOt"
      },
      "source": [
        "From the textbook, p. 56:\n",
        "> Which of the predictors are quantitative, and which are qualitative?"
      ]
    },
    {
      "cell_type": "code",
      "metadata": {
        "colab": {
          "base_uri": "https://localhost:8080/"
        },
        "id": "VE2Cxg6DDTXJ",
        "outputId": "aa49a937-d494-4ecd-9b03-f20ad6c02255"
      },
      "source": [
        "auto.nunique()"
      ],
      "execution_count": 3,
      "outputs": [
        {
          "output_type": "execute_result",
          "data": {
            "text/plain": [
              "mpg             127\n",
              "cylinders         5\n",
              "displacement     81\n",
              "horsepower       93\n",
              "weight          346\n",
              "acceleration     95\n",
              "year             13\n",
              "origin            3\n",
              "name            301\n",
              "dtype: int64"
            ]
          },
          "metadata": {
            "tags": []
          },
          "execution_count": 3
        }
      ]
    },
    {
      "cell_type": "markdown",
      "metadata": {
        "id": "mBpDSH-gFVuE"
      },
      "source": [
        "Strictly qualitative are `origin` and `name`. Depending on how you look at it, you might consider `cylinder` and `year` as qualitative (because of their low cardinality)."
      ]
    },
    {
      "cell_type": "markdown",
      "metadata": {
        "id": "ir3GDqEQmR7S"
      },
      "source": [
        "# (b)"
      ]
    },
    {
      "cell_type": "markdown",
      "metadata": {
        "id": "0CFeqTMAmTn5"
      },
      "source": [
        "From the textbook, p. 56:\n",
        "> What is the range of each quantitative predictor? You can answer this using the `range()` function."
      ]
    },
    {
      "cell_type": "code",
      "metadata": {
        "id": "iy44Smwxmnf0",
        "colab": {
          "base_uri": "https://localhost:8080/"
        },
        "outputId": "4609ed2c-3c45-43f4-92d8-7f4aed6ac5dc"
      },
      "source": [
        "auto_quan = auto.drop(['origin', 'name'], axis=1)\n",
        "\n",
        "print('Quantitative min'\n",
        "      , auto_quan.min()\n",
        "      , '\\nQuantitative max'\n",
        "      , auto_quan.max()\n",
        "      , sep='\\n'\n",
        "     )"
      ],
      "execution_count": 4,
      "outputs": [
        {
          "output_type": "stream",
          "text": [
            "Quantitative min\n",
            "mpg                9.0\n",
            "cylinders          3.0\n",
            "displacement      68.0\n",
            "horsepower        46.0\n",
            "weight          1613.0\n",
            "acceleration       8.0\n",
            "year              70.0\n",
            "dtype: float64\n",
            "\n",
            "Quantitative max\n",
            "mpg               46.6\n",
            "cylinders          8.0\n",
            "displacement     455.0\n",
            "horsepower       230.0\n",
            "weight          5140.0\n",
            "acceleration      24.8\n",
            "year              82.0\n",
            "dtype: float64\n"
          ],
          "name": "stdout"
        }
      ]
    },
    {
      "cell_type": "markdown",
      "metadata": {
        "id": "QlvX9SLdmoA1"
      },
      "source": [
        "# (c)"
      ]
    },
    {
      "cell_type": "markdown",
      "metadata": {
        "id": "V8vPG0VDmp4e"
      },
      "source": [
        "From the textbook, p. 56::\n",
        "> What is the mean and standard deviation of each quantitative\n",
        "predictor?"
      ]
    },
    {
      "cell_type": "code",
      "metadata": {
        "id": "Ny0RtiJ7mu1U",
        "colab": {
          "base_uri": "https://localhost:8080/"
        },
        "outputId": "77cc8a4c-a94f-416f-fa48-33eb78cbaf07"
      },
      "source": [
        "print('Quantitative mean'\n",
        "      , auto_quan.mean()\n",
        "      , '\\nQuantitative std'\n",
        "      , auto_quan.std()\n",
        "      , sep='\\n'\n",
        "     )"
      ],
      "execution_count": 5,
      "outputs": [
        {
          "output_type": "stream",
          "text": [
            "Quantitative mean\n",
            "mpg               23.445918\n",
            "cylinders          5.471939\n",
            "displacement     194.411990\n",
            "horsepower       104.469388\n",
            "weight          2977.584184\n",
            "acceleration      15.541327\n",
            "year              75.979592\n",
            "dtype: float64\n",
            "\n",
            "Quantitative std\n",
            "mpg               7.805007\n",
            "cylinders         1.705783\n",
            "displacement    104.644004\n",
            "horsepower       38.491160\n",
            "weight          849.402560\n",
            "acceleration      2.758864\n",
            "year              3.683737\n",
            "dtype: float64\n"
          ],
          "name": "stdout"
        }
      ]
    },
    {
      "cell_type": "markdown",
      "metadata": {
        "id": "a8S-t47qmvPm"
      },
      "source": [
        "# (d)"
      ]
    },
    {
      "cell_type": "markdown",
      "metadata": {
        "id": "x6K5Yh78m1lV"
      },
      "source": [
        "From the textbook, p. 56:\n",
        "> Now remove the 10th through 85th observations. What is the\n",
        "range, mean, and standard deviation of each predictor in the\n",
        "subset of the data that remains?"
      ]
    },
    {
      "cell_type": "code",
      "metadata": {
        "id": "nOhAIr6dm07y",
        "colab": {
          "base_uri": "https://localhost:8080/",
          "height": 269
        },
        "outputId": "a181fa0d-9ec2-4af8-80e8-a133fdb8f052"
      },
      "source": [
        "auto_quan_sample = auto_quan.drop(np.arange(10, 86))\n",
        "pd.DataFrame({'min' : auto_quan.min()\n",
        "              , 'max' : auto_quan.max()\n",
        "              , 'mean' : auto_quan.mean()\n",
        "              , 'std' : auto_quan.std()\n",
        "             }\n",
        ")"
      ],
      "execution_count": 6,
      "outputs": [
        {
          "output_type": "execute_result",
          "data": {
            "text/html": [
              "<div>\n",
              "<style scoped>\n",
              "    .dataframe tbody tr th:only-of-type {\n",
              "        vertical-align: middle;\n",
              "    }\n",
              "\n",
              "    .dataframe tbody tr th {\n",
              "        vertical-align: top;\n",
              "    }\n",
              "\n",
              "    .dataframe thead th {\n",
              "        text-align: right;\n",
              "    }\n",
              "</style>\n",
              "<table border=\"1\" class=\"dataframe\">\n",
              "  <thead>\n",
              "    <tr style=\"text-align: right;\">\n",
              "      <th></th>\n",
              "      <th>min</th>\n",
              "      <th>max</th>\n",
              "      <th>mean</th>\n",
              "      <th>std</th>\n",
              "    </tr>\n",
              "  </thead>\n",
              "  <tbody>\n",
              "    <tr>\n",
              "      <th>mpg</th>\n",
              "      <td>9.0</td>\n",
              "      <td>46.6</td>\n",
              "      <td>23.445918</td>\n",
              "      <td>7.805007</td>\n",
              "    </tr>\n",
              "    <tr>\n",
              "      <th>cylinders</th>\n",
              "      <td>3.0</td>\n",
              "      <td>8.0</td>\n",
              "      <td>5.471939</td>\n",
              "      <td>1.705783</td>\n",
              "    </tr>\n",
              "    <tr>\n",
              "      <th>displacement</th>\n",
              "      <td>68.0</td>\n",
              "      <td>455.0</td>\n",
              "      <td>194.411990</td>\n",
              "      <td>104.644004</td>\n",
              "    </tr>\n",
              "    <tr>\n",
              "      <th>horsepower</th>\n",
              "      <td>46.0</td>\n",
              "      <td>230.0</td>\n",
              "      <td>104.469388</td>\n",
              "      <td>38.491160</td>\n",
              "    </tr>\n",
              "    <tr>\n",
              "      <th>weight</th>\n",
              "      <td>1613.0</td>\n",
              "      <td>5140.0</td>\n",
              "      <td>2977.584184</td>\n",
              "      <td>849.402560</td>\n",
              "    </tr>\n",
              "    <tr>\n",
              "      <th>acceleration</th>\n",
              "      <td>8.0</td>\n",
              "      <td>24.8</td>\n",
              "      <td>15.541327</td>\n",
              "      <td>2.758864</td>\n",
              "    </tr>\n",
              "    <tr>\n",
              "      <th>year</th>\n",
              "      <td>70.0</td>\n",
              "      <td>82.0</td>\n",
              "      <td>75.979592</td>\n",
              "      <td>3.683737</td>\n",
              "    </tr>\n",
              "  </tbody>\n",
              "</table>\n",
              "</div>"
            ],
            "text/plain": [
              "                 min     max         mean         std\n",
              "mpg              9.0    46.6    23.445918    7.805007\n",
              "cylinders        3.0     8.0     5.471939    1.705783\n",
              "displacement    68.0   455.0   194.411990  104.644004\n",
              "horsepower      46.0   230.0   104.469388   38.491160\n",
              "weight        1613.0  5140.0  2977.584184  849.402560\n",
              "acceleration     8.0    24.8    15.541327    2.758864\n",
              "year            70.0    82.0    75.979592    3.683737"
            ]
          },
          "metadata": {
            "tags": []
          },
          "execution_count": 6
        }
      ]
    },
    {
      "cell_type": "markdown",
      "metadata": {
        "id": "XEE_WoTam9Xj"
      },
      "source": [
        "# (e)"
      ]
    },
    {
      "cell_type": "markdown",
      "metadata": {
        "id": "ZkVlz18_nAWK"
      },
      "source": [
        "From the textbook, p. 56:\n",
        "> Using the full data set, investigate the predictors graphically,\n",
        "using scatterplots or other tools of your choice. Create some plots\n",
        "highlighting the relationships among the predictors. Comment\n",
        "on your findings."
      ]
    },
    {
      "cell_type": "code",
      "metadata": {
        "id": "pLp2MWs5m_zk"
      },
      "source": [
        "a = sns.pairplot(auto, plot_kws={'alpha' : 0.5})"
      ],
      "execution_count": null,
      "outputs": []
    },
    {
      "cell_type": "code",
      "metadata": {
        "id": "SRk9LgmiTX9C"
      },
      "source": [
        "a = sns.heatmap(auto.corr()\n",
        "                , vmin=-1\n",
        "                , vmax=1\n",
        "                , annot=True\n",
        "                , fmt='.2f'\n",
        "                , square=True\n",
        "                , cmap='icefire'\n",
        "               )"
      ],
      "execution_count": null,
      "outputs": []
    },
    {
      "cell_type": "markdown",
      "metadata": {
        "id": "LgVR-QzSWfxe"
      },
      "source": [
        "`cylinders`, `displacement`, `horsepower`, `weight` &mdash; all strongly correlated. This is reasonable: a heavier car needs more powerful engine, which needs to burn more fuel, which leads to more cylinders, and displacement is a total volume of all cylinders.\n",
        "\n",
        "Couple of noticable negative correlations:\n",
        "* `weight` - `mpg` &mdash; the heavier the car, the less fuel-efficient it is,\n",
        "* `horsepower` - `acceleration` &mdash; the more powerful the engine, the less time it takes to accelerate."
      ]
    },
    {
      "cell_type": "markdown",
      "metadata": {
        "id": "DUBZlm5SnIU3"
      },
      "source": [
        "# (f)"
      ]
    },
    {
      "cell_type": "markdown",
      "metadata": {
        "id": "RH8zfu9PnLQa"
      },
      "source": [
        "From the textbook, p. 56:\n",
        "> Suppose that we wish to predict gas mileage (mpg) on the basis\n",
        "of the other variables. Do your plots suggest that any of the\n",
        "other variables might be useful in predicting mpg? Justify your\n",
        "answer.\n",
        "\n",
        "`mpg` is strongly correlated with `cylinders`, `displacement`, `horsepower`, `weight` and moderately correlated with `year`. `cylinders`, `displacement`, `horsepower`, `weight` are also strongly correlated between themselves. I would use `weight`, and `year` as two more or less independent predictors."
      ]
    }
  ]
}