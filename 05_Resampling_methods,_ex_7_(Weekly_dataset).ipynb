{
  "nbformat": 4,
  "nbformat_minor": 0,
  "metadata": {
    "colab": {
      "name": "05. Resampling methods, ex. 7 (Weekly dataset)",
      "provenance": [],
      "authorship_tag": "ABX9TyOY+QJRL6tUir1b16Gy/kpU"
    },
    "kernelspec": {
      "name": "python3",
      "display_name": "Python 3"
    },
    "language_info": {
      "name": "python"
    }
  },
  "cells": [
    {
      "cell_type": "markdown",
      "metadata": {
        "id": "hWPA6J4uLVeL"
      },
      "source": [
        "All instructions are provided for R. I am going to reproduce them in Python as best as I can."
      ]
    },
    {
      "cell_type": "markdown",
      "metadata": {
        "id": "T3r7_JfM7M9m"
      },
      "source": [
        "# Preface"
      ]
    },
    {
      "cell_type": "markdown",
      "metadata": {
        "id": "_gacqJu_VloW"
      },
      "source": [
        "From the textbook, p. 199-200:\n",
        "> In Sections 5.3.2 and 5.3.3, we saw that the `cv.glm()` function can be\n",
        "used in order to compute the LOOCV test error estimate. Alternatively, one could compute those quantities using just the `glm()` and\n",
        "`predict.glm()` functions, and a for loop. You will now take this approach in order to compute the LOOCV error for a simple logistic\n",
        "regression model on the `Weekly` data set. Recall that in the context\n",
        "of classification problems, the LOOCV error is given in (5.4)."
      ]
    },
    {
      "cell_type": "code",
      "metadata": {
        "id": "S5oAez-NVd4h",
        "colab": {
          "base_uri": "https://localhost:8080/"
        },
        "outputId": "a1169fc2-c9bf-43dc-cb81-730b1030a11e"
      },
      "source": [
        "from matplotlib import pyplot as plt\n",
        "import numpy as np\n",
        "import pandas as pd\n",
        "import seaborn as sns\n",
        "from sklearn.discriminant_analysis import LinearDiscriminantAnalysis, \\\n",
        "                                          QuadraticDiscriminantAnalysis\n",
        "from sklearn.linear_model import LogisticRegression\n",
        "from sklearn.metrics import accuracy_score\n",
        "from sklearn.model_selection import train_test_split\n",
        "from sklearn.neighbors import KNeighborsClassifier\n",
        "import statsmodels.api as sm\n",
        "\n",
        "\n",
        "%matplotlib inline\n",
        "sns.set()"
      ],
      "execution_count": 1,
      "outputs": [
        {
          "output_type": "stream",
          "text": [
            "/usr/local/lib/python3.7/dist-packages/statsmodels/tools/_testing.py:19: FutureWarning: pandas.util.testing is deprecated. Use the functions in the public API at pandas.testing instead.\n",
            "  import pandas.util.testing as tm\n"
          ],
          "name": "stderr"
        }
      ]
    },
    {
      "cell_type": "code",
      "metadata": {
        "colab": {
          "base_uri": "https://localhost:8080/",
          "height": 143
        },
        "id": "0MMSxbmTl7VT",
        "outputId": "a2ed2bd9-2207-473f-fd8f-ade3b2ff564d"
      },
      "source": [
        "np.random.seed(1)\n",
        "weekly = pd.read_csv('https://raw.githubusercontent.com/dsnair/ISLR/master/data/csv/Weekly.csv')\n",
        "weekly = weekly.replace({'Up' : 1, 'Down' : 0})\n",
        "x = weekly.drop('Direction', axis='columns')\n",
        "y = weekly.Direction\n",
        "weekly.head(3)"
      ],
      "execution_count": 2,
      "outputs": [
        {
          "output_type": "execute_result",
          "data": {
            "text/html": [
              "<div>\n",
              "<style scoped>\n",
              "    .dataframe tbody tr th:only-of-type {\n",
              "        vertical-align: middle;\n",
              "    }\n",
              "\n",
              "    .dataframe tbody tr th {\n",
              "        vertical-align: top;\n",
              "    }\n",
              "\n",
              "    .dataframe thead th {\n",
              "        text-align: right;\n",
              "    }\n",
              "</style>\n",
              "<table border=\"1\" class=\"dataframe\">\n",
              "  <thead>\n",
              "    <tr style=\"text-align: right;\">\n",
              "      <th></th>\n",
              "      <th>Year</th>\n",
              "      <th>Lag1</th>\n",
              "      <th>Lag2</th>\n",
              "      <th>Lag3</th>\n",
              "      <th>Lag4</th>\n",
              "      <th>Lag5</th>\n",
              "      <th>Volume</th>\n",
              "      <th>Today</th>\n",
              "      <th>Direction</th>\n",
              "    </tr>\n",
              "  </thead>\n",
              "  <tbody>\n",
              "    <tr>\n",
              "      <th>0</th>\n",
              "      <td>1990</td>\n",
              "      <td>0.816</td>\n",
              "      <td>1.572</td>\n",
              "      <td>-3.936</td>\n",
              "      <td>-0.229</td>\n",
              "      <td>-3.484</td>\n",
              "      <td>0.154976</td>\n",
              "      <td>-0.270</td>\n",
              "      <td>0</td>\n",
              "    </tr>\n",
              "    <tr>\n",
              "      <th>1</th>\n",
              "      <td>1990</td>\n",
              "      <td>-0.270</td>\n",
              "      <td>0.816</td>\n",
              "      <td>1.572</td>\n",
              "      <td>-3.936</td>\n",
              "      <td>-0.229</td>\n",
              "      <td>0.148574</td>\n",
              "      <td>-2.576</td>\n",
              "      <td>0</td>\n",
              "    </tr>\n",
              "    <tr>\n",
              "      <th>2</th>\n",
              "      <td>1990</td>\n",
              "      <td>-2.576</td>\n",
              "      <td>-0.270</td>\n",
              "      <td>0.816</td>\n",
              "      <td>1.572</td>\n",
              "      <td>-3.936</td>\n",
              "      <td>0.159837</td>\n",
              "      <td>3.514</td>\n",
              "      <td>1</td>\n",
              "    </tr>\n",
              "  </tbody>\n",
              "</table>\n",
              "</div>"
            ],
            "text/plain": [
              "   Year   Lag1   Lag2   Lag3   Lag4   Lag5    Volume  Today  Direction\n",
              "0  1990  0.816  1.572 -3.936 -0.229 -3.484  0.154976 -0.270          0\n",
              "1  1990 -0.270  0.816  1.572 -3.936 -0.229  0.148574 -2.576          0\n",
              "2  1990 -2.576 -0.270  0.816  1.572 -3.936  0.159837  3.514          1"
            ]
          },
          "metadata": {
            "tags": []
          },
          "execution_count": 2
        }
      ]
    },
    {
      "cell_type": "markdown",
      "metadata": {
        "id": "-3yAEJIbh6Rc"
      },
      "source": [
        "# (a)"
      ]
    },
    {
      "cell_type": "markdown",
      "metadata": {
        "id": "ADEhPKooh9iz"
      },
      "source": [
        "From the textbook, p. 200:\n",
        "> Fit a logistic regression model that predicts `Direction` using `Lag1` and `Lag2`."
      ]
    },
    {
      "cell_type": "code",
      "metadata": {
        "id": "lC4lPqSBh_Fx",
        "colab": {
          "base_uri": "https://localhost:8080/"
        },
        "outputId": "ae441d63-136f-4e41-94b4-429b6e851e73"
      },
      "source": [
        "model_a = sm.GLM(y\n",
        "                 , x[['Lag1', 'Lag2']]\n",
        "                 , family=sm.genmod.families.family.Binomial()).fit()\n",
        "print(model_a.summary())"
      ],
      "execution_count": 3,
      "outputs": [
        {
          "output_type": "stream",
          "text": [
            "                 Generalized Linear Model Regression Results                  \n",
            "==============================================================================\n",
            "Dep. Variable:              Direction   No. Observations:                 1089\n",
            "Model:                            GLM   Df Residuals:                     1087\n",
            "Model Family:                Binomial   Df Model:                            1\n",
            "Link Function:                  logit   Scale:                          1.0000\n",
            "Method:                          IRLS   Log-Likelihood:                -750.63\n",
            "Date:                Mon, 19 Apr 2021   Deviance:                       1501.3\n",
            "Time:                        21:17:54   Pearson chi2:                 1.09e+03\n",
            "No. Iterations:                     4                                         \n",
            "Covariance Type:            nonrobust                                         \n",
            "==============================================================================\n",
            "                 coef    std err          z      P>|z|      [0.025      0.975]\n",
            "------------------------------------------------------------------------------\n",
            "Lag1          -0.0322      0.026     -1.235      0.217      -0.083       0.019\n",
            "Lag2           0.0664      0.026      2.511      0.012       0.015       0.118\n",
            "==============================================================================\n"
          ],
          "name": "stdout"
        }
      ]
    },
    {
      "cell_type": "markdown",
      "metadata": {
        "id": "Pqbx45YmiA4k"
      },
      "source": [
        "# (b)"
      ]
    },
    {
      "cell_type": "markdown",
      "metadata": {
        "id": "eZbUzrTziJxx"
      },
      "source": [
        "From the textbook, p. 200:\n",
        "> Fit a logistic regression model that predicts `Direction` using `Lag1` and `Lag2` using all but the first observation."
      ]
    },
    {
      "cell_type": "code",
      "metadata": {
        "id": "4ILGg8GoiLGa",
        "colab": {
          "base_uri": "https://localhost:8080/"
        },
        "outputId": "a6ce0b98-6ab7-4aac-8f2f-644ae6006693"
      },
      "source": [
        "model_b = sm.GLM(y[1:]\n",
        "                 , x.loc[1:, ['Lag1', 'Lag2']]\n",
        "                 , family=sm.genmod.families.family.Binomial()).fit()\n",
        "print(model_b.summary())"
      ],
      "execution_count": 4,
      "outputs": [
        {
          "output_type": "stream",
          "text": [
            "                 Generalized Linear Model Regression Results                  \n",
            "==============================================================================\n",
            "Dep. Variable:              Direction   No. Observations:                 1088\n",
            "Model:                            GLM   Df Residuals:                     1086\n",
            "Model Family:                Binomial   Df Model:                            1\n",
            "Link Function:                  logit   Scale:                          1.0000\n",
            "Method:                          IRLS   Log-Likelihood:                -749.89\n",
            "Date:                Mon, 19 Apr 2021   Deviance:                       1499.8\n",
            "Time:                        21:17:54   Pearson chi2:                 1.09e+03\n",
            "No. Iterations:                     4                                         \n",
            "Covariance Type:            nonrobust                                         \n",
            "==============================================================================\n",
            "                 coef    std err          z      P>|z|      [0.025      0.975]\n",
            "------------------------------------------------------------------------------\n",
            "Lag1          -0.0318      0.026     -1.223      0.221      -0.083       0.019\n",
            "Lag2           0.0670      0.026      2.531      0.011       0.015       0.119\n",
            "==============================================================================\n"
          ],
          "name": "stdout"
        }
      ]
    },
    {
      "cell_type": "markdown",
      "metadata": {
        "id": "8q4098iriLgc"
      },
      "source": [
        "# (c)"
      ]
    },
    {
      "cell_type": "markdown",
      "metadata": {
        "id": "2WxVRTO1iPtF"
      },
      "source": [
        "From the textbook, p. 200:\n",
        "> Use the model from (b) to predict the direction of the first observation. You can do this by predicting that the first observation will go up if $P(Direction=Up | Lag1, \\; Lag2) > 0.5$. Was this observation correctly classified?"
      ]
    },
    {
      "cell_type": "code",
      "metadata": {
        "id": "KbsqA0GDiQxO",
        "colab": {
          "base_uri": "https://localhost:8080/",
          "height": 35
        },
        "outputId": "e5ae78bd-a940-4168-eec6-2292d6899aa8"
      },
      "source": [
        "'Up' if model_b.predict(x.loc[0:0, ['Lag1', 'Lag2']])[0] > 0.5 else 'Down'"
      ],
      "execution_count": 5,
      "outputs": [
        {
          "output_type": "execute_result",
          "data": {
            "application/vnd.google.colaboratory.intrinsic+json": {
              "type": "string"
            },
            "text/plain": [
              "'Up'"
            ]
          },
          "metadata": {
            "tags": []
          },
          "execution_count": 5
        }
      ]
    },
    {
      "cell_type": "markdown",
      "metadata": {
        "id": "01bm8pLA782I"
      },
      "source": [
        "It was not correctly classified."
      ]
    },
    {
      "cell_type": "markdown",
      "metadata": {
        "id": "IRPUV-DjiSGx"
      },
      "source": [
        "# (d)"
      ]
    },
    {
      "cell_type": "markdown",
      "metadata": {
        "id": "3aboDUToiTU1"
      },
      "source": [
        "From the textbook, p. 200:\n",
        "> Write a for loop `from i = 1 to i = n`, where `n` is the number of observations in the data set, that performs each of the following steps:\n",
        "1. Fit a logistic regression model using all but the ith observation to predict `Direction` using `Lag1` and `Lag2`.\n",
        "1. Compute the posterior probability of the market moving up for the ith observation.\n",
        "1. Use the posterior probability for the ith observation in order to predict whether or not the market moves up.\n",
        "1. Determine whether or not an error was made in predicting the direction for the ith observation. If an error was made, then indicate this as a 1, and otherwise indicate it as a 0."
      ]
    },
    {
      "cell_type": "markdown",
      "metadata": {
        "id": "uu8wxfcdih6d"
      },
      "source": [
        ""
      ]
    },
    {
      "cell_type": "code",
      "metadata": {
        "id": "2GAbNJViii2s"
      },
      "source": [
        "is_incorrect = []\n",
        "for i, row in x.iterrows():\n",
        "  model_d = sm.GLM(y.drop(i)\n",
        "                   , x.drop(i)[['Lag1', 'Lag2']]\n",
        "                   , family=sm.genmod.families.family.Binomial()).fit()\n",
        "  pred = 1 if (model_b.predict(x.loc[i:i, ['Lag1', 'Lag2']]) > 0.5).all() else 1\n",
        "  is_incorrect.append(0 if pred == y[i] else 1)"
      ],
      "execution_count": 6,
      "outputs": []
    },
    {
      "cell_type": "markdown",
      "metadata": {
        "id": "K60oBrlejNF9"
      },
      "source": [
        "# (e)"
      ]
    },
    {
      "cell_type": "markdown",
      "metadata": {
        "id": "Tcku58d_jPQv"
      },
      "source": [
        "From the textbook, p. 200:\n",
        "> Take the average of the $n$ numbers obtained in (d).iv in order to obtain the LOOCV estimate for the test error. Comment on the results."
      ]
    },
    {
      "cell_type": "code",
      "metadata": {
        "id": "O_QHODDfVVPR",
        "colab": {
          "base_uri": "https://localhost:8080/"
        },
        "outputId": "82929c67-4700-4766-feda-7243c800d41e"
      },
      "source": [
        "sum(is_incorrect) / len(is_incorrect)"
      ],
      "execution_count": 7,
      "outputs": [
        {
          "output_type": "execute_result",
          "data": {
            "text/plain": [
              "0.4444444444444444"
            ]
          },
          "metadata": {
            "tags": []
          },
          "execution_count": 7
        }
      ]
    },
    {
      "cell_type": "markdown",
      "metadata": {
        "id": "BsTMj3RB_fNQ"
      },
      "source": [
        "The LOOCV estimate of the test error is 44%. If you believe this estimate, the classifier does its job poorly."
      ]
    }
  ]
}