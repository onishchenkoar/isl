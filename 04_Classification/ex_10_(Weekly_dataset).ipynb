{
  "nbformat": 4,
  "nbformat_minor": 0,
  "metadata": {
    "colab": {
      "name": "04. Classification, ex. 10 (Weekly dataset)",
      "provenance": [],
      "collapsed_sections": [],
      "authorship_tag": "ABX9TyNueQpHyzoonXjPQpfgGbVp"
    },
    "kernelspec": {
      "name": "python3",
      "display_name": "Python 3"
    },
    "language_info": {
      "name": "python"
    }
  },
  "cells": [
    {
      "cell_type": "markdown",
      "metadata": {
        "id": "hWPA6J4uLVeL"
      },
      "source": [
        "All instructions are provided for R. I am going to reproduce them in Python as best as I can."
      ]
    },
    {
      "cell_type": "markdown",
      "metadata": {
        "id": "T3r7_JfM7M9m"
      },
      "source": [
        "# Preface"
      ]
    },
    {
      "cell_type": "markdown",
      "metadata": {
        "id": "Y2NO4qlorVfj"
      },
      "source": [
        "From the textbook, p. 171:\n",
        "> This question should be answered using the `Weekly` data set, which is part of the `ISLR` package. This data is similar in nature to the `Smarket` data from this chapter’s lab, except that it contains 1,089 weekly returns for 21 years, from the beginning of 1990 to the end of 2010."
      ]
    },
    {
      "cell_type": "code",
      "metadata": {
        "id": "JUdWwVjKrqH6",
        "colab": {
          "base_uri": "https://localhost:8080/"
        },
        "outputId": "bbfa49f2-5561-4502-95ca-85bda6bddff4"
      },
      "source": [
        "from matplotlib import pyplot as plt\n",
        "import numpy as np\n",
        "import pandas as pd\n",
        "import seaborn as sns\n",
        "from sklearn.discriminant_analysis import LinearDiscriminantAnalysis \\\n",
        "                                          , QuadraticDiscriminantAnalysis\n",
        "from sklearn.metrics import confusion_matrix \n",
        "from sklearn.neighbors import KNeighborsClassifier\n",
        "import statsmodels.api as sm\n",
        "\n",
        "\n",
        "%matplotlib inline\n",
        "sns.set()"
      ],
      "execution_count": 1,
      "outputs": [
        {
          "output_type": "stream",
          "text": [
            "/usr/local/lib/python3.7/dist-packages/statsmodels/tools/_testing.py:19: FutureWarning: pandas.util.testing is deprecated. Use the functions in the public API at pandas.testing instead.\n",
            "  import pandas.util.testing as tm\n"
          ],
          "name": "stderr"
        }
      ]
    },
    {
      "cell_type": "code",
      "metadata": {
        "colab": {
          "base_uri": "https://localhost:8080/",
          "height": 143
        },
        "id": "qqkiMAKKeKLE",
        "outputId": "3791ece4-628c-489e-ba1f-459d1a1bbb30"
      },
      "source": [
        "weekly = pd.read_csv('https://raw.githubusercontent.com/dsnair/ISLR/master/data/csv/Weekly.csv')\n",
        "weekly.head(3)"
      ],
      "execution_count": 2,
      "outputs": [
        {
          "output_type": "execute_result",
          "data": {
            "text/html": [
              "<div>\n",
              "<style scoped>\n",
              "    .dataframe tbody tr th:only-of-type {\n",
              "        vertical-align: middle;\n",
              "    }\n",
              "\n",
              "    .dataframe tbody tr th {\n",
              "        vertical-align: top;\n",
              "    }\n",
              "\n",
              "    .dataframe thead th {\n",
              "        text-align: right;\n",
              "    }\n",
              "</style>\n",
              "<table border=\"1\" class=\"dataframe\">\n",
              "  <thead>\n",
              "    <tr style=\"text-align: right;\">\n",
              "      <th></th>\n",
              "      <th>Year</th>\n",
              "      <th>Lag1</th>\n",
              "      <th>Lag2</th>\n",
              "      <th>Lag3</th>\n",
              "      <th>Lag4</th>\n",
              "      <th>Lag5</th>\n",
              "      <th>Volume</th>\n",
              "      <th>Today</th>\n",
              "      <th>Direction</th>\n",
              "    </tr>\n",
              "  </thead>\n",
              "  <tbody>\n",
              "    <tr>\n",
              "      <th>0</th>\n",
              "      <td>1990</td>\n",
              "      <td>0.816</td>\n",
              "      <td>1.572</td>\n",
              "      <td>-3.936</td>\n",
              "      <td>-0.229</td>\n",
              "      <td>-3.484</td>\n",
              "      <td>0.154976</td>\n",
              "      <td>-0.270</td>\n",
              "      <td>Down</td>\n",
              "    </tr>\n",
              "    <tr>\n",
              "      <th>1</th>\n",
              "      <td>1990</td>\n",
              "      <td>-0.270</td>\n",
              "      <td>0.816</td>\n",
              "      <td>1.572</td>\n",
              "      <td>-3.936</td>\n",
              "      <td>-0.229</td>\n",
              "      <td>0.148574</td>\n",
              "      <td>-2.576</td>\n",
              "      <td>Down</td>\n",
              "    </tr>\n",
              "    <tr>\n",
              "      <th>2</th>\n",
              "      <td>1990</td>\n",
              "      <td>-2.576</td>\n",
              "      <td>-0.270</td>\n",
              "      <td>0.816</td>\n",
              "      <td>1.572</td>\n",
              "      <td>-3.936</td>\n",
              "      <td>0.159837</td>\n",
              "      <td>3.514</td>\n",
              "      <td>Up</td>\n",
              "    </tr>\n",
              "  </tbody>\n",
              "</table>\n",
              "</div>"
            ],
            "text/plain": [
              "   Year   Lag1   Lag2   Lag3   Lag4   Lag5    Volume  Today Direction\n",
              "0  1990  0.816  1.572 -3.936 -0.229 -3.484  0.154976 -0.270      Down\n",
              "1  1990 -0.270  0.816  1.572 -3.936 -0.229  0.148574 -2.576      Down\n",
              "2  1990 -2.576 -0.270  0.816  1.572 -3.936  0.159837  3.514        Up"
            ]
          },
          "metadata": {
            "tags": []
          },
          "execution_count": 2
        }
      ]
    },
    {
      "cell_type": "markdown",
      "metadata": {
        "id": "2Muy5OUogAi3"
      },
      "source": [
        "Columns (information taken from [here](https://rdrr.io/cran/ISLR/man/Weekly.html)):\n",
        "* `Year` &mdash; the year that the observation was recorded;\n",
        "* `Lag1` &mdash; percentage return for previous week;\n",
        "* `Lag2` &mdash; percentage return for 2 weeks previous;\n",
        "* `Lag3` &mdash; percentage return for 3 weeks previous;\n",
        "* `Lag4` &mdash; percentage return for 4 weeks previous;\n",
        "* `Lag5` &mdash; percentage return for 5 weeks previous;\n",
        "* `Volume` &mdash; volume of shares traded (average number of daily shares traded in billions);\n",
        "* `Today` &mdash; percentage return for this week;\n",
        "* `Direction` &mdash; a factor with levels Down and Up indicating whether the market had a positive or negative return on a given week."
      ]
    },
    {
      "cell_type": "code",
      "metadata": {
        "id": "exvzNQWrZz2A"
      },
      "source": [
        "weekly_dummy = pd.get_dummies(weekly, drop_first=True)\n",
        "weekly_dummy['week'] = np.arange(1, len(weekly)+1)"
      ],
      "execution_count": 3,
      "outputs": []
    },
    {
      "cell_type": "markdown",
      "metadata": {
        "id": "TiiooSPfrqkI"
      },
      "source": [
        "# (a)"
      ]
    },
    {
      "cell_type": "markdown",
      "metadata": {
        "id": "SnbW-tP6rvfL"
      },
      "source": [
        "From the textbook, p.171:\n",
        "> Produce some numerical and graphical summaries of the `Weekly` data. Do there appear to be any patterns?"
      ]
    },
    {
      "cell_type": "code",
      "metadata": {
        "colab": {
          "base_uri": "https://localhost:8080/",
          "height": 300
        },
        "id": "XLTVcqrFegVs",
        "outputId": "a1820fbe-1404-4854-f55b-0632c51aa699"
      },
      "source": [
        "weekly_dummy.describe()"
      ],
      "execution_count": 4,
      "outputs": [
        {
          "output_type": "execute_result",
          "data": {
            "text/html": [
              "<div>\n",
              "<style scoped>\n",
              "    .dataframe tbody tr th:only-of-type {\n",
              "        vertical-align: middle;\n",
              "    }\n",
              "\n",
              "    .dataframe tbody tr th {\n",
              "        vertical-align: top;\n",
              "    }\n",
              "\n",
              "    .dataframe thead th {\n",
              "        text-align: right;\n",
              "    }\n",
              "</style>\n",
              "<table border=\"1\" class=\"dataframe\">\n",
              "  <thead>\n",
              "    <tr style=\"text-align: right;\">\n",
              "      <th></th>\n",
              "      <th>Year</th>\n",
              "      <th>Lag1</th>\n",
              "      <th>Lag2</th>\n",
              "      <th>Lag3</th>\n",
              "      <th>Lag4</th>\n",
              "      <th>Lag5</th>\n",
              "      <th>Volume</th>\n",
              "      <th>Today</th>\n",
              "      <th>Direction_Up</th>\n",
              "      <th>week</th>\n",
              "    </tr>\n",
              "  </thead>\n",
              "  <tbody>\n",
              "    <tr>\n",
              "      <th>count</th>\n",
              "      <td>1089.000000</td>\n",
              "      <td>1089.000000</td>\n",
              "      <td>1089.000000</td>\n",
              "      <td>1089.000000</td>\n",
              "      <td>1089.000000</td>\n",
              "      <td>1089.000000</td>\n",
              "      <td>1089.000000</td>\n",
              "      <td>1089.000000</td>\n",
              "      <td>1089.000000</td>\n",
              "      <td>1089.000000</td>\n",
              "    </tr>\n",
              "    <tr>\n",
              "      <th>mean</th>\n",
              "      <td>2000.048669</td>\n",
              "      <td>0.150585</td>\n",
              "      <td>0.151079</td>\n",
              "      <td>0.147205</td>\n",
              "      <td>0.145818</td>\n",
              "      <td>0.139893</td>\n",
              "      <td>1.574618</td>\n",
              "      <td>0.149899</td>\n",
              "      <td>0.555556</td>\n",
              "      <td>545.000000</td>\n",
              "    </tr>\n",
              "    <tr>\n",
              "      <th>std</th>\n",
              "      <td>6.033182</td>\n",
              "      <td>2.357013</td>\n",
              "      <td>2.357254</td>\n",
              "      <td>2.360502</td>\n",
              "      <td>2.360279</td>\n",
              "      <td>2.361285</td>\n",
              "      <td>1.686636</td>\n",
              "      <td>2.356927</td>\n",
              "      <td>0.497132</td>\n",
              "      <td>314.511526</td>\n",
              "    </tr>\n",
              "    <tr>\n",
              "      <th>min</th>\n",
              "      <td>1990.000000</td>\n",
              "      <td>-18.195000</td>\n",
              "      <td>-18.195000</td>\n",
              "      <td>-18.195000</td>\n",
              "      <td>-18.195000</td>\n",
              "      <td>-18.195000</td>\n",
              "      <td>0.087465</td>\n",
              "      <td>-18.195000</td>\n",
              "      <td>0.000000</td>\n",
              "      <td>1.000000</td>\n",
              "    </tr>\n",
              "    <tr>\n",
              "      <th>25%</th>\n",
              "      <td>1995.000000</td>\n",
              "      <td>-1.154000</td>\n",
              "      <td>-1.154000</td>\n",
              "      <td>-1.158000</td>\n",
              "      <td>-1.158000</td>\n",
              "      <td>-1.166000</td>\n",
              "      <td>0.332022</td>\n",
              "      <td>-1.154000</td>\n",
              "      <td>0.000000</td>\n",
              "      <td>273.000000</td>\n",
              "    </tr>\n",
              "    <tr>\n",
              "      <th>50%</th>\n",
              "      <td>2000.000000</td>\n",
              "      <td>0.241000</td>\n",
              "      <td>0.241000</td>\n",
              "      <td>0.241000</td>\n",
              "      <td>0.238000</td>\n",
              "      <td>0.234000</td>\n",
              "      <td>1.002680</td>\n",
              "      <td>0.241000</td>\n",
              "      <td>1.000000</td>\n",
              "      <td>545.000000</td>\n",
              "    </tr>\n",
              "    <tr>\n",
              "      <th>75%</th>\n",
              "      <td>2005.000000</td>\n",
              "      <td>1.405000</td>\n",
              "      <td>1.409000</td>\n",
              "      <td>1.409000</td>\n",
              "      <td>1.409000</td>\n",
              "      <td>1.405000</td>\n",
              "      <td>2.053727</td>\n",
              "      <td>1.405000</td>\n",
              "      <td>1.000000</td>\n",
              "      <td>817.000000</td>\n",
              "    </tr>\n",
              "    <tr>\n",
              "      <th>max</th>\n",
              "      <td>2010.000000</td>\n",
              "      <td>12.026000</td>\n",
              "      <td>12.026000</td>\n",
              "      <td>12.026000</td>\n",
              "      <td>12.026000</td>\n",
              "      <td>12.026000</td>\n",
              "      <td>9.328214</td>\n",
              "      <td>12.026000</td>\n",
              "      <td>1.000000</td>\n",
              "      <td>1089.000000</td>\n",
              "    </tr>\n",
              "  </tbody>\n",
              "</table>\n",
              "</div>"
            ],
            "text/plain": [
              "              Year         Lag1  ...  Direction_Up         week\n",
              "count  1089.000000  1089.000000  ...   1089.000000  1089.000000\n",
              "mean   2000.048669     0.150585  ...      0.555556   545.000000\n",
              "std       6.033182     2.357013  ...      0.497132   314.511526\n",
              "min    1990.000000   -18.195000  ...      0.000000     1.000000\n",
              "25%    1995.000000    -1.154000  ...      0.000000   273.000000\n",
              "50%    2000.000000     0.241000  ...      1.000000   545.000000\n",
              "75%    2005.000000     1.405000  ...      1.000000   817.000000\n",
              "max    2010.000000    12.026000  ...      1.000000  1089.000000\n",
              "\n",
              "[8 rows x 10 columns]"
            ]
          },
          "metadata": {
            "tags": []
          },
          "execution_count": 4
        }
      ]
    },
    {
      "cell_type": "code",
      "metadata": {
        "colab": {
          "base_uri": "https://localhost:8080/"
        },
        "id": "d6cW4kN1m9p0",
        "outputId": "b146ed8b-daad-4ac1-e2d5-189bbb3335e3"
      },
      "source": [
        "weekly_dummy.isna().any().any()"
      ],
      "execution_count": 5,
      "outputs": [
        {
          "output_type": "execute_result",
          "data": {
            "text/plain": [
              "False"
            ]
          },
          "metadata": {
            "tags": []
          },
          "execution_count": 5
        }
      ]
    },
    {
      "cell_type": "markdown",
      "metadata": {
        "id": "F8FcZLQa16Zh"
      },
      "source": [
        "There are no empty values."
      ]
    },
    {
      "cell_type": "markdown",
      "metadata": {
        "id": "Z_FsVDiMkS1Z"
      },
      "source": [
        "Notes:\n",
        "* There are no empty values.\n",
        "* The distributions of lags seem to be roughly the same. This is expected, because lags are running variables &mdash; each of them is going through the same values."
      ]
    },
    {
      "cell_type": "code",
      "metadata": {
        "colab": {
          "base_uri": "https://localhost:8080/",
          "height": 441
        },
        "id": "n3-PO8lslT3z",
        "outputId": "40c6b76f-6ef5-44ae-a042-39f569dd4889"
      },
      "source": [
        "plt.figure(figsize=(8, 6))\n",
        "sns.heatmap(weekly_dummy.corr()\n",
        "            , vmin=-1\n",
        "            , vmax=1\n",
        "            , annot=True\n",
        "            , fmt='.2f'\n",
        "            , square=True\n",
        "            , cmap='icefire'\n",
        ")\n",
        "plt.tight_layout()"
      ],
      "execution_count": 6,
      "outputs": [
        {
          "output_type": "display_data",
          "data": {
            "image/png": "[encoded data removed]",
            "text/plain": [
              "<Figure size 576x432 with 2 Axes>"
            ]
          },
          "metadata": {
            "tags": [],
            "needs_background": "light"
          }
        }
      ]
    },
    {
      "cell_type": "markdown",
      "metadata": {
        "id": "tf5XPZvD3DWv"
      },
      "source": [
        "`Year` and `week` have, expectedly, a perfect positive correlation. `Volume` seem to grow together with both of them. The rest of the predictors are not correlated at all."
      ]
    },
    {
      "cell_type": "code",
      "metadata": {
        "colab": {
          "base_uri": "https://localhost:8080/",
          "height": 619
        },
        "id": "rxlYKJKswz5r",
        "outputId": "3ebd2fdd-fad8-445e-ff5d-803c4898c437"
      },
      "source": [
        "fig, axs = plt.subplots(ncols=1, nrows=2, figsize=(16, 8))\n",
        "axs = axs.flatten()\n",
        "sns.lineplot(x='week', y='Volume', data=weekly_dummy, ax=axs[0])\n",
        "axs[0].set_xticks(np.arange(1, len(weekly)+1, 52))\n",
        "axs[0].set_xticklabels(weekly_dummy.Year.unique())\n",
        "axs[0].set_xlabel('Year')\n",
        "sns.scatterplot(x='Today', y='Direction_Up', data=weekly_dummy, ax=axs[1])\n",
        "plt.suptitle('Correlated variables', y=1.04)\n",
        "plt.tight_layout()"
      ],
      "execution_count": 7,
      "outputs": [
        {
          "output_type": "display_data",
          "data": {
            "image/png": "[encoded data removed]",
            "text/plain": [
              "<Figure size 1152x576 with 2 Axes>"
            ]
          },
          "metadata": {
            "tags": [],
            "needs_background": "light"
          }
        }
      ]
    },
    {
      "cell_type": "markdown",
      "metadata": {
        "id": "-3C-VwFGrxl4"
      },
      "source": [
        "# (b)"
      ]
    },
    {
      "cell_type": "markdown",
      "metadata": {
        "id": "mMG_Xsgwr1WC"
      },
      "source": [
        "From the textbook, p.171:\n",
        "> Use the full data set to perform a logistic regression with `Direction` as the response and the five lag variables plus `Volume` as predictors. Use the summary function to print the results. Do any of the predictors appear to be statistically significant? If so, which ones?"
      ]
    },
    {
      "cell_type": "code",
      "metadata": {
        "id": "jyEV97JgcsDQ"
      },
      "source": [
        "y = pd.get_dummies(weekly.Direction, drop_first=True)\n",
        "x = weekly.drop('Direction', axis='columns').assign(Intercept=1)"
      ],
      "execution_count": 8,
      "outputs": []
    },
    {
      "cell_type": "code",
      "metadata": {
        "id": "yEM85MARr2LH",
        "colab": {
          "base_uri": "https://localhost:8080/"
        },
        "outputId": "4d485cbb-b162-4391-9512-04a393e069ba"
      },
      "source": [
        "model_b = sm.Logit(y, x.drop(['Year', 'Today'], axis='columns')).fit()\n",
        "print(model_b.summary())"
      ],
      "execution_count": 9,
      "outputs": [
        {
          "output_type": "stream",
          "text": [
            "Optimization terminated successfully.\n",
            "         Current function value: 1.925080\n",
            "         Iterations 4\n",
            "                           Logit Regression Results                           \n",
            "==============================================================================\n",
            "Dep. Variable:                     Up   No. Observations:                 1089\n",
            "Model:                          Logit   Df Residuals:                     1082\n",
            "Method:                           MLE   Df Model:                            6\n",
            "Date:                Thu, 15 Apr 2021   Pseudo R-squ.:                     inf\n",
            "Time:                        20:02:32   Log-Likelihood:                -2096.4\n",
            "converged:                       True   LL-Null:                        0.0000\n",
            "Covariance Type:            nonrobust   LLR p-value:                     1.000\n",
            "==============================================================================\n",
            "                 coef    std err          z      P>|z|      [0.025      0.975]\n",
            "------------------------------------------------------------------------------\n",
            "Lag1          -0.0413      0.026     -1.563      0.118      -0.093       0.010\n",
            "Lag2           0.0584      0.027      2.175      0.030       0.006       0.111\n",
            "Lag3          -0.0161      0.027     -0.602      0.547      -0.068       0.036\n",
            "Lag4          -0.0278      0.026     -1.050      0.294      -0.080       0.024\n",
            "Lag5          -0.0145      0.026     -0.549      0.583      -0.066       0.037\n",
            "Volume        -0.0227      0.037     -0.616      0.538      -0.095       0.050\n",
            "Intercept      0.2669      0.086      3.106      0.002       0.098       0.435\n",
            "==============================================================================\n"
          ],
          "name": "stdout"
        },
        {
          "output_type": "stream",
          "text": [
            "/usr/local/lib/python3.7/dist-packages/statsmodels/base/model.py:492: HessianInversionWarning: Inverting hessian failed, no bse or cov_params available\n",
            "  'available', HessianInversionWarning)\n",
            "/usr/local/lib/python3.7/dist-packages/statsmodels/base/model.py:492: HessianInversionWarning: Inverting hessian failed, no bse or cov_params available\n",
            "  'available', HessianInversionWarning)\n",
            "/usr/local/lib/python3.7/dist-packages/statsmodels/discrete/discrete_model.py:3390: RuntimeWarning: divide by zero encountered in double_scalars\n",
            "  return 1 - self.llf/self.llnull\n"
          ],
          "name": "stderr"
        }
      ]
    },
    {
      "cell_type": "markdown",
      "metadata": {
        "id": "-Havo4eefKCL"
      },
      "source": [
        "`Lag2` appears to be statistically significant."
      ]
    },
    {
      "cell_type": "markdown",
      "metadata": {
        "id": "caiedOalr45G"
      },
      "source": [
        "# (c)"
      ]
    },
    {
      "cell_type": "markdown",
      "metadata": {
        "id": "DMqEMlXlr7Gy"
      },
      "source": [
        "From the textbook, p.171:\n",
        "> Compute the confusion matrix and overall fraction of correct predictions. Explain what the confusion matrix is telling you about the types of mistakes made by logistic regression."
      ]
    },
    {
      "cell_type": "code",
      "metadata": {
        "id": "VhrdS9s3r9xU",
        "colab": {
          "base_uri": "https://localhost:8080/"
        },
        "outputId": "1802ea09-ed5c-472b-d2ff-434e0aeabd51"
      },
      "source": [
        "cm = model_b.pred_table()\n",
        "print(f'Confusion matrix:\\n{cm}\\n')\n",
        "print('Model accuracy:', np.diag(cm).sum() / cm.sum())"
      ],
      "execution_count": 10,
      "outputs": [
        {
          "output_type": "stream",
          "text": [
            "Confusion matrix:\n",
            "[[ 54. 430.]\n",
            " [ 48. 557.]]\n",
            "\n",
            "Model accuracy: 0.5610651974288338\n"
          ],
          "name": "stdout"
        }
      ]
    },
    {
      "cell_type": "markdown",
      "metadata": {
        "id": "kfYIYNCZr-LI"
      },
      "source": [
        "# (d)"
      ]
    },
    {
      "cell_type": "markdown",
      "metadata": {
        "id": "XYylctiBsAyc"
      },
      "source": [
        "From the textbook, p.171:\n",
        "> Now fit the logistic regression model using a training data period from 1990 to 2008, with `Lag2` as the only predictor. Compute the confusion matrix and the overall fraction of correct predictions for the held out data (that is, the data from 2009 and 2010)."
      ]
    },
    {
      "cell_type": "code",
      "metadata": {
        "id": "HvqwnXSAsD0G",
        "colab": {
          "base_uri": "https://localhost:8080/"
        },
        "outputId": "d4bfb0bb-c5b1-4815-8a7e-b174e8caf8b6"
      },
      "source": [
        "model_d = sm.Logit(y, x[['Intercept', 'Lag2']]).fit()\n",
        "cm = model_d.pred_table()\n",
        "print(f'\\nConfusion matrix:\\n{cm}\\n')\n",
        "print('Model accuracy:', np.diag(cm).sum() / cm.sum())"
      ],
      "execution_count": 11,
      "outputs": [
        {
          "output_type": "stream",
          "text": [
            "Optimization terminated successfully.\n",
            "         Current function value: 1.095346\n",
            "         Iterations 4\n",
            "\n",
            "Confusion matrix:\n",
            "[[ 33. 451.]\n",
            " [ 26. 579.]]\n",
            "\n",
            "Model accuracy: 0.5619834710743802\n"
          ],
          "name": "stdout"
        }
      ]
    },
    {
      "cell_type": "markdown",
      "metadata": {
        "id": "N2G0hdO9sEJH"
      },
      "source": [
        "# (e)"
      ]
    },
    {
      "cell_type": "markdown",
      "metadata": {
        "id": "ThWSXxD9sF5A"
      },
      "source": [
        "From the textbook, p.171:\n",
        "> Repeat (d) using LDA."
      ]
    },
    {
      "cell_type": "code",
      "metadata": {
        "id": "rCM9jbzCsJm-",
        "colab": {
          "base_uri": "https://localhost:8080/"
        },
        "outputId": "23757e06-b266-4d12-c420-2a19dd95361e"
      },
      "source": [
        "model_e = LinearDiscriminantAnalysis()\n",
        "model_e.fit(x[['Lag2']], y.to_numpy().ravel())\n",
        "cm_e = confusion_matrix(y.to_numpy().ravel(), model_e.predict(x[['Lag2']]))\n",
        "print(f'Confusion matrix:\\n{cm_e}\\n')\n",
        "print('Model accuracy:', np.diag(cm_e).sum() / cm_e.sum())"
      ],
      "execution_count": 17,
      "outputs": [
        {
          "output_type": "stream",
          "text": [
            "Confusion matrix:\n",
            "[[ 33 451]\n",
            " [ 25 580]]\n",
            "\n",
            "Model accuracy: 0.5629017447199265\n"
          ],
          "name": "stdout"
        }
      ]
    },
    {
      "cell_type": "markdown",
      "metadata": {
        "id": "L4tkaDwPsKO6"
      },
      "source": [
        "# (f)"
      ]
    },
    {
      "cell_type": "markdown",
      "metadata": {
        "id": "oxuDBXAHsMVi"
      },
      "source": [
        "From the textbook, p.171:\n",
        "> Repeat (d) using QDA."
      ]
    },
    {
      "cell_type": "code",
      "metadata": {
        "id": "cFhgQ-GgsOMF",
        "colab": {
          "base_uri": "https://localhost:8080/"
        },
        "outputId": "e54f5e73-35c4-42ca-bce4-69e510a78d3a"
      },
      "source": [
        "model_f = QuadraticDiscriminantAnalysis()\n",
        "model_f.fit(x[['Lag2']], y.to_numpy().ravel())\n",
        "cm_f = confusion_matrix(y.to_numpy().ravel(), model_f.predict(x[['Lag2']]))\n",
        "print(f'Confusion matrix:\\n{cm_f}\\n')\n",
        "print('Model accuracy:', np.diag(cm_f).sum() / cm_f.sum())"
      ],
      "execution_count": 20,
      "outputs": [
        {
          "output_type": "stream",
          "text": [
            "Confusion matrix:\n",
            "[[  0 484]\n",
            " [  0 605]]\n",
            "\n",
            "Model accuracy: 0.5555555555555556\n"
          ],
          "name": "stdout"
        }
      ]
    },
    {
      "cell_type": "markdown",
      "metadata": {
        "id": "BQBprm2psOl7"
      },
      "source": [
        "# (g)"
      ]
    },
    {
      "cell_type": "markdown",
      "metadata": {
        "id": "_tlstPMVsQyU"
      },
      "source": [
        "From the textbook, p.171:\n",
        "> Repeat (d) using KNN with K = 1."
      ]
    },
    {
      "cell_type": "code",
      "metadata": {
        "id": "aTPybvLSsSXN",
        "colab": {
          "base_uri": "https://localhost:8080/"
        },
        "outputId": "041dd085-989f-40f0-e5bb-9489f8804b05"
      },
      "source": [
        "model_g = KNeighborsClassifier(n_neighbors=1)\n",
        "model_g.fit(x[['Lag2']], y.to_numpy().ravel())\n",
        "cm_g = confusion_matrix(y.to_numpy().ravel(), model_g.predict(x[['Lag2']]))\n",
        "print(f'Confusion matrix:\\n{cm_g}\\n')\n",
        "print('Model accuracy:', np.diag(cm_g).sum() / cm_g.sum())"
      ],
      "execution_count": 19,
      "outputs": [
        {
          "output_type": "stream",
          "text": [
            "Confusion matrix:\n",
            "[[459  25]\n",
            " [ 20 585]]\n",
            "\n",
            "Model accuracy: 0.9586776859504132\n"
          ],
          "name": "stdout"
        }
      ]
    },
    {
      "cell_type": "markdown",
      "metadata": {
        "id": "jnOBAWSBsTds"
      },
      "source": [
        "# (h)"
      ]
    },
    {
      "cell_type": "markdown",
      "metadata": {
        "id": "uCwjOdeDsWGC"
      },
      "source": [
        "From the textbook, p.171:\n",
        "> Which of these methods appear to provide the best results on this data?"
      ]
    },
    {
      "cell_type": "markdown",
      "metadata": {
        "id": "rTDkoQ7ZuqmD"
      },
      "source": [
        "KNN, by far."
      ]
    },
    {
      "cell_type": "markdown",
      "metadata": {
        "id": "9V2luZbpsY85"
      },
      "source": [
        "# (i)"
      ]
    },
    {
      "cell_type": "markdown",
      "metadata": {
        "id": "-pfira-aschI"
      },
      "source": [
        "From the textbook, p.171:\n",
        "> Experiment with different combinations of predictors, including possible transformations and interactions, for each of the methods. Report the variables, method, and associated confusion matrix that appears to provide the best results on the held out data. Note that you should also experiment with values for K in the KNN classifier."
      ]
    },
    {
      "cell_type": "markdown",
      "metadata": {
        "id": "F7mHVOkMH0mZ"
      },
      "source": [
        "I have procrastinated on this nebulous task for a day. I'm leaving it for now; will return later (maybe)."
      ]
    }
  ]
}