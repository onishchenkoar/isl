{
  "nbformat": 4,
  "nbformat_minor": 0,
  "metadata": {
    "colab": {
      "name": "06. Linear Model Selection and Regularization, ex. 10 (Synthetic dataset)",
      "provenance": [],
      "authorship_tag": "ABX9TyO1F1WEz1z4XlJYonFsPQyQ"
    },
    "kernelspec": {
      "name": "python3",
      "display_name": "Python 3"
    },
    "language_info": {
      "name": "python"
    }
  },
  "cells": [
    {
      "cell_type": "markdown",
      "metadata": {
        "id": "hWPA6J4uLVeL"
      },
      "source": [
        "All instructions are provided for R. I am going to reproduce them in Python as best as I can."
      ]
    },
    {
      "cell_type": "markdown",
      "metadata": {
        "id": "T3r7_JfM7M9m"
      },
      "source": [
        "# Preface"
      ]
    },
    {
      "cell_type": "markdown",
      "metadata": {
        "id": "4DZe4sc4Pi-p"
      },
      "source": [
        "From the textbook, p. 263:\n",
        "> We have seen that as the number of features used in a model increases,\n",
        "the training error will necessarily decrease, but the test error may not.\n",
        "We will now explore this in a simulated data set."
      ]
    },
    {
      "cell_type": "code",
      "metadata": {
        "id": "CdjM1EW3PSah"
      },
      "source": [
        "from itertools import combinations\n",
        "\n",
        "from matplotlib import pyplot as plt\n",
        "import numpy as np\n",
        "import pandas as pd\n",
        "import seaborn as sns\n",
        "from sklearn.linear_model import LinearRegression\n",
        "from sklearn.metrics import mean_squared_error\n",
        "from sklearn.model_selection import train_test_split\n",
        "\n",
        "\n",
        "sns.set()\n",
        "%matplotlib inline"
      ],
      "execution_count": 1,
      "outputs": []
    },
    {
      "cell_type": "markdown",
      "metadata": {
        "id": "VYe2XRzHRcck"
      },
      "source": [
        "# (a)"
      ]
    },
    {
      "cell_type": "markdown",
      "metadata": {
        "id": "NrmmwJMgRemA"
      },
      "source": [
        "From the textbook, p. 264:\n",
        "> Generate a data set with $p = 20$ features, $n = 1000$ observations, and an associated quantitative response vector generated according to the model $Y = X \\beta + \\epsilon$, where $\\beta$ has some elements that are exactly equal to zero."
      ]
    },
    {
      "cell_type": "code",
      "metadata": {
        "id": "JjfXwthJRh6s"
      },
      "source": [
        "np.random.seed(1)\n",
        "p = 20\n",
        "n = 1000\n",
        "x = np.random.normal(size=(n, p))\n",
        "beta = np.random.randint(10, size=p).reshape(-1, 1)\n",
        "eps = 0.3 * np.random.normal(size=n).reshape(-1, 1)\n",
        "y = x@beta + eps"
      ],
      "execution_count": 2,
      "outputs": []
    },
    {
      "cell_type": "markdown",
      "metadata": {
        "id": "MGViH7NmRiW9"
      },
      "source": [
        "# (b)"
      ]
    },
    {
      "cell_type": "markdown",
      "metadata": {
        "id": "tEgSnPYVRlmt"
      },
      "source": [
        "From the textbook, p. 264:\n",
        "> Split your data set into a training set containing 100 observations and a test set containing 900 observations."
      ]
    },
    {
      "cell_type": "code",
      "metadata": {
        "id": "eaca95zCRorf"
      },
      "source": [
        "x_train, x_test, y_train, y_test = train_test_split(x, y, train_size=0.1)"
      ],
      "execution_count": 3,
      "outputs": []
    },
    {
      "cell_type": "markdown",
      "metadata": {
        "id": "suRxytL8RoCu"
      },
      "source": [
        "# (c)"
      ]
    },
    {
      "cell_type": "markdown",
      "metadata": {
        "id": "RpZBPkO5RpP8"
      },
      "source": [
        "From the textbook, p. 264:\n",
        "> Perform best subset selection on the training set, and plot the training set MSE associated with the best model of each size."
      ]
    },
    {
      "cell_type": "code",
      "metadata": {
        "id": "bhSq-FVDRrpP"
      },
      "source": [
        "def best_in_size(X, y, estimator, subsets_k):\n",
        "  best_score = -np.inf\n",
        "  best_subset = []\n",
        "  for subset in subsets_k: # for each subset\n",
        "    subset = list(subset)\n",
        "    estimator.fit(X[:, list(subset)], y)\n",
        "    # get the subset with the best score among subsets of the same size\n",
        "    score = estimator.score(X[:, list(subset)], y)\n",
        "    if score > best_score:\n",
        "      best_score, best_subset = score, subset\n",
        "  return best_subset\n",
        "\n",
        "\n",
        "def subset_selection(X, y, estimator):\n",
        "  \"\"\"Calculates the best model of up to max_size features of X.\n",
        "     estimator must have a fit and score functions.\n",
        "     X must be a DataFrame.\n",
        "  \"\"\"\n",
        "\n",
        "  n_features = X.shape[1]\n",
        "  exhaustive_subsets = (combinations(range(n_features), k + 1) \n",
        "                        for k in range(n_features)\n",
        "  )\n",
        "  # Initializations:\n",
        "  all_predictors = list(range(n_features))\n",
        "\n",
        "  best_subset_in_size = []\n",
        "\n",
        "  for i, subsets_k in enumerate(exhaustive_subsets):\n",
        "    print(i)\n",
        "    best_subset = best_in_size(X, y, estimator, subsets_k)\n",
        "    best_subset_in_size.append(best_subset)\n",
        "\n",
        "  return best_subset_in_size"
      ],
      "execution_count": 6,
      "outputs": []
    },
    {
      "cell_type": "code",
      "metadata": {
        "id": "vf31nzXbRw5G",
        "colab": {
          "base_uri": "https://localhost:8080/"
        },
        "outputId": "817f9a27-23da-4f29-9da1-9dbe018dfaab"
      },
      "source": [
        "subsets = subset_selection(x_train, y_train, LinearRegression())"
      ],
      "execution_count": 7,
      "outputs": [
        {
          "output_type": "stream",
          "text": [
            "0\n",
            "1\n",
            "2\n",
            "3\n",
            "4\n",
            "5\n",
            "6\n",
            "7\n",
            "8\n",
            "9\n",
            "10\n",
            "11\n",
            "12\n",
            "13\n",
            "14\n",
            "15\n",
            "16\n",
            "17\n",
            "18\n",
            "19\n"
          ],
          "name": "stdout"
        }
      ]
    },
    {
      "cell_type": "code",
      "metadata": {
        "colab": {
          "base_uri": "https://localhost:8080/",
          "height": 301
        },
        "id": "GIEy7GmPNpFD",
        "outputId": "feccc21b-f81c-4ec7-cab5-9cc31c2525eb"
      },
      "source": [
        "mses_train = []\n",
        "mses_test = []\n",
        "sizes = []\n",
        "subsets = list(subsets)\n",
        "for subset in subsets:\n",
        "  subset = list(subset)\n",
        "  model = LinearRegression().fit(x_train[:, subset], y_train)\n",
        "  y_pred_train = model.predict(x_train[:, subset])\n",
        "  y_pred_test = model.predict(x_test[:, subset])\n",
        "  sizes.append(len(subset))\n",
        "  mses_train.append(mean_squared_error(y_pred_train, y_train))\n",
        "  mses_test.append(mean_squared_error(y_pred_test, y_test))\n",
        "\n",
        "sns.lineplot(x=sizes, y=mses_train, marker='o')\n",
        "plt.title('Train MSE vs model size')\n",
        "plt.xticks(np.arange(1, 21))\n",
        "plt.xlabel('Model size')\n",
        "plt.ylabel('Train MSE')\n",
        "plt.show()"
      ],
      "execution_count": 8,
      "outputs": [
        {
          "output_type": "display_data",
          "data": {
            "image/png": "[encoded data removed]",
            "text/plain": [
              "<Figure size 432x288 with 1 Axes>"
            ]
          },
          "metadata": {
            "tags": [],
            "needs_background": "light"
          }
        }
      ]
    },
    {
      "cell_type": "markdown",
      "metadata": {
        "id": "3dwv3ZbvRtjv"
      },
      "source": [
        "# (d)"
      ]
    },
    {
      "cell_type": "markdown",
      "metadata": {
        "id": "-6ck3cnJRuQ5"
      },
      "source": [
        "From the textbook, p. 264:\n",
        "> Plot the test set MSE associated with the best model of each size."
      ]
    },
    {
      "cell_type": "code",
      "metadata": {
        "colab": {
          "base_uri": "https://localhost:8080/",
          "height": 301
        },
        "id": "C3MaNu98QZn8",
        "outputId": "e2ae1dde-15b0-49ac-b0bf-e92e3a9d9967"
      },
      "source": [
        "sns.lineplot(x=sizes, y=mses_test, marker='o')\n",
        "plt.title('Test MSE vs model size')\n",
        "plt.xticks(np.arange(1, 21))\n",
        "plt.xlabel('Model size')\n",
        "plt.ylabel('Test MSE')\n",
        "plt.show()"
      ],
      "execution_count": 9,
      "outputs": [
        {
          "output_type": "display_data",
          "data": {
            "image/png": "[encoded data removed]",
            "text/plain": [
              "<Figure size 432x288 with 1 Axes>"
            ]
          },
          "metadata": {
            "tags": [],
            "needs_background": "light"
          }
        }
      ]
    },
    {
      "cell_type": "markdown",
      "metadata": {
        "id": "3kcDYYbHRycm"
      },
      "source": [
        "# (e)"
      ]
    },
    {
      "cell_type": "markdown",
      "metadata": {
        "id": "B18_C0pfR1CQ"
      },
      "source": [
        "From the textbook, p. 264:\n",
        "> For which model size does the test set MSE take on its minimum value? Comment on your results. If it takes on its minimum value for a model containing only an intercept or a model containing all of the features, then play around with the way that you are generating the data in (a) until you come up with a scenario in which the test set MSE is minimized for an intermediate model size."
      ]
    },
    {
      "cell_type": "code",
      "metadata": {
        "id": "IABvWwfeR4wp",
        "colab": {
          "base_uri": "https://localhost:8080/"
        },
        "outputId": "cfe629fc-2f8d-4bd0-f61d-16b0ae6b60ec"
      },
      "source": [
        "mses_test.index(min(mses_test)) + 1"
      ],
      "execution_count": 10,
      "outputs": [
        {
          "output_type": "execute_result",
          "data": {
            "text/plain": [
              "18"
            ]
          },
          "metadata": {
            "tags": []
          },
          "execution_count": 10
        }
      ]
    },
    {
      "cell_type": "markdown",
      "metadata": {
        "id": "MYO3vxfFcLi0"
      },
      "source": [
        "Test set MSE take on its minimum value for model size of 18. The difference between sizes 16 to 20 is negligible."
      ]
    },
    {
      "cell_type": "markdown",
      "metadata": {
        "id": "IlrNvgwKR6PI"
      },
      "source": [
        "# (f)"
      ]
    },
    {
      "cell_type": "markdown",
      "metadata": {
        "id": "xrp3qJNiR9R-"
      },
      "source": [
        "From the textbook, p. 264:\n",
        "> How does the model at which the test set MSE is minimized compare to the true model used to generate the data? Comment on the coefficient values."
      ]
    },
    {
      "cell_type": "code",
      "metadata": {
        "id": "Ml17c0w0R-Ag",
        "colab": {
          "base_uri": "https://localhost:8080/",
          "height": 708
        },
        "outputId": "aca744fb-9d03-4be4-d970-72ae4d2b5cc9"
      },
      "source": [
        "best_subset = subsets[17]\n",
        "idx_diff = np.array(list(set(range(20)) - set(best_subset)))\n",
        "\n",
        "model = LinearRegression()\n",
        "model.fit(x_train[:, best_subset], y_train)\n",
        "coefs = np.insert(model.coef_, idx_diff - np.arange(len(idx_diff)), [0]*len(idx_diff))\n",
        "coefs = np.append(model.intercept_, coefs)\n",
        "true_betas = np.append(0, beta.flatten())\n",
        "pd.DataFrame({\n",
        "  'predicted_coefs' : coefs\n",
        "  , 'a_priori_coefs' : true_betas\n",
        "  , 'difference' : coefs - true_betas\n",
        "})"
      ],
      "execution_count": 12,
      "outputs": [
        {
          "output_type": "execute_result",
          "data": {
            "text/html": [
              "<div>\n",
              "<style scoped>\n",
              "    .dataframe tbody tr th:only-of-type {\n",
              "        vertical-align: middle;\n",
              "    }\n",
              "\n",
              "    .dataframe tbody tr th {\n",
              "        vertical-align: top;\n",
              "    }\n",
              "\n",
              "    .dataframe thead th {\n",
              "        text-align: right;\n",
              "    }\n",
              "</style>\n",
              "<table border=\"1\" class=\"dataframe\">\n",
              "  <thead>\n",
              "    <tr style=\"text-align: right;\">\n",
              "      <th></th>\n",
              "      <th>predicted_coefs</th>\n",
              "      <th>a_priori_coefs</th>\n",
              "      <th>difference</th>\n",
              "    </tr>\n",
              "  </thead>\n",
              "  <tbody>\n",
              "    <tr>\n",
              "      <th>0</th>\n",
              "      <td>-0.039129</td>\n",
              "      <td>0</td>\n",
              "      <td>-0.039129</td>\n",
              "    </tr>\n",
              "    <tr>\n",
              "      <th>1</th>\n",
              "      <td>3.984885</td>\n",
              "      <td>4</td>\n",
              "      <td>-0.015115</td>\n",
              "    </tr>\n",
              "    <tr>\n",
              "      <th>2</th>\n",
              "      <td>8.078447</td>\n",
              "      <td>8</td>\n",
              "      <td>0.078447</td>\n",
              "    </tr>\n",
              "    <tr>\n",
              "      <th>3</th>\n",
              "      <td>2.031396</td>\n",
              "      <td>2</td>\n",
              "      <td>0.031396</td>\n",
              "    </tr>\n",
              "    <tr>\n",
              "      <th>4</th>\n",
              "      <td>7.058398</td>\n",
              "      <td>7</td>\n",
              "      <td>0.058398</td>\n",
              "    </tr>\n",
              "    <tr>\n",
              "      <th>5</th>\n",
              "      <td>4.029928</td>\n",
              "      <td>4</td>\n",
              "      <td>0.029928</td>\n",
              "    </tr>\n",
              "    <tr>\n",
              "      <th>6</th>\n",
              "      <td>9.046858</td>\n",
              "      <td>9</td>\n",
              "      <td>0.046858</td>\n",
              "    </tr>\n",
              "    <tr>\n",
              "      <th>7</th>\n",
              "      <td>0.000000</td>\n",
              "      <td>0</td>\n",
              "      <td>0.000000</td>\n",
              "    </tr>\n",
              "    <tr>\n",
              "      <th>8</th>\n",
              "      <td>8.010200</td>\n",
              "      <td>8</td>\n",
              "      <td>0.010200</td>\n",
              "    </tr>\n",
              "    <tr>\n",
              "      <th>9</th>\n",
              "      <td>2.956600</td>\n",
              "      <td>3</td>\n",
              "      <td>-0.043400</td>\n",
              "    </tr>\n",
              "    <tr>\n",
              "      <th>10</th>\n",
              "      <td>0.016086</td>\n",
              "      <td>0</td>\n",
              "      <td>0.016086</td>\n",
              "    </tr>\n",
              "    <tr>\n",
              "      <th>11</th>\n",
              "      <td>6.972772</td>\n",
              "      <td>7</td>\n",
              "      <td>-0.027228</td>\n",
              "    </tr>\n",
              "    <tr>\n",
              "      <th>12</th>\n",
              "      <td>2.072390</td>\n",
              "      <td>2</td>\n",
              "      <td>0.072390</td>\n",
              "    </tr>\n",
              "    <tr>\n",
              "      <th>13</th>\n",
              "      <td>3.035463</td>\n",
              "      <td>3</td>\n",
              "      <td>0.035463</td>\n",
              "    </tr>\n",
              "    <tr>\n",
              "      <th>14</th>\n",
              "      <td>6.004639</td>\n",
              "      <td>6</td>\n",
              "      <td>0.004639</td>\n",
              "    </tr>\n",
              "    <tr>\n",
              "      <th>15</th>\n",
              "      <td>7.989788</td>\n",
              "      <td>8</td>\n",
              "      <td>-0.010212</td>\n",
              "    </tr>\n",
              "    <tr>\n",
              "      <th>16</th>\n",
              "      <td>0.000000</td>\n",
              "      <td>0</td>\n",
              "      <td>0.000000</td>\n",
              "    </tr>\n",
              "    <tr>\n",
              "      <th>17</th>\n",
              "      <td>1.014859</td>\n",
              "      <td>1</td>\n",
              "      <td>0.014859</td>\n",
              "    </tr>\n",
              "    <tr>\n",
              "      <th>18</th>\n",
              "      <td>0.984584</td>\n",
              "      <td>1</td>\n",
              "      <td>-0.015416</td>\n",
              "    </tr>\n",
              "    <tr>\n",
              "      <th>19</th>\n",
              "      <td>2.998001</td>\n",
              "      <td>3</td>\n",
              "      <td>-0.001999</td>\n",
              "    </tr>\n",
              "    <tr>\n",
              "      <th>20</th>\n",
              "      <td>4.001520</td>\n",
              "      <td>4</td>\n",
              "      <td>0.001520</td>\n",
              "    </tr>\n",
              "  </tbody>\n",
              "</table>\n",
              "</div>"
            ],
            "text/plain": [
              "    predicted_coefs  a_priori_coefs  difference\n",
              "0         -0.039129               0   -0.039129\n",
              "1          3.984885               4   -0.015115\n",
              "2          8.078447               8    0.078447\n",
              "3          2.031396               2    0.031396\n",
              "4          7.058398               7    0.058398\n",
              "5          4.029928               4    0.029928\n",
              "6          9.046858               9    0.046858\n",
              "7          0.000000               0    0.000000\n",
              "8          8.010200               8    0.010200\n",
              "9          2.956600               3   -0.043400\n",
              "10         0.016086               0    0.016086\n",
              "11         6.972772               7   -0.027228\n",
              "12         2.072390               2    0.072390\n",
              "13         3.035463               3    0.035463\n",
              "14         6.004639               6    0.004639\n",
              "15         7.989788               8   -0.010212\n",
              "16         0.000000               0    0.000000\n",
              "17         1.014859               1    0.014859\n",
              "18         0.984584               1   -0.015416\n",
              "19         2.998001               3   -0.001999\n",
              "20         4.001520               4    0.001520"
            ]
          },
          "metadata": {
            "tags": []
          },
          "execution_count": 12
        }
      ]
    },
    {
      "cell_type": "markdown",
      "metadata": {
        "id": "_2FFtQIx3GWm"
      },
      "source": [
        "The differences in coefficients are minor (in the second digit). The stepwise selection has found two out of three zero coefficients."
      ]
    },
    {
      "cell_type": "markdown",
      "metadata": {
        "id": "WYN4wdYhR_Jv"
      },
      "source": [
        "# (g)"
      ]
    },
    {
      "cell_type": "markdown",
      "metadata": {
        "id": "-w3g70rcSCEb"
      },
      "source": [
        "From the textbook, p. 264:\n",
        "> Create a plot displaying $\\sqrt{\\sum_{j=1}^p \\left( \\beta_j - \\hat{\\beta}_j^r \\right)^2}$ for a range of values of $r$, where $\\hat{\\beta}_j^r$ is the $j$th coefficient estimate for the best model containing $r$ coefficients. Comment on what you observe. How does this compare to the test MSE plot from (d)?"
      ]
    },
    {
      "cell_type": "code",
      "metadata": {
        "id": "_0DTxkRpPuVV",
        "colab": {
          "base_uri": "https://localhost:8080/",
          "height": 301
        },
        "outputId": "c63c096f-517e-4c69-b7b4-b2b6b421c2a0"
      },
      "source": [
        "the_metrics = []\n",
        "\n",
        "for subset in subsets:\n",
        "  subset = list(subset)\n",
        "  idx_diff = np.array(sorted(list(set(range(20)) - set(subset))))\n",
        "  model = LinearRegression()\n",
        "  model.fit(x_train[:, subset], y_train)\n",
        "  coefs = model.coef_\n",
        "  if len(idx_diff):\n",
        "    coefs = np.insert(coefs, idx_diff - np.arange(len(idx_diff)), [0]*len(idx_diff))\n",
        "  coefs = np.append(model.intercept_, coefs)\n",
        "  true_betas = np.append(0, beta.flatten())\n",
        "  the_metrics.append(np.sqrt(sum((coefs - true_betas)**2)))\n",
        "\n",
        "sns.lineplot(x=sizes, y=the_metrics, marker='o')\n",
        "plt.title('The metric vs model size')\n",
        "plt.xticks(np.arange(1, 21))\n",
        "plt.xlabel('Model size')\n",
        "plt.ylabel('The metric')\n",
        "plt.show()"
      ],
      "execution_count": 13,
      "outputs": [
        {
          "output_type": "display_data",
          "data": {
            "image/png": "[encoded data removed]",
            "text/plain": [
              "<Figure size 432x288 with 1 Axes>"
            ]
          },
          "metadata": {
            "tags": [],
            "needs_background": "light"
          }
        }
      ]
    },
    {
      "cell_type": "markdown",
      "metadata": {
        "id": "SDVYBGprE7VW"
      },
      "source": [
        "The plot looks very similar to the test MSE plot from (d). This implies that MSE is a good measure of model's closeness to the true relationship and it is okay to use MSE when the true relationship is unknown (which is almost always)."
      ]
    }
  ]
}