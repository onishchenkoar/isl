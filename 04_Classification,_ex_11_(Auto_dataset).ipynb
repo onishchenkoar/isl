{
  "nbformat": 4,
  "nbformat_minor": 0,
  "metadata": {
    "colab": {
      "name": "04. Classification, ex. 11 (Auto dataset)",
      "provenance": [],
      "collapsed_sections": [],
      "authorship_tag": "ABX9TyPYGuK2tcaEC8ocSIc5W5I6"
    },
    "kernelspec": {
      "name": "python3",
      "display_name": "Python 3"
    },
    "language_info": {
      "name": "python"
    }
  },
  "cells": [
    {
      "cell_type": "markdown",
      "metadata": {
        "id": "hWPA6J4uLVeL"
      },
      "source": [
        "All instructions are provided for R. I am going to reproduce them in Python as best as I can."
      ]
    },
    {
      "cell_type": "markdown",
      "metadata": {
        "id": "T3r7_JfM7M9m"
      },
      "source": [
        "# Preface"
      ]
    },
    {
      "cell_type": "markdown",
      "metadata": {
        "id": "MSbNrZMHstCQ"
      },
      "source": [
        "From the textbook, p.171:\n",
        "> In this problem, you will develop a model to predict whether a given\n",
        "car gets high or low gas mileage based on the `Auto` data set."
      ]
    },
    {
      "cell_type": "code",
      "metadata": {
        "id": "dL_dyjGktwIV"
      },
      "source": [
        "from matplotlib import pyplot as plt\n",
        "import numpy as np\n",
        "import pandas as pd\n",
        "import seaborn as sns\n",
        "from sklearn.discriminant_analysis import LinearDiscriminantAnalysis, \\\n",
        "                                          QuadraticDiscriminantAnalysis\n",
        "from sklearn.linear_model import LogisticRegression\n",
        "from sklearn.metrics import accuracy_score\n",
        "from sklearn.model_selection import train_test_split\n",
        "from sklearn.neighbors import KNeighborsClassifier\n",
        "\n",
        "\n",
        "%matplotlib inline\n",
        "sns.set()"
      ],
      "execution_count": 1,
      "outputs": []
    },
    {
      "cell_type": "code",
      "metadata": {
        "colab": {
          "base_uri": "https://localhost:8080/",
          "height": 143
        },
        "id": "2EgSzUZfKcnT",
        "outputId": "b3857772-ead3-4cd2-dd04-f230e8759435"
      },
      "source": [
        "auto = pd.read_csv('https://www.statlearning.com/s/Auto.csv', index_col=0)\n",
        "auto = auto[auto != '?'].dropna().reset_index()\n",
        "auto.horsepower = auto.horsepower.astype(int)\n",
        "auto.head(3)"
      ],
      "execution_count": 2,
      "outputs": [
        {
          "output_type": "execute_result",
          "data": {
            "text/html": [
              "<div>\n",
              "<style scoped>\n",
              "    .dataframe tbody tr th:only-of-type {\n",
              "        vertical-align: middle;\n",
              "    }\n",
              "\n",
              "    .dataframe tbody tr th {\n",
              "        vertical-align: top;\n",
              "    }\n",
              "\n",
              "    .dataframe thead th {\n",
              "        text-align: right;\n",
              "    }\n",
              "</style>\n",
              "<table border=\"1\" class=\"dataframe\">\n",
              "  <thead>\n",
              "    <tr style=\"text-align: right;\">\n",
              "      <th></th>\n",
              "      <th>mpg</th>\n",
              "      <th>cylinders</th>\n",
              "      <th>displacement</th>\n",
              "      <th>horsepower</th>\n",
              "      <th>weight</th>\n",
              "      <th>acceleration</th>\n",
              "      <th>year</th>\n",
              "      <th>origin</th>\n",
              "      <th>name</th>\n",
              "    </tr>\n",
              "  </thead>\n",
              "  <tbody>\n",
              "    <tr>\n",
              "      <th>0</th>\n",
              "      <td>18.0</td>\n",
              "      <td>8</td>\n",
              "      <td>307.0</td>\n",
              "      <td>130</td>\n",
              "      <td>3504</td>\n",
              "      <td>12.0</td>\n",
              "      <td>70</td>\n",
              "      <td>1</td>\n",
              "      <td>chevrolet chevelle malibu</td>\n",
              "    </tr>\n",
              "    <tr>\n",
              "      <th>1</th>\n",
              "      <td>15.0</td>\n",
              "      <td>8</td>\n",
              "      <td>350.0</td>\n",
              "      <td>165</td>\n",
              "      <td>3693</td>\n",
              "      <td>11.5</td>\n",
              "      <td>70</td>\n",
              "      <td>1</td>\n",
              "      <td>buick skylark 320</td>\n",
              "    </tr>\n",
              "    <tr>\n",
              "      <th>2</th>\n",
              "      <td>18.0</td>\n",
              "      <td>8</td>\n",
              "      <td>318.0</td>\n",
              "      <td>150</td>\n",
              "      <td>3436</td>\n",
              "      <td>11.0</td>\n",
              "      <td>70</td>\n",
              "      <td>1</td>\n",
              "      <td>plymouth satellite</td>\n",
              "    </tr>\n",
              "  </tbody>\n",
              "</table>\n",
              "</div>"
            ],
            "text/plain": [
              "    mpg  cylinders  displacement  ...  year  origin                       name\n",
              "0  18.0          8         307.0  ...    70       1  chevrolet chevelle malibu\n",
              "1  15.0          8         350.0  ...    70       1          buick skylark 320\n",
              "2  18.0          8         318.0  ...    70       1         plymouth satellite\n",
              "\n",
              "[3 rows x 9 columns]"
            ]
          },
          "metadata": {
            "tags": []
          },
          "execution_count": 2
        }
      ]
    },
    {
      "cell_type": "markdown",
      "metadata": {
        "id": "oQIJLwF-KzPf"
      },
      "source": [
        "Columns:\n",
        "1. `mpg` &mdash; miles per gallon.\n",
        "1. `cylinders` &mdash; number of cylinders between 4 and 8.\n",
        "1. `displacement` &mdash; engine displacement (cu. inches).\n",
        "1. `horsepower` &mdash; engine horsepower.\n",
        "1. `weight` &mdash; vehicle weight (lbs.).\n",
        "1. `acceleration` &mdash; time to accelerate from 0 to 60 mph (sec.).\n",
        "1. `year` &mdash; model year (modulo 100).\n",
        "1. `origin` &mdash; origin of car (1. American, 2. European, 3. Japanese)\n",
        "1. `name` &mdash; vehicle name."
      ]
    },
    {
      "cell_type": "markdown",
      "metadata": {
        "id": "57R_NKULvC13"
      },
      "source": [
        "# (a)"
      ]
    },
    {
      "cell_type": "markdown",
      "metadata": {
        "id": "QPuEaTmAvGI-"
      },
      "source": [
        "From the textbook p.172:\n",
        "> Create a binary variable, `mpg01`, that contains a 1 if `mpg` contains a value above its median, and a 0 if `mpg` contains a value below its median. You can compute the median using the `median()` function. Note you may find it helpful to use the `data.frame()` function to create a single data set containing both `mpg01` and the other `Auto` variables."
      ]
    },
    {
      "cell_type": "code",
      "metadata": {
        "id": "Kj9M7zTuvJQR"
      },
      "source": [
        "auto['mpg01'] = 0\n",
        "auto.loc[auto.mpg >= auto.mpg.median(), 'mpg01'] = 1"
      ],
      "execution_count": 3,
      "outputs": []
    },
    {
      "cell_type": "markdown",
      "metadata": {
        "id": "pyGdLOxUvKqt"
      },
      "source": [
        "# (b)"
      ]
    },
    {
      "cell_type": "markdown",
      "metadata": {
        "id": "16M1TXzPvOAF"
      },
      "source": [
        "From the textbook p.172:\n",
        "> Explore the data graphically in order to investigate the association between `mpg01` and the other features. Which of the other features seem most likely to be useful in predicting `mpg01`? Scatterplots and boxplots may be useful tools to answer this question. Describe your findings."
      ]
    },
    {
      "cell_type": "code",
      "metadata": {
        "id": "O7v8etGIvPU3",
        "colab": {
          "base_uri": "https://localhost:8080/",
          "height": 299
        },
        "outputId": "578a571e-8256-42c0-d443-24f278320244"
      },
      "source": [
        "ax = sns.heatmap((auto.drop(['mpg01', 'origin'], axis='columns')\n",
        "                      .corrwith(auto.mpg01)\n",
        "                      .sort_values(ascending=False)\n",
        "                      .to_frame()\n",
        "                 )\n",
        "                 , vmin=-1\n",
        "                 , vmax=1\n",
        "                 , cmap='icefire'\n",
        "                 , annot=True\n",
        "                 , fmt='.3f'\n",
        ")\n",
        "plt.title('Correlation coefficients between\\nmpg01 and continuous predictors')\n",
        "ax.set_xticklabels(['mpg01'])\n",
        "plt.show()"
      ],
      "execution_count": 4,
      "outputs": [
        {
          "output_type": "display_data",
          "data": {
            "image/png": "[encoded data removed]",
            "text/plain": [
              "<Figure size 432x288 with 2 Axes>"
            ]
          },
          "metadata": {
            "tags": [],
            "needs_background": "light"
          }
        }
      ]
    },
    {
      "cell_type": "markdown",
      "metadata": {
        "id": "Tg9jNpj3dO76"
      },
      "source": [
        "1. High correlation with `mpg`, obviously.\n",
        "1. Moderate negative correlations with `horsepower`, `displacement`, `weight`, `cylinders`.\n",
        "1. Weak correlations with `year` and `acceleration`."
      ]
    },
    {
      "cell_type": "code",
      "metadata": {
        "colab": {
          "base_uri": "https://localhost:8080/",
          "height": 608
        },
        "id": "r489O_HUdLG8",
        "outputId": "9296e4b4-a3b8-48b6-83d4-c0dce34ffbc2"
      },
      "source": [
        "fig, axs = plt.subplots(nrows=2, ncols=3, figsize=(12, 8))\n",
        "axs = axs.flatten()\n",
        "for pred, ax in zip(['year'\n",
        "                     , 'acceleration'\n",
        "                     , 'horsepower'\n",
        "                     , 'displacement'\n",
        "                     , 'weight'\n",
        "                     , 'cylinders'\n",
        "                    ]\n",
        "                    , axs\n",
        "                   ):\n",
        "  sns.boxplot(x='mpg01', y=pred, data=auto, ax=ax)\n",
        "\n",
        "plt.suptitle('Boxplots of continuous predictors by mpg01', y=1.02)\n",
        "plt.tight_layout()"
      ],
      "execution_count": 5,
      "outputs": [
        {
          "output_type": "display_data",
          "data": {
            "image/png": "[encoded data removed]",
            "text/plain": [
              "<Figure size 864x576 with 6 Axes>"
            ]
          },
          "metadata": {
            "tags": [],
            "needs_background": "light"
          }
        }
      ]
    },
    {
      "cell_type": "markdown",
      "metadata": {
        "id": "myAkM2oUnING"
      },
      "source": [
        "The boxplots tell roughly the same story."
      ]
    },
    {
      "cell_type": "markdown",
      "metadata": {
        "id": "QZ9kuCpvvQUr"
      },
      "source": [
        "# (c)"
      ]
    },
    {
      "cell_type": "markdown",
      "metadata": {
        "id": "y6B0jXzrvR_u"
      },
      "source": [
        "From the textbook p.172:\n",
        "> Split the data into a training set and a test set."
      ]
    },
    {
      "cell_type": "code",
      "metadata": {
        "id": "Csan7NoZvTKA"
      },
      "source": [
        "y = auto.mpg01\n",
        "x = auto.drop(['name', 'mpg01', 'mpg'], axis='columns')\n",
        "x_train, x_test, y_train, y_test = train_test_split(x, y)"
      ],
      "execution_count": 6,
      "outputs": []
    },
    {
      "cell_type": "markdown",
      "metadata": {
        "id": "oYkKaTAEvUwv"
      },
      "source": [
        "# (d)"
      ]
    },
    {
      "cell_type": "markdown",
      "metadata": {
        "id": "-Qp_qjyHvVoo"
      },
      "source": [
        "From the textbook p.172:\n",
        "> Perform LDA on the training data in order to predict `mpg01` using the variables that seemed most associated with `mpg01` in (b). What is the test error of the model obtained?"
      ]
    },
    {
      "cell_type": "code",
      "metadata": {
        "id": "50II9urFvYqf",
        "colab": {
          "base_uri": "https://localhost:8080/"
        },
        "outputId": "ef897b35-cd28-4df1-a426-eee260402b8f"
      },
      "source": [
        "def test_model(model, x_train, x_test, y_train, y_test, *args, **kwargs): \n",
        "  model.fit(x_train[['horsepower'\n",
        "                     , 'displacement'\n",
        "                     , 'weight'\n",
        "                     , 'cylinders'\n",
        "                    ]\n",
        "                   ]\n",
        "            , y_train\n",
        "           )\n",
        "  y_pred = model.predict(x_test[['horsepower', 'displacement', 'weight', 'cylinders']])\n",
        "  return accuracy_score(y_test, y_pred)\n",
        "\n",
        "print(test_model(LinearDiscriminantAnalysis()\n",
        "                 , x_train\n",
        "                 , x_test\n",
        "                 , y_train\n",
        "                 , y_test\n",
        "                )\n",
        ")"
      ],
      "execution_count": 7,
      "outputs": [
        {
          "output_type": "stream",
          "text": [
            "0.9183673469387755\n"
          ],
          "name": "stdout"
        }
      ]
    },
    {
      "cell_type": "markdown",
      "metadata": {
        "id": "cL7oKafZrBUe"
      },
      "source": [
        "The test error is 8.2%."
      ]
    },
    {
      "cell_type": "markdown",
      "metadata": {
        "id": "AVmplwjrvZqe"
      },
      "source": [
        "# (e)"
      ]
    },
    {
      "cell_type": "markdown",
      "metadata": {
        "id": "7nN_29YMvdje"
      },
      "source": [
        "From the textbook p.172:\n",
        "> Perform QDA on the training data in order to predict `mpg01` using the variables that seemed most associated with `mpg01` in (b). What is the test error of the model obtained?"
      ]
    },
    {
      "cell_type": "code",
      "metadata": {
        "id": "4PxSU2SUvpXU",
        "colab": {
          "base_uri": "https://localhost:8080/"
        },
        "outputId": "94ec4be4-541b-410f-8d68-a44a850d51c7"
      },
      "source": [
        "print(test_model(QuadraticDiscriminantAnalysis()\n",
        "                 , x_train\n",
        "                 , x_test\n",
        "                 , y_train\n",
        "                 , y_test\n",
        "                )\n",
        ")"
      ],
      "execution_count": 8,
      "outputs": [
        {
          "output_type": "stream",
          "text": [
            "0.9285714285714286\n"
          ],
          "name": "stdout"
        }
      ]
    },
    {
      "cell_type": "markdown",
      "metadata": {
        "id": "ABCUvnnosiR0"
      },
      "source": [
        "The test error is 6.1%. Which is better."
      ]
    },
    {
      "cell_type": "markdown",
      "metadata": {
        "id": "JfepTlFavsUS"
      },
      "source": [
        "# (f)"
      ]
    },
    {
      "cell_type": "markdown",
      "metadata": {
        "id": "oR8H1yZrvvC4"
      },
      "source": [
        "From the textbook p.172:\n",
        "> Perform logistic regression on the training data in order to predict `mpg01` using the variables that seemed most associated with `mpg01` in (b). What is the test error of the model obtained?"
      ]
    },
    {
      "cell_type": "code",
      "metadata": {
        "id": "S8UUQYarvxcS",
        "colab": {
          "base_uri": "https://localhost:8080/"
        },
        "outputId": "b5613bc9-5ff7-4727-ed8d-d0835ef7a568"
      },
      "source": [
        "print(test_model(LogisticRegression()\n",
        "                 , x_train\n",
        "                 , x_test\n",
        "                 , y_train\n",
        "                 , y_test\n",
        "                )\n",
        ")"
      ],
      "execution_count": 9,
      "outputs": [
        {
          "output_type": "stream",
          "text": [
            "0.9183673469387755\n"
          ],
          "name": "stdout"
        }
      ]
    },
    {
      "cell_type": "markdown",
      "metadata": {
        "id": "epEAcSwLtTP3"
      },
      "source": [
        "The test error is 9.2%. Worse than both QDA and LDA."
      ]
    },
    {
      "cell_type": "markdown",
      "metadata": {
        "id": "tgCDHQvYvy4S"
      },
      "source": [
        "# (g)"
      ]
    },
    {
      "cell_type": "markdown",
      "metadata": {
        "id": "Z4HWO90Hv3Me"
      },
      "source": [
        "From the textbook p.172:\n",
        "> Perform KNN on the training data, with several values of K, in order to predict `mpg01`. Use only the variables that seemed most associated with `mpg01` in (b). What test errors do you obtain? Which value of K seems to perform the best on this data set?"
      ]
    },
    {
      "cell_type": "code",
      "metadata": {
        "id": "ZRW6zo1AtxE4",
        "colab": {
          "base_uri": "https://localhost:8080/"
        },
        "outputId": "8466aefb-7c82-45c0-c8d2-ac5c450dd59c"
      },
      "source": [
        "for n in range(1, 11):\n",
        "\n",
        "  print(n\n",
        "        , test_model(KNeighborsClassifier(n_neighbors=n)\n",
        "                     , x_train\n",
        "                     , x_test\n",
        "                     , y_train\n",
        "                     , y_test\n",
        "                    )\n",
        "  )"
      ],
      "execution_count": 10,
      "outputs": [
        {
          "output_type": "stream",
          "text": [
            "1 0.8571428571428571\n",
            "2 0.8367346938775511\n",
            "3 0.8673469387755102\n",
            "4 0.8775510204081632\n",
            "5 0.8877551020408163\n",
            "6 0.8877551020408163\n",
            "7 0.8775510204081632\n",
            "8 0.8877551020408163\n",
            "9 0.8775510204081632\n",
            "10 0.8877551020408163\n"
          ],
          "name": "stdout"
        }
      ]
    },
    {
      "cell_type": "markdown",
      "metadata": {
        "id": "I3p1hVG_xfL8"
      },
      "source": [
        "The best test error with KNN is 5.1% (K = 9)."
      ]
    }
  ]
}