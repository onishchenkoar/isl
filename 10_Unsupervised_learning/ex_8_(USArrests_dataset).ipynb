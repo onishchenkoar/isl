{
  "nbformat": 4,
  "nbformat_minor": 0,
  "metadata": {
    "colab": {
      "name": "10_Unsupervised learning,_ex_8_(USArrests dataset)",
      "provenance": [],
      "collapsed_sections": [],
      "authorship_tag": "ABX9TyPGIuJC9zEK/+vAv04XIT4X"
    },
    "kernelspec": {
      "name": "python3",
      "display_name": "Python 3"
    },
    "language_info": {
      "name": "python"
    }
  },
  "cells": [
    {
      "cell_type": "markdown",
      "metadata": {
        "id": "hWPA6J4uLVeL"
      },
      "source": [
        "All instructions are provided for R. I am going to reproduce them in Python as best as I can."
      ]
    },
    {
      "cell_type": "markdown",
      "metadata": {
        "id": "T3r7_JfM7M9m"
      },
      "source": [
        "# Preface"
      ]
    },
    {
      "cell_type": "markdown",
      "metadata": {
        "id": "UfUe2y-Vn9xl"
      },
      "source": [
        "From the textbook, p. 416:\n",
        "> In Section 10.2.3 *More on PCA*, a formula for calculating PVE was given in Equation 10.8:\n",
        "$$\n",
        "\\frac{\\sum_{i=1}^n \\left( \\sum_{j=1}^p \\phi_{jm} x_{ij} \\right)^2}\n",
        "     {\\sum_{i=1}^n \\sum_{i=1}^n x_{ij}^2}\n",
        "$$\n",
        "We also saw that the PVE can be obtained using the `sdev`\n",
        "output of the `prcomp()` function."
      ]
    },
    {
      "cell_type": "code",
      "metadata": {
        "id": "oIFrLpV4mBBB"
      },
      "source": [
        "from matplotlib import pyplot as plt\n",
        "import numpy as np\n",
        "import pandas as pd\n",
        "import seaborn as sns\n",
        "from sklearn.decomposition import PCA\n",
        "from sklearn.preprocessing import StandardScaler\n",
        "\n",
        "\n",
        "sns.set()\n",
        "%matplotlib inline"
      ],
      "execution_count": 3,
      "outputs": []
    },
    {
      "cell_type": "code",
      "metadata": {
        "colab": {
          "base_uri": "https://localhost:8080/",
          "height": 175
        },
        "id": "E-j9jF8oX9aU",
        "outputId": "20ede5da-6fd2-47db-abd5-1dda0fcb2c96"
      },
      "source": [
        "usarrests = pd.read_csv(\n",
        "                        'https://raw.githubusercontent.com'\n",
        "                        '/dsnair/ISLR/master/data/csv/USArrests.csv'\n",
        "                       ).set_index('State')\n",
        "usarrests.head(3)"
      ],
      "execution_count": 2,
      "outputs": [
        {
          "output_type": "execute_result",
          "data": {
            "text/html": [
              "<div>\n",
              "<style scoped>\n",
              "    .dataframe tbody tr th:only-of-type {\n",
              "        vertical-align: middle;\n",
              "    }\n",
              "\n",
              "    .dataframe tbody tr th {\n",
              "        vertical-align: top;\n",
              "    }\n",
              "\n",
              "    .dataframe thead th {\n",
              "        text-align: right;\n",
              "    }\n",
              "</style>\n",
              "<table border=\"1\" class=\"dataframe\">\n",
              "  <thead>\n",
              "    <tr style=\"text-align: right;\">\n",
              "      <th></th>\n",
              "      <th>Murder</th>\n",
              "      <th>Assault</th>\n",
              "      <th>UrbanPop</th>\n",
              "      <th>Rape</th>\n",
              "    </tr>\n",
              "    <tr>\n",
              "      <th>State</th>\n",
              "      <th></th>\n",
              "      <th></th>\n",
              "      <th></th>\n",
              "      <th></th>\n",
              "    </tr>\n",
              "  </thead>\n",
              "  <tbody>\n",
              "    <tr>\n",
              "      <th>Alabama</th>\n",
              "      <td>13.2</td>\n",
              "      <td>236</td>\n",
              "      <td>58</td>\n",
              "      <td>21.2</td>\n",
              "    </tr>\n",
              "    <tr>\n",
              "      <th>Alaska</th>\n",
              "      <td>10.0</td>\n",
              "      <td>263</td>\n",
              "      <td>48</td>\n",
              "      <td>44.5</td>\n",
              "    </tr>\n",
              "    <tr>\n",
              "      <th>Arizona</th>\n",
              "      <td>8.1</td>\n",
              "      <td>294</td>\n",
              "      <td>80</td>\n",
              "      <td>31.0</td>\n",
              "    </tr>\n",
              "  </tbody>\n",
              "</table>\n",
              "</div>"
            ],
            "text/plain": [
              "         Murder  Assault  UrbanPop  Rape\n",
              "State                                   \n",
              "Alabama    13.2      236        58  21.2\n",
              "Alaska     10.0      263        48  44.5\n",
              "Arizona     8.1      294        80  31.0"
            ]
          },
          "metadata": {
            "tags": []
          },
          "execution_count": 2
        }
      ]
    },
    {
      "cell_type": "markdown",
      "metadata": {
        "id": "MIuou10sv-iL"
      },
      "source": [
        "From the textbook, p. 416:\n",
        "> On the `USArrests` data, calculate PVE in two ways:"
      ]
    },
    {
      "cell_type": "markdown",
      "metadata": {
        "id": "frY6PjF32sqy"
      },
      "source": [
        "# (a)"
      ]
    },
    {
      "cell_type": "markdown",
      "metadata": {
        "id": "I_JYatoV27hA"
      },
      "source": [
        "> Using the `sdev` output of the `prcomp()` function, as was done in Section 10.2.3, *More on PCA: The Proportion of Variance Explained*."
      ]
    },
    {
      "cell_type": "markdown",
      "metadata": {
        "id": "ZOZOCZpuZp2D"
      },
      "source": [
        "In `sklearn` the analogous function is `sklearn.decomposition.PCA`. [Documentation](https://scikit-learn.org/stable/modules/generated/sklearn.decomposition.PCA.html)."
      ]
    },
    {
      "cell_type": "code",
      "metadata": {
        "id": "JxmgZRy98yKY",
        "colab": {
          "base_uri": "https://localhost:8080/"
        },
        "outputId": "5f5c2c21-4831-43f5-c7d6-230d3b17089f"
      },
      "source": [
        "x = StandardScaler().fit_transform(usarrests)\n",
        "pca = PCA()\n",
        "pca.fit(x)\n",
        "pca.explained_variance_ratio_"
      ],
      "execution_count": 7,
      "outputs": [
        {
          "output_type": "execute_result",
          "data": {
            "text/plain": [
              "array([0.62006039, 0.24744129, 0.0891408 , 0.04335752])"
            ]
          },
          "metadata": {
            "tags": []
          },
          "execution_count": 7
        }
      ]
    },
    {
      "cell_type": "markdown",
      "metadata": {
        "id": "U25pC5kx8ytl"
      },
      "source": [
        "# (b)"
      ]
    },
    {
      "cell_type": "markdown",
      "metadata": {
        "id": "cKgDon5x81NQ"
      },
      "source": [
        "> By applying equation\n",
        "$$\n",
        "\\frac{\\sum_{i=1}^n \\left( \\sum_{j=1}^p \\phi_{jm} x_{ij} \\right)^2}\n",
        "     {\\sum_{i=1}^n \\sum_{i=1}^n x_{ij}^2}\n",
        "$$\n",
        "directly. That is, use the `prcomp()` function to compute the principal component loadings. Then, use those loadings in the equation to obtain the PVE. These two approaches should give the same results.<br><br>*Hint: You will only obtain the same results in (a) and (b) if the same data is used in both cases. For instance, if in (a) you performed `prcomp()` using centered and scaled variables, then you must center and scale the variables before applying Equation 10.3\n",
        "$$ \\underset{\\phi_{11} \\dots \\phi_{p1}}{\\text{maximize}} \\left[ \\frac{1}{n} \\sum_{i=1}^n \\left( \\sum_{j=1}^p \\phi_{j1} x_{ij} \\right)^2 \\right] \\: \\text{subject to} \\sum_{j=1}^p \\phi_{j1}^2\n",
        "$$ in (b).*"
      ]
    },
    {
      "cell_type": "code",
      "metadata": {
        "id": "U8QdVDRF_sGY",
        "colab": {
          "base_uri": "https://localhost:8080/"
        },
        "outputId": "8ae4f0c5-3bdf-4958-8dbb-122a38567c56"
      },
      "source": [
        "pve = ((pca.components_ @ x.T)**2).sum(axis=1) / (x**2).sum()\n",
        "pve"
      ],
      "execution_count": 15,
      "outputs": [
        {
          "output_type": "execute_result",
          "data": {
            "text/plain": [
              "array([0.62006039, 0.24744129, 0.0891408 , 0.04335752])"
            ]
          },
          "metadata": {
            "tags": []
          },
          "execution_count": 15
        }
      ]
    }
  ]
}