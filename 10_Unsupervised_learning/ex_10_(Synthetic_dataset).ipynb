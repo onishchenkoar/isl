{
  "nbformat": 4,
  "nbformat_minor": 0,
  "metadata": {
    "colab": {
      "name": "10_Unsupervised learning,_ex_10_(Synthetic dataset)",
      "provenance": [],
      "collapsed_sections": [],
      "authorship_tag": "ABX9TyNFdkWbA/IecWvS95Accgik"
    },
    "kernelspec": {
      "name": "python3",
      "display_name": "Python 3"
    },
    "language_info": {
      "name": "python"
    }
  },
  "cells": [
    {
      "cell_type": "markdown",
      "metadata": {
        "id": "hWPA6J4uLVeL"
      },
      "source": [
        "All instructions are provided for R. I am going to reproduce them in Python as best as I can."
      ]
    },
    {
      "cell_type": "markdown",
      "metadata": {
        "id": "T3r7_JfM7M9m"
      },
      "source": [
        "# Preface"
      ]
    },
    {
      "cell_type": "markdown",
      "metadata": {
        "id": "2y3CJrNBLUjL"
      },
      "source": [
        "From the textbook, p. 417:\n",
        "> In this problem, you will generate simulated data, and then perform\n",
        "PCA and K-means clustering on the data."
      ]
    },
    {
      "cell_type": "code",
      "metadata": {
        "id": "l2x5KxIAmVWg"
      },
      "source": [
        "from matplotlib import pyplot as plt\n",
        "import numpy as np\n",
        "import pandas as pd\n",
        "import seaborn as sns\n",
        "from sklearn.cluster import KMeans\n",
        "from sklearn.decomposition import PCA\n",
        "from sklearn.metrics import adjusted_rand_score\n",
        "from sklearn.preprocessing import StandardScaler\n",
        "\n",
        "\n",
        "sns.set()\n",
        "%matplotlib inline"
      ],
      "execution_count": 1,
      "outputs": []
    },
    {
      "cell_type": "markdown",
      "metadata": {
        "id": "OivspaYCPhSM"
      },
      "source": [
        "# (a)"
      ]
    },
    {
      "cell_type": "markdown",
      "metadata": {
        "id": "Hr1LfJiEPluS"
      },
      "source": [
        "From the textbook, p. 417:\n",
        "> Generate a simulated data set with 20 observations in each of three classes (i.e. 60 observations total), and 50 variables.<br><br>*Hint: There are a number of functions in R that you can use to generate data. One example is the `rnorm()` function; `runif()` is another option. Be sure to add a mean shift to the observations in each class so that there are three distinct classes.*"
      ]
    },
    {
      "cell_type": "code",
      "metadata": {
        "id": "k594_iICPpJd",
        "colab": {
          "base_uri": "https://localhost:8080/"
        },
        "outputId": "11508d3a-49ad-47e0-9243-014638d2247f"
      },
      "source": [
        "np.random.seed(1)\n",
        "x1 = 1.5*np.random.normal(size=(20, 50)) + 2*np.ones((1, 50))\n",
        "x2 = np.random.uniform(size=(20, 50)) - 3*np.ones((1, 50))\n",
        "x3 = np.random.normal(size=(20, 50)) + 10*np.ones([1, 50])\n",
        "x = np.concatenate([x1, x2, x3])\n",
        "y = np.array([1]*20 + [2]*20 + [3]*20)\n",
        "x.shape"
      ],
      "execution_count": 2,
      "outputs": [
        {
          "output_type": "execute_result",
          "data": {
            "text/plain": [
              "(60, 50)"
            ]
          },
          "metadata": {
            "tags": []
          },
          "execution_count": 2
        }
      ]
    },
    {
      "cell_type": "markdown",
      "metadata": {
        "id": "vFmR34lWPqs0"
      },
      "source": [
        "# (b)"
      ]
    },
    {
      "cell_type": "markdown",
      "metadata": {
        "id": "17z6XEm6PtHr"
      },
      "source": [
        "From the textbook, p. 417:\n",
        "> Perform PCA on the 60 observations and plot the first two principal component score vectors. Use a different color to indicate the observations in each of the three classes. If the three classes appear separated in this plot, then continue on to part (c). If not, then return to part (a) and modify the simulation so that there is greater separation between the three classes. Do not continue to part (c) until the three classes show at least some separation in the first two principal component score vectors."
      ]
    },
    {
      "cell_type": "code",
      "metadata": {
        "id": "ffZo5BTePuw7",
        "colab": {
          "base_uri": "https://localhost:8080/",
          "height": 270
        },
        "outputId": "49c887f7-e3be-47ea-fec8-3b2387aec89d"
      },
      "source": [
        "pca = PCA(n_components=2)\n",
        "x_pca = pca.fit_transform(x)\n",
        "sns.scatterplot(x=x_pca[:, 0], y=x_pca[:, 1], hue=y, palette='tab10')\n",
        "plt.show()"
      ],
      "execution_count": 3,
      "outputs": [
        {
          "output_type": "display_data",
          "data": {
            "image/png": "[encoded data removed]",
            "text/plain": [
              "<Figure size 432x288 with 1 Axes>"
            ]
          },
          "metadata": {
            "tags": [],
            "needs_background": "light"
          }
        }
      ]
    },
    {
      "cell_type": "markdown",
      "metadata": {
        "id": "UgoZY4EcyKFe"
      },
      "source": [
        "Note that the scale is different for each axis. The points within one should have similar spread vertically and horizontally. "
      ]
    },
    {
      "cell_type": "markdown",
      "metadata": {
        "id": "pPrU_A-sPv2_"
      },
      "source": [
        "# (c)"
      ]
    },
    {
      "cell_type": "markdown",
      "metadata": {
        "id": "_TRBOSroPzhD"
      },
      "source": [
        "From the textbook, p. 417:\n",
        "> Perform K-means clustering of the observations with $K = 3$. How well do the clusters that you obtained in K-means clustering compare to the true class labels?<br><br>**Hint**: You can use the `table()` function in R to compare the true class labels to the class labels obtained by clustering. Be careful how you interpret the results: K-means clustering will arbitrarily number the clusters, so you cannot simply check whether the true class labels and clustering labels are the same."
      ]
    },
    {
      "cell_type": "markdown",
      "metadata": {
        "id": "HlaMm3kh2YSk"
      },
      "source": [
        "To compare the clusterings, I am using [Rand index](https://en.wikipedia.org/wiki/Rand_index)."
      ]
    },
    {
      "cell_type": "code",
      "metadata": {
        "id": "z4K1ETYKP4Fw",
        "colab": {
          "base_uri": "https://localhost:8080/",
          "height": 287
        },
        "outputId": "b439e5fc-6fba-4303-9ac9-4338ea1d811f"
      },
      "source": [
        "clust_c = KMeans(n_clusters=3, init='random', n_init=50)\n",
        "clust_c.fit(x)\n",
        "y_pred_c = clust_c.predict(x)\n",
        "sns.scatterplot(x=x_pca[:, 0], y=x_pca[:, 1], hue=y_pred_c, palette='tab10')\n",
        "plt.show()\n",
        "adjusted_rand_score(y, y_pred_c)"
      ],
      "execution_count": 4,
      "outputs": [
        {
          "output_type": "display_data",
          "data": {
            "image/png": "[encoded data removed]",
            "text/plain": [
              "<Figure size 432x288 with 1 Axes>"
            ]
          },
          "metadata": {
            "tags": [],
            "needs_background": "light"
          }
        },
        {
          "output_type": "execute_result",
          "data": {
            "text/plain": [
              "1.0"
            ]
          },
          "metadata": {
            "tags": []
          },
          "execution_count": 4
        }
      ]
    },
    {
      "cell_type": "markdown",
      "metadata": {
        "id": "fRPHC9jc2e9q"
      },
      "source": [
        "Rand index of $1.0$ means a perfect match."
      ]
    },
    {
      "cell_type": "markdown",
      "metadata": {
        "id": "XPens1sEP4u5"
      },
      "source": [
        "# (d)"
      ]
    },
    {
      "cell_type": "markdown",
      "metadata": {
        "id": "kB-sXkeIP6zk"
      },
      "source": [
        "From the textbook, p. 417:\n",
        "> Perform K-means clustering with $K = 2$. Describe your results."
      ]
    },
    {
      "cell_type": "code",
      "metadata": {
        "id": "i3LjDiGnP9AW",
        "colab": {
          "base_uri": "https://localhost:8080/",
          "height": 287
        },
        "outputId": "80350edc-cecb-41b7-82d6-6ed290daa8d3"
      },
      "source": [
        "clust_d = KMeans(n_clusters=2, init='random', n_init=50)\n",
        "clust_d.fit(x)\n",
        "y_pred_d = clust_d.predict(x)\n",
        "sns.scatterplot(x=x_pca[:, 0], y=x_pca[:, 1], hue=y_pred_d, palette='tab10')\n",
        "plt.show()\n",
        "adjusted_rand_score(y, y_pred_d)"
      ],
      "execution_count": 5,
      "outputs": [
        {
          "output_type": "display_data",
          "data": {
            "image/png": "[encoded data removed]",
            "text/plain": [
              "<Figure size 432x288 with 1 Axes>"
            ]
          },
          "metadata": {
            "tags": [],
            "needs_background": "light"
          }
        },
        {
          "output_type": "execute_result",
          "data": {
            "text/plain": [
              "0.562962962962963"
            ]
          },
          "metadata": {
            "tags": []
          },
          "execution_count": 5
        }
      ]
    },
    {
      "cell_type": "markdown",
      "metadata": {
        "id": "1P9D3wnL3nz6"
      },
      "source": [
        "The two closest clusters have been merged."
      ]
    },
    {
      "cell_type": "markdown",
      "metadata": {
        "id": "-c29xXSkP9WQ"
      },
      "source": [
        "# (e)"
      ]
    },
    {
      "cell_type": "markdown",
      "metadata": {
        "id": "baSgDKF9QA_u"
      },
      "source": [
        "From the textbook, p. 417:\n",
        "> Now perform K-means clustering with $K = 4$, and describe your results."
      ]
    },
    {
      "cell_type": "code",
      "metadata": {
        "id": "rNWYLPxZQQe_",
        "colab": {
          "base_uri": "https://localhost:8080/",
          "height": 287
        },
        "outputId": "6ed59f47-d853-4ae8-e9cc-34568e827f4f"
      },
      "source": [
        "clust_e = KMeans(n_clusters=4, init='random', n_init=50)\n",
        "clust_e.fit(x)\n",
        "y_pred_e = clust_e.predict(x)\n",
        "sns.scatterplot(x=x_pca[:, 0], y=x_pca[:, 1], hue=y_pred_e, palette='tab10')\n",
        "plt.show()\n",
        "adjusted_rand_score(y, y_pred_e)"
      ],
      "execution_count": 6,
      "outputs": [
        {
          "output_type": "display_data",
          "data": {
            "image/png": "[encoded data removed]",
            "text/plain": [
              "<Figure size 432x288 with 1 Axes>"
            ]
          },
          "metadata": {
            "tags": [],
            "needs_background": "light"
          }
        },
        {
          "output_type": "execute_result",
          "data": {
            "text/plain": [
              "0.8657889294823189"
            ]
          },
          "metadata": {
            "tags": []
          },
          "execution_count": 6
        }
      ]
    },
    {
      "cell_type": "markdown",
      "metadata": {
        "id": "AON1jsl74TC4"
      },
      "source": [
        "The cluster with the widest spread has been split into two."
      ]
    },
    {
      "cell_type": "markdown",
      "metadata": {
        "id": "uv8m-aPOQRvo"
      },
      "source": [
        "# (f)"
      ]
    },
    {
      "cell_type": "markdown",
      "metadata": {
        "id": "ghvT0dd3QSxe"
      },
      "source": [
        "From the textbook, p. 417:\n",
        "> Now perform K-means clustering with $K = 3$ on the first two principal component score vectors, rather than on the raw data. That is, perform K-means clustering on the 60 × 2 matrix of which the first column is the first principal component score vector, and the second column is the second principal component score vector. Comment on the results."
      ]
    },
    {
      "cell_type": "code",
      "metadata": {
        "id": "kU84eseSQWX9",
        "colab": {
          "base_uri": "https://localhost:8080/",
          "height": 287
        },
        "outputId": "8e05ac3d-674f-4bd4-9ac9-e4e74db20e9b"
      },
      "source": [
        "clust_f = KMeans(n_clusters=3, init='random', n_init=50)\n",
        "clust_f.fit(x_pca)\n",
        "y_pred_f = clust_f.predict(x_pca)\n",
        "sns.scatterplot(x=x_pca[:, 0], y=x_pca[:, 1], hue=y_pred_f, palette='tab10')\n",
        "plt.show()\n",
        "adjusted_rand_score(y, y_pred_f)"
      ],
      "execution_count": 7,
      "outputs": [
        {
          "output_type": "display_data",
          "data": {
            "image/png": "[encoded data removed]",
            "text/plain": [
              "<Figure size 432x288 with 1 Axes>"
            ]
          },
          "metadata": {
            "tags": [],
            "needs_background": "light"
          }
        },
        {
          "output_type": "execute_result",
          "data": {
            "text/plain": [
              "1.0"
            ]
          },
          "metadata": {
            "tags": []
          },
          "execution_count": 7
        }
      ]
    },
    {
      "cell_type": "markdown",
      "metadata": {
        "id": "q87ETGmA4-EA"
      },
      "source": [
        "The perfect clustering again. The clusters are well-separated in projections; so the mistakes are unlikely."
      ]
    },
    {
      "cell_type": "markdown",
      "metadata": {
        "id": "UZzOk61_QXqw"
      },
      "source": [
        "# (g)"
      ]
    },
    {
      "cell_type": "markdown",
      "metadata": {
        "id": "ssKbpJdDQatT"
      },
      "source": [
        "From the textbook, p. 417:\n",
        "> Using the `scale()` function, perform K-means clustering with $K = 3$ on the data after scaling each variable to have standard deviation one. How do these results compare to those obtained in (b)? Explain."
      ]
    },
    {
      "cell_type": "code",
      "metadata": {
        "id": "oIFrLpV4mBBB",
        "colab": {
          "base_uri": "https://localhost:8080/",
          "height": 287
        },
        "outputId": "b63f334c-c94a-4327-ba46-ce50c17940ee"
      },
      "source": [
        "x = StandardScaler().fit_transform(x)\n",
        "x_pca = pca.fit_transform(x)\n",
        "clust_g = KMeans(n_clusters=3, init='random', n_init=50)\n",
        "clust_g.fit(x)\n",
        "y_pred_g = clust_g.predict(x)\n",
        "sns.scatterplot(x=x_pca[:, 0], y=x_pca[:, 1], hue=y_pred_g, palette='tab10')\n",
        "plt.show()\n",
        "adjusted_rand_score(y, y_pred_g)"
      ],
      "execution_count": 9,
      "outputs": [
        {
          "output_type": "display_data",
          "data": {
            "image/png": "[encoded data removed]",
            "text/plain": [
              "<Figure size 432x288 with 1 Axes>"
            ]
          },
          "metadata": {
            "tags": [],
            "needs_background": "light"
          }
        },
        {
          "output_type": "execute_result",
          "data": {
            "text/plain": [
              "1.0"
            ]
          },
          "metadata": {
            "tags": []
          },
          "execution_count": 9
        }
      ]
    },
    {
      "cell_type": "markdown",
      "metadata": {
        "id": "do6NVG0l6HEp"
      },
      "source": [
        "Everything looks the same, but scaled down."
      ]
    }
  ]
}