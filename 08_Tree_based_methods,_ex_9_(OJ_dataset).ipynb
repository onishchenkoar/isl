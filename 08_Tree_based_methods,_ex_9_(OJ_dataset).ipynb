{
  "nbformat": 4,
  "nbformat_minor": 0,
  "metadata": {
    "colab": {
      "name": "08. Tree-based methods, ex. 9 (OJ dataset)",
      "provenance": [],
      "collapsed_sections": [],
      "authorship_tag": "ABX9TyPzMh2ix5KwDzVqFQ+lEfP7"
    },
    "kernelspec": {
      "name": "python3",
      "display_name": "Python 3"
    },
    "language_info": {
      "name": "python"
    }
  },
  "cells": [
    {
      "cell_type": "markdown",
      "metadata": {
        "id": "hWPA6J4uLVeL"
      },
      "source": [
        "All instructions are provided for R. I am going to reproduce them in Python as best as I can."
      ]
    },
    {
      "cell_type": "markdown",
      "metadata": {
        "id": "T3r7_JfM7M9m"
      },
      "source": [
        "# Preface"
      ]
    },
    {
      "cell_type": "markdown",
      "metadata": {
        "id": "J1FpRmLEz3Wd"
      },
      "source": [
        "From the textbook, p. 334:\n",
        "> This problem involves the `OJ` data set which is part of the `ISLR`\n",
        "package."
      ]
    },
    {
      "cell_type": "code",
      "metadata": {
        "id": "DkOr4guEsQQ9"
      },
      "source": [
        "from matplotlib import pyplot as plt\n",
        "import numpy as np\n",
        "import pandas as pd\n",
        "import seaborn as sns\n",
        "from sklearn.ensemble import BaggingRegressor, RandomForestRegressor\n",
        "from sklearn.metrics import confusion_matrix, accuracy_score\n",
        "from sklearn.model_selection import train_test_split, GridSearchCV\n",
        "from sklearn.tree import DecisionTreeClassifier, export_text, plot_tree\n",
        "\n",
        "\n",
        "%matplotlib inline"
      ],
      "execution_count": 1,
      "outputs": []
    },
    {
      "cell_type": "code",
      "metadata": {
        "colab": {
          "base_uri": "https://localhost:8080/",
          "height": 163
        },
        "id": "4203LEzMsujX",
        "outputId": "793ce45f-f008-4e96-b7f4-90b44c64c4be"
      },
      "source": [
        "oj = pd.read_csv('https://raw.githubusercontent.com/dsnair/ISLR/master/data/csv/OJ.csv')\n",
        "oj.head(3)"
      ],
      "execution_count": 2,
      "outputs": [
        {
          "output_type": "execute_result",
          "data": {
            "text/html": [
              "<div>\n",
              "<style scoped>\n",
              "    .dataframe tbody tr th:only-of-type {\n",
              "        vertical-align: middle;\n",
              "    }\n",
              "\n",
              "    .dataframe tbody tr th {\n",
              "        vertical-align: top;\n",
              "    }\n",
              "\n",
              "    .dataframe thead th {\n",
              "        text-align: right;\n",
              "    }\n",
              "</style>\n",
              "<table border=\"1\" class=\"dataframe\">\n",
              "  <thead>\n",
              "    <tr style=\"text-align: right;\">\n",
              "      <th></th>\n",
              "      <th>Purchase</th>\n",
              "      <th>WeekofPurchase</th>\n",
              "      <th>StoreID</th>\n",
              "      <th>PriceCH</th>\n",
              "      <th>PriceMM</th>\n",
              "      <th>DiscCH</th>\n",
              "      <th>DiscMM</th>\n",
              "      <th>SpecialCH</th>\n",
              "      <th>SpecialMM</th>\n",
              "      <th>LoyalCH</th>\n",
              "      <th>SalePriceMM</th>\n",
              "      <th>SalePriceCH</th>\n",
              "      <th>PriceDiff</th>\n",
              "      <th>Store7</th>\n",
              "      <th>PctDiscMM</th>\n",
              "      <th>PctDiscCH</th>\n",
              "      <th>ListPriceDiff</th>\n",
              "      <th>STORE</th>\n",
              "    </tr>\n",
              "  </thead>\n",
              "  <tbody>\n",
              "    <tr>\n",
              "      <th>0</th>\n",
              "      <td>CH</td>\n",
              "      <td>237</td>\n",
              "      <td>1</td>\n",
              "      <td>1.75</td>\n",
              "      <td>1.99</td>\n",
              "      <td>0.00</td>\n",
              "      <td>0.0</td>\n",
              "      <td>0</td>\n",
              "      <td>0</td>\n",
              "      <td>0.50</td>\n",
              "      <td>1.99</td>\n",
              "      <td>1.75</td>\n",
              "      <td>0.24</td>\n",
              "      <td>No</td>\n",
              "      <td>0.000000</td>\n",
              "      <td>0.000000</td>\n",
              "      <td>0.24</td>\n",
              "      <td>1</td>\n",
              "    </tr>\n",
              "    <tr>\n",
              "      <th>1</th>\n",
              "      <td>CH</td>\n",
              "      <td>239</td>\n",
              "      <td>1</td>\n",
              "      <td>1.75</td>\n",
              "      <td>1.99</td>\n",
              "      <td>0.00</td>\n",
              "      <td>0.3</td>\n",
              "      <td>0</td>\n",
              "      <td>1</td>\n",
              "      <td>0.60</td>\n",
              "      <td>1.69</td>\n",
              "      <td>1.75</td>\n",
              "      <td>-0.06</td>\n",
              "      <td>No</td>\n",
              "      <td>0.150754</td>\n",
              "      <td>0.000000</td>\n",
              "      <td>0.24</td>\n",
              "      <td>1</td>\n",
              "    </tr>\n",
              "    <tr>\n",
              "      <th>2</th>\n",
              "      <td>CH</td>\n",
              "      <td>245</td>\n",
              "      <td>1</td>\n",
              "      <td>1.86</td>\n",
              "      <td>2.09</td>\n",
              "      <td>0.17</td>\n",
              "      <td>0.0</td>\n",
              "      <td>0</td>\n",
              "      <td>0</td>\n",
              "      <td>0.68</td>\n",
              "      <td>2.09</td>\n",
              "      <td>1.69</td>\n",
              "      <td>0.40</td>\n",
              "      <td>No</td>\n",
              "      <td>0.000000</td>\n",
              "      <td>0.091398</td>\n",
              "      <td>0.23</td>\n",
              "      <td>1</td>\n",
              "    </tr>\n",
              "  </tbody>\n",
              "</table>\n",
              "</div>"
            ],
            "text/plain": [
              "  Purchase  WeekofPurchase  StoreID  ...  PctDiscCH  ListPriceDiff  STORE\n",
              "0       CH             237        1  ...   0.000000           0.24      1\n",
              "1       CH             239        1  ...   0.000000           0.24      1\n",
              "2       CH             245        1  ...   0.091398           0.23      1\n",
              "\n",
              "[3 rows x 18 columns]"
            ]
          },
          "metadata": {
            "tags": []
          },
          "execution_count": 2
        }
      ]
    },
    {
      "cell_type": "markdown",
      "metadata": {
        "id": "dh47_lOhxogW"
      },
      "source": [
        "Columns:\n",
        "* `Purchase` &mdash; a factor with levels CH and MM indicating whether the customer purchased Citrus Hill or Minute Maid Orange Juice;\n",
        "* `WeekofPurchase` &mdash; week of purchase;\n",
        "* `StoreID` &mdash; store ID;\n",
        "* `PriceCH` &mdash; price charged for CH;\n",
        "* `PriceMM` &mdash; price charged for MM;\n",
        "* `DiscCH` &mdash; discount offered for CH;\n",
        "* `DiscMM` &mdash; discount offered for MM;\n",
        "* `SpecialCH` &mdash; indicator of special on CH;\n",
        "* `SpecialMM` &mdash; indicator of special on MM;\n",
        "* `LoyalCH` &mdash; customer brand loyalty for CH;\n",
        "* `SalePriceMM` &mdash; sale price for MM;\n",
        "* `SalePriceCH` &mdash; sale price for CH;\n",
        "* `PriceDiff` &mdash; sale price of MM less sale price of CH;\n",
        "* `Store7` &mdash; a factor with levels No and Yes indicating whether the sale is at Store 7;\n",
        "* `PctDiscMM` &mdash; percentage discount for MM;\n",
        "* `PctDiscCH` &mdash; percentage discount for CH;\n",
        "* `ListPriceDiff` &mdash; list price of MM less list price of CH;\n",
        "* `STORE` &mdash; which of 5 possible stores the sale occured at."
      ]
    },
    {
      "cell_type": "markdown",
      "metadata": {
        "id": "3sJXD3L-8KSd"
      },
      "source": [
        "# (a)"
      ]
    },
    {
      "cell_type": "markdown",
      "metadata": {
        "id": "IEHvm_1X8NYB"
      },
      "source": [
        "From the textbook, p. 334:\n",
        "> Create a training set containing a random sample of 800 observations, and a test set containing the remaining observations."
      ]
    },
    {
      "cell_type": "markdown",
      "metadata": {
        "id": "TsNMpXvLuuCN"
      },
      "source": [
        "(It is told later, that `Purchase` is the response in this exercise.)"
      ]
    },
    {
      "cell_type": "code",
      "metadata": {
        "id": "k0JPJLt98POG"
      },
      "source": [
        "np.random.seed(1)\n",
        "x = pd.get_dummies(oj.drop('Purchase', axis='columns'), drop_first=True)\n",
        "y = oj.Purchase\n",
        "x_train, x_test, y_train, y_test = train_test_split(x, y, train_size=800)"
      ],
      "execution_count": 3,
      "outputs": []
    },
    {
      "cell_type": "markdown",
      "metadata": {
        "id": "8WBFE-Py8Plz"
      },
      "source": [
        "# (b)"
      ]
    },
    {
      "cell_type": "markdown",
      "metadata": {
        "id": "46oa3zP08Tqu"
      },
      "source": [
        "From the textbook, p. 334:\n",
        "> Fit a tree to the training data, with `Purchase` as the response and the other variables as predictors. Use the `summary()` function to produce summary statistics about the tree, and describe the results obtained. What is the training error rate? How many terminal nodes does the tree have?"
      ]
    },
    {
      "cell_type": "code",
      "metadata": {
        "colab": {
          "base_uri": "https://localhost:8080/",
          "height": 583
        },
        "id": "irq-gqSY7Vy_",
        "outputId": "a48422f1-e1ba-40ea-ebd6-30a229b2c0d7"
      },
      "source": [
        "model_b = DecisionTreeClassifier()\n",
        "model_b.fit(x_train, y_train)\n",
        "importances = model_b.feature_importances_\n",
        "pd.DataFrame({'Importance' : importances}\n",
        "             , index=x.columns\n",
        "            ).sort_values('Importance', ascending=False)"
      ],
      "execution_count": 4,
      "outputs": [
        {
          "output_type": "execute_result",
          "data": {
            "text/html": [
              "<div>\n",
              "<style scoped>\n",
              "    .dataframe tbody tr th:only-of-type {\n",
              "        vertical-align: middle;\n",
              "    }\n",
              "\n",
              "    .dataframe tbody tr th {\n",
              "        vertical-align: top;\n",
              "    }\n",
              "\n",
              "    .dataframe thead th {\n",
              "        text-align: right;\n",
              "    }\n",
              "</style>\n",
              "<table border=\"1\" class=\"dataframe\">\n",
              "  <thead>\n",
              "    <tr style=\"text-align: right;\">\n",
              "      <th></th>\n",
              "      <th>Importance</th>\n",
              "    </tr>\n",
              "  </thead>\n",
              "  <tbody>\n",
              "    <tr>\n",
              "      <th>LoyalCH</th>\n",
              "      <td>0.623310</td>\n",
              "    </tr>\n",
              "    <tr>\n",
              "      <th>WeekofPurchase</th>\n",
              "      <td>0.117668</td>\n",
              "    </tr>\n",
              "    <tr>\n",
              "      <th>PriceDiff</th>\n",
              "      <td>0.075003</td>\n",
              "    </tr>\n",
              "    <tr>\n",
              "      <th>SalePriceMM</th>\n",
              "      <td>0.036058</td>\n",
              "    </tr>\n",
              "    <tr>\n",
              "      <th>STORE</th>\n",
              "      <td>0.033448</td>\n",
              "    </tr>\n",
              "    <tr>\n",
              "      <th>StoreID</th>\n",
              "      <td>0.027691</td>\n",
              "    </tr>\n",
              "    <tr>\n",
              "      <th>SpecialCH</th>\n",
              "      <td>0.027248</td>\n",
              "    </tr>\n",
              "    <tr>\n",
              "      <th>SalePriceCH</th>\n",
              "      <td>0.014738</td>\n",
              "    </tr>\n",
              "    <tr>\n",
              "      <th>PriceCH</th>\n",
              "      <td>0.012351</td>\n",
              "    </tr>\n",
              "    <tr>\n",
              "      <th>ListPriceDiff</th>\n",
              "      <td>0.009141</td>\n",
              "    </tr>\n",
              "    <tr>\n",
              "      <th>PriceMM</th>\n",
              "      <td>0.006997</td>\n",
              "    </tr>\n",
              "    <tr>\n",
              "      <th>PctDiscMM</th>\n",
              "      <td>0.005603</td>\n",
              "    </tr>\n",
              "    <tr>\n",
              "      <th>DiscCH</th>\n",
              "      <td>0.003666</td>\n",
              "    </tr>\n",
              "    <tr>\n",
              "      <th>SpecialMM</th>\n",
              "      <td>0.003160</td>\n",
              "    </tr>\n",
              "    <tr>\n",
              "      <th>PctDiscCH</th>\n",
              "      <td>0.002109</td>\n",
              "    </tr>\n",
              "    <tr>\n",
              "      <th>Store7_Yes</th>\n",
              "      <td>0.001810</td>\n",
              "    </tr>\n",
              "    <tr>\n",
              "      <th>DiscMM</th>\n",
              "      <td>0.000000</td>\n",
              "    </tr>\n",
              "  </tbody>\n",
              "</table>\n",
              "</div>"
            ],
            "text/plain": [
              "                Importance\n",
              "LoyalCH           0.623310\n",
              "WeekofPurchase    0.117668\n",
              "PriceDiff         0.075003\n",
              "SalePriceMM       0.036058\n",
              "STORE             0.033448\n",
              "StoreID           0.027691\n",
              "SpecialCH         0.027248\n",
              "SalePriceCH       0.014738\n",
              "PriceCH           0.012351\n",
              "ListPriceDiff     0.009141\n",
              "PriceMM           0.006997\n",
              "PctDiscMM         0.005603\n",
              "DiscCH            0.003666\n",
              "SpecialMM         0.003160\n",
              "PctDiscCH         0.002109\n",
              "Store7_Yes        0.001810\n",
              "DiscMM            0.000000"
            ]
          },
          "metadata": {
            "tags": []
          },
          "execution_count": 4
        }
      ]
    },
    {
      "cell_type": "markdown",
      "metadata": {
        "id": "eMxENGwW0DhO"
      },
      "source": [
        "`statsmodels` package does not have decision trees; `sklearn` does not have `summary()` for its models. I am going to print the most important (and the easiest to get) metrics."
      ]
    },
    {
      "cell_type": "code",
      "metadata": {
        "id": "UuNa8FpT8W5z",
        "colab": {
          "base_uri": "https://localhost:8080/"
        },
        "outputId": "aa957870-1d9f-40db-b3c9-94fc9ebb7280"
      },
      "source": [
        "print(\n",
        "  f'Classification tree\\n'\n",
        "  f'Number of terminal nodes: {model_b.get_n_leaves()}\\n'\n",
        "  f'Variables actually used in tree construction:\\n'\n",
        "  f'{x.columns.to_numpy()[importances > 0.05]}\\n'\n",
        "  f'Misclassification error rate: {1 - model_b.score(x_train, y_train)}'\n",
        ")"
      ],
      "execution_count": 13,
      "outputs": [
        {
          "output_type": "stream",
          "text": [
            "Classification tree\n",
            "Number of terminal nodes: 164\n",
            "Variables actually used in tree construction:\n",
            "['WeekofPurchase' 'LoyalCH' 'PriceDiff']\n",
            "Misclassification error rate: 0.010000000000000009\n"
          ],
          "name": "stdout"
        }
      ]
    },
    {
      "cell_type": "markdown",
      "metadata": {
        "id": "wanH9mjy8WJy"
      },
      "source": [
        "# (c)"
      ]
    },
    {
      "cell_type": "markdown",
      "metadata": {
        "id": "KCAmu7Pg8eNf"
      },
      "source": [
        "From the textbook, p. 334:\n",
        "> Type in the name of the tree object in order to get a detailed text output. Pick one of the terminal nodes, and interpret the information displayed."
      ]
    },
    {
      "cell_type": "code",
      "metadata": {
        "id": "vQhjkg3r8iUC",
        "colab": {
          "base_uri": "https://localhost:8080/"
        },
        "outputId": "c82c22d5-3774-47dd-f77b-d02d668aba31"
      },
      "source": [
        "print(export_text(model_b, feature_names=x.columns.to_list()))"
      ],
      "execution_count": 6,
      "outputs": [
        {
          "output_type": "stream",
          "text": [
            "|--- LoyalCH <= 0.45\n",
            "|   |--- LoyalCH <= 0.28\n",
            "|   |   |--- LoyalCH <= 0.05\n",
            "|   |   |   |--- StoreID <= 2.50\n",
            "|   |   |   |   |--- LoyalCH <= 0.00\n",
            "|   |   |   |   |   |--- WeekofPurchase <= 269.50\n",
            "|   |   |   |   |   |   |--- class: CH\n",
            "|   |   |   |   |   |--- WeekofPurchase >  269.50\n",
            "|   |   |   |   |   |   |--- class: MM\n",
            "|   |   |   |   |--- LoyalCH >  0.00\n",
            "|   |   |   |   |   |--- class: MM\n",
            "|   |   |   |--- StoreID >  2.50\n",
            "|   |   |   |   |--- class: MM\n",
            "|   |   |--- LoyalCH >  0.05\n",
            "|   |   |   |--- WeekofPurchase <= 249.50\n",
            "|   |   |   |   |--- STORE <= 1.50\n",
            "|   |   |   |   |   |--- WeekofPurchase <= 235.50\n",
            "|   |   |   |   |   |   |--- WeekofPurchase <= 232.00\n",
            "|   |   |   |   |   |   |   |--- class: MM\n",
            "|   |   |   |   |   |   |--- WeekofPurchase >  232.00\n",
            "|   |   |   |   |   |   |   |--- SpecialCH <= 0.50\n",
            "|   |   |   |   |   |   |   |   |--- class: CH\n",
            "|   |   |   |   |   |   |   |--- SpecialCH >  0.50\n",
            "|   |   |   |   |   |   |   |   |--- LoyalCH <= 0.22\n",
            "|   |   |   |   |   |   |   |   |   |--- class: CH\n",
            "|   |   |   |   |   |   |   |   |--- LoyalCH >  0.22\n",
            "|   |   |   |   |   |   |   |   |   |--- class: MM\n",
            "|   |   |   |   |   |--- WeekofPurchase >  235.50\n",
            "|   |   |   |   |   |   |--- PctDiscMM <= 0.05\n",
            "|   |   |   |   |   |   |   |--- WeekofPurchase <= 237.50\n",
            "|   |   |   |   |   |   |   |   |--- class: MM\n",
            "|   |   |   |   |   |   |   |--- WeekofPurchase >  237.50\n",
            "|   |   |   |   |   |   |   |   |--- class: CH\n",
            "|   |   |   |   |   |   |--- PctDiscMM >  0.05\n",
            "|   |   |   |   |   |   |   |--- class: MM\n",
            "|   |   |   |   |--- STORE >  1.50\n",
            "|   |   |   |   |   |--- LoyalCH <= 0.07\n",
            "|   |   |   |   |   |   |--- PriceMM <= 2.04\n",
            "|   |   |   |   |   |   |   |--- class: MM\n",
            "|   |   |   |   |   |   |--- PriceMM >  2.04\n",
            "|   |   |   |   |   |   |   |--- class: CH\n",
            "|   |   |   |   |   |--- LoyalCH >  0.07\n",
            "|   |   |   |   |   |   |--- class: MM\n",
            "|   |   |   |--- WeekofPurchase >  249.50\n",
            "|   |   |   |   |--- WeekofPurchase <= 273.50\n",
            "|   |   |   |   |   |--- PriceCH <= 1.88\n",
            "|   |   |   |   |   |   |--- LoyalCH <= 0.18\n",
            "|   |   |   |   |   |   |   |--- class: MM\n",
            "|   |   |   |   |   |   |--- LoyalCH >  0.18\n",
            "|   |   |   |   |   |   |   |--- LoyalCH <= 0.20\n",
            "|   |   |   |   |   |   |   |   |--- class: CH\n",
            "|   |   |   |   |   |   |   |--- LoyalCH >  0.20\n",
            "|   |   |   |   |   |   |   |   |--- SpecialCH <= 0.50\n",
            "|   |   |   |   |   |   |   |   |   |--- WeekofPurchase <= 272.50\n",
            "|   |   |   |   |   |   |   |   |   |   |--- class: MM\n",
            "|   |   |   |   |   |   |   |   |   |--- WeekofPurchase >  272.50\n",
            "|   |   |   |   |   |   |   |   |   |   |--- class: CH\n",
            "|   |   |   |   |   |   |   |   |--- SpecialCH >  0.50\n",
            "|   |   |   |   |   |   |   |   |   |--- class: CH\n",
            "|   |   |   |   |   |--- PriceCH >  1.88\n",
            "|   |   |   |   |   |   |--- SpecialMM <= 0.50\n",
            "|   |   |   |   |   |   |   |--- WeekofPurchase <= 261.00\n",
            "|   |   |   |   |   |   |   |   |--- LoyalCH <= 0.17\n",
            "|   |   |   |   |   |   |   |   |   |--- STORE <= 2.50\n",
            "|   |   |   |   |   |   |   |   |   |   |--- class: CH\n",
            "|   |   |   |   |   |   |   |   |   |--- STORE >  2.50\n",
            "|   |   |   |   |   |   |   |   |   |   |--- class: MM\n",
            "|   |   |   |   |   |   |   |   |--- LoyalCH >  0.17\n",
            "|   |   |   |   |   |   |   |   |   |--- class: CH\n",
            "|   |   |   |   |   |   |   |--- WeekofPurchase >  261.00\n",
            "|   |   |   |   |   |   |   |   |--- class: CH\n",
            "|   |   |   |   |   |   |--- SpecialMM >  0.50\n",
            "|   |   |   |   |   |   |   |--- class: MM\n",
            "|   |   |   |   |--- WeekofPurchase >  273.50\n",
            "|   |   |   |   |   |--- class: MM\n",
            "|   |--- LoyalCH >  0.28\n",
            "|   |   |--- SpecialCH <= 0.50\n",
            "|   |   |   |--- SalePriceMM <= 2.04\n",
            "|   |   |   |   |--- LoyalCH <= 0.28\n",
            "|   |   |   |   |   |--- class: CH\n",
            "|   |   |   |   |--- LoyalCH >  0.28\n",
            "|   |   |   |   |   |--- WeekofPurchase <= 276.50\n",
            "|   |   |   |   |   |   |--- PriceMM <= 2.04\n",
            "|   |   |   |   |   |   |   |--- STORE <= 0.50\n",
            "|   |   |   |   |   |   |   |   |--- PriceCH <= 1.72\n",
            "|   |   |   |   |   |   |   |   |   |--- class: CH\n",
            "|   |   |   |   |   |   |   |   |--- PriceCH >  1.72\n",
            "|   |   |   |   |   |   |   |   |   |--- LoyalCH <= 0.36\n",
            "|   |   |   |   |   |   |   |   |   |   |--- class: CH\n",
            "|   |   |   |   |   |   |   |   |   |--- LoyalCH >  0.36\n",
            "|   |   |   |   |   |   |   |   |   |   |--- class: MM\n",
            "|   |   |   |   |   |   |   |--- STORE >  0.50\n",
            "|   |   |   |   |   |   |   |   |--- WeekofPurchase <= 264.00\n",
            "|   |   |   |   |   |   |   |   |   |--- LoyalCH <= 0.43\n",
            "|   |   |   |   |   |   |   |   |   |   |--- StoreID <= 2.50\n",
            "|   |   |   |   |   |   |   |   |   |   |   |--- class: MM\n",
            "|   |   |   |   |   |   |   |   |   |   |--- StoreID >  2.50\n",
            "|   |   |   |   |   |   |   |   |   |   |   |--- truncated branch of depth 3\n",
            "|   |   |   |   |   |   |   |   |   |--- LoyalCH >  0.43\n",
            "|   |   |   |   |   |   |   |   |   |   |--- ListPriceDiff <= 0.27\n",
            "|   |   |   |   |   |   |   |   |   |   |   |--- class: MM\n",
            "|   |   |   |   |   |   |   |   |   |   |--- ListPriceDiff >  0.27\n",
            "|   |   |   |   |   |   |   |   |   |   |   |--- class: CH\n",
            "|   |   |   |   |   |   |   |   |--- WeekofPurchase >  264.00\n",
            "|   |   |   |   |   |   |   |   |   |--- WeekofPurchase <= 265.50\n",
            "|   |   |   |   |   |   |   |   |   |   |--- class: CH\n",
            "|   |   |   |   |   |   |   |   |   |--- WeekofPurchase >  265.50\n",
            "|   |   |   |   |   |   |   |   |   |   |--- LoyalCH <= 0.41\n",
            "|   |   |   |   |   |   |   |   |   |   |   |--- class: MM\n",
            "|   |   |   |   |   |   |   |   |   |   |--- LoyalCH >  0.41\n",
            "|   |   |   |   |   |   |   |   |   |   |   |--- class: CH\n",
            "|   |   |   |   |   |   |--- PriceMM >  2.04\n",
            "|   |   |   |   |   |   |   |--- class: MM\n",
            "|   |   |   |   |   |--- WeekofPurchase >  276.50\n",
            "|   |   |   |   |   |   |--- class: CH\n",
            "|   |   |   |--- SalePriceMM >  2.04\n",
            "|   |   |   |   |--- LoyalCH <= 0.30\n",
            "|   |   |   |   |   |--- class: CH\n",
            "|   |   |   |   |--- LoyalCH >  0.30\n",
            "|   |   |   |   |   |--- SalePriceCH <= 1.77\n",
            "|   |   |   |   |   |   |--- LoyalCH <= 0.33\n",
            "|   |   |   |   |   |   |   |--- class: CH\n",
            "|   |   |   |   |   |   |--- LoyalCH >  0.33\n",
            "|   |   |   |   |   |   |   |--- STORE <= 1.50\n",
            "|   |   |   |   |   |   |   |   |--- LoyalCH <= 0.34\n",
            "|   |   |   |   |   |   |   |   |   |--- class: MM\n",
            "|   |   |   |   |   |   |   |   |--- LoyalCH >  0.34\n",
            "|   |   |   |   |   |   |   |   |   |--- STORE <= 0.50\n",
            "|   |   |   |   |   |   |   |   |   |   |--- class: CH\n",
            "|   |   |   |   |   |   |   |   |   |--- STORE >  0.50\n",
            "|   |   |   |   |   |   |   |   |   |   |--- LoyalCH <= 0.38\n",
            "|   |   |   |   |   |   |   |   |   |   |   |--- class: CH\n",
            "|   |   |   |   |   |   |   |   |   |   |--- LoyalCH >  0.38\n",
            "|   |   |   |   |   |   |   |   |   |   |   |--- class: MM\n",
            "|   |   |   |   |   |   |   |--- STORE >  1.50\n",
            "|   |   |   |   |   |   |   |   |--- class: MM\n",
            "|   |   |   |   |   |--- SalePriceCH >  1.77\n",
            "|   |   |   |   |   |   |--- LoyalCH <= 0.33\n",
            "|   |   |   |   |   |   |   |--- LoyalCH <= 0.31\n",
            "|   |   |   |   |   |   |   |   |--- StoreID <= 2.50\n",
            "|   |   |   |   |   |   |   |   |   |--- class: CH\n",
            "|   |   |   |   |   |   |   |   |--- StoreID >  2.50\n",
            "|   |   |   |   |   |   |   |   |   |--- class: MM\n",
            "|   |   |   |   |   |   |   |--- LoyalCH >  0.31\n",
            "|   |   |   |   |   |   |   |   |--- class: MM\n",
            "|   |   |   |   |   |   |--- LoyalCH >  0.33\n",
            "|   |   |   |   |   |   |   |--- WeekofPurchase <= 269.00\n",
            "|   |   |   |   |   |   |   |   |--- LoyalCH <= 0.42\n",
            "|   |   |   |   |   |   |   |   |   |--- PriceDiff <= 0.38\n",
            "|   |   |   |   |   |   |   |   |   |   |--- WeekofPurchase <= 243.00\n",
            "|   |   |   |   |   |   |   |   |   |   |   |--- class: CH\n",
            "|   |   |   |   |   |   |   |   |   |   |--- WeekofPurchase >  243.00\n",
            "|   |   |   |   |   |   |   |   |   |   |   |--- truncated branch of depth 6\n",
            "|   |   |   |   |   |   |   |   |   |--- PriceDiff >  0.38\n",
            "|   |   |   |   |   |   |   |   |   |   |--- class: MM\n",
            "|   |   |   |   |   |   |   |   |--- LoyalCH >  0.42\n",
            "|   |   |   |   |   |   |   |   |   |--- SalePriceMM <= 2.21\n",
            "|   |   |   |   |   |   |   |   |   |   |--- class: MM\n",
            "|   |   |   |   |   |   |   |   |   |--- SalePriceMM >  2.21\n",
            "|   |   |   |   |   |   |   |   |   |   |--- class: CH\n",
            "|   |   |   |   |   |   |   |--- WeekofPurchase >  269.00\n",
            "|   |   |   |   |   |   |   |   |--- class: MM\n",
            "|   |   |--- SpecialCH >  0.50\n",
            "|   |   |   |--- LoyalCH <= 0.41\n",
            "|   |   |   |   |--- SalePriceCH <= 1.72\n",
            "|   |   |   |   |   |--- class: CH\n",
            "|   |   |   |   |--- SalePriceCH >  1.72\n",
            "|   |   |   |   |   |--- LoyalCH <= 0.37\n",
            "|   |   |   |   |   |   |--- class: MM\n",
            "|   |   |   |   |   |--- LoyalCH >  0.37\n",
            "|   |   |   |   |   |   |--- Store7_Yes <= 0.50\n",
            "|   |   |   |   |   |   |   |--- class: CH\n",
            "|   |   |   |   |   |   |--- Store7_Yes >  0.50\n",
            "|   |   |   |   |   |   |   |--- LoyalCH <= 0.39\n",
            "|   |   |   |   |   |   |   |   |--- class: CH\n",
            "|   |   |   |   |   |   |   |--- LoyalCH >  0.39\n",
            "|   |   |   |   |   |   |   |   |--- class: MM\n",
            "|   |   |   |--- LoyalCH >  0.41\n",
            "|   |   |   |   |--- StoreID <= 4.50\n",
            "|   |   |   |   |   |--- class: CH\n",
            "|   |   |   |   |--- StoreID >  4.50\n",
            "|   |   |   |   |   |--- class: MM\n",
            "|--- LoyalCH >  0.45\n",
            "|   |--- LoyalCH <= 0.75\n",
            "|   |   |--- PriceDiff <= -0.16\n",
            "|   |   |   |--- STORE <= 2.50\n",
            "|   |   |   |   |--- SalePriceMM <= 1.54\n",
            "|   |   |   |   |   |--- LoyalCH <= 0.59\n",
            "|   |   |   |   |   |   |--- class: MM\n",
            "|   |   |   |   |   |--- LoyalCH >  0.59\n",
            "|   |   |   |   |   |   |--- LoyalCH <= 0.71\n",
            "|   |   |   |   |   |   |   |--- PriceDiff <= -0.57\n",
            "|   |   |   |   |   |   |   |   |--- ListPriceDiff <= 0.17\n",
            "|   |   |   |   |   |   |   |   |   |--- class: MM\n",
            "|   |   |   |   |   |   |   |   |--- ListPriceDiff >  0.17\n",
            "|   |   |   |   |   |   |   |   |   |--- LoyalCH <= 0.67\n",
            "|   |   |   |   |   |   |   |   |   |   |--- class: CH\n",
            "|   |   |   |   |   |   |   |   |   |--- LoyalCH >  0.67\n",
            "|   |   |   |   |   |   |   |   |   |   |--- class: MM\n",
            "|   |   |   |   |   |   |   |--- PriceDiff >  -0.57\n",
            "|   |   |   |   |   |   |   |   |--- class: CH\n",
            "|   |   |   |   |   |   |--- LoyalCH >  0.71\n",
            "|   |   |   |   |   |   |   |--- class: MM\n",
            "|   |   |   |   |--- SalePriceMM >  1.54\n",
            "|   |   |   |   |   |--- class: MM\n",
            "|   |   |   |--- STORE >  2.50\n",
            "|   |   |   |   |--- LoyalCH <= 0.52\n",
            "|   |   |   |   |   |--- class: MM\n",
            "|   |   |   |   |--- LoyalCH >  0.52\n",
            "|   |   |   |   |   |--- LoyalCH <= 0.75\n",
            "|   |   |   |   |   |   |--- LoyalCH <= 0.61\n",
            "|   |   |   |   |   |   |   |--- class: CH\n",
            "|   |   |   |   |   |   |--- LoyalCH >  0.61\n",
            "|   |   |   |   |   |   |   |--- LoyalCH <= 0.68\n",
            "|   |   |   |   |   |   |   |   |--- PctDiscCH <= 0.03\n",
            "|   |   |   |   |   |   |   |   |   |--- LoyalCH <= 0.63\n",
            "|   |   |   |   |   |   |   |   |   |   |--- class: MM\n",
            "|   |   |   |   |   |   |   |   |   |--- LoyalCH >  0.63\n",
            "|   |   |   |   |   |   |   |   |   |   |--- class: CH\n",
            "|   |   |   |   |   |   |   |   |--- PctDiscCH >  0.03\n",
            "|   |   |   |   |   |   |   |   |   |--- class: MM\n",
            "|   |   |   |   |   |   |   |--- LoyalCH >  0.68\n",
            "|   |   |   |   |   |   |   |   |--- class: CH\n",
            "|   |   |   |   |   |--- LoyalCH >  0.75\n",
            "|   |   |   |   |   |   |--- class: MM\n",
            "|   |   |--- PriceDiff >  -0.16\n",
            "|   |   |   |--- SalePriceMM <= 2.12\n",
            "|   |   |   |   |--- LoyalCH <= 0.50\n",
            "|   |   |   |   |   |--- DiscCH <= 0.05\n",
            "|   |   |   |   |   |   |--- SalePriceCH <= 1.72\n",
            "|   |   |   |   |   |   |   |--- STORE <= 1.50\n",
            "|   |   |   |   |   |   |   |   |--- class: MM\n",
            "|   |   |   |   |   |   |   |--- STORE >  1.50\n",
            "|   |   |   |   |   |   |   |   |--- class: CH\n",
            "|   |   |   |   |   |   |--- SalePriceCH >  1.72\n",
            "|   |   |   |   |   |   |   |--- PriceDiff <= 0.23\n",
            "|   |   |   |   |   |   |   |   |--- StoreID <= 3.50\n",
            "|   |   |   |   |   |   |   |   |   |--- PctDiscMM <= 0.17\n",
            "|   |   |   |   |   |   |   |   |   |   |--- PriceCH <= 1.88\n",
            "|   |   |   |   |   |   |   |   |   |   |   |--- class: MM\n",
            "|   |   |   |   |   |   |   |   |   |   |--- PriceCH >  1.88\n",
            "|   |   |   |   |   |   |   |   |   |   |   |--- truncated branch of depth 3\n",
            "|   |   |   |   |   |   |   |   |   |--- PctDiscMM >  0.17\n",
            "|   |   |   |   |   |   |   |   |   |   |--- class: CH\n",
            "|   |   |   |   |   |   |   |   |--- StoreID >  3.50\n",
            "|   |   |   |   |   |   |   |   |   |--- PriceMM <= 2.11\n",
            "|   |   |   |   |   |   |   |   |   |   |--- LoyalCH <= 0.49\n",
            "|   |   |   |   |   |   |   |   |   |   |   |--- class: CH\n",
            "|   |   |   |   |   |   |   |   |   |   |--- LoyalCH >  0.49\n",
            "|   |   |   |   |   |   |   |   |   |   |   |--- truncated branch of depth 4\n",
            "|   |   |   |   |   |   |   |   |   |--- PriceMM >  2.11\n",
            "|   |   |   |   |   |   |   |   |   |   |--- class: MM\n",
            "|   |   |   |   |   |   |   |--- PriceDiff >  0.23\n",
            "|   |   |   |   |   |   |   |   |--- WeekofPurchase <= 252.00\n",
            "|   |   |   |   |   |   |   |   |   |--- class: CH\n",
            "|   |   |   |   |   |   |   |   |--- WeekofPurchase >  252.00\n",
            "|   |   |   |   |   |   |   |   |   |--- LoyalCH <= 0.48\n",
            "|   |   |   |   |   |   |   |   |   |   |--- class: MM\n",
            "|   |   |   |   |   |   |   |   |   |--- LoyalCH >  0.48\n",
            "|   |   |   |   |   |   |   |   |   |   |--- class: CH\n",
            "|   |   |   |   |   |--- DiscCH >  0.05\n",
            "|   |   |   |   |   |   |--- WeekofPurchase <= 252.50\n",
            "|   |   |   |   |   |   |   |--- class: CH\n",
            "|   |   |   |   |   |   |--- WeekofPurchase >  252.50\n",
            "|   |   |   |   |   |   |   |--- PriceDiff <= 0.27\n",
            "|   |   |   |   |   |   |   |   |--- StoreID <= 5.00\n",
            "|   |   |   |   |   |   |   |   |   |--- class: CH\n",
            "|   |   |   |   |   |   |   |   |--- StoreID >  5.00\n",
            "|   |   |   |   |   |   |   |   |   |--- class: CH\n",
            "|   |   |   |   |   |   |   |--- PriceDiff >  0.27\n",
            "|   |   |   |   |   |   |   |   |--- class: MM\n",
            "|   |   |   |   |--- LoyalCH >  0.50\n",
            "|   |   |   |   |   |--- LoyalCH <= 0.65\n",
            "|   |   |   |   |   |   |--- StoreID <= 2.50\n",
            "|   |   |   |   |   |   |   |--- WeekofPurchase <= 233.50\n",
            "|   |   |   |   |   |   |   |   |--- WeekofPurchase <= 228.50\n",
            "|   |   |   |   |   |   |   |   |   |--- class: CH\n",
            "|   |   |   |   |   |   |   |   |--- WeekofPurchase >  228.50\n",
            "|   |   |   |   |   |   |   |   |   |--- class: MM\n",
            "|   |   |   |   |   |   |   |--- WeekofPurchase >  233.50\n",
            "|   |   |   |   |   |   |   |   |--- PriceDiff <= -0.06\n",
            "|   |   |   |   |   |   |   |   |   |--- class: MM\n",
            "|   |   |   |   |   |   |   |   |--- PriceDiff >  -0.06\n",
            "|   |   |   |   |   |   |   |   |   |--- WeekofPurchase <= 272.50\n",
            "|   |   |   |   |   |   |   |   |   |   |--- WeekofPurchase <= 236.50\n",
            "|   |   |   |   |   |   |   |   |   |   |   |--- truncated branch of depth 2\n",
            "|   |   |   |   |   |   |   |   |   |   |--- WeekofPurchase >  236.50\n",
            "|   |   |   |   |   |   |   |   |   |   |   |--- class: CH\n",
            "|   |   |   |   |   |   |   |   |   |--- WeekofPurchase >  272.50\n",
            "|   |   |   |   |   |   |   |   |   |   |--- LoyalCH <= 0.58\n",
            "|   |   |   |   |   |   |   |   |   |   |   |--- class: CH\n",
            "|   |   |   |   |   |   |   |   |   |   |--- LoyalCH >  0.58\n",
            "|   |   |   |   |   |   |   |   |   |   |   |--- class: MM\n",
            "|   |   |   |   |   |   |--- StoreID >  2.50\n",
            "|   |   |   |   |   |   |   |--- PriceDiff <= 0.32\n",
            "|   |   |   |   |   |   |   |   |--- PriceDiff <= -0.13\n",
            "|   |   |   |   |   |   |   |   |   |--- WeekofPurchase <= 233.50\n",
            "|   |   |   |   |   |   |   |   |   |   |--- class: CH\n",
            "|   |   |   |   |   |   |   |   |   |--- WeekofPurchase >  233.50\n",
            "|   |   |   |   |   |   |   |   |   |   |--- WeekofPurchase <= 234.50\n",
            "|   |   |   |   |   |   |   |   |   |   |   |--- class: MM\n",
            "|   |   |   |   |   |   |   |   |   |   |--- WeekofPurchase >  234.50\n",
            "|   |   |   |   |   |   |   |   |   |   |   |--- class: CH\n",
            "|   |   |   |   |   |   |   |   |--- PriceDiff >  -0.13\n",
            "|   |   |   |   |   |   |   |   |   |--- class: CH\n",
            "|   |   |   |   |   |   |   |--- PriceDiff >  0.32\n",
            "|   |   |   |   |   |   |   |   |--- WeekofPurchase <= 251.50\n",
            "|   |   |   |   |   |   |   |   |   |--- class: MM\n",
            "|   |   |   |   |   |   |   |   |--- WeekofPurchase >  251.50\n",
            "|   |   |   |   |   |   |   |   |   |--- class: CH\n",
            "|   |   |   |   |   |--- LoyalCH >  0.65\n",
            "|   |   |   |   |   |   |--- WeekofPurchase <= 266.50\n",
            "|   |   |   |   |   |   |   |--- LoyalCH <= 0.71\n",
            "|   |   |   |   |   |   |   |   |--- LoyalCH <= 0.69\n",
            "|   |   |   |   |   |   |   |   |   |--- SalePriceMM <= 1.74\n",
            "|   |   |   |   |   |   |   |   |   |   |--- class: MM\n",
            "|   |   |   |   |   |   |   |   |   |--- SalePriceMM >  1.74\n",
            "|   |   |   |   |   |   |   |   |   |   |--- ListPriceDiff <= 0.16\n",
            "|   |   |   |   |   |   |   |   |   |   |   |--- class: CH\n",
            "|   |   |   |   |   |   |   |   |   |   |--- ListPriceDiff >  0.16\n",
            "|   |   |   |   |   |   |   |   |   |   |   |--- truncated branch of depth 5\n",
            "|   |   |   |   |   |   |   |   |--- LoyalCH >  0.69\n",
            "|   |   |   |   |   |   |   |   |   |--- class: MM\n",
            "|   |   |   |   |   |   |   |--- LoyalCH >  0.71\n",
            "|   |   |   |   |   |   |   |   |--- class: CH\n",
            "|   |   |   |   |   |   |--- WeekofPurchase >  266.50\n",
            "|   |   |   |   |   |   |   |--- class: MM\n",
            "|   |   |   |--- SalePriceMM >  2.12\n",
            "|   |   |   |   |--- WeekofPurchase <= 241.50\n",
            "|   |   |   |   |   |--- LoyalCH <= 0.57\n",
            "|   |   |   |   |   |   |--- class: MM\n",
            "|   |   |   |   |   |--- LoyalCH >  0.57\n",
            "|   |   |   |   |   |   |--- class: CH\n",
            "|   |   |   |   |--- WeekofPurchase >  241.50\n",
            "|   |   |   |   |   |--- WeekofPurchase <= 261.50\n",
            "|   |   |   |   |   |   |--- WeekofPurchase <= 260.00\n",
            "|   |   |   |   |   |   |   |--- SpecialCH <= 0.50\n",
            "|   |   |   |   |   |   |   |   |--- PctDiscCH <= 0.03\n",
            "|   |   |   |   |   |   |   |   |   |--- LoyalCH <= 0.74\n",
            "|   |   |   |   |   |   |   |   |   |   |--- LoyalCH <= 0.51\n",
            "|   |   |   |   |   |   |   |   |   |   |   |--- truncated branch of depth 3\n",
            "|   |   |   |   |   |   |   |   |   |   |--- LoyalCH >  0.51\n",
            "|   |   |   |   |   |   |   |   |   |   |   |--- class: CH\n",
            "|   |   |   |   |   |   |   |   |   |--- LoyalCH >  0.74\n",
            "|   |   |   |   |   |   |   |   |   |   |--- LoyalCH <= 0.74\n",
            "|   |   |   |   |   |   |   |   |   |   |   |--- class: MM\n",
            "|   |   |   |   |   |   |   |   |   |   |--- LoyalCH >  0.74\n",
            "|   |   |   |   |   |   |   |   |   |   |   |--- class: CH\n",
            "|   |   |   |   |   |   |   |   |--- PctDiscCH >  0.03\n",
            "|   |   |   |   |   |   |   |   |   |--- LoyalCH <= 0.59\n",
            "|   |   |   |   |   |   |   |   |   |   |--- class: MM\n",
            "|   |   |   |   |   |   |   |   |   |--- LoyalCH >  0.59\n",
            "|   |   |   |   |   |   |   |   |   |   |--- class: CH\n",
            "|   |   |   |   |   |   |   |--- SpecialCH >  0.50\n",
            "|   |   |   |   |   |   |   |   |--- LoyalCH <= 0.59\n",
            "|   |   |   |   |   |   |   |   |   |--- class: CH\n",
            "|   |   |   |   |   |   |   |   |--- LoyalCH >  0.59\n",
            "|   |   |   |   |   |   |   |   |   |--- class: MM\n",
            "|   |   |   |   |   |   |--- WeekofPurchase >  260.00\n",
            "|   |   |   |   |   |   |   |--- class: MM\n",
            "|   |   |   |   |   |--- WeekofPurchase >  261.50\n",
            "|   |   |   |   |   |   |--- class: CH\n",
            "|   |--- LoyalCH >  0.75\n",
            "|   |   |--- PriceDiff <= -0.39\n",
            "|   |   |   |--- SpecialCH <= 0.50\n",
            "|   |   |   |   |--- StoreID <= 1.50\n",
            "|   |   |   |   |   |--- class: MM\n",
            "|   |   |   |   |--- StoreID >  1.50\n",
            "|   |   |   |   |   |--- class: CH\n",
            "|   |   |   |--- SpecialCH >  0.50\n",
            "|   |   |   |   |--- LoyalCH <= 1.00\n",
            "|   |   |   |   |   |--- class: MM\n",
            "|   |   |   |   |--- LoyalCH >  1.00\n",
            "|   |   |   |   |   |--- class: CH\n",
            "|   |   |--- PriceDiff >  -0.39\n",
            "|   |   |   |--- WeekofPurchase <= 241.50\n",
            "|   |   |   |   |--- WeekofPurchase <= 236.50\n",
            "|   |   |   |   |   |--- class: CH\n",
            "|   |   |   |   |--- WeekofPurchase >  236.50\n",
            "|   |   |   |   |   |--- LoyalCH <= 0.93\n",
            "|   |   |   |   |   |   |--- WeekofPurchase <= 238.50\n",
            "|   |   |   |   |   |   |   |--- SalePriceCH <= 1.77\n",
            "|   |   |   |   |   |   |   |   |--- class: CH\n",
            "|   |   |   |   |   |   |   |--- SalePriceCH >  1.77\n",
            "|   |   |   |   |   |   |   |   |--- class: MM\n",
            "|   |   |   |   |   |   |--- WeekofPurchase >  238.50\n",
            "|   |   |   |   |   |   |   |--- class: CH\n",
            "|   |   |   |   |   |--- LoyalCH >  0.93\n",
            "|   |   |   |   |   |   |--- LoyalCH <= 0.98\n",
            "|   |   |   |   |   |   |   |--- class: MM\n",
            "|   |   |   |   |   |   |--- LoyalCH >  0.98\n",
            "|   |   |   |   |   |   |   |--- class: CH\n",
            "|   |   |   |--- WeekofPurchase >  241.50\n",
            "|   |   |   |   |--- SalePriceMM <= 2.26\n",
            "|   |   |   |   |   |--- STORE <= 1.50\n",
            "|   |   |   |   |   |   |--- class: CH\n",
            "|   |   |   |   |   |--- STORE >  1.50\n",
            "|   |   |   |   |   |   |--- WeekofPurchase <= 263.50\n",
            "|   |   |   |   |   |   |   |--- class: CH\n",
            "|   |   |   |   |   |   |--- WeekofPurchase >  263.50\n",
            "|   |   |   |   |   |   |   |--- WeekofPurchase <= 264.50\n",
            "|   |   |   |   |   |   |   |   |--- StoreID <= 3.00\n",
            "|   |   |   |   |   |   |   |   |   |--- class: MM\n",
            "|   |   |   |   |   |   |   |   |--- StoreID >  3.00\n",
            "|   |   |   |   |   |   |   |   |   |--- class: CH\n",
            "|   |   |   |   |   |   |   |--- WeekofPurchase >  264.50\n",
            "|   |   |   |   |   |   |   |   |--- LoyalCH <= 0.88\n",
            "|   |   |   |   |   |   |   |   |   |--- LoyalCH <= 0.87\n",
            "|   |   |   |   |   |   |   |   |   |   |--- class: CH\n",
            "|   |   |   |   |   |   |   |   |   |--- LoyalCH >  0.87\n",
            "|   |   |   |   |   |   |   |   |   |   |--- class: MM\n",
            "|   |   |   |   |   |   |   |   |--- LoyalCH >  0.88\n",
            "|   |   |   |   |   |   |   |   |   |--- class: CH\n",
            "|   |   |   |   |--- SalePriceMM >  2.26\n",
            "|   |   |   |   |   |--- WeekofPurchase <= 254.50\n",
            "|   |   |   |   |   |   |--- LoyalCH <= 0.92\n",
            "|   |   |   |   |   |   |   |--- class: MM\n",
            "|   |   |   |   |   |   |--- LoyalCH >  0.92\n",
            "|   |   |   |   |   |   |   |--- class: CH\n",
            "|   |   |   |   |   |--- WeekofPurchase >  254.50\n",
            "|   |   |   |   |   |   |--- class: CH\n",
            "\n"
          ],
          "name": "stdout"
        }
      ]
    },
    {
      "cell_type": "markdown",
      "metadata": {
        "id": "7DKEkBCdiw0_"
      },
      "source": [
        "The tree is very complex. I'm picking this path:\n",
        "`LoyalCH <= 0.45` - `LoyalCH <= 0.28` - `LoyalCH <= 0.05` - `StoreID <= 2.50` - `LoyalCH <= 0.00` - `WeekofPurchase <= 269.50` - `class: CH`.\n",
        "\n",
        "The interpretation: if a customer that is not loyal to Citrus Hill at all buys orange juice at a store with ID 1 or 2 before week 270 (of what?), he is more likely to choose Citrus Hill. Seems quite arbitrary."
      ]
    },
    {
      "cell_type": "markdown",
      "metadata": {
        "id": "IEI5i6OW8kuR"
      },
      "source": [
        "# (d)"
      ]
    },
    {
      "cell_type": "markdown",
      "metadata": {
        "id": "M-oHkWaF8sZY"
      },
      "source": [
        "From the textbook, p. 334:\n",
        "> Create a plot of the tree, and interpret the results."
      ]
    },
    {
      "cell_type": "code",
      "metadata": {
        "id": "z9o0bnvf8uBm",
        "colab": {
          "base_uri": "https://localhost:8080/",
          "height": 357
        },
        "outputId": "71baa370-f2ea-457f-ec11-ef8a96fc0aa4"
      },
      "source": [
        "plt.figure(figsize=(15, 6))\n",
        "plot_tree(model_b\n",
        "          , feature_names=x.columns.to_list()\n",
        "          , class_names=['CH', 'MM']\n",
        "          , filled=True\n",
        "          )\n",
        "plt.show()"
      ],
      "execution_count": 7,
      "outputs": [
        {
          "output_type": "display_data",
          "data": {
            "image/png": "[encoded data removed]",
            "text/plain": [
              "<Figure size 1080x432 with 1 Axes>"
            ]
          },
          "metadata": {
            "tags": [],
            "needs_background": "light"
          }
        }
      ]
    },
    {
      "cell_type": "markdown",
      "metadata": {
        "id": "JnOOUtuTifiC"
      },
      "source": [
        "The full tree is uninterprepable."
      ]
    },
    {
      "cell_type": "markdown",
      "metadata": {
        "id": "NuiqevAJ8vKW"
      },
      "source": [
        "# (e)"
      ]
    },
    {
      "cell_type": "markdown",
      "metadata": {
        "id": "fO1YAjVv8xUt"
      },
      "source": [
        "From the textbook, p. 334:\n",
        "> Predict the response on the test data, and produce a confusion matrix comparing the test labels to the predicted test labels. What is the test error rate?"
      ]
    },
    {
      "cell_type": "code",
      "metadata": {
        "id": "7CrdbjBw81us",
        "colab": {
          "base_uri": "https://localhost:8080/"
        },
        "outputId": "57ccb6b9-633b-4e47-c042-2dc1322cc6e2"
      },
      "source": [
        "y_pred = model_b.predict(x_test)\n",
        "print('Confusion matrix:')\n",
        "print(confusion_matrix(y_pred, y_test))\n",
        "print(f'\\nTest error rate: {1 - accuracy_score(y_pred, y_test):.2f}')"
      ],
      "execution_count": 20,
      "outputs": [
        {
          "output_type": "stream",
          "text": [
            "Confusion matrix:\n",
            "[[134  41]\n",
            " [ 23  72]]\n",
            "\n",
            "Test error rate: 0.24\n"
          ],
          "name": "stdout"
        }
      ]
    },
    {
      "cell_type": "markdown",
      "metadata": {
        "id": "DbImqFGp84Ne"
      },
      "source": [
        "# (f)"
      ]
    },
    {
      "cell_type": "markdown",
      "metadata": {
        "id": "SDn0D31z85ES"
      },
      "source": [
        "From the textbook, p. 334:\n",
        "> Apply the `cv.tree()` function to the training set in order to determine the optimal tree size."
      ]
    },
    {
      "cell_type": "code",
      "metadata": {
        "id": "qdgIGFxV89M_",
        "colab": {
          "base_uri": "https://localhost:8080/"
        },
        "outputId": "63cdd8f9-2323-4a6f-90bb-5273d7eeb13f"
      },
      "source": [
        "parameters = {'max_depth' : np.arange(1, 30)}\n",
        "model_f = GridSearchCV(DecisionTreeClassifier(), parameters)\n",
        "model_f.fit(x_train, y_train)\n",
        "model_f.best_params_"
      ],
      "execution_count": 21,
      "outputs": [
        {
          "output_type": "execute_result",
          "data": {
            "text/plain": [
              "{'max_depth': 3}"
            ]
          },
          "metadata": {
            "tags": []
          },
          "execution_count": 21
        }
      ]
    },
    {
      "cell_type": "markdown",
      "metadata": {
        "id": "jJETMor889nA"
      },
      "source": [
        "# (g)"
      ]
    },
    {
      "cell_type": "markdown",
      "metadata": {
        "id": "0VXjs6cJ8_-f"
      },
      "source": [
        "From the textbook, p. 334:\n",
        "> Produce a plot with tree size on the x-axis and cross-validated classification error rate on the y-axis."
      ]
    },
    {
      "cell_type": "code",
      "metadata": {
        "id": "MHwC8rMG9A2T",
        "colab": {
          "base_uri": "https://localhost:8080/",
          "height": 310
        },
        "outputId": "9c1f6e74-2362-4a4a-babd-de41208ced35"
      },
      "source": [
        "sns.lineplot(x=parameters['max_depth']\n",
        "             , y=model_f.cv_results_['mean_test_score']\n",
        ")\n",
        "plt.title('Dependence between mean cross-validation score\\n and the tree\\'s depth')\n",
        "plt.xlabel('Depth of the tree')\n",
        "plt.ylabel('Mean cross-validation score')\n",
        "plt.show()"
      ],
      "execution_count": 22,
      "outputs": [
        {
          "output_type": "display_data",
          "data": {
            "image/png": "[encoded data removed]",
            "text/plain": [
              "<Figure size 432x288 with 1 Axes>"
            ]
          },
          "metadata": {
            "tags": [],
            "needs_background": "light"
          }
        }
      ]
    },
    {
      "cell_type": "markdown",
      "metadata": {
        "id": "HImW2at49BZ4"
      },
      "source": [
        "# (h)"
      ]
    },
    {
      "cell_type": "markdown",
      "metadata": {
        "id": "QgEz9YJt9DtF"
      },
      "source": [
        "From the textbook, p. 334:\n",
        "> Which tree size corresponds to the lowest cross-validated classification error rate?"
      ]
    },
    {
      "cell_type": "markdown",
      "metadata": {
        "id": "qH6qd6M-rlXZ"
      },
      "source": [
        "The tree of size 3 corresponds to the lowest cross-validated classification error rate."
      ]
    },
    {
      "cell_type": "markdown",
      "metadata": {
        "id": "sJkBqn5t9HJF"
      },
      "source": [
        "# (i)"
      ]
    },
    {
      "cell_type": "markdown",
      "metadata": {
        "id": "Kbl4HURF9K_5"
      },
      "source": [
        "From the textbook, p. 334:\n",
        "> Produce a pruned tree corresponding to the optimal tree size obtained using cross-validation. If cross-validation does not lead to selection of a pruned tree, then create a pruned tree with five terminal nodes."
      ]
    },
    {
      "cell_type": "markdown",
      "metadata": {
        "id": "3iglcCVbr6dp"
      },
      "source": [
        "`model_f` is exactly such a tree."
      ]
    },
    {
      "cell_type": "markdown",
      "metadata": {
        "id": "HSWj4LbH9MJy"
      },
      "source": [
        "# (j)"
      ]
    },
    {
      "cell_type": "markdown",
      "metadata": {
        "id": "muxvH9Hg9Pw5"
      },
      "source": [
        "From the textbook, p. 334:\n",
        "> Compare the training error rates between the pruned and unpruned trees. Which is higher?"
      ]
    },
    {
      "cell_type": "code",
      "metadata": {
        "id": "Vp8n1sO79R90",
        "colab": {
          "base_uri": "https://localhost:8080/"
        },
        "outputId": "32d216b5-7816-480c-f399-1705e82fb9f0"
      },
      "source": [
        "print(f'Unpruned train error: '\n",
        "      f'{1 - model_b.score(x_train, y_train):.3f}\\n'\n",
        "      f'Pruned train error: '\n",
        "      f'{1 - model_f.score(x_train, y_train):.3f}'\n",
        ")"
      ],
      "execution_count": 23,
      "outputs": [
        {
          "output_type": "stream",
          "text": [
            "Unpruned train error: 0.010\n",
            "Pruned train error: 0.152\n"
          ],
          "name": "stdout"
        }
      ]
    },
    {
      "cell_type": "markdown",
      "metadata": {
        "id": "UpXdTuE0tzL7"
      },
      "source": [
        "Training rate of the pruned tree is higher."
      ]
    },
    {
      "cell_type": "markdown",
      "metadata": {
        "id": "I7zkjO2W9SUA"
      },
      "source": [
        "# (k)"
      ]
    },
    {
      "cell_type": "markdown",
      "metadata": {
        "id": "eNgevTqL9VIR"
      },
      "source": [
        "From the textbook, p. 334:\n",
        "> Compare the test error rates between the pruned and unpruned trees. Which is higher?"
      ]
    },
    {
      "cell_type": "code",
      "metadata": {
        "id": "98z8xk5uwWYc",
        "colab": {
          "base_uri": "https://localhost:8080/"
        },
        "outputId": "042ba147-f572-4c4b-96a8-03b301b49903"
      },
      "source": [
        "print(f'Unpruned test error: '\n",
        "      f'{1 - model_b.score(x_test, y_test):.3f}\\n'\n",
        "      f'Pruned test error: '\n",
        "      f'{1 - model_f.score(x_test, y_test):.3f}'\n",
        ")"
      ],
      "execution_count": 25,
      "outputs": [
        {
          "output_type": "stream",
          "text": [
            "Unpruned test error: 0.237\n",
            "Pruned test error: 0.181\n"
          ],
          "name": "stdout"
        }
      ]
    },
    {
      "cell_type": "markdown",
      "metadata": {
        "id": "UPOS7quhuW3T"
      },
      "source": [
        "Unpruned test error is higher. This means that the full tree is overfitting."
      ]
    }
  ]
}