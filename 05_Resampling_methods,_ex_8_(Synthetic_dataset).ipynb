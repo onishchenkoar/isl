{
  "nbformat": 4,
  "nbformat_minor": 0,
  "metadata": {
    "colab": {
      "name": "05. Resampling methods, ex. 8 (Synthetic dataset)",
      "provenance": [],
      "authorship_tag": "ABX9TyNsxYIWJ7jgCc1c4zmIa/Se"
    },
    "kernelspec": {
      "name": "python3",
      "display_name": "Python 3"
    },
    "language_info": {
      "name": "python"
    }
  },
  "cells": [
    {
      "cell_type": "markdown",
      "metadata": {
        "id": "hWPA6J4uLVeL"
      },
      "source": [
        "All instructions are provided for R. I am going to reproduce them in Python as best as I can."
      ]
    },
    {
      "cell_type": "markdown",
      "metadata": {
        "id": "T3r7_JfM7M9m"
      },
      "source": [
        "# Preface"
      ]
    },
    {
      "cell_type": "markdown",
      "metadata": {
        "id": "fVNMBICpmJMf"
      },
      "source": [
        "From the textbook, p. 200:\n",
        "> We will now perform cross-validation on a simulated data set."
      ]
    },
    {
      "cell_type": "code",
      "metadata": {
        "id": "z4MwvXdnjjM9"
      },
      "source": [
        "import numpy as np\n",
        "import pandas as pd\n",
        "import seaborn as sns\n",
        "from sklearn.linear_model import LinearRegression\n",
        "\n",
        "\n",
        "%matplotlib inline\n",
        "sns.set()"
      ],
      "execution_count": 1,
      "outputs": []
    },
    {
      "cell_type": "markdown",
      "metadata": {
        "id": "fdN6Nio2m2_Q"
      },
      "source": [
        "# (a)"
      ]
    },
    {
      "cell_type": "markdown",
      "metadata": {
        "id": "AE_-hRv-m556"
      },
      "source": [
        "From the textbook, p. 200:\n",
        "> Generate a simulated data set as follows:\n",
        "```\n",
        "set.seed(1)\n",
        "x = rnorm(100)\n",
        "y = x - 2*x^2 + rnorm(100)\n",
        "```\n",
        "In this data set, what is $n$ and what is $p$? Write out the model used to generate the data in equation form."
      ]
    },
    {
      "cell_type": "code",
      "metadata": {
        "id": "3frZhPmqojbR"
      },
      "source": [
        "np.random.seed(1)\n",
        "x = np.random.normal(size=100)\n",
        "y = x - 2*x**2 + np.random.normal(size=100)"
      ],
      "execution_count": 2,
      "outputs": []
    },
    {
      "cell_type": "markdown",
      "metadata": {
        "id": "vBaryKNwokeW"
      },
      "source": [
        "# (b)"
      ]
    },
    {
      "cell_type": "markdown",
      "metadata": {
        "id": "vUBlfsPoolcU"
      },
      "source": [
        "From the textbook, p. 200:\n",
        "> Create a scatterplot of $X$ against $Y$. Comment on what you find."
      ]
    },
    {
      "cell_type": "code",
      "metadata": {
        "id": "7EsNZzYkopo8",
        "colab": {
          "base_uri": "https://localhost:8080/",
          "height": 285
        },
        "outputId": "12cb41ba-9fc0-4464-d5ad-2cda02ae3ad3"
      },
      "source": [
        "sns.scatterplot(x=x, y=y)"
      ],
      "execution_count": 3,
      "outputs": [
        {
          "output_type": "execute_result",
          "data": {
            "text/plain": [
              "<matplotlib.axes._subplots.AxesSubplot at 0x7f4cb7937790>"
            ]
          },
          "metadata": {
            "tags": []
          },
          "execution_count": 3
        },
        {
          "output_type": "display_data",
          "data": {
            "image/png": "[encoded data removed]",
            "text/plain": [
              "<Figure size 432x288 with 1 Axes>"
            ]
          },
          "metadata": {
            "tags": [],
            "needs_background": "light"
          }
        }
      ]
    },
    {
      "cell_type": "markdown",
      "metadata": {
        "id": "YeS8f7AdE5lW"
      },
      "source": [
        "I see a parabolic relationship. The points are clustered around zero."
      ]
    },
    {
      "cell_type": "markdown",
      "metadata": {
        "id": "XX3oCn30oqC7"
      },
      "source": [
        "# (c)"
      ]
    },
    {
      "cell_type": "markdown",
      "metadata": {
        "id": "lbWew2byosTG"
      },
      "source": [
        "From the textbook, p. 200:\n",
        "> Set a random seed, and then compute the LOOCV errors that result from fitting the following four models using least squares:\n",
        "  1. $Y = \\beta_0 + \\beta_1 X + \\epsilon$.\n",
        "  2. $Y = \\beta_0 + \\beta_1 X + \\beta_2 X^2 + \\epsilon$.\n",
        "  3. $Y = \\beta_0 + \\beta_1 X + \\beta_2 X^2 + \\beta_3 X^3 + \\epsilon$.\n",
        "  4. $Y = \\beta_0 + \\beta_1 X + \\beta_2 X^2 + \\beta_3 X^3 + \\beta_4 X^4 + \\epsilon$.\n",
        "<br>Note you may find it helpful to use the `data.frame()` function to create a single data set containing both $X$ and $Y$."
      ]
    },
    {
      "cell_type": "code",
      "metadata": {
        "id": "aArzv4Noou_A",
        "colab": {
          "base_uri": "https://localhost:8080/"
        },
        "outputId": "2da895d7-28ac-4e10-dd62-1cb19bc5beec"
      },
      "source": [
        "predictors = pd.DataFrame({'x' : x\n",
        "                          , 'x2' : x**2\n",
        "                          , 'x3' : x**3\n",
        "                          , 'x4' : x**4\n",
        "                          , 'intercept' : 1\n",
        "                          }\n",
        "                          )\n",
        "def loocv(seed):\n",
        "  active = ['intercept']\n",
        "  for each in ['x', 'x2', 'x3', 'x4']:\n",
        "    active.append(each)\n",
        "    errors = []\n",
        "    for i, row in predictors[active].iterrows():\n",
        "      model = LinearRegression()\n",
        "      model.fit(predictors[active].drop(i), np.delete(y, i))\n",
        "      pred = model.predict(row.to_numpy().reshape(1, -1))\n",
        "      errors.append((y[i] - pred)**2)\n",
        "    print(f'Polynomial with {each} as top component has LOOCV error of {np.mean(errors)}.')\n",
        "\n",
        "loocv(seed=1)"
      ],
      "execution_count": 4,
      "outputs": [
        {
          "output_type": "stream",
          "text": [
            "Polynomial with x as top component has LOOCV error of 6.260764331604616.\n",
            "Polynomial with x2 as top component has LOOCV error of 0.9142897072803657.\n",
            "Polynomial with x3 as top component has LOOCV error of 0.9268768781648798.\n",
            "Polynomial with x4 as top component has LOOCV error of 0.8669116865881087.\n"
          ],
          "name": "stdout"
        }
      ]
    },
    {
      "cell_type": "markdown",
      "metadata": {
        "id": "BuEOKZ9-ovn7"
      },
      "source": [
        "# (d)"
      ]
    },
    {
      "cell_type": "markdown",
      "metadata": {
        "id": "Vs57YV9ptjpY"
      },
      "source": [
        "From the textbook, p. 201:\n",
        "> Repeat (c) using another random seed, and report your results. Are your results the same as what you got in (c)? Why?"
      ]
    },
    {
      "cell_type": "code",
      "metadata": {
        "id": "4ndMjkY9touO",
        "colab": {
          "base_uri": "https://localhost:8080/"
        },
        "outputId": "065e245e-48d5-4d37-b2e7-64fb48e5820d"
      },
      "source": [
        "loocv(seed=5)"
      ],
      "execution_count": 5,
      "outputs": [
        {
          "output_type": "stream",
          "text": [
            "Polynomial with x as top component has LOOCV error of 6.260764331604616.\n",
            "Polynomial with x2 as top component has LOOCV error of 0.9142897072803657.\n",
            "Polynomial with x3 as top component has LOOCV error of 0.9268768781648798.\n",
            "Polynomial with x4 as top component has LOOCV error of 0.8669116865881087.\n"
          ],
          "name": "stdout"
        }
      ]
    },
    {
      "cell_type": "markdown",
      "metadata": {
        "id": "T7mJcLr2c6ny"
      },
      "source": [
        "They are the same because the LOOCV procedure is deterministic."
      ]
    },
    {
      "cell_type": "markdown",
      "metadata": {
        "id": "5OViHVD2trdm"
      },
      "source": [
        "# (e)"
      ]
    },
    {
      "cell_type": "markdown",
      "metadata": {
        "id": "xwG0zIyhtufA"
      },
      "source": [
        "From the textbook, p. 201:\n",
        "> Which of the models in (c) had the smallest LOOCV error? Is this what you expected? Explain your answer."
      ]
    },
    {
      "cell_type": "markdown",
      "metadata": {
        "id": "4S1RMGdEdMfC"
      },
      "source": [
        "$Y = \\beta_0 + \\beta_1 X + \\beta_2 X^2 + \\beta_3 X^3 + \\beta_4 X^4 + \\epsilon$ has the smallest LOOCV error; this is probably because of overfitting."
      ]
    }
  ]
}