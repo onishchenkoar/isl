{
  "nbformat": 4,
  "nbformat_minor": 0,
  "metadata": {
    "colab": {
      "name": "03. Linear Regression, exercise 11 (Synthetic dataset)",
      "provenance": [],
      "collapsed_sections": [],
      "authorship_tag": "ABX9TyOQHYGS/Jna4Ut+vXO3FCo2"
    },
    "kernelspec": {
      "name": "python3",
      "display_name": "Python 3"
    },
    "language_info": {
      "name": "python"
    }
  },
  "cells": [
    {
      "cell_type": "markdown",
      "metadata": {
        "id": "hWPA6J4uLVeL"
      },
      "source": [
        "All instructions are provided for R. I am going to reproduce them in Python as best as I can."
      ]
    },
    {
      "cell_type": "markdown",
      "metadata": {
        "id": "T3r7_JfM7M9m"
      },
      "source": [
        "# Preface"
      ]
    },
    {
      "cell_type": "markdown",
      "metadata": {
        "id": "pbMjavA8-9HK"
      },
      "source": [
        "In this problem we will investigate the t-statistic for the null hypothesis $H_0 : \\beta = 0$ in simple linear regression without an intercept. To begin, we generate a predictor `x` and a response `y` as follows.\n",
        "```\n",
        "> set.seed(1)\n",
        "> x = rnorm(100)\n",
        "> y = 2*x + rnorm(100)\n",
        "```"
      ]
    },
    {
      "cell_type": "code",
      "metadata": {
        "id": "AW22qkcC-wTc",
        "colab": {
          "base_uri": "https://localhost:8080/"
        },
        "outputId": "a7784cc9-718e-4151-bffc-650a4e2eb579"
      },
      "source": [
        "import numpy as np\n",
        "import statsmodels.api as sm"
      ],
      "execution_count": 1,
      "outputs": [
        {
          "output_type": "stream",
          "text": [
            "/usr/local/lib/python3.7/dist-packages/statsmodels/tools/_testing.py:19: FutureWarning: pandas.util.testing is deprecated. Use the functions in the public API at pandas.testing instead.\n",
            "  import pandas.util.testing as tm\n"
          ],
          "name": "stderr"
        }
      ]
    },
    {
      "cell_type": "code",
      "metadata": {
        "id": "aaadjWYAyyow"
      },
      "source": [
        "np.random.seed(1)\n",
        "x = np.random.normal(size=100)\n",
        "y = 2*x + np.random.normal(size=100)"
      ],
      "execution_count": 2,
      "outputs": []
    },
    {
      "cell_type": "markdown",
      "metadata": {
        "id": "KRBb4YfN-8G8"
      },
      "source": [
        "# (a)"
      ]
    },
    {
      "cell_type": "markdown",
      "metadata": {
        "id": "o0Sk-6wJEQTC"
      },
      "source": [
        "From the textbook, p. 123:\n",
        "> Perform a simple linear regression of `y` onto `x` , without an intercept. Report the coefficient estimate $\\hat{\\beta}$, the standard error of this coefficient estimate, and the t-statistic and p-value associated with the null hypothesis $H_0: \\beta = 0$. Comment on these results. (You can perform regression without an intercept using the command `lm(y∼x+0)`.)"
      ]
    },
    {
      "cell_type": "code",
      "metadata": {
        "id": "Nhbo4taAEmk_",
        "colab": {
          "base_uri": "https://localhost:8080/"
        },
        "outputId": "b30d9a1e-4109-4da8-a34a-3ed0b626f7d0"
      },
      "source": [
        "model_a = sm.regression.linear_model.OLS(y, x).fit(use_t=True)\n",
        "print(f'x coefficient estimate: {model_a.params[0]:.3f}'\n",
        "      , f'Standard error: {model_a.bse[0]:.3f}'\n",
        "      , f't-statistic: {model_a.tvalues[0]:.3f}'\n",
        "      , f'p-value: {model_a.pvalues[0]}'\n",
        "      , sep='\\n'\n",
        ")"
      ],
      "execution_count": 3,
      "outputs": [
        {
          "output_type": "stream",
          "text": [
            "x coefficient estimate: 2.107\n",
            "Standard error: 0.106\n",
            "t-statistic: 19.792\n",
            "p-value: 3.457375739189495e-36\n"
          ],
          "name": "stdout"
        }
      ]
    },
    {
      "cell_type": "markdown",
      "metadata": {
        "id": "sJ7KS6Uv9oU3"
      },
      "source": [
        "$\\hat{\\beta_x} = 2.107$ is a least-squares estimate of $\\beta_x$ in $y \\approx \\beta_x \\cdot x$."
      ]
    },
    {
      "cell_type": "markdown",
      "metadata": {
        "id": "U5XFUHQyEnlM"
      },
      "source": [
        "# (b)"
      ]
    },
    {
      "cell_type": "markdown",
      "metadata": {
        "id": "3KSkYBr0Es-n"
      },
      "source": [
        "From the textbook, p. 123:\n",
        "> Now perform a simple linear regression of `x` onto `y` without an intercept, and report the coefficient estimate, its standard error, and the corresponding t-statistic and p-values associated with the null hypothesis $H_0: \\beta = 0$. Comment on these results."
      ]
    },
    {
      "cell_type": "code",
      "metadata": {
        "id": "jiW22Rz0Euow",
        "colab": {
          "base_uri": "https://localhost:8080/"
        },
        "outputId": "d3b038f8-17fa-4f91-ba9f-01ceb5a01d15"
      },
      "source": [
        "model_b = sm.regression.linear_model.OLS(x, y).fit(use_t=True)\n",
        "print(f'y coefficient estimate: {model_b.params[0]:.3f}'\n",
        "      , f'Standard error: {model_b.bse[0]:.3f}'\n",
        "      , f't-statistic: {model_b.tvalues[0]:.3f}'\n",
        "      , f'p-value: {model_b.pvalues[0]}'\n",
        "      , sep='\\n'\n",
        ")"
      ],
      "execution_count": 4,
      "outputs": [
        {
          "output_type": "stream",
          "text": [
            "y coefficient estimate: 0.379\n",
            "Standard error: 0.019\n",
            "t-statistic: 19.792\n",
            "p-value: 3.4573757391893976e-36\n"
          ],
          "name": "stdout"
        }
      ]
    },
    {
      "cell_type": "markdown",
      "metadata": {
        "id": "F39uw2Nc8__w"
      },
      "source": [
        "$\\hat{\\beta_y} = 0.379$ is a least-squares estimate of $\\beta_y$ in $x \\approx \\beta_y \\cdot y$."
      ]
    },
    {
      "cell_type": "markdown",
      "metadata": {
        "id": "riO6cGGwEwbZ"
      },
      "source": [
        "# (c)"
      ]
    },
    {
      "cell_type": "markdown",
      "metadata": {
        "id": "b94TwqufExez"
      },
      "source": [
        "From the textbook, p. 123:\n",
        "> What is the relationship between the results obtained in (a) and (b)?"
      ]
    },
    {
      "cell_type": "markdown",
      "metadata": {
        "id": "MUVbYnfG-i0r"
      },
      "source": [
        "The t-statistics and the p-values are equal; the coefficient estimates and the standard errors are not. I would expect $\\hat{\\beta_x} = 1 / \\hat{\\beta_y}$, but this is not what's happening ($2.107 \\neq 2.639$)."
      ]
    },
    {
      "cell_type": "markdown",
      "metadata": {
        "id": "TAHP_zUqE0q7"
      },
      "source": [
        "# (d)"
      ]
    },
    {
      "cell_type": "markdown",
      "metadata": {
        "id": "9mk_12njE6n8"
      },
      "source": [
        "From the textbook, p. 123:\n",
        "> For the regression of `y` onto `x` without an intercept, the t-statistic for $H_0: \\beta = 0$ takes the form $\\hat{\\beta}/\\text{SE}(\\hat{\\beta})$, where $\\hat{\\beta}$ is\n",
        "$$\n",
        "\\hat{\\beta} = \\left( \\sum_{i=1}^n x_i y_i \\right) \\Biggm/ \\left( \\sum_{i'=1}^n x_{i'}^2 \\right),\n",
        "$$\n",
        "and where $$\\text{SE}(\\hat{\\beta}) = \\sqrt{\\frac{\\sum_{i=1}^n (y_i - x_i \\hat{\\beta})^2}{(n-1) \\sum_{i'=1}^n x_{i'}^2}}$$ <br> Show  numerically in R, that the t-statistic can be written as\n",
        "$$\n",
        "  \\frac{(\\sqrt{n - 1}) \\sum_{i=1}^n x_i y_i}\n",
        "       {\\sqrt{\\left(\n",
        "                \\sum_{i=1}^n x_i^2\n",
        "              \\right)\n",
        "              \\left(\n",
        "                \\sum_{i=1}^n y_{i}^2\n",
        "              \\right)\n",
        "              - \\left(\n",
        "                  \\sum_{i=1}^n x_{i} y_{i}\n",
        "                \\right)^2\n",
        "             }\n",
        "       }\n",
        "$$"
      ]
    },
    {
      "cell_type": "code",
      "metadata": {
        "id": "qbrlZLeqGkSe",
        "colab": {
          "base_uri": "https://localhost:8080/"
        },
        "outputId": "eca1ea26-c426-479b-db92-e3e2d6a6daed"
      },
      "source": [
        "n = len(x)\n",
        "beta = np.dot(x, y) / np.sum(x**2)\n",
        "se_beta = np.sqrt(np.sum((y - x*beta)**2)\n",
        "                  / \n",
        "                  ((n - 1) * np.sum(x**2))\n",
        "                 )\n",
        "t1 = beta / se_beta\n",
        "\n",
        "t2 = np.sqrt(n - 1) * np.dot(x, y) / np.sqrt(np.sum(x**2) * np.sum(y**2) - np.dot(x, y)**2)\n",
        "\n",
        "print(t1)\n",
        "print(t2)"
      ],
      "execution_count": 5,
      "outputs": [
        {
          "output_type": "stream",
          "text": [
            "19.7918019870912\n",
            "19.791801987091205\n"
          ],
          "name": "stdout"
        }
      ]
    },
    {
      "cell_type": "markdown",
      "metadata": {
        "id": "juPQk2UVOuJ8"
      },
      "source": [
        "Looks good to me."
      ]
    },
    {
      "cell_type": "markdown",
      "metadata": {
        "id": "6HoXd7HGGk1T"
      },
      "source": [
        "# (e)"
      ]
    },
    {
      "cell_type": "markdown",
      "metadata": {
        "id": "WWZp7x5VGlw-"
      },
      "source": [
        "From the textbook, p. 124:\n",
        "> Using the results from (d), argue that the t-statistic for the regression of `y` onto `x` is the same as the t-statistic for the regression of `x` onto `y`."
      ]
    },
    {
      "cell_type": "markdown",
      "metadata": {
        "id": "is5BvtmWPfAN"
      },
      "source": [
        "If you replace $x$ with $y$ and vice versa in \n",
        "$$\n",
        "t=\\frac{(\\sqrt{n - 1}) \\sum_{i=1}^n x_i y_i}\n",
        "       {\\sqrt{\\left(\n",
        "                \\sum_{i=1}^n x_i^2\n",
        "              \\right)\n",
        "              \\left(\n",
        "                \\sum_{i=1}^n y_{i}^2\n",
        "              \\right)\n",
        "              - \\left(\n",
        "                  \\sum_{i=1}^n x_{i} y_{i}\n",
        "                \\right)^2\n",
        "             }\n",
        "       },\n",
        "$$\n",
        "the equation does not change."
      ]
    },
    {
      "cell_type": "markdown",
      "metadata": {
        "id": "dvlfUnovGtsm"
      },
      "source": [
        "# (f)"
      ]
    },
    {
      "cell_type": "markdown",
      "metadata": {
        "id": "jP1GBGQhGwv1"
      },
      "source": [
        "From the textbook, p. 124:\n",
        "> In R, show that when regression is performed with an intercept, the t-statistic for $H_0: \\beta_1 = 0$ is the same for the regression of `y` onto `x` as it is for the regression of `x` onto `y`."
      ]
    },
    {
      "cell_type": "code",
      "metadata": {
        "id": "LnEzuyYB__06",
        "colab": {
          "base_uri": "https://localhost:8080/"
        },
        "outputId": "afd32178-a0cf-4577-ab41-fe0fe2ffdefc"
      },
      "source": [
        "x_intercept = np.ones((x.size, 2))\n",
        "x_intercept[:, 0] = x\n",
        "y_intercept = np.ones((y.size, 2))\n",
        "y_intercept[:, 0] = y\n",
        "model1 = sm.regression.linear_model.OLS(y, x_intercept).fit(use_t=True)\n",
        "model2 = sm.regression.linear_model.OLS(x, y_intercept).fit(use_t=True)\n",
        "print(f'y ~ x+intercept, t-statistic: {model1.tvalues[0]:.3f}\\n'\n",
        "      f'x ~ y+intercept, t_statistic: {model2.tvalues[0]:.3f}'\n",
        ")"
      ],
      "execution_count": 6,
      "outputs": [
        {
          "output_type": "stream",
          "text": [
            "y ~ x+intercept, t-statistic: 19.783\n",
            "x ~ y+intercept, t_statistic: 19.783\n"
          ],
          "name": "stdout"
        }
      ]
    }
  ]
}